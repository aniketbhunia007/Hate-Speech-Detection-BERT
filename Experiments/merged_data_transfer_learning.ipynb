{
 "cells": [
  {
   "cell_type": "markdown",
   "metadata": {
    "colab_type": "text",
    "id": "0Jn1dXT9fmWF"
   },
   "source": [
    "We use the newely tarined embeddings for word2vec transformation"
   ]
  },
  {
   "cell_type": "markdown",
   "metadata": {
    "colab_type": "text",
    "id": "F52nsROaIfea"
   },
   "source": [
    "There is a change in preprocessing in this notebook, we removed all the numbers from tweets, which helped in training more robust word2vec embeddings"
   ]
  },
  {
   "cell_type": "markdown",
   "metadata": {
    "colab_type": "text",
    "id": "KAfnkMx1_M5B"
   },
   "source": [
    "Analysis on scraped dataset"
   ]
  },
  {
   "cell_type": "markdown",
   "metadata": {
    "colab_type": "text",
    "id": "3kUTiT2E_M5H"
   },
   "source": [
    "### Import"
   ]
  },
  {
   "cell_type": "code",
   "execution_count": null,
   "metadata": {
    "colab": {},
    "colab_type": "code",
    "id": "cU9l4_D1_M5J"
   },
   "outputs": [],
   "source": [
    "import pandas as pd\n",
    "import numpy as np"
   ]
  },
  {
   "cell_type": "code",
   "execution_count": null,
   "metadata": {
    "colab": {},
    "colab_type": "code",
    "id": "zCUG0trn_M5R"
   },
   "outputs": [],
   "source": [
    "import pickle\n",
    "import sys\n",
    "import nltk\n",
    "from nltk.stem.porter import *\n",
    "\n",
    "from sklearn.feature_extraction.text import TfidfVectorizer\n",
    "import matplotlib.pyplot as plt\n",
    "import seaborn\n",
    "%matplotlib inline"
   ]
  },
  {
   "cell_type": "code",
   "execution_count": null,
   "metadata": {
    "colab": {
     "base_uri": "https://localhost:8080/",
     "height": 122
    },
    "colab_type": "code",
    "executionInfo": {
     "elapsed": 28078,
     "status": "ok",
     "timestamp": 1574861040087,
     "user": {
      "displayName": "Pawar Pranav Dayanand mm17b003",
      "photoUrl": "",
      "userId": "03168935693589294616"
     },
     "user_tz": -330
    },
    "id": "KoieloYD56U0",
    "outputId": "ee8c7aac-e524-4e60-cd25-9351e2cc2628"
   },
   "outputs": [],
   "source": [
    "from google.colab import drive\n",
    "drive.mount('/content/drive')"
   ]
  },
  {
   "cell_type": "code",
   "execution_count": null,
   "metadata": {
    "colab": {
     "base_uri": "https://localhost:8080/",
     "height": 71
    },
    "colab_type": "code",
    "executionInfo": {
     "elapsed": 5632,
     "status": "ok",
     "timestamp": 1574861052957,
     "user": {
      "displayName": "Pawar Pranav Dayanand mm17b003",
      "photoUrl": "",
      "userId": "03168935693589294616"
     },
     "user_tz": -330
    },
    "id": "Xtb_csJD_M5X",
    "outputId": "2eead8c9-2294-4125-a96d-d135eda5b2d8",
    "scrolled": true
   },
   "outputs": [],
   "source": [
    "cf_data_1 = pd.read_csv('/content/drive/My Drive/Hate_Speech_Detection_git/data_1/hatespeech_NAACL_SRW.csv',encoding = \"ISO-8859-1\")\n",
    "cf_data_2 = pd.read_csv('/content/drive/My Drive/Hate_Speech_Detection_git/data_1/hatespeech_NLP+CSS.csv')\n",
    "\n",
    "cf_data_3 = pd.read_csv('/content/drive/My Drive/Hate_Speech_Detection_git/data_2/labeled_data.csv',encoding = \"ISO-8859-1\")\n",
    "## this is the scraped data\n",
    "\n",
    "cf_data_3.rename({'Unnamed: 0':'ID','tweet':'Tweets'},axis=1,inplace=True)\n",
    "\n",
    "labels_1 = pd.read_csv('/content/drive/My Drive/Hate_Speech_Detection_git/data_1/NAACL_SRW_2016.csv',header=None,names=['ID','class'])\n",
    "labels_2 = pd.read_csv('/content/drive/My Drive/Hate_Speech_Detection_git/data_1/NLP+CSS_2016.csv',sep='\\s')\n",
    "\n",
    "labels_2.rename({'TweetID':'ID','Expert':'class'},axis=1,inplace=True)\n",
    "\n",
    "cf_data_1.rename({'Unnamed: 0':'index_col'},axis=1,inplace=True)\n",
    "cf_data_2.rename({'Unnamed: 0':'index_col'},axis=1,inplace=True)"
   ]
  },
  {
   "cell_type": "markdown",
   "metadata": {
    "colab_type": "text",
    "id": "4omcVwyX_M56"
   },
   "source": [
    "### Function for merging"
   ]
  },
  {
   "cell_type": "code",
   "execution_count": null,
   "metadata": {
    "colab": {},
    "colab_type": "code",
    "id": "BUC130MI_M58"
   },
   "outputs": [],
   "source": [
    "def label_merging(data, labels):\n",
    "    labels['ID'] = labels['ID'].astype(int)\n",
    "    print(labels['ID'].nunique())\n",
    "    print('Null IDs in data 1 = ' ,data['ID'].isna().sum())\n",
    "    \n",
    "    data['ID'].fillna(0,inplace=True)\n",
    "    data['ID'] = data['ID'].astype(int)\n",
    "    \n",
    "    print('data shape ='  ,data.shape)\n",
    "    print('IDs common in data and labels =',sum(data['ID'].isin(labels['ID'])))\n",
    "    \n",
    "    train = data.merge(labels, on='ID',how='inner')#['class'].isna().sum()\n",
    "    return train"
   ]
  },
  {
   "cell_type": "code",
   "execution_count": null,
   "metadata": {
    "colab": {
     "base_uri": "https://localhost:8080/",
     "height": 153
    },
    "colab_type": "code",
    "executionInfo": {
     "elapsed": 1993,
     "status": "ok",
     "timestamp": 1574861052959,
     "user": {
      "displayName": "Pawar Pranav Dayanand mm17b003",
      "photoUrl": "",
      "userId": "03168935693589294616"
     },
     "user_tz": -330
    },
    "id": "Mj1bg2HO_M6D",
    "outputId": "96206c3f-0032-4bbe-83ee-f506c7373212",
    "scrolled": true
   },
   "outputs": [],
   "source": [
    "train_1 = label_merging(cf_data_1,labels_1)\n",
    "\n",
    "train_2 = label_merging(cf_data_2, labels_2)\n",
    "\n",
    "train_3 = cf_data_3.copy()"
   ]
  },
  {
   "cell_type": "code",
   "execution_count": null,
   "metadata": {
    "colab": {},
    "colab_type": "code",
    "id": "8CDfNYIT_M6X"
   },
   "outputs": [],
   "source": [
    "t1 = train_1[['ID','Tweets','class']]\n",
    "t2 = train_2[['ID','Tweets','class']]\n",
    "t3 = train_3[['ID','Tweets','class']]\n",
    "merged = pd.concat([t1,t2,t3],axis=0).reset_index(drop=True)"
   ]
  },
  {
   "cell_type": "markdown",
   "metadata": {
    "colab_type": "text",
    "id": "G52end2X_M6k"
   },
   "source": [
    "### Target Analysis"
   ]
  },
  {
   "cell_type": "markdown",
   "metadata": {
    "colab_type": "text",
    "id": "od7YmYLQ_M7k"
   },
   "source": [
    "### Basic Preprocessing"
   ]
  },
  {
   "cell_type": "code",
   "execution_count": null,
   "metadata": {
    "colab": {},
    "colab_type": "code",
    "id": "pVMMYTwGxuNy"
   },
   "outputs": [],
   "source": [
    "train = merged.copy()\n",
    "\n",
    "train.rename(columns={'Tweets':'tweet'},inplace=True)\n",
    "train['tweet'] = train['tweet'].astype(str)"
   ]
  },
  {
   "cell_type": "markdown",
   "metadata": {
    "colab_type": "text",
    "id": "OsHyjVfK_M7u"
   },
   "source": [
    "Every word followed by @ is some twitter ID of an user, which shouldn't be considered in our analysis, so lets do the stemming, where we remove @ alonwith the word followed by it"
   ]
  },
  {
   "cell_type": "code",
   "execution_count": null,
   "metadata": {
    "colab": {
     "base_uri": "https://localhost:8080/",
     "height": 51
    },
    "colab_type": "code",
    "executionInfo": {
     "elapsed": 2708,
     "status": "ok",
     "timestamp": 1574861062879,
     "user": {
      "displayName": "Pawar Pranav Dayanand mm17b003",
      "photoUrl": "",
      "userId": "03168935693589294616"
     },
     "user_tz": -330
    },
    "id": "lOeA8PLt_M7z",
    "outputId": "1126ffd4-5056-4ad4-baac-037934f2297c",
    "scrolled": true
   },
   "outputs": [],
   "source": [
    "train['tweet'] = train['tweet'].apply(lambda x:' '.join(i for i in [a for a in x.split() if a.find('@')==-1]))\n",
    "train['tweet'] = train['tweet'].apply(lambda x:' '.join(i for i in [a for a in x.split() if a.find('http')==-1]))\n",
    "train['tweet'] = train['tweet'].apply(lambda x:''.join([i for i in x if not i.isdigit()]))\n",
    "train['tweet'] = train['tweet'].apply(lambda x: \" \".join(x.lower() for x in x.split()))\n",
    "train['tweet'] = train['tweet'].str.replace('[^\\w\\s]','')\n",
    "\n",
    "import nltk\n",
    "nltk.download('stopwords')\n",
    "\n",
    "from nltk.corpus import stopwords\n",
    "stop = stopwords.words('english')\n",
    "train['tweet'] = train['tweet'].apply(lambda x: \" \".join(x for x in x.split() if x not in stop))\n",
    "\n",
    "remove_word = ['rt','mkr','im']\n",
    "train['tweet'] = train['tweet'].apply(lambda x: \" \".join(x for x in x.split() if x not in remove_word))"
   ]
  },
  {
   "cell_type": "markdown",
   "metadata": {
    "colab_type": "text",
    "id": "fAUvqGB6_M9A"
   },
   "source": [
    "Doesnt really make sense to remove rare words, i.e. the words with count 1. Because we might lose hateful words this way"
   ]
  },
  {
   "cell_type": "code",
   "execution_count": null,
   "metadata": {
    "colab": {
     "base_uri": "https://localhost:8080/",
     "height": 187
    },
    "colab_type": "code",
    "executionInfo": {
     "elapsed": 4564,
     "status": "ok",
     "timestamp": 1574861068344,
     "user": {
      "displayName": "Pawar Pranav Dayanand mm17b003",
      "photoUrl": "",
      "userId": "03168935693589294616"
     },
     "user_tz": -330
    },
    "id": "w1QGCz-0_M9F",
    "outputId": "3b6f860e-95c0-4647-9b0a-5267f14636c5"
   },
   "outputs": [],
   "source": [
    "from textblob import TextBlob\n",
    "nltk.download('punkt')\n",
    "\n",
    "from textblob import Word\n",
    "nltk.download('wordnet')\n",
    "train['tweet'] = train['tweet'].apply(lambda x: \" \".join([Word(word).lemmatize() for word in x.split()]))\n",
    "train['tweet'].head()"
   ]
  },
  {
   "cell_type": "markdown",
   "metadata": {
    "colab_type": "text",
    "id": "n4Rng-D6_M9a"
   },
   "source": [
    "### Target creation"
   ]
  },
  {
   "cell_type": "code",
   "execution_count": null,
   "metadata": {
    "colab": {
     "base_uri": "https://localhost:8080/",
     "height": 51
    },
    "colab_type": "code",
    "executionInfo": {
     "elapsed": 4031,
     "status": "ok",
     "timestamp": 1574861068346,
     "user": {
      "displayName": "Pawar Pranav Dayanand mm17b003",
      "photoUrl": "",
      "userId": "03168935693589294616"
     },
     "user_tz": -330
    },
    "id": "v1h4taDp_M9f",
    "outputId": "74268124-d665-46fd-97c3-6a3b1a51ff97",
    "scrolled": true
   },
   "outputs": [],
   "source": [
    "train['class'].unique()#.isna().sum()"
   ]
  },
  {
   "cell_type": "code",
   "execution_count": null,
   "metadata": {
    "colab": {
     "base_uri": "https://localhost:8080/",
     "height": 68
    },
    "colab_type": "code",
    "executionInfo": {
     "elapsed": 3812,
     "status": "ok",
     "timestamp": 1574861068348,
     "user": {
      "displayName": "Pawar Pranav Dayanand mm17b003",
      "photoUrl": "",
      "userId": "03168935693589294616"
     },
     "user_tz": -330
    },
    "id": "FJuHE_9K_M9p",
    "outputId": "54a42eb4-1a5c-4774-cb93-0d44793b7dd9"
   },
   "outputs": [],
   "source": [
    "train['class'].replace(['racism', 'sexism',0, 1, 'both', 'none', 'neither',2],['hate','hate','hate','hate','hate','null','null','null'],inplace=True)\n",
    "train['class'].value_counts()"
   ]
  },
  {
   "cell_type": "code",
   "execution_count": null,
   "metadata": {
    "colab": {},
    "colab_type": "code",
    "id": "aE1ArY61XLzf"
   },
   "outputs": [],
   "source": [
    "train['class'].replace(['null','hate'],[0,1],inplace=True)"
   ]
  },
  {
   "cell_type": "markdown",
   "metadata": {
    "colab_type": "text",
    "id": "LJZfrwwBayjo"
   },
   "source": [
    "### Removing duplicates"
   ]
  },
  {
   "cell_type": "code",
   "execution_count": null,
   "metadata": {
    "colab": {},
    "colab_type": "code",
    "id": "FvB8Hfzdaxk4"
   },
   "outputs": [],
   "source": [
    "# hate_text = train[train['class']==1]['tweet']\n",
    "# null_text = train[train['class']==0]['tweet']"
   ]
  },
  {
   "cell_type": "code",
   "execution_count": null,
   "metadata": {
    "colab": {},
    "colab_type": "code",
    "id": "RgdEHU1vbKPU"
   },
   "outputs": [],
   "source": [
    "# hate_text.to_csv(r'hate_speech.txt', header=None, index=None, sep=' ')"
   ]
  },
  {
   "cell_type": "code",
   "execution_count": null,
   "metadata": {
    "colab": {},
    "colab_type": "code",
    "id": "7ufDPugVbKLH"
   },
   "outputs": [],
   "source": [
    "# null_text.to_csv(r'null_speech.txt', header=None, index=None, sep=' ')"
   ]
  },
  {
   "cell_type": "code",
   "execution_count": null,
   "metadata": {
    "colab": {
     "base_uri": "https://localhost:8080/",
     "height": 34
    },
    "colab_type": "code",
    "executionInfo": {
     "elapsed": 1081,
     "status": "ok",
     "timestamp": 1574861068352,
     "user": {
      "displayName": "Pawar Pranav Dayanand mm17b003",
      "photoUrl": "",
      "userId": "03168935693589294616"
     },
     "user_tz": -330
    },
    "id": "MJDw5gDDv_aq",
    "outputId": "65f37adf-294b-4b4d-8f3b-ea1a302c3635"
   },
   "outputs": [],
   "source": [
    "sum(train['ID'].value_counts()>1)"
   ]
  },
  {
   "cell_type": "code",
   "execution_count": null,
   "metadata": {
    "colab": {
     "base_uri": "https://localhost:8080/",
     "height": 34
    },
    "colab_type": "code",
    "executionInfo": {
     "elapsed": 881,
     "status": "ok",
     "timestamp": 1574861068353,
     "user": {
      "displayName": "Pawar Pranav Dayanand mm17b003",
      "photoUrl": "",
      "userId": "03168935693589294616"
     },
     "user_tz": -330
    },
    "id": "VTiYUKgowFQ7",
    "outputId": "0c2503d1-8f72-4bab-eb17-fc2ad5415952"
   },
   "outputs": [],
   "source": [
    "train.shape"
   ]
  },
  {
   "cell_type": "code",
   "execution_count": null,
   "metadata": {
    "colab": {},
    "colab_type": "code",
    "id": "sKum_pWvwJGv"
   },
   "outputs": [],
   "source": [
    "train = train.drop_duplicates(subset='ID')"
   ]
  },
  {
   "cell_type": "markdown",
   "metadata": {
    "colab_type": "text",
    "id": "5GXIRkpoYhDQ"
   },
   "source": [
    "### Basic Model on whole dataset"
   ]
  },
  {
   "cell_type": "code",
   "execution_count": null,
   "metadata": {
    "colab": {},
    "colab_type": "code",
    "id": "gmAlQ-wlWHWB"
   },
   "outputs": [],
   "source": [
    "from sklearn.model_selection import train_test_split\n",
    "x_train,x_valid,y_t,y_v = train_test_split(train['tweet'],train['class'],test_size=0.2,random_state=234)"
   ]
  },
  {
   "cell_type": "code",
   "execution_count": null,
   "metadata": {
    "colab": {},
    "colab_type": "code",
    "id": "91U5c_i-W8-e"
   },
   "outputs": [],
   "source": [
    "from sklearn.feature_extraction.text import TfidfVectorizer\n",
    "tfidf = TfidfVectorizer(max_features=100, lowercase=True, analyzer='word',\n",
    " stop_words= 'english',ngram_range=(1,1))\n",
    "\n",
    "tfidf.fit(train['tweet'])\n",
    "\n",
    "x_t = tfidf.transform(x_train)\n",
    "x_v = tfidf.transform(x_valid)\n"
   ]
  },
  {
   "cell_type": "code",
   "execution_count": null,
   "metadata": {
    "colab": {},
    "colab_type": "code",
    "id": "Uc5H47YRXc75"
   },
   "outputs": [],
   "source": [
    "def model_training(clf, x_t, y_t, x_v=None , y_v=None ,task='binary:logistic'):\n",
    "    clf.fit(x_t,y_t)\n",
    "    print('training accuracy', clf.score(x_t,y_t))\n",
    "    \n",
    "    if task=='binary:logistic':\n",
    "      print('validation accuracy', clf.score(x_v,y_v))\n",
    "      print('validation f1_score',f1_score(clf.predict(x_v),y_v))\n",
    "      print('validation roc_auc score',roc_auc_score(y_v,clf.predict_proba(x_v)[::,-1]))\n",
    "      print('confusion matrix \\n',confusion_matrix(y_v, clf.predict(x_v)))\n",
    "    \n",
    "    if task=='reg:linear':\n",
    "        if x_v!=None:\n",
    "            print('validation r2_score', clf.score(x_v,y_v))\n",
    "            print('validation MSE',mean_squared_error(clf.predict(x_v),y_v))\n",
    "\n",
    "            \n",
    "    return clf"
   ]
  },
  {
   "cell_type": "code",
   "execution_count": null,
   "metadata": {
    "colab": {},
    "colab_type": "code",
    "id": "v3-AhJnmkAkk"
   },
   "outputs": [],
   "source": [
    "# y_t.value_counts()\n",
    "\n",
    "# 19794/11810"
   ]
  },
  {
   "cell_type": "code",
   "execution_count": null,
   "metadata": {
    "colab": {
     "base_uri": "https://localhost:8080/",
     "height": 255
    },
    "colab_type": "code",
    "executionInfo": {
     "elapsed": 8427,
     "status": "ok",
     "timestamp": 1574861101891,
     "user": {
      "displayName": "Pawar Pranav Dayanand mm17b003",
      "photoUrl": "",
      "userId": "03168935693589294616"
     },
     "user_tz": -330
    },
    "id": "VBOaguLBW-p5",
    "outputId": "ba42c401-f031-4e17-a1cd-24b45c31d0b6"
   },
   "outputs": [],
   "source": [
    "from sklearn.linear_model import LogisticRegression\n",
    "from sklearn.ensemble import RandomForestClassifier\n",
    "from sklearn.ensemble import GradientBoostingClassifier\n",
    "from sklearn.metrics import f1_score, classification_report, roc_auc_score, confusion_matrix, accuracy_score\n",
    "from xgboost import XGBClassifier\n",
    "\n",
    "lgr =  LogisticRegression(n_jobs=1)\n",
    "# model_training(lgr,x_t,y_t,x_v,y_v)\n",
    "\n",
    "xgb = XGBClassifier(n_estimators=500, max_depth=5,learning_rate=0.1,scale_pos_weight=1.4266790777602751)\n",
    "# xgb = XGBClassifier(n_estimators=500, max_depth=5,learning_rate=0.1,scale_pos_weight=1.6760372565622355)\n",
    "model_training(xgb,x_t,y_t,x_v,y_v)\n"
   ]
  },
  {
   "cell_type": "code",
   "execution_count": null,
   "metadata": {
    "colab": {},
    "colab_type": "code",
    "id": "9N238hqn5K8C"
   },
   "outputs": [],
   "source": [
    "# results with LogisticRegression(n_jobs=1)\n",
    "# training accuracy 0.857264903176813\n",
    "# validation accuracy 0.8553530751708428\n",
    "# validation f1_score 0.8783654357773757\n",
    "# validation roc_auc score 0.9169276701896655\n",
    "# confusion matrix \n",
    "#  [[2632  265]\n",
    "#  [ 878 4127]]"
   ]
  },
  {
   "cell_type": "code",
   "execution_count": null,
   "metadata": {
    "colab": {},
    "colab_type": "code",
    "id": "fFr8F0hVeIbN"
   },
   "outputs": [],
   "source": [
    "# XGB Results\n",
    "# training accuracy 0.8751740286039742\n",
    "# validation accuracy 0.8567451278157429\n",
    "# validation f1_score 0.8815403934700711\n",
    "# validation roc_auc score 0.9185450724629186\n",
    "# [[2558  339]\n",
    "#  [ 793 4212]]"
   ]
  },
  {
   "cell_type": "code",
   "execution_count": null,
   "metadata": {
    "colab": {},
    "colab_type": "code",
    "id": "pymORbZVjNx3"
   },
   "outputs": [],
   "source": [
    "#  this was on different split, as we had duplicates included that time\n",
    "# training accuracy 0.8751290903189637\n",
    "# validation accuracy 0.854242889177387\n",
    "# validation f1_score 0.8701503522237408\n",
    "# validation roc_auc score 0.9160894624941864\n",
    "# confusion matrix \n",
    "#  [[3100  356]\n",
    "#  [ 879 4138]]\n",
    "# XGBClassifier(base_score=0.5, booster='gbtree', colsample_bylevel=1,\n",
    "#               colsample_bynode=1, colsample_bytree=1, gamma=0,\n",
    "#               learning_rate=0.1, max_delta_step=0, max_depth=5,\n",
    "#               min_child_weight=1, missing=None, n_estimators=500, n_jobs=1,\n",
    "#               nthread=None, objective='binary:logistic', random_state=0,\n",
    "#               reg_alpha=0, reg_lambda=1, scale_pos_weight=1.4266790777602751,\n",
    "#               seed=None, silent=None, subsample=1, verbosity=1)"
   ]
  },
  {
   "cell_type": "markdown",
   "metadata": {
    "colab_type": "text",
    "id": "oGVi5Hkc_pnv"
   },
   "source": [
    "### Training on new word2vec model"
   ]
  },
  {
   "cell_type": "code",
   "execution_count": null,
   "metadata": {
    "colab": {
     "base_uri": "https://localhost:8080/",
     "height": 71
    },
    "colab_type": "code",
    "executionInfo": {
     "elapsed": 9181,
     "status": "ok",
     "timestamp": 1574861123860,
     "user": {
      "displayName": "Pawar Pranav Dayanand mm17b003",
      "photoUrl": "",
      "userId": "03168935693589294616"
     },
     "user_tz": -330
    },
    "id": "-joK9G7y_tqR",
    "outputId": "983fe95d-35f6-4b37-944a-c46d53249a25"
   },
   "outputs": [],
   "source": [
    "import gensim\n",
    "import logging\n",
    "from gensim.models import Word2Vec\n",
    "\n",
    "wv = gensim.models.KeyedVectors.load_word2vec_format(\"/content/drive/My Drive/Hate_Speech_Detection_git/model_transfer_learning.txt\", binary=False)\n",
    "# Above is domain + pretrained embeddings\n",
    "\n",
    "# wv = gensim.models.KeyedVectors.load_word2vec_format(\"/content/drive/My Drive/Hate_Speech_Detection_git/GoogleNews-vectors-negative300.bin.gz\", binary=True)\n",
    "# above is only pretrained embeddings\n",
    "\n",
    "wv.init_sims(replace=True)\n"
   ]
  },
  {
   "cell_type": "code",
   "execution_count": null,
   "metadata": {
    "colab": {},
    "colab_type": "code",
    "id": "9l1uIbEc_yWl"
   },
   "outputs": [],
   "source": [
    "def word_averaging(wv, words):\n",
    "    all_words, mean = set(), []\n",
    "    \n",
    "    for word in words:\n",
    "        if isinstance(word, np.ndarray):\n",
    "            mean.append(word)\n",
    "        elif word in wv.vocab:\n",
    "            mean.append(wv.syn0norm[wv.vocab[word].index])\n",
    "            all_words.add(wv.vocab[word].index)\n",
    "\n",
    "    if not mean:\n",
    "        logging.warning(\"cannot compute similarity with no input %s\", words)\n",
    "        # FIXME: remove these examples in pre-processing\n",
    "        return np.zeros(wv.vector_size,)\n",
    "\n",
    "    mean = gensim.matutils.unitvec(np.array(mean).mean(axis=0)).astype(np.float32)\n",
    "    return mean\n",
    "\n",
    "def  word_averaging_list(wv, text_list):\n",
    "    return np.vstack([word_averaging(wv, post) for post in text_list ])"
   ]
  },
  {
   "cell_type": "code",
   "execution_count": null,
   "metadata": {
    "colab": {
     "base_uri": "https://localhost:8080/",
     "height": 1000
    },
    "colab_type": "code",
    "executionInfo": {
     "elapsed": 14744,
     "status": "ok",
     "timestamp": 1574861131943,
     "user": {
      "displayName": "Pawar Pranav Dayanand mm17b003",
      "photoUrl": "",
      "userId": "03168935693589294616"
     },
     "user_tz": -330
    },
    "id": "i7ohGolk_24-",
    "outputId": "87aa0f28-7d59-4d2b-8988-8f2d13d72525"
   },
   "outputs": [],
   "source": [
    "from sklearn.model_selection import train_test_split\n",
    "\n",
    "def w2v_tokenize_text(text):\n",
    "    tokens = []\n",
    "    for sent in nltk.sent_tokenize(text, language='english'):\n",
    "        for word in nltk.word_tokenize(sent, language='english'):\n",
    "            if len(word) < 2:\n",
    "                continue\n",
    "            tokens.append(word)\n",
    "    return tokens\n",
    "    \n",
    "train_w2v, test_w2v = train_test_split(train, test_size=0.2, random_state = 42)\n",
    "# x_t,x_v,y_t,y_v = train_test_split(train['tweet'],train['class'],test_size=0.2,random_state=234)\n",
    "\n",
    "test_tokenized = test_w2v.apply(lambda r: w2v_tokenize_text(r['tweet']), axis=1).values\n",
    "train_tokenized = train_w2v.apply(lambda r: w2v_tokenize_text(r['tweet']), axis=1).values\n",
    "\n",
    "X_train_word_average = word_averaging_list(wv,train_tokenized)\n",
    "X_test_word_average = word_averaging_list(wv,test_tokenized)"
   ]
  },
  {
   "cell_type": "code",
   "execution_count": null,
   "metadata": {
    "colab": {},
    "colab_type": "code",
    "id": "4Z3j686dADhf"
   },
   "outputs": [],
   "source": [
    "from sklearn.linear_model import LogisticRegression\n",
    "from xgboost import XGBClassifier\n",
    "\n",
    "from lightgbm import LGBMClassifier\n",
    "\n",
    "from sklearn.ensemble import GradientBoostingClassifier\n",
    "\n",
    "from sklearn.ensemble import GradientBoostingClassifier\n",
    "from sklearn.metrics import f1_score, classification_report, roc_auc_score, confusion_matrix, accuracy_score"
   ]
  },
  {
   "cell_type": "code",
   "execution_count": null,
   "metadata": {
    "colab": {},
    "colab_type": "code",
    "id": "V4FDiF73K7Sc"
   },
   "outputs": [],
   "source": [
    "def model_training(clf, x_t, y_t, x_v=None , y_v=None ,task='binary:logistic'):\n",
    "    clf.fit(x_t,y_t)\n",
    "    print('training accuracy', clf.score(x_t,y_t))\n",
    "    \n",
    "    if task=='binary:logistic':\n",
    "      print('validation accuracy', clf.score(x_v,y_v))\n",
    "      print('validation f1_score',f1_score(clf.predict(x_v),y_v))\n",
    "      print('validation roc_auc score',roc_auc_score(y_v,clf.predict_proba(x_v)[::,-1]))\n",
    "      print('confusion matrix \\n',confusion_matrix(y_v, clf.predict(x_v)))\n",
    "    \n",
    "    if task=='reg:linear':\n",
    "      print('validation r2_score', clf.score(x_v,y_v))\n",
    "      print('validation MSE',mean_squared_error(clf.predict(x_v),y_v))\n",
    "\n",
    "            \n",
    "    return clf"
   ]
  },
  {
   "cell_type": "code",
   "execution_count": null,
   "metadata": {
    "colab": {
     "base_uri": "https://localhost:8080/",
     "height": 170
    },
    "colab_type": "code",
    "executionInfo": {
     "elapsed": 529565,
     "status": "ok",
     "timestamp": 1574862014835,
     "user": {
      "displayName": "Pawar Pranav Dayanand mm17b003",
      "photoUrl": "",
      "userId": "03168935693589294616"
     },
     "user_tz": -330
    },
    "id": "II5GAU_0mS2L",
    "outputId": "46a8ef65-9a96-4b23-ee38-a00fa8f98fe5"
   },
   "outputs": [],
   "source": [
    "%%time\n",
    "xgb_w2v = XGBClassifier(n_estimators=500, max_depth=5,learning_rate=0.1,scale_pos_weight=1.4266790777602751)\n",
    "lgr_w2v = LogisticRegression(n_jobs=1)\n",
    "\n",
    "lgbm_w2v = LGBMClassifier(n_estimators=500)\n",
    "\n",
    "gbdt_w2v = GradientBoostingClassifier(n_estimators=500)\n",
    "\n",
    "# model_training(xgb_w2v,X_train_word_average,train_w2v['class'],X_test_word_average,test_w2v['class'])\n",
    "\n",
    "# model_training(lgr_w2v,X_train_word_average,train_w2v['class'],X_test_word_average,test_w2v['class'])\n",
    "\n",
    "# model_training(lgbm_w2v,X_train_word_average,train_w2v['class'],X_test_word_average,test_w2v['class'])\n",
    "\n",
    "model_training(gbdt_w2v,X_train_word_average,train_w2v['class'],X_test_word_average,test_w2v['class'])\n"
   ]
  },
  {
   "cell_type": "code",
   "execution_count": null,
   "metadata": {
    "colab": {},
    "colab_type": "code",
    "id": "Dg_Nn2e4KkiH"
   },
   "outputs": [],
   "source": [
    "\n",
    "# Logistic Regression LogisticRegression(n_jobs=1)  Domain + pretrained EMbeddings\n",
    "# training accuracy 0.8715668902670548\n",
    "# validation accuracy 0.8672487977727158\n",
    "# validation f1_score 0.8934051417538867\n",
    "# validation roc_auc score 0.9390565768416776\n",
    "# confusion matrix \n",
    "#  [[2457  475]\n",
    "#  [ 574 4396]]\n",
    "\n",
    "# XGBoost Domain + Pretrained Embeddings\n",
    "# training accuracy 0.9944310846728263\n",
    "# validation accuracy 0.8772462667679068\n",
    "# validation f1_score 0.9021190716448032\n",
    "# validation roc_auc score 0.950407012333208\n",
    "# confusion matrix \n",
    "#  [[2462  470]\n",
    "#  [ 500 4470]]\n",
    "\n",
    "\n",
    "# Logistic Regression LogisticRegression(n_jobs=1)  Only Pretrained EMbeddings\n",
    "# training accuracy 0.8596696620680927\n",
    "# validation accuracy 0.8535813718046065\n",
    "# validation f1_score 0.8819749056411302\n",
    "# validation roc_auc score 0.9265340679822454\n",
    "# confusion matrix \n",
    "#  [[2422  510]\n",
    "#  [ 647 4323]]\n",
    "# CPU times: user 2.16 s, sys: 162 ms, total: 2.33 s\n",
    "# Wall time: 2.28 s\n",
    "\n",
    "# XGBoost + Pretrained Embeddings\n",
    "# training accuracy 0.9898114162764207\n",
    "# validation accuracy 0.8599088838268792\n",
    "# validation f1_score 0.8885084097089335\n",
    "# validation roc_auc score 0.935837432507734\n",
    "# confusion matrix \n",
    "#  [[2384  548]\n",
    "#  [ 559 4411]]\n"
   ]
  },
  {
   "cell_type": "code",
   "execution_count": null,
   "metadata": {
    "colab": {},
    "colab_type": "code",
    "id": "5Ojn2lbrKpyc"
   },
   "outputs": [],
   "source": [
    "# # GBDT + Word2Vec (domain+pretrained)\n",
    "# training accuracy 0.9290596127072522\n",
    "# validation accuracy 0.8716780561883067\n",
    "# validation f1_score 0.896804396499084\n",
    "# validation roc_auc score 0.9450967057460726\n",
    "# confusion matrix \n",
    "#  [[2482  450]\n",
    "#  [ 564 4406]]"
   ]
  },
  {
   "cell_type": "code",
   "execution_count": null,
   "metadata": {
    "colab": {
     "base_uri": "https://localhost:8080/",
     "height": 51
    },
    "colab_type": "code",
    "executionInfo": {
     "elapsed": 1610,
     "status": "ok",
     "timestamp": 1573416561629,
     "user": {
      "displayName": "Pawar Pranav Dayanand mm17b003",
      "photoUrl": "",
      "userId": "03168935693589294616"
     },
     "user_tz": -330
    },
    "id": "qf6sQNqhp5Ne",
    "outputId": "eee7250b-451e-42f2-857c-fe3708883738"
   },
   "outputs": [],
   "source": [
    "print('validation accuracy', xgb_w2v.score(X_test_word_average,test_w2v['class']))\n",
    "print('validation f1_score',f1_score(xgb_w2v.predict(X_test_word_average),test_w2v['class']))"
   ]
  },
  {
   "cell_type": "code",
   "execution_count": null,
   "metadata": {
    "colab": {
     "base_uri": "https://localhost:8080/",
     "height": 51
    },
    "colab_type": "code",
    "executionInfo": {
     "elapsed": 1302,
     "status": "ok",
     "timestamp": 1573416565535,
     "user": {
      "displayName": "Pawar Pranav Dayanand mm17b003",
      "photoUrl": "",
      "userId": "03168935693589294616"
     },
     "user_tz": -330
    },
    "id": "f44kd9Fwq2wp",
    "outputId": "0d9debbf-f206-4000-c882-5d7df918e513"
   },
   "outputs": [],
   "source": [
    "confusion_matrix(test_w2v['class'],xgb_w2v.predict(X_test_word_average))"
   ]
  },
  {
   "cell_type": "code",
   "execution_count": null,
   "metadata": {
    "colab": {
     "base_uri": "https://localhost:8080/",
     "height": 51
    },
    "colab_type": "code",
    "executionInfo": {
     "elapsed": 1081,
     "status": "ok",
     "timestamp": 1571519911300,
     "user": {
      "displayName": "Pawar Pranav Dayanand mm17b003",
      "photoUrl": "",
      "userId": "03168935693589294616"
     },
     "user_tz": -330
    },
    "id": "2vEq8rRoTGpe",
    "outputId": "d1608a50-9d74-422a-ff86-210a46e891de"
   },
   "outputs": [],
   "source": [
    "tuned_pred = (xgb_w2v.predict_proba(X_test_word_average)[::,-1]>0.3).astype(int)\n",
    "confusion_matrix(test_w2v['class'],tuned_pred)"
   ]
  },
  {
   "cell_type": "code",
   "execution_count": null,
   "metadata": {
    "colab": {
     "base_uri": "https://localhost:8080/",
     "height": 34
    },
    "colab_type": "code",
    "executionInfo": {
     "elapsed": 740,
     "status": "ok",
     "timestamp": 1571519917942,
     "user": {
      "displayName": "Pawar Pranav Dayanand mm17b003",
      "photoUrl": "",
      "userId": "03168935693589294616"
     },
     "user_tz": -330
    },
    "id": "0f9dOMaSu6jb",
    "outputId": "c4817931-83fe-49b2-ec25-e5ff44e04cb5"
   },
   "outputs": [],
   "source": [
    "f1_score(test_w2v['class'],tuned_pred)"
   ]
  },
  {
   "cell_type": "code",
   "execution_count": null,
   "metadata": {
    "colab": {
     "base_uri": "https://localhost:8080/",
     "height": 68
    },
    "colab_type": "code",
    "executionInfo": {
     "elapsed": 777,
     "status": "ok",
     "timestamp": 1571519921524,
     "user": {
      "displayName": "Pawar Pranav Dayanand mm17b003",
      "photoUrl": "",
      "userId": "03168935693589294616"
     },
     "user_tz": -330
    },
    "id": "Nt5dADpYz8i7",
    "outputId": "5000e1fc-5d15-4e8d-d18c-8739fe16410f"
   },
   "outputs": [],
   "source": [
    "test_w2v['class'].value_counts()"
   ]
  },
  {
   "cell_type": "code",
   "execution_count": null,
   "metadata": {
    "colab": {},
    "colab_type": "code",
    "id": "MvvK98lYTel4"
   },
   "outputs": [],
   "source": [
    "pd.set_option('display.max_colwidth', -1)"
   ]
  },
  {
   "cell_type": "code",
   "execution_count": null,
   "metadata": {
    "colab": {
     "base_uri": "https://localhost:8080/",
     "height": 223
    },
    "colab_type": "code",
    "executionInfo": {
     "elapsed": 1454,
     "status": "ok",
     "timestamp": 1571519928222,
     "user": {
      "displayName": "Pawar Pranav Dayanand mm17b003",
      "photoUrl": "",
      "userId": "03168935693589294616"
     },
     "user_tz": -330
    },
    "id": "tC6m8EkzRzTO",
    "outputId": "e9b69314-9dfb-4707-d5f8-0519ea2408b8"
   },
   "outputs": [],
   "source": [
    "check_df = test_w2v#[test_w2v['class']!=xgb_w2v.predict(X_test_word_average)]\n",
    "check_df['preds'] = xgb_w2v.predict(X_test_word_average)\n",
    "check_df['hate_probab'] = xgb_w2v.predict_proba(X_test_word_average)[::,-1]\n",
    "\n",
    "# false_index = check_df[check_df['class']==xgb_w2v.predict(X_test_word_average)]['ID'].unique()"
   ]
  },
  {
   "cell_type": "code",
   "execution_count": null,
   "metadata": {
    "colab": {},
    "colab_type": "code",
    "id": "R59HjJgerLjf"
   },
   "outputs": [],
   "source": [
    "preds_analysis = merged.drop_duplicates(subset='ID').drop('class',axis=1).merge(check_df, on='ID',how='inner')"
   ]
  },
  {
   "cell_type": "code",
   "execution_count": null,
   "metadata": {
    "colab": {
     "base_uri": "https://localhost:8080/",
     "height": 1000
    },
    "colab_type": "code",
    "executionInfo": {
     "elapsed": 879,
     "status": "ok",
     "timestamp": 1571519967307,
     "user": {
      "displayName": "Pawar Pranav Dayanand mm17b003",
      "photoUrl": "",
      "userId": "03168935693589294616"
     },
     "user_tz": -330
    },
    "id": "CVvFsh7P0Qqs",
    "outputId": "89ec5edb-e163-4d93-ccad-ae84920b2133"
   },
   "outputs": [],
   "source": [
    "preds_analysis"
   ]
  },
  {
   "cell_type": "code",
   "execution_count": null,
   "metadata": {
    "colab": {},
    "colab_type": "code",
    "id": "q1Cyj851TpZC"
   },
   "outputs": [],
   "source": [
    "preds_analysis.to_csv('test_predictions.csv',index=True,header=True)"
   ]
  },
  {
   "cell_type": "code",
   "execution_count": null,
   "metadata": {
    "colab": {
     "base_uri": "https://localhost:8080/",
     "height": 103
    },
    "colab_type": "code",
    "executionInfo": {
     "elapsed": 72671,
     "status": "ok",
     "timestamp": 1571520109233,
     "user": {
      "displayName": "Pawar Pranav Dayanand mm17b003",
      "photoUrl": "",
      "userId": "03168935693589294616"
     },
     "user_tz": -330
    },
    "id": "an6eA2g5-A5c",
    "outputId": "a16465ea-0481-451e-82ce-5427f1d5492d"
   },
   "outputs": [],
   "source": [
    "# testing on sample sentences\n",
    "check = pd.DataFrame(columns=['tweet'])\n",
    "\n",
    "for i in range(0,5):\n",
    "  a = input()\n",
    "  check.loc[i, 'tweet'] = a"
   ]
  },
  {
   "cell_type": "code",
   "execution_count": null,
   "metadata": {
    "colab": {
     "base_uri": "https://localhost:8080/",
     "height": 106
    },
    "colab_type": "code",
    "executionInfo": {
     "elapsed": 1101,
     "status": "ok",
     "timestamp": 1571520115579,
     "user": {
      "displayName": "Pawar Pranav Dayanand mm17b003",
      "photoUrl": "",
      "userId": "03168935693589294616"
     },
     "user_tz": -330
    },
    "id": "WjutM8AdQjjK",
    "outputId": "8256b2a5-3aa6-413e-c61f-2cc92770e6a7"
   },
   "outputs": [],
   "source": [
    "check_tokenized = check.apply(lambda r: w2v_tokenize_text(r['tweet']), axis=1).values\n",
    "\n",
    "check_word_average = word_averaging_list(wv,check_tokenized)"
   ]
  },
  {
   "cell_type": "code",
   "execution_count": null,
   "metadata": {
    "colab": {
     "base_uri": "https://localhost:8080/",
     "height": 34
    },
    "colab_type": "code",
    "executionInfo": {
     "elapsed": 825,
     "status": "ok",
     "timestamp": 1571520125195,
     "user": {
      "displayName": "Pawar Pranav Dayanand mm17b003",
      "photoUrl": "",
      "userId": "03168935693589294616"
     },
     "user_tz": -330
    },
    "id": "utetS-h7SGtr",
    "outputId": "b98407e2-9e13-492d-9623-385d0c03fad6"
   },
   "outputs": [],
   "source": [
    "xgb_w2v.predict(check_word_average)"
   ]
  },
  {
   "cell_type": "code",
   "execution_count": null,
   "metadata": {
    "colab": {
     "base_uri": "https://localhost:8080/",
     "height": 103
    },
    "colab_type": "code",
    "executionInfo": {
     "elapsed": 750,
     "status": "ok",
     "timestamp": 1571520133904,
     "user": {
      "displayName": "Pawar Pranav Dayanand mm17b003",
      "photoUrl": "",
      "userId": "03168935693589294616"
     },
     "user_tz": -330
    },
    "id": "eC5Ku9_rQ4jc",
    "outputId": "b6c4a717-5bd4-48f4-a297-aaeee77b23dd"
   },
   "outputs": [],
   "source": [
    "xgb_w2v.predict_proba(check_word_average)"
   ]
  },
  {
   "cell_type": "markdown",
   "metadata": {
    "colab_type": "text",
    "id": "u255Nnpb-FJJ"
   },
   "source": [
    "### Doc2Vec"
   ]
  },
  {
   "cell_type": "code",
   "execution_count": null,
   "metadata": {
    "colab": {},
    "colab_type": "code",
    "id": "kMYtv54lJgqs"
   },
   "outputs": [],
   "source": [
    "from tqdm import tqdm\n",
    "tqdm.pandas(desc=\"progress-bar\")\n",
    "from gensim.models import Doc2Vec\n",
    "from sklearn import utils\n",
    "from sklearn.model_selection import train_test_split\n",
    "import gensim\n",
    "from sklearn.linear_model import LogisticRegression\n",
    "from gensim.models.doc2vec import TaggedDocument\n",
    "import re\n",
    "import seaborn as sns\n",
    "import matplotlib.pyplot as plt"
   ]
  },
  {
   "cell_type": "code",
   "execution_count": null,
   "metadata": {
    "colab": {},
    "colab_type": "code",
    "id": "bFW1vQSM-FeS"
   },
   "outputs": [],
   "source": [
    "import nltk\n",
    "from nltk.corpus import stopwords\n",
    "import gensim\n",
    "from gensim.models.doc2vec import TaggedDocument\n",
    "import re"
   ]
  },
  {
   "cell_type": "code",
   "execution_count": null,
   "metadata": {
    "colab": {},
    "colab_type": "code",
    "id": "8yhBFYXlIJV4"
   },
   "outputs": [],
   "source": [
    "def tokenize_text(text):\n",
    "    tokens = []\n",
    "    for sent in nltk.sent_tokenize(text):\n",
    "        for word in nltk.word_tokenize(sent):\n",
    "            if len(word) < 2:\n",
    "                continue\n",
    "            tokens.append(word.lower())\n",
    "    return tokens\n",
    "  \n",
    "  \n",
    "train_doc2v, test_doc2v = train_test_split(train, test_size=0.2, random_state = 42)\n",
    "\n",
    "  \n",
    "train_tagged = train_doc2v.apply(lambda r: TaggedDocument(words=tokenize_text(r['tweet']), tags=[r['class']]), axis=1)\n",
    "test_tagged = test_doc2v.apply(lambda r: TaggedDocument(words=tokenize_text(r['tweet']), tags=[r['class']]), axis=1)"
   ]
  },
  {
   "cell_type": "code",
   "execution_count": null,
   "metadata": {
    "colab": {},
    "colab_type": "code",
    "id": "rzSEMzDGJppP"
   },
   "outputs": [],
   "source": [
    "import multiprocessing\n",
    "cores = multiprocessing.cpu_count()"
   ]
  },
  {
   "cell_type": "code",
   "execution_count": null,
   "metadata": {
    "colab": {
     "base_uri": "https://localhost:8080/",
     "height": 34
    },
    "colab_type": "code",
    "executionInfo": {
     "elapsed": 3141,
     "status": "ok",
     "timestamp": 1570915239277,
     "user": {
      "displayName": "Pawar Pranav Dayanand mm17b003",
      "photoUrl": "",
      "userId": "03168935693589294616"
     },
     "user_tz": -330
    },
    "id": "9eg2KwG2ItKY",
    "outputId": "6c9548e7-9d62-4083-c04a-4fdec4728381"
   },
   "outputs": [],
   "source": [
    "model_dbow = Doc2Vec(dm=0, vector_size=300, negative=5, hs=0, min_count=2, sample = 0, workers=cores)\n",
    "model_dbow.build_vocab([x for x in tqdm(train_tagged.values)])"
   ]
  },
  {
   "cell_type": "code",
   "execution_count": null,
   "metadata": {
    "colab": {
     "base_uri": "https://localhost:8080/",
     "height": 566
    },
    "colab_type": "code",
    "executionInfo": {
     "elapsed": 56071,
     "status": "ok",
     "timestamp": 1570915296005,
     "user": {
      "displayName": "Pawar Pranav Dayanand mm17b003",
      "photoUrl": "",
      "userId": "03168935693589294616"
     },
     "user_tz": -330
    },
    "id": "smznZZDSIyV9",
    "outputId": "b1eae351-0528-48ef-fca5-08c3df791711"
   },
   "outputs": [],
   "source": [
    "%%time\n",
    "for epoch in range(30):\n",
    "    model_dbow.train(utils.shuffle([x for x in tqdm(train_tagged.values)]), total_examples=len(train_tagged.values), epochs=1)\n",
    "    model_dbow.alpha -= 0.002\n",
    "    model_dbow.min_alpha = model_dbow.alpha"
   ]
  },
  {
   "cell_type": "code",
   "execution_count": null,
   "metadata": {
    "colab": {},
    "colab_type": "code",
    "id": "AWt_pBNzJ3b8"
   },
   "outputs": [],
   "source": [
    "def vec_for_learning(model, tagged_docs):\n",
    "    sents = tagged_docs.values\n",
    "    targets, regressors = zip(*[(doc.tags[0], model.infer_vector(doc.words, steps=20)) for doc in sents])\n",
    "    return targets, regressors\n",
    "\n",
    "def vec_for_learning(model, tagged_docs):\n",
    "    sents = tagged_docs.values\n",
    "    targets, regressors = zip(*[(doc.tags[0], model.infer_vector(doc.words, steps=20)) for doc in sents])\n",
    "    return targets, regressors"
   ]
  },
  {
   "cell_type": "code",
   "execution_count": null,
   "metadata": {
    "colab": {},
    "colab_type": "code",
    "id": "KR6_R7KXKUHI"
   },
   "outputs": [],
   "source": [
    "y_train, X_train = vec_for_learning(model_dbow, train_tagged)\n",
    "y_test, X_test = vec_for_learning(model_dbow, test_tagged)"
   ]
  },
  {
   "cell_type": "code",
   "execution_count": null,
   "metadata": {
    "colab": {},
    "colab_type": "code",
    "id": "qjGq2P8nKlpj"
   },
   "outputs": [],
   "source": []
  },
  {
   "cell_type": "code",
   "execution_count": null,
   "metadata": {
    "colab": {
     "base_uri": "https://localhost:8080/",
     "height": 140
    },
    "colab_type": "code",
    "executionInfo": {
     "elapsed": 67692,
     "status": "ok",
     "timestamp": 1570915319026,
     "user": {
      "displayName": "Pawar Pranav Dayanand mm17b003",
      "photoUrl": "",
      "userId": "03168935693589294616"
     },
     "user_tz": -330
    },
    "id": "p5DRtj-mKiLD",
    "outputId": "30c7eeae-1501-47a7-8849-4d16096c0e95"
   },
   "outputs": [],
   "source": [
    "%%time\n",
    "\n",
    "logreg = LogisticRegression(n_jobs=1, C=1e5)\n",
    "logreg.fit(X_train, y_train)\n",
    "y_pred = logreg.predict(X_test)\n",
    "\n",
    "from sklearn.metrics import accuracy_score, f1_score\n",
    "print('Testing accuracy %s' % accuracy_score(y_test, y_pred))\n",
    "print('Testing F1 score: {}'.format(f1_score(y_test, y_pred, average='weighted')))"
   ]
  },
  {
   "cell_type": "markdown",
   "metadata": {
    "colab_type": "text",
    "id": "dTGItXAmBvNm"
   },
   "source": []
  },
  {
   "cell_type": "code",
   "execution_count": null,
   "metadata": {
    "colab": {},
    "colab_type": "code",
    "id": "dq0CHd90KzGr"
   },
   "outputs": [],
   "source": [
    "# # Testing accuracy 0.7482591762067745\n",
    "# # Testing F1 score: 0.7487943851129049\n",
    "# doc2vec accuracy with dm=1"
   ]
  },
  {
   "cell_type": "code",
   "execution_count": null,
   "metadata": {
    "colab": {},
    "colab_type": "code",
    "id": "6nt_eJRSLHgb"
   },
   "outputs": [],
   "source": [
    "# Testing accuracy 0.8671072819544435\n",
    "# Testing F1 score: 0.8675608637800902\n",
    "# doc2vec accuracy with dm=0. means CBOW kind of approach"
   ]
  },
  {
   "cell_type": "markdown",
   "metadata": {
    "colab_type": "text",
    "id": "I6hp_W3rW_Ol"
   },
   "source": [
    "### Lets try XGBoost"
   ]
  },
  {
   "cell_type": "code",
   "execution_count": null,
   "metadata": {
    "colab": {},
    "colab_type": "code",
    "id": "NL1DQxlYYABR"
   },
   "outputs": [],
   "source": [
    "X_train = pd.DataFrame(X_train)\n",
    "X_test = pd.DataFrame(X_test)"
   ]
  },
  {
   "cell_type": "code",
   "execution_count": null,
   "metadata": {
    "colab": {
     "base_uri": "https://localhost:8080/",
     "height": 51
    },
    "colab_type": "code",
    "executionInfo": {
     "elapsed": 5813650,
     "status": "ok",
     "timestamp": 1570906746114,
     "user": {
      "displayName": "Pawar Pranav Dayanand mm17b003",
      "photoUrl": "",
      "userId": "03168935693589294616"
     },
     "user_tz": -330
    },
    "id": "gzl8w80rOwRY",
    "outputId": "6895aeac-3010-4106-8073-857d834356c3"
   },
   "outputs": [],
   "source": [
    "%%time\n",
    "xgb_doc2v = XGBClassifier(n_estimators=3000, max_depth=8,learning_rate=0.1,scale_pos_weight=1.4266790777602751)\n",
    "\n",
    "xgb_doc2v.fit(X_train, y_train)\n"
   ]
  },
  {
   "cell_type": "code",
   "execution_count": null,
   "metadata": {
    "colab": {
     "base_uri": "https://localhost:8080/",
     "height": 34
    },
    "colab_type": "code",
    "executionInfo": {
     "elapsed": 14404,
     "status": "ok",
     "timestamp": 1570908338180,
     "user": {
      "displayName": "Pawar Pranav Dayanand mm17b003",
      "photoUrl": "",
      "userId": "03168935693589294616"
     },
     "user_tz": -330
    },
    "id": "A1FT9E0Abldv",
    "outputId": "a27098b3-6e78-4ba1-9f9b-d1743660b978"
   },
   "outputs": [],
   "source": [
    "xgb_doc2v.score(X_train, y_train)"
   ]
  },
  {
   "cell_type": "code",
   "execution_count": null,
   "metadata": {
    "colab": {
     "base_uri": "https://localhost:8080/",
     "height": 51
    },
    "colab_type": "code",
    "executionInfo": {
     "elapsed": 5829018,
     "status": "ok",
     "timestamp": 1570906764191,
     "user": {
      "displayName": "Pawar Pranav Dayanand mm17b003",
      "photoUrl": "",
      "userId": "03168935693589294616"
     },
     "user_tz": -330
    },
    "id": "RrwU4tAPXkTb",
    "outputId": "bd2b042d-6189-4397-fd9f-df13294b213e"
   },
   "outputs": [],
   "source": [
    "y_pred = xgb_doc2v.predict(X_test)\n",
    "\n",
    "from sklearn.metrics import accuracy_score, f1_score\n",
    "print('Testing accuracy %s' % accuracy_score(y_test, y_pred))\n",
    "print('Testing F1 score: {}'.format(f1_score(y_test, y_pred, average='weighted')))"
   ]
  },
  {
   "cell_type": "code",
   "execution_count": null,
   "metadata": {
    "colab": {},
    "colab_type": "code",
    "id": "WF5JmihLbeQq"
   },
   "outputs": [],
   "source": [
    "# Testing accuracy 0.6873598489319014\n",
    "# Testing F1 score: 0.6705179542826458\n",
    "# XGB n_est = 500, max_depth=5"
   ]
  }
 ],
 "metadata": {
  "accelerator": "GPU",
  "colab": {
   "collapsed_sections": [
    "u255Nnpb-FJJ",
    "I6hp_W3rW_Ol"
   ],
   "name": "merged_data_transfer_learning.ipynb",
   "provenance": []
  },
  "kernelspec": {
   "display_name": "Python 3",
   "language": "python",
   "name": "python3"
  },
  "language_info": {
   "codemirror_mode": {
    "name": "ipython",
    "version": 3
   },
   "file_extension": ".py",
   "mimetype": "text/x-python",
   "name": "python",
   "nbconvert_exporter": "python",
   "pygments_lexer": "ipython3",
   "version": "3.7.3"
  },
  "toc": {
   "base_numbering": 1,
   "nav_menu": {},
   "number_sections": true,
   "sideBar": true,
   "skip_h1_title": false,
   "title_cell": "Table of Contents",
   "title_sidebar": "Contents",
   "toc_cell": false,
   "toc_position": {},
   "toc_section_display": true,
   "toc_window_display": false
  }
 },
 "nbformat": 4,
 "nbformat_minor": 1
}
