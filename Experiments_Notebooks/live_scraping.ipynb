{
 "cells": [
  {
   "cell_type": "markdown",
   "metadata": {
    "colab_type": "text",
    "id": "bFLUzyUJ-0Rz"
   },
   "source": [
    "This script was used to scrape data from twitter using IDs given in files NLP+CSS_2016.csv and NAACL_SRW_2016.csv"
   ]
  },
  {
   "cell_type": "markdown",
   "metadata": {
    "colab_type": "text",
    "id": "I9LHG5Ov-0R3"
   },
   "source": [
    "Import the necessary packages"
   ]
  },
  {
   "cell_type": "code",
   "execution_count": null,
   "metadata": {
    "colab": {},
    "colab_type": "code",
    "id": "Zyz8n0qA-0R4"
   },
   "outputs": [],
   "source": [
    "import numpy as np\n",
    "import pandas as pd\n",
    "import tweepy\n",
    "import pprint, time\n",
    "from math import ceil"
   ]
  },
  {
   "cell_type": "code",
   "execution_count": null,
   "metadata": {
    "colab": {
     "base_uri": "https://localhost:8080/",
     "height": 51
    },
    "colab_type": "code",
    "executionInfo": {
     "elapsed": 1016,
     "status": "ok",
     "timestamp": 1572908800495,
     "user": {
      "displayName": "Pawar Pranav Dayanand mm17b003",
      "photoUrl": "",
      "userId": "03168935693589294616"
     },
     "user_tz": -330
    },
    "id": "Xu2Dgsx9-0SX",
    "outputId": "0fce2ae1-94c8-43ae-a9e8-a61d9641942c",
    "scrolled": true
   },
   "outputs": [],
   "source": [
    "%%time\n",
    "\n",
    "consumer_key = ## Your Key\n",
    "consumer_secret = ## Your Key\n",
    "access_token = ## Your Key\n",
    "access_token_secret = ## Your Key\n",
    "\n",
    "auth = tweepy.OAuthHandler(consumer_key, consumer_secret)\n",
    "auth.set_access_token(access_token, access_token_secret)\n",
    "\n",
    "api = tweepy.API(auth)\n"
   ]
  },
  {
   "cell_type": "code",
   "execution_count": null,
   "metadata": {
    "colab": {
     "base_uri": "https://localhost:8080/",
     "height": 188
    },
    "colab_type": "code",
    "executionInfo": {
     "elapsed": 3997,
     "status": "ok",
     "timestamp": 1571926463138,
     "user": {
      "displayName": "Pawar Pranav Dayanand mm17b003",
      "photoUrl": "",
      "userId": "03168935693589294616"
     },
     "user_tz": -330
    },
    "id": "JZr9PKB1_n5s",
    "outputId": "410a9437-bd53-4802-9515-5b845ea4b126"
   },
   "outputs": [],
   "source": [
    "import tweepy #https://github.com/tweepy/tweepy\n",
    "import csv\n",
    "\n",
    "#Twitter API credentials\n",
    "consumer_key = ## Your Key\n",
    "consumer_secret = ## Your Key\n",
    "access_token = ## Your Key\n",
    "access_token_secret = ## Your Key\n",
    "\n",
    "\n",
    "def get_all_tweets(screen_name):\n",
    "\t#Twitter only allows access to a users most recent 3240 tweets with this method\n",
    "\t\n",
    "\t#authorize twitter, initialize tweepy\n",
    "\tauth = tweepy.OAuthHandler(consumer_key, consumer_secret)\n",
    "\tauth.set_access_token(access_key, access_secret)\n",
    "\tapi = tweepy.API(auth)\n",
    "\t\n",
    "\t#initialize a list to hold all the tweepy Tweets\n",
    "\talltweets = []\t\n",
    "\t\n",
    "\t#make initial request for most recent tweets (200 is the maximum allowed count)\n",
    "  #     we use tweet_mode='extended' to get the full tweet. And similarly, use the attribute full_text to extract it from the status\n",
    "\n",
    "\tnew_tweets = api.user_timeline(screen_name = screen_name,count=200,tweet_mode='extended')\n",
    "\t\n",
    "\t#save most recent tweets\n",
    "\talltweets.extend(new_tweets)\n",
    "\t\n",
    "\t#save the id of the oldest tweet less one\n",
    "\toldest = alltweets[-1].id - 1\n",
    "\t\n",
    "\t#keep grabbing tweets until there are no tweets left to grab\n",
    "\twhile len(new_tweets) > 0:\n",
    "\t\tprint(\"getting tweets before %s\" % (oldest))\n",
    "\t\t\n",
    "\t\t#all subsiquent requests use the max_id param to prevent duplicates\n",
    "    #     we use tweet_mode='extended' to get the full tweet. And similarly, use the attribute full_text to extract it from the status\n",
    "\n",
    "\t\tnew_tweets = api.user_timeline(screen_name = screen_name,count=200,max_id=oldest, tweet_mode='extended')\n",
    "\t\t\n",
    "\t\t#save most recent tweets\n",
    "\t\talltweets.extend(new_tweets)\n",
    "\t\t\n",
    "\t\t#update the id of the oldest tweet less one\n",
    "\t\toldest = alltweets[-1].id - 1\n",
    "\t\t\n",
    "\t\tprint(\"...%s tweets downloaded so far\" % (len(alltweets)))\n",
    "\t\n",
    "\t#transform the tweepy tweets into a 2D array that will populate the csv\t\n",
    "\touttweets = [[tweet.id_str, tweet.created_at, tweet.full_text.encode(\"utf-8\")] for tweet in alltweets]\n",
    "\t\n",
    "\t#write the csv\t\n",
    "\twith open('%s_tweets.csv' % screen_name, 'w') as f:\n",
    "\t\twriter = csv.writer(f)\n",
    "\t\twriter.writerow([\"id\",\"created_at\",\"text\"])\n",
    "\t\twriter.writerows(outtweets)\n",
    "\t\n",
    "\tpass\n",
    "\n",
    "\n",
    "if __name__ == '__main__':\n",
    "\t#pass in the username of the account you want to download\n",
    "\tget_all_tweets(\"realDonaldTrump\")"
   ]
  },
  {
   "cell_type": "code",
   "execution_count": null,
   "metadata": {
    "colab": {},
    "colab_type": "code",
    "id": "fFUVdtq_FeyR"
   },
   "outputs": [],
   "source": []
  },
  {
   "cell_type": "code",
   "execution_count": null,
   "metadata": {
    "colab": {
     "base_uri": "https://localhost:8080/",
     "height": 1000
    },
    "colab_type": "code",
    "executionInfo": {
     "elapsed": 4211,
     "status": "ok",
     "timestamp": 1572908888183,
     "user": {
      "displayName": "Pawar Pranav Dayanand mm17b003",
      "photoUrl": "",
      "userId": "03168935693589294616"
     },
     "user_tz": -330
    },
    "id": "wt0EE2akhGi5",
    "outputId": "f3df9756-d6cf-4e77-985b-7f57dbce114b"
   },
   "outputs": [],
   "source": [
    "import tweepy\n",
    "import csv\n",
    "import pandas as pd\n",
    "\n",
    "####input your credentials here\n",
    "consumer_key = ## Your Key\n",
    "consumer_secret = ## Your Key\n",
    "access_token = ## Your Key\n",
    "access_token_secret = ## Your Key\n",
    "\n",
    "auth = tweepy.OAuthHandler(consumer_key, consumer_secret)\n",
    "auth.set_access_token(access_token, access_token_secret)\n",
    "api = tweepy.API(auth,wait_on_rate_limit=True)\n",
    "\n",
    "#####\n",
    "\n",
    "# Open/Create a file to append data\n",
    "# csvFile = open('racist_hashtag.csv', 'a')\n",
    "csvFile = open('pok.csv', 'a')\n",
    "\n",
    "\n",
    "#Use csv Writer\n",
    "csvWriter = csv.writer(csvFile)\n",
    "\n",
    "hashtag = '#trump'\n",
    "\n",
    "\n",
    "for tweet in tweepy.Cursor(api.search,q=hashtag,count=100,\n",
    "                           lang=\"en\",\n",
    "                           since=\"2019-10-20\",tweet_mode='extended').items(1000):\n",
    "    print (tweet.created_at, tweet.full_text)\n",
    "    \n",
    "#     we use tweet_mode='extended' to get the full tweet. And similarly, use the attribute full_text to extract it from the status\n",
    "    csvWriter.writerow([tweet.created_at, tweet.full_text.encode('utf-8')])"
   ]
  },
  {
   "cell_type": "code",
   "execution_count": null,
   "metadata": {
    "colab": {
     "base_uri": "https://localhost:8080/",
     "height": 407
    },
    "colab_type": "code",
    "executionInfo": {
     "elapsed": 1752,
     "status": "ok",
     "timestamp": 1572874771967,
     "user": {
      "displayName": "Pawar Pranav Dayanand mm17b003",
      "photoUrl": "",
      "userId": "03168935693589294616"
     },
     "user_tz": -330
    },
    "id": "oDZYn5iDh3wU",
    "outputId": "aef3ccfc-d6d3-4197-b735-b12221860dfc"
   },
   "outputs": [],
   "source": [
    "pd.read_csv('pok.csv',names=['timestamp','text'])"
   ]
  },
  {
   "cell_type": "code",
   "execution_count": null,
   "metadata": {
    "colab": {},
    "colab_type": "code",
    "id": "bCzESBohG8Bq"
   },
   "outputs": [],
   "source": []
  }
 ],
 "metadata": {
  "colab": {
   "collapsed_sections": [],
   "name": "live_scraping.ipynb",
   "provenance": []
  },
  "kernelspec": {
   "display_name": "Python 3",
   "language": "python",
   "name": "python3"
  },
  "language_info": {
   "codemirror_mode": {
    "name": "ipython",
    "version": 3
   },
   "file_extension": ".py",
   "mimetype": "text/x-python",
   "name": "python",
   "nbconvert_exporter": "python",
   "pygments_lexer": "ipython3",
   "version": "3.7.3"
  },
  "toc": {
   "base_numbering": 1,
   "nav_menu": {},
   "number_sections": true,
   "sideBar": true,
   "skip_h1_title": false,
   "title_cell": "Table of Contents",
   "title_sidebar": "Contents",
   "toc_cell": false,
   "toc_position": {},
   "toc_section_display": true,
   "toc_window_display": false
  }
 },
 "nbformat": 4,
 "nbformat_minor": 1
}
