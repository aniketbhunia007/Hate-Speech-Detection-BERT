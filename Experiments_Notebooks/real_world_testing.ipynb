{
 "cells": [
  {
   "cell_type": "markdown",
   "metadata": {
    "colab_type": "text",
    "id": "F52nsROaIfea"
   },
   "source": [
    "There is a change in preprocessing in this notebook, we removed all the numbers from tweets, which helped in training more robust word2vec embeddings"
   ]
  },
  {
   "cell_type": "markdown",
   "metadata": {
    "colab_type": "text",
    "id": "KAfnkMx1_M5B"
   },
   "source": [
    "Analysis on scraped dataset"
   ]
  },
  {
   "cell_type": "markdown",
   "metadata": {
    "colab_type": "text",
    "id": "3kUTiT2E_M5H"
   },
   "source": [
    "### Import"
   ]
  },
  {
   "cell_type": "code",
   "execution_count": null,
   "metadata": {
    "colab": {},
    "colab_type": "code",
    "id": "cU9l4_D1_M5J"
   },
   "outputs": [],
   "source": [
    "import pandas as pd\n",
    "import numpy as np"
   ]
  },
  {
   "cell_type": "code",
   "execution_count": null,
   "metadata": {
    "colab": {},
    "colab_type": "code",
    "id": "zCUG0trn_M5R"
   },
   "outputs": [],
   "source": [
    "import pickle\n",
    "import sys\n",
    "import nltk\n",
    "from nltk.stem.porter import *\n",
    "\n",
    "from sklearn.feature_extraction.text import TfidfVectorizer\n",
    "import matplotlib.pyplot as plt\n",
    "import seaborn\n",
    "%matplotlib inline"
   ]
  },
  {
   "cell_type": "code",
   "execution_count": null,
   "metadata": {
    "colab": {
     "base_uri": "https://localhost:8080/",
     "height": 123
    },
    "colab_type": "code",
    "executionInfo": {
     "elapsed": 34699,
     "status": "ok",
     "timestamp": 1573308578960,
     "user": {
      "displayName": "Pawar Pranav Dayanand mm17b003",
      "photoUrl": "",
      "userId": "03168935693589294616"
     },
     "user_tz": -330
    },
    "id": "KoieloYD56U0",
    "outputId": "fbf52a4b-bf57-4e42-a965-b04044428734"
   },
   "outputs": [],
   "source": [
    "from google.colab import drive\n",
    "drive.mount('/content/drive')"
   ]
  },
  {
   "cell_type": "code",
   "execution_count": null,
   "metadata": {
    "colab": {
     "base_uri": "https://localhost:8080/",
     "height": 71
    },
    "colab_type": "code",
    "executionInfo": {
     "elapsed": 3671,
     "status": "ok",
     "timestamp": 1573308738367,
     "user": {
      "displayName": "Pawar Pranav Dayanand mm17b003",
      "photoUrl": "",
      "userId": "03168935693589294616"
     },
     "user_tz": -330
    },
    "id": "Xtb_csJD_M5X",
    "outputId": "1e7196c4-2944-47e3-f10a-3eee63a193d8",
    "scrolled": true
   },
   "outputs": [],
   "source": [
    "cf_data_1 = pd.read_csv('/content/drive/My Drive/Hate_Speech_Detection_git/data_1/hatespeech_NAACL_SRW.csv',encoding = \"ISO-8859-1\")\n",
    "cf_data_2 = pd.read_csv('/content/drive/My Drive/Hate_Speech_Detection_git/data_1/hatespeech_NLP+CSS.csv')\n",
    "\n",
    "cf_data_3 = pd.read_csv('/content/drive/My Drive/Hate_Speech_Detection_git/data_2/labeled_data.csv',encoding = \"ISO-8859-1\")\n",
    "## this is the scraped data\n",
    "\n",
    "cf_data_3.rename({'Unnamed: 0':'ID','tweet':'Tweets'},axis=1,inplace=True)\n",
    "\n",
    "labels_1 = pd.read_csv('/content/drive/My Drive/Hate_Speech_Detection_git/data_1/NAACL_SRW_2016.csv',header=None,names=['ID','class'])\n",
    "labels_2 = pd.read_csv('/content/drive/My Drive/Hate_Speech_Detection_git/data_1/NLP+CSS_2016.csv',sep='\\s')\n",
    "\n",
    "labels_2.rename({'TweetID':'ID','Expert':'class'},axis=1,inplace=True)\n",
    "\n",
    "cf_data_1.rename({'Unnamed: 0':'index_col'},axis=1,inplace=True)\n",
    "cf_data_2.rename({'Unnamed: 0':'index_col'},axis=1,inplace=True)"
   ]
  },
  {
   "cell_type": "code",
   "execution_count": null,
   "metadata": {
    "colab": {},
    "colab_type": "code",
    "id": "igdS-cAYI6Rz"
   },
   "outputs": [],
   "source": [
    "real_world_test = pd.read_csv('/content/drive/My Drive/Hate_Speech_Detection_git/real_world_test/realDonaldTrump_tweets_extended.csv')"
   ]
  },
  {
   "cell_type": "code",
   "execution_count": null,
   "metadata": {
    "colab": {},
    "colab_type": "code",
    "id": "p4cmCFOIJNUA"
   },
   "outputs": [],
   "source": [
    "real_world_test_racist = pd.read_csv('/content/drive/My Drive/Hate_Speech_Detection_git/real_world_test/racist_scarped_extended.csv', names=['timestamp','text'])"
   ]
  },
  {
   "cell_type": "code",
   "execution_count": null,
   "metadata": {
    "colab": {},
    "colab_type": "code",
    "id": "YEZ2LOH0yKK-"
   },
   "outputs": [],
   "source": [
    "pok = pd.read_csv('/content/drive/My Drive/Hate_Speech_Detection_git/real_world_test/pok.csv', names=['timestamp','text'])"
   ]
  },
  {
   "cell_type": "code",
   "execution_count": null,
   "metadata": {
    "colab": {},
    "colab_type": "code",
    "id": "8lVK-FyD04vx"
   },
   "outputs": [],
   "source": [
    "pok = pok.drop_duplicates(subset='text')"
   ]
  },
  {
   "cell_type": "code",
   "execution_count": null,
   "metadata": {
    "colab": {},
    "colab_type": "code",
    "id": "EfNhe0Ysf_ux"
   },
   "outputs": [],
   "source": [
    "jigsaw = pd.read_csv('/content/drive/My Drive/Hate_Speech_Detection_git/jigsaw-toxic-comment-classification-challenge/train.csv')\n",
    "jigsaw.rename(columns = {'comment_text':'text'},inplace=True)"
   ]
  },
  {
   "cell_type": "markdown",
   "metadata": {
    "colab_type": "text",
    "id": "4omcVwyX_M56"
   },
   "source": [
    "### Function for merging"
   ]
  },
  {
   "cell_type": "code",
   "execution_count": null,
   "metadata": {
    "colab": {},
    "colab_type": "code",
    "id": "BUC130MI_M58"
   },
   "outputs": [],
   "source": [
    "def label_merging(data, labels):\n",
    "    labels['ID'] = labels['ID'].astype(int)\n",
    "    print(labels['ID'].nunique())\n",
    "    print('Null IDs in data 1 = ' ,data['ID'].isna().sum())\n",
    "    \n",
    "    data['ID'].fillna(0,inplace=True)\n",
    "    data['ID'] = data['ID'].astype(int)\n",
    "    \n",
    "    print('data shape ='  ,data.shape)\n",
    "    print('IDs common in data and labels =',sum(data['ID'].isin(labels['ID'])))\n",
    "    \n",
    "    train = data.merge(labels, on='ID',how='inner')#['class'].isna().sum()\n",
    "    return train"
   ]
  },
  {
   "cell_type": "code",
   "execution_count": null,
   "metadata": {
    "colab": {
     "base_uri": "https://localhost:8080/",
     "height": 154
    },
    "colab_type": "code",
    "executionInfo": {
     "elapsed": 1172,
     "status": "ok",
     "timestamp": 1573308789056,
     "user": {
      "displayName": "Pawar Pranav Dayanand mm17b003",
      "photoUrl": "",
      "userId": "03168935693589294616"
     },
     "user_tz": -330
    },
    "id": "Mj1bg2HO_M6D",
    "outputId": "d843bfc6-6ee4-4498-b079-2bf59438a283",
    "scrolled": true
   },
   "outputs": [],
   "source": [
    "train_1 = label_merging(cf_data_1,labels_1)\n",
    "\n",
    "train_2 = label_merging(cf_data_2, labels_2)\n",
    "\n",
    "train_3 = cf_data_3.copy()"
   ]
  },
  {
   "cell_type": "code",
   "execution_count": null,
   "metadata": {
    "colab": {},
    "colab_type": "code",
    "id": "8CDfNYIT_M6X"
   },
   "outputs": [],
   "source": [
    "t1 = train_1[['ID','Tweets','class']]\n",
    "t2 = train_2[['ID','Tweets','class']]\n",
    "t3 = train_3[['ID','Tweets','class']]\n",
    "merged = pd.concat([t1,t2,t3],axis=0).reset_index(drop=True)"
   ]
  },
  {
   "cell_type": "markdown",
   "metadata": {
    "colab_type": "text",
    "id": "od7YmYLQ_M7k"
   },
   "source": [
    "### Basic Preprocessing"
   ]
  },
  {
   "cell_type": "code",
   "execution_count": null,
   "metadata": {
    "colab": {},
    "colab_type": "code",
    "id": "pVMMYTwGxuNy"
   },
   "outputs": [],
   "source": [
    "train = merged.copy()\n",
    "\n",
    "train.rename(columns={'Tweets':'tweet'},inplace=True)\n",
    "train['tweet'] = train['tweet'].astype(str)"
   ]
  },
  {
   "cell_type": "code",
   "execution_count": null,
   "metadata": {
    "colab": {},
    "colab_type": "code",
    "id": "LWS-hlTRNOYO"
   },
   "outputs": [],
   "source": [
    "# train = train.drop_duplicates(subset='ID')\n",
    "# train.to_csv('train.csv',index=False, header=True)"
   ]
  },
  {
   "cell_type": "code",
   "execution_count": null,
   "metadata": {
    "colab": {},
    "colab_type": "code",
    "id": "V-yWj17JJUbk"
   },
   "outputs": [],
   "source": [
    "def clean_remove_b(data):  \n",
    "  data.rename(columns={'text':'tweet'},inplace=True)\n",
    "  data['tweet'] = data['tweet'].astype(str)\n",
    "\n",
    "  data['tweet'] = data['tweet'].apply(lambda x:x[2:] if x[0:2]==\"b'\" or 'b\"' else x)"
   ]
  },
  {
   "cell_type": "code",
   "execution_count": null,
   "metadata": {
    "colab": {},
    "colab_type": "code",
    "id": "BZkbPgeYMoES"
   },
   "outputs": [],
   "source": [
    "clean_remove_b(real_world_test)\n",
    "clean_remove_b(real_world_test_racist)\n",
    "clean_remove_b(pok)\n",
    "clean_remove_b(jigsaw)"
   ]
  },
  {
   "cell_type": "code",
   "execution_count": null,
   "metadata": {
    "colab": {},
    "colab_type": "code",
    "id": "Lj6dx1NSPnZX"
   },
   "outputs": [],
   "source": []
  },
  {
   "cell_type": "markdown",
   "metadata": {
    "colab_type": "text",
    "id": "OsHyjVfK_M7u"
   },
   "source": [
    "Every word followed by @ is some twitter ID of an user, which shouldn't be considered in our analysis, so lets do the stemming, where we remove @ alonwith the word followed by it"
   ]
  },
  {
   "cell_type": "code",
   "execution_count": null,
   "metadata": {
    "colab": {},
    "colab_type": "code",
    "id": "lOeA8PLt_M7z",
    "scrolled": true
   },
   "outputs": [],
   "source": [
    "def preprocess(data):\n",
    "  data['tweet'] = data['tweet'].apply(lambda x:' '.join(i for i in [a for a in x.split() if a.find('@')==-1]))\n",
    "  data['tweet'] = data['tweet'].apply(lambda x:' '.join(i for i in [a for a in x.split() if a.find('http')==-1]))\n",
    "  \n",
    "  ## we are removing hashtags now, but while doing transfer learning, to learn the embeddings we didnt remove these, \n",
    "  ## just to include such words in our vocabulary\n",
    "  \n",
    "  data['tweet'] = data['tweet'].apply(lambda x:' '.join(i for i in [a for a in x.split() if a.find('#')==-1]))\n",
    "  data['tweet'] = data['tweet'].apply(lambda x:''.join([i for i in x if not i.isdigit()]))\n",
    "  data['tweet'] = data['tweet'].apply(lambda x: \" \".join(x.lower() for x in x.split()))\n",
    "  data['tweet'] = data['tweet'].str.replace('[^\\w\\s]','')\n",
    "\n",
    "  import nltk\n",
    "  nltk.download('stopwords')\n",
    "\n",
    "  from nltk.corpus import stopwords\n",
    "  stop = stopwords.words('english')\n",
    "  data['tweet'] = data['tweet'].apply(lambda x: \" \".join(x for x in x.split() if x not in stop))\n",
    "\n",
    "  remove_word = ['rt','mkr','im']\n",
    "  data['tweet'] = data['tweet'].apply(lambda x: \" \".join(x for x in x.split() if x not in remove_word))"
   ]
  },
  {
   "cell_type": "code",
   "execution_count": null,
   "metadata": {
    "colab": {
     "base_uri": "https://localhost:8080/",
     "height": 188
    },
    "colab_type": "code",
    "executionInfo": {
     "elapsed": 32504,
     "status": "ok",
     "timestamp": 1573308841162,
     "user": {
      "displayName": "Pawar Pranav Dayanand mm17b003",
      "photoUrl": "",
      "userId": "03168935693589294616"
     },
     "user_tz": -330
    },
    "id": "8iNTWypqJ1TD",
    "outputId": "61a67be1-a88a-407f-fd33-ec6d14ad0d76"
   },
   "outputs": [],
   "source": [
    "preprocess(train)\n",
    "preprocess(real_world_test)\n",
    "preprocess(real_world_test_racist)\n",
    "preprocess(pok)\n",
    "preprocess(jigsaw)"
   ]
  },
  {
   "cell_type": "markdown",
   "metadata": {
    "colab_type": "text",
    "id": "fAUvqGB6_M9A"
   },
   "source": [
    "Doesnt really make sense to remove rare words, i.e. the words with count 1. Because we might lose hateful words this way"
   ]
  },
  {
   "cell_type": "code",
   "execution_count": null,
   "metadata": {
    "colab": {},
    "colab_type": "code",
    "id": "w1QGCz-0_M9F"
   },
   "outputs": [],
   "source": [
    "def preprocess_2(data):\n",
    "  from textblob import TextBlob\n",
    "  nltk.download('punkt')\n",
    "\n",
    "  from textblob import Word\n",
    "  nltk.download('wordnet')\n",
    "  data['tweet'] = data['tweet'].apply(lambda x: \" \".join([Word(word).lemmatize() for word in x.split()]))\n",
    "  data['tweet'].head()"
   ]
  },
  {
   "cell_type": "code",
   "execution_count": null,
   "metadata": {
    "colab": {
     "base_uri": "https://localhost:8080/",
     "height": 86
    },
    "colab_type": "code",
    "executionInfo": {
     "elapsed": 28018,
     "status": "ok",
     "timestamp": 1573308873370,
     "user": {
      "displayName": "Pawar Pranav Dayanand mm17b003",
      "photoUrl": "",
      "userId": "03168935693589294616"
     },
     "user_tz": -330
    },
    "id": "vssdl-dyKErr",
    "outputId": "5dabcec2-c2e3-4f59-abd2-3984ae636bf7"
   },
   "outputs": [],
   "source": [
    "preprocess_2(train)\n",
    "preprocess_2(real_world_test)\n",
    "preprocess_2(real_world_test_racist)\n",
    "preprocess_2(pok)\n",
    "preprocess_2(jigsaw)"
   ]
  },
  {
   "cell_type": "code",
   "execution_count": null,
   "metadata": {
    "colab": {},
    "colab_type": "code",
    "id": "-4ddIBbyOCvh"
   },
   "outputs": [],
   "source": [
    "# real_world_test = real_world_test[real_world_test['tweet'].apply(lambda x:len(x)>1)]"
   ]
  },
  {
   "cell_type": "markdown",
   "metadata": {
    "colab_type": "text",
    "id": "n4Rng-D6_M9a"
   },
   "source": [
    "### Target creation"
   ]
  },
  {
   "cell_type": "code",
   "execution_count": null,
   "metadata": {
    "colab": {
     "base_uri": "https://localhost:8080/",
     "height": 51
    },
    "colab_type": "code",
    "executionInfo": {
     "elapsed": 1258,
     "status": "ok",
     "timestamp": 1573308874641,
     "user": {
      "displayName": "Pawar Pranav Dayanand mm17b003",
      "photoUrl": "",
      "userId": "03168935693589294616"
     },
     "user_tz": -330
    },
    "id": "v1h4taDp_M9f",
    "outputId": "07871889-c326-4165-b73e-8bcacfc86907",
    "scrolled": true
   },
   "outputs": [],
   "source": [
    "train['class'].unique()#.isna().sum()"
   ]
  },
  {
   "cell_type": "code",
   "execution_count": null,
   "metadata": {
    "colab": {
     "base_uri": "https://localhost:8080/",
     "height": 68
    },
    "colab_type": "code",
    "executionInfo": {
     "elapsed": 1249,
     "status": "ok",
     "timestamp": 1573308874644,
     "user": {
      "displayName": "Pawar Pranav Dayanand mm17b003",
      "photoUrl": "",
      "userId": "03168935693589294616"
     },
     "user_tz": -330
    },
    "id": "FJuHE_9K_M9p",
    "outputId": "a4f7d995-513c-4b08-ab38-9567cde79948"
   },
   "outputs": [],
   "source": [
    "train['class'].replace(['racism', 'sexism',0, 1, 'both', 'none', 'neither',2],['hate','hate','hate','hate','hate','null','null','null'],inplace=True)\n",
    "train['class'].value_counts()"
   ]
  },
  {
   "cell_type": "code",
   "execution_count": null,
   "metadata": {
    "colab": {},
    "colab_type": "code",
    "id": "aE1ArY61XLzf"
   },
   "outputs": [],
   "source": [
    "train['class'].replace(['null','hate'],[0,1],inplace=True)"
   ]
  },
  {
   "cell_type": "markdown",
   "metadata": {
    "colab_type": "text",
    "id": "LJZfrwwBayjo"
   },
   "source": [
    "dropping the duplicates"
   ]
  },
  {
   "cell_type": "code",
   "execution_count": null,
   "metadata": {
    "colab": {},
    "colab_type": "code",
    "id": "FvB8Hfzdaxk4"
   },
   "outputs": [],
   "source": [
    "# hate_text = train[train['class']==1]['tweet']\n",
    "# null_text = train[train['class']==0]['tweet']"
   ]
  },
  {
   "cell_type": "code",
   "execution_count": null,
   "metadata": {
    "colab": {},
    "colab_type": "code",
    "id": "RgdEHU1vbKPU"
   },
   "outputs": [],
   "source": [
    "# hate_text.to_csv(r'hate_speech.txt', header=None, index=None, sep=' ')"
   ]
  },
  {
   "cell_type": "code",
   "execution_count": null,
   "metadata": {
    "colab": {},
    "colab_type": "code",
    "id": "7ufDPugVbKLH"
   },
   "outputs": [],
   "source": [
    "# null_text.to_csv(r'null_speech.txt', header=None, index=None, sep=' ')"
   ]
  },
  {
   "cell_type": "code",
   "execution_count": null,
   "metadata": {
    "colab": {
     "base_uri": "https://localhost:8080/",
     "height": 34
    },
    "colab_type": "code",
    "executionInfo": {
     "elapsed": 1452,
     "status": "ok",
     "timestamp": 1573308882401,
     "user": {
      "displayName": "Pawar Pranav Dayanand mm17b003",
      "photoUrl": "",
      "userId": "03168935693589294616"
     },
     "user_tz": -330
    },
    "id": "MJDw5gDDv_aq",
    "outputId": "19c09902-6577-4991-fd1c-e6580f57bc84"
   },
   "outputs": [],
   "source": [
    "sum(train['ID'].value_counts()>1)"
   ]
  },
  {
   "cell_type": "code",
   "execution_count": null,
   "metadata": {
    "colab": {
     "base_uri": "https://localhost:8080/",
     "height": 34
    },
    "colab_type": "code",
    "executionInfo": {
     "elapsed": 1251,
     "status": "ok",
     "timestamp": 1573308885554,
     "user": {
      "displayName": "Pawar Pranav Dayanand mm17b003",
      "photoUrl": "",
      "userId": "03168935693589294616"
     },
     "user_tz": -330
    },
    "id": "VTiYUKgowFQ7",
    "outputId": "a36997b0-5b17-40bb-c91b-fab6f14cf1d2"
   },
   "outputs": [],
   "source": [
    "train.shape"
   ]
  },
  {
   "cell_type": "code",
   "execution_count": null,
   "metadata": {
    "colab": {},
    "colab_type": "code",
    "id": "sKum_pWvwJGv"
   },
   "outputs": [],
   "source": [
    "train = train.drop_duplicates(subset='ID')\n",
    "\n",
    "real_world_test = real_world_test.drop_duplicates(subset='id')"
   ]
  },
  {
   "cell_type": "markdown",
   "metadata": {
    "colab_type": "text",
    "id": "5GXIRkpoYhDQ"
   },
   "source": [
    "### Basic Model on whole dataset"
   ]
  },
  {
   "cell_type": "code",
   "execution_count": null,
   "metadata": {
    "colab": {},
    "colab_type": "code",
    "id": "gmAlQ-wlWHWB"
   },
   "outputs": [],
   "source": [
    "from sklearn.model_selection import train_test_split\n",
    "x_train,x_valid,y_t,y_v = train_test_split(train['tweet'],train['class'],test_size=0.2,random_state=234)"
   ]
  },
  {
   "cell_type": "code",
   "execution_count": null,
   "metadata": {
    "colab": {},
    "colab_type": "code",
    "id": "91U5c_i-W8-e"
   },
   "outputs": [],
   "source": [
    "from sklearn.feature_extraction.text import TfidfVectorizer\n",
    "tfidf = TfidfVectorizer(max_features=100, lowercase=True, analyzer='word',\n",
    " stop_words= 'english',ngram_range=(1,1))\n",
    "\n",
    "tfidf.fit(train['tweet'])\n",
    "\n",
    "x_t = tfidf.transform(x_train)\n",
    "x_v = tfidf.transform(x_valid)\n"
   ]
  },
  {
   "cell_type": "code",
   "execution_count": null,
   "metadata": {
    "colab": {},
    "colab_type": "code",
    "id": "Uc5H47YRXc75"
   },
   "outputs": [],
   "source": [
    "def model_training(clf, x_t, y_t, x_v=None , y_v=None ,task='binary:logistic'):\n",
    "    clf.fit(x_t,y_t)\n",
    "    print('training accuracy', clf.score(x_t,y_t))\n",
    "    \n",
    "    if task=='binary:logistic':\n",
    "      print('validation accuracy', clf.score(x_v,y_v))\n",
    "      print('validation f1_score',f1_score(clf.predict(x_v),y_v))\n",
    "      print('validation roc_auc score',roc_auc_score(y_v,clf.predict_proba(x_v)[::,-1]))\n",
    "      print('confusion matrix \\n',confusion_matrix(y_v, clf.predict(x_v)))\n",
    "    \n",
    "    if task=='reg:linear':\n",
    "        if x_v!=None:\n",
    "            print('validation r2_score', clf.score(x_v,y_v))\n",
    "            print('validation MSE',mean_squared_error(clf.predict(x_v),y_v))\n",
    "\n",
    "            \n",
    "    return clf"
   ]
  },
  {
   "cell_type": "code",
   "execution_count": null,
   "metadata": {
    "colab": {
     "base_uri": "https://localhost:8080/",
     "height": 34
    },
    "colab_type": "code",
    "executionInfo": {
     "elapsed": 1167,
     "status": "ok",
     "timestamp": 1573308901810,
     "user": {
      "displayName": "Pawar Pranav Dayanand mm17b003",
      "photoUrl": "",
      "userId": "03168935693589294616"
     },
     "user_tz": -330
    },
    "id": "yAE1F4ptz9u6",
    "outputId": "97b0617b-9522-4f4f-81f9-7c8e0eb79dc2"
   },
   "outputs": [],
   "source": [
    "x_train.iloc[0]"
   ]
  },
  {
   "cell_type": "code",
   "execution_count": null,
   "metadata": {
    "colab": {
     "base_uri": "https://localhost:8080/",
     "height": 34
    },
    "colab_type": "code",
    "executionInfo": {
     "elapsed": 2111,
     "status": "ok",
     "timestamp": 1573308902955,
     "user": {
      "displayName": "Pawar Pranav Dayanand mm17b003",
      "photoUrl": "",
      "userId": "03168935693589294616"
     },
     "user_tz": -330
    },
    "id": "v3-AhJnmkAkk",
    "outputId": "c5331da8-665b-4806-8e6b-a37c048b89ee"
   },
   "outputs": [],
   "source": [
    "# y_t.value_counts()\n",
    "\n",
    "19794/11810"
   ]
  },
  {
   "cell_type": "code",
   "execution_count": null,
   "metadata": {
    "colab": {
     "base_uri": "https://localhost:8080/",
     "height": 257
    },
    "colab_type": "code",
    "executionInfo": {
     "elapsed": 9037,
     "status": "ok",
     "timestamp": 1573308910078,
     "user": {
      "displayName": "Pawar Pranav Dayanand mm17b003",
      "photoUrl": "",
      "userId": "03168935693589294616"
     },
     "user_tz": -330
    },
    "id": "VBOaguLBW-p5",
    "outputId": "0a345b5c-d16a-48dd-b1c3-3bbc595d96d6"
   },
   "outputs": [],
   "source": [
    "from sklearn.linear_model import LogisticRegression\n",
    "from sklearn.ensemble import RandomForestClassifier\n",
    "from sklearn.ensemble import GradientBoostingClassifier\n",
    "from sklearn.metrics import f1_score, classification_report, roc_auc_score, confusion_matrix, accuracy_score\n",
    "from xgboost import XGBClassifier\n",
    "\n",
    "# lgr =  LogisticRegression(n_jobs=1, C=1e5)\n",
    "xgb = XGBClassifier(n_estimators=500, max_depth=5,learning_rate=0.1,scale_pos_weight=1.4266790777602751)\n",
    "# xgb = XGBClassifier(n_estimators=500, max_depth=5,learning_rate=0.1,scale_pos_weight=1.6760372565622355)\n",
    "model_training(xgb,x_t,y_t,x_v,y_v)\n"
   ]
  },
  {
   "cell_type": "code",
   "execution_count": null,
   "metadata": {
    "colab": {},
    "colab_type": "code",
    "id": "Z7Xk8Deuv2u_"
   },
   "outputs": [],
   "source": [
    "# training accuracy 0.8697316795342361\n",
    "# validation accuracy 0.8521893191597064\n",
    "# validation f1_score 0.8771819137749738\n",
    "# validation roc_auc score 0.915704695718503\n",
    "# confusion matrix \n",
    "#  [[2563  334]\n",
    "#  [ 834 4171]]"
   ]
  },
  {
   "cell_type": "code",
   "execution_count": null,
   "metadata": {
    "colab": {},
    "colab_type": "code",
    "id": "fFr8F0hVeIbN"
   },
   "outputs": [],
   "source": [
    "# training accuracy 0.8751740286039742\n",
    "# validation accuracy 0.8567451278157429\n",
    "# validation f1_score 0.8815403934700711\n",
    "# validation roc_auc score 0.9185450724629186\n",
    "# [[2558  339]\n",
    "#  [ 793 4212]]"
   ]
  },
  {
   "cell_type": "code",
   "execution_count": null,
   "metadata": {
    "colab": {},
    "colab_type": "code",
    "id": "pymORbZVjNx3"
   },
   "outputs": [],
   "source": [
    "# import joblib\n",
    "# #save model\n",
    "# joblib.dump(xgb, 'xgb_model_tfidf.pkl') "
   ]
  },
  {
   "cell_type": "markdown",
   "metadata": {
    "colab_type": "text",
    "id": "oGVi5Hkc_pnv"
   },
   "source": [
    "### Training on new word2vec model"
   ]
  },
  {
   "cell_type": "code",
   "execution_count": null,
   "metadata": {
    "colab": {
     "base_uri": "https://localhost:8080/",
     "height": 431
    },
    "colab_type": "code",
    "executionInfo": {
     "elapsed": 1798,
     "status": "error",
     "timestamp": 1573337573522,
     "user": {
      "displayName": "Pawar Pranav Dayanand mm17b003",
      "photoUrl": "",
      "userId": "03168935693589294616"
     },
     "user_tz": -330
    },
    "id": "-joK9G7y_tqR",
    "outputId": "46a40fa4-e38c-499a-df42-185186886daf",
    "scrolled": true
   },
   "outputs": [],
   "source": [
    "import gensim\n",
    "import logging\n",
    "from gensim.models import Word2Vec\n",
    "\n",
    "wv = gensim.models.KeyedVectors.load_word2vec_format(\"/content/drive/My Drive/Hate_Speech_Detection_git/model_transfer_learning.txt\", binary=False)\n",
    "# wv = gensim.models.KeyedVectors.load_word2vec_format(\"/content/drive/My Drive/Hate_Speech_Detection_git/model_transfer_learning_including_stopwords.txt\", binary=False)\n",
    "wv.init_sims(replace=True)\n"
   ]
  },
  {
   "cell_type": "code",
   "execution_count": null,
   "metadata": {
    "colab": {},
    "colab_type": "code",
    "id": "9l1uIbEc_yWl"
   },
   "outputs": [],
   "source": [
    "def word_averaging(wv, words):\n",
    "    all_words, mean = set(), []\n",
    "    \n",
    "    for word in words:\n",
    "        if isinstance(word, np.ndarray):\n",
    "            mean.append(word)\n",
    "        elif word in wv.vocab:\n",
    "            mean.append(wv.syn0norm[wv.vocab[word].index])\n",
    "            all_words.add(wv.vocab[word].index)\n",
    "\n",
    "    if not mean:\n",
    "        logging.warning(\"cannot compute similarity with no input %s\", words)\n",
    "        # FIXME: remove these examples in pre-processing\n",
    "        return np.zeros(wv.vector_size,)\n",
    "\n",
    "    mean = gensim.matutils.unitvec(np.array(mean).mean(axis=0)).astype(np.float32)\n",
    "    return mean\n",
    "\n",
    "  \n",
    "def  word_averaging_list(wv, text_list):\n",
    "    return np.vstack([word_averaging(wv, post) for post in text_list ])"
   ]
  },
  {
   "cell_type": "code",
   "execution_count": null,
   "metadata": {
    "colab": {
     "base_uri": "https://localhost:8080/",
     "height": 1000
    },
    "colab_type": "code",
    "executionInfo": {
     "elapsed": 17014,
     "status": "ok",
     "timestamp": 1573308940234,
     "user": {
      "displayName": "Pawar Pranav Dayanand mm17b003",
      "photoUrl": "",
      "userId": "03168935693589294616"
     },
     "user_tz": -330
    },
    "id": "i7ohGolk_24-",
    "outputId": "3a833caf-ad3a-4639-af14-e7cc8afac17b"
   },
   "outputs": [],
   "source": [
    "from sklearn.model_selection import train_test_split\n",
    "\n",
    "def w2v_tokenize_text(text):\n",
    "    tokens = []\n",
    "    for sent in nltk.sent_tokenize(text, language='english'):\n",
    "        for word in nltk.word_tokenize(sent, language='english'):\n",
    "            if len(word) < 2:\n",
    "                continue\n",
    "            tokens.append(word)\n",
    "    return tokens\n",
    "    \n",
    "train_w2v, test_w2v = train_test_split(train, test_size=0.2, random_state = 42)\n",
    "# x_t,x_v,y_t,y_v = train_test_split(train['tweet'],train['class'],test_size=0.2,random_state=234)\n",
    "\n",
    "test_tokenized = test_w2v.apply(lambda r: w2v_tokenize_text(r['tweet']), axis=1).values\n",
    "train_tokenized = train_w2v.apply(lambda r: w2v_tokenize_text(r['tweet']), axis=1).values\n",
    "\n",
    "X_train_word_average = word_averaging_list(wv,train_tokenized)\n",
    "X_test_word_average = word_averaging_list(wv,test_tokenized)"
   ]
  },
  {
   "cell_type": "code",
   "execution_count": null,
   "metadata": {
    "colab": {
     "base_uri": "https://localhost:8080/",
     "height": 1000
    },
    "colab_type": "code",
    "executionInfo": {
     "elapsed": 77192,
     "status": "ok",
     "timestamp": 1573310238622,
     "user": {
      "displayName": "Pawar Pranav Dayanand mm17b003",
      "photoUrl": "",
      "userId": "03168935693589294616"
     },
     "user_tz": -330
    },
    "id": "DMXpkH0oa4nd",
    "outputId": "4334c397-4251-4521-f7f0-0e685252c5a0"
   },
   "outputs": [],
   "source": [
    "### out of time #1\n",
    "\n",
    "real_world_test_sample = real_world_test.iloc[400:500]\n",
    "real_world_tokenized = real_world_test_sample.apply(lambda r: w2v_tokenize_text(r['tweet']), axis=1).values\n",
    "\n",
    "out_of_time_test = word_averaging_list(wv,real_world_tokenized)\n",
    "\n",
    "### out of time #2\n",
    "\n",
    "real_world_test_sample_racist = real_world_test_racist.iloc[200:400]\n",
    "real_world_tokenized_racist = real_world_test_sample_racist.apply(lambda r: w2v_tokenize_text(r['tweet']), axis=1).values\n",
    "\n",
    "out_of_time_test_racist = word_averaging_list(wv,real_world_tokenized_racist)\n",
    "\n",
    "\n",
    "### out of time #3\n",
    "\n",
    "pok_sample = pok.iloc[200:400]\n",
    "pok_tokenized = pok_sample.apply(lambda r: w2v_tokenize_text(r['tweet']), axis=1).values\n",
    "\n",
    "pok_out_of_time = word_averaging_list(wv,pok_tokenized)\n",
    "\n",
    "### out of time #4\n",
    "\n",
    "jigsaw_testing = jigsaw.copy()\n",
    "jigsaw_testing = jigsaw_testing.apply(lambda r: w2v_tokenize_text(r['tweet']), axis=1).values\n",
    "\n",
    "jigsaw_testing = word_averaging_list(wv,jigsaw_testing)\n"
   ]
  },
  {
   "cell_type": "markdown",
   "metadata": {
    "colab_type": "text",
    "id": "mubQdIfKj_TR"
   },
   "source": [
    "### Model Training"
   ]
  },
  {
   "cell_type": "code",
   "execution_count": null,
   "metadata": {
    "colab": {},
    "colab_type": "code",
    "id": "4Z3j686dADhf"
   },
   "outputs": [],
   "source": [
    "from sklearn.linear_model import LogisticRegression\n",
    "from xgboost import XGBClassifier\n",
    "from sklearn.ensemble import GradientBoostingClassifier\n",
    "from sklearn.metrics import f1_score, classification_report, roc_auc_score, confusion_matrix, accuracy_score"
   ]
  },
  {
   "cell_type": "code",
   "execution_count": null,
   "metadata": {
    "colab": {},
    "colab_type": "code",
    "id": "V4FDiF73K7Sc"
   },
   "outputs": [],
   "source": [
    "def model_training(clf, x_t, y_t, x_v=None , y_v=None ,task='binary:logistic'):\n",
    "    clf.fit(x_t,y_t)\n",
    "    print('training accuracy', clf.score(x_t,y_t))\n",
    "    \n",
    "    if task=='binary:logistic':\n",
    "      print('validation accuracy', clf.score(x_v,y_v))\n",
    "      print('validation f1_score',f1_score(clf.predict(x_v),y_v))\n",
    "      print('validation roc_auc score',roc_auc_score(y_v,clf.predict_proba(x_v)[::,-1]))\n",
    "      print('confusion matrix \\n',confusion_matrix(y_v, clf.predict(x_v)))\n",
    "    \n",
    "    if task=='reg:linear':\n",
    "      print('validation r2_score', clf.score(x_v,y_v))\n",
    "      print('validation MSE',mean_squared_error(clf.predict(x_v),y_v))\n",
    "\n",
    "            \n",
    "    return clf"
   ]
  },
  {
   "cell_type": "code",
   "execution_count": null,
   "metadata": {
    "colab": {
     "base_uri": "https://localhost:8080/",
     "height": 171
    },
    "colab_type": "code",
    "executionInfo": {
     "elapsed": 454416,
     "status": "ok",
     "timestamp": 1573309513155,
     "user": {
      "displayName": "Pawar Pranav Dayanand mm17b003",
      "photoUrl": "",
      "userId": "03168935693589294616"
     },
     "user_tz": -330
    },
    "id": "II5GAU_0mS2L",
    "outputId": "da77d732-a577-45b9-8f5d-48905ffc5c2c"
   },
   "outputs": [],
   "source": [
    "%%time\n",
    "xgb_w2v = XGBClassifier(n_estimators=500, max_depth=5, learning_rate=0.1, scale_pos_weight=1.4266790777602751)\n",
    "model_training(xgb_w2v,X_train_word_average,train_w2v['class'],X_test_word_average,test_w2v['class'])"
   ]
  },
  {
   "cell_type": "code",
   "execution_count": null,
   "metadata": {
    "colab": {
     "base_uri": "https://localhost:8080/",
     "height": 51
    },
    "colab_type": "code",
    "executionInfo": {
     "elapsed": 1563,
     "status": "ok",
     "timestamp": 1573309675661,
     "user": {
      "displayName": "Pawar Pranav Dayanand mm17b003",
      "photoUrl": "",
      "userId": "03168935693589294616"
     },
     "user_tz": -330
    },
    "id": "qf6sQNqhp5Ne",
    "outputId": "1246be71-bdce-4683-be3c-11e5b457b746"
   },
   "outputs": [],
   "source": [
    "print('validation accuracy', xgb_w2v.score(X_test_word_average,test_w2v['class']))\n",
    "print('validation f1_score',f1_score(xgb_w2v.predict(X_test_word_average),test_w2v['class']))"
   ]
  },
  {
   "cell_type": "code",
   "execution_count": null,
   "metadata": {
    "colab": {},
    "colab_type": "code",
    "id": "kFZJsh8sWCMA"
   },
   "outputs": [],
   "source": [
    "# import joblib\n",
    "# #save model\n",
    "# joblib.dump(xgb_w2v, 'xgb_final_model.pkl') \n",
    "\n",
    "# # #load saved model\n",
    "# # xgb = joblib.load(filename)"
   ]
  },
  {
   "cell_type": "code",
   "execution_count": null,
   "metadata": {
    "colab": {
     "base_uri": "https://localhost:8080/",
     "height": 51
    },
    "colab_type": "code",
    "executionInfo": {
     "elapsed": 1427,
     "status": "ok",
     "timestamp": 1573309719180,
     "user": {
      "displayName": "Pawar Pranav Dayanand mm17b003",
      "photoUrl": "",
      "userId": "03168935693589294616"
     },
     "user_tz": -330
    },
    "id": "f44kd9Fwq2wp",
    "outputId": "2a3ec62d-9be4-4627-a733-1559ced6b7d9"
   },
   "outputs": [],
   "source": [
    "confusion_matrix(test_w2v['class'],xgb_w2v.predict(X_test_word_average))"
   ]
  },
  {
   "cell_type": "code",
   "execution_count": null,
   "metadata": {
    "colab": {
     "base_uri": "https://localhost:8080/",
     "height": 51
    },
    "colab_type": "code",
    "executionInfo": {
     "elapsed": 1150,
     "status": "ok",
     "timestamp": 1573309722320,
     "user": {
      "displayName": "Pawar Pranav Dayanand mm17b003",
      "photoUrl": "",
      "userId": "03168935693589294616"
     },
     "user_tz": -330
    },
    "id": "2vEq8rRoTGpe",
    "outputId": "de3ab2b6-ff54-4133-85de-e8991ccc32a8"
   },
   "outputs": [],
   "source": [
    "tuned_pred = (xgb_w2v.predict_proba(X_test_word_average)[::,-1]>0.3).astype(int)\n",
    "confusion_matrix(test_w2v['class'],tuned_pred)"
   ]
  },
  {
   "cell_type": "code",
   "execution_count": null,
   "metadata": {
    "colab": {
     "base_uri": "https://localhost:8080/",
     "height": 34
    },
    "colab_type": "code",
    "executionInfo": {
     "elapsed": 1200,
     "status": "ok",
     "timestamp": 1573309725522,
     "user": {
      "displayName": "Pawar Pranav Dayanand mm17b003",
      "photoUrl": "",
      "userId": "03168935693589294616"
     },
     "user_tz": -330
    },
    "id": "0f9dOMaSu6jb",
    "outputId": "6a08de7e-f6ec-4ad3-cfb3-c676d9ed5465"
   },
   "outputs": [],
   "source": [
    "f1_score(test_w2v['class'],tuned_pred)"
   ]
  },
  {
   "cell_type": "code",
   "execution_count": null,
   "metadata": {
    "colab": {
     "base_uri": "https://localhost:8080/",
     "height": 68
    },
    "colab_type": "code",
    "executionInfo": {
     "elapsed": 542,
     "status": "ok",
     "timestamp": 1572009585263,
     "user": {
      "displayName": "Pawar Pranav Dayanand mm17b003",
      "photoUrl": "",
      "userId": "03168935693589294616"
     },
     "user_tz": -330
    },
    "id": "Nt5dADpYz8i7",
    "outputId": "f48e0f4f-d72f-4217-d2a8-aa321be80cfc"
   },
   "outputs": [],
   "source": [
    "test_w2v['class'].value_counts()"
   ]
  },
  {
   "cell_type": "code",
   "execution_count": null,
   "metadata": {
    "colab": {},
    "colab_type": "code",
    "id": "MvvK98lYTel4"
   },
   "outputs": [],
   "source": [
    "pd.set_option('display.max_colwidth', -1)"
   ]
  },
  {
   "cell_type": "code",
   "execution_count": null,
   "metadata": {
    "colab": {
     "base_uri": "https://localhost:8080/",
     "height": 137
    },
    "colab_type": "code",
    "executionInfo": {
     "elapsed": 1610,
     "status": "ok",
     "timestamp": 1572021869969,
     "user": {
      "displayName": "Pawar Pranav Dayanand mm17b003",
      "photoUrl": "",
      "userId": "03168935693589294616"
     },
     "user_tz": -330
    },
    "id": "VfbWHrpDajdS",
    "outputId": "51c8d8cd-143d-4a4a-e212-d66fb5594137"
   },
   "outputs": [],
   "source": [
    "tfidf"
   ]
  },
  {
   "cell_type": "markdown",
   "metadata": {
    "colab_type": "text",
    "id": "DGseglRclnmY"
   },
   "source": [
    "#### Out of time #1 -  Trump Tweets"
   ]
  },
  {
   "cell_type": "code",
   "execution_count": null,
   "metadata": {
    "colab": {
     "base_uri": "https://localhost:8080/",
     "height": 326
    },
    "colab_type": "code",
    "executionInfo": {
     "elapsed": 557,
     "status": "ok",
     "timestamp": 1572009588185,
     "user": {
      "displayName": "Pawar Pranav Dayanand mm17b003",
      "photoUrl": "",
      "userId": "03168935693589294616"
     },
     "user_tz": -330
    },
    "id": "tC6m8EkzRzTO",
    "outputId": "9f630087-ccb4-4a8d-e4d2-21bb11a9e8ef"
   },
   "outputs": [],
   "source": [
    "real_world_test_original = pd.read_csv('/content/drive/My Drive/Hate_Speech_Detection_git/real_world_test/realDonaldTrump_tweets_extended.csv')\n",
    "\n",
    "check_df = real_world_test_original.iloc[400:500]\n",
    "check_df['processed_tweet'] = real_world_test.iloc[400:500]['tweet']\n",
    "check_df['preds'] = xgb_w2v.predict(out_of_time_test)\n",
    "check_df['hate_probab'] = xgb_w2v.predict_proba(out_of_time_test)[::,-1]\n",
    "\n",
    "# false_index = check_df[check_df['class']==xgb_w2v.predict(X_test_word_average)]['ID'].unique()"
   ]
  },
  {
   "cell_type": "code",
   "execution_count": null,
   "metadata": {
    "colab": {
     "base_uri": "https://localhost:8080/",
     "height": 853
    },
    "colab_type": "code",
    "executionInfo": {
     "elapsed": 856,
     "status": "ok",
     "timestamp": 1572009593942,
     "user": {
      "displayName": "Pawar Pranav Dayanand mm17b003",
      "photoUrl": "",
      "userId": "03168935693589294616"
     },
     "user_tz": -330
    },
    "id": "qxWcwMjCWtvi",
    "outputId": "9ba237ef-5d4d-449b-d8e3-78a73e5edc3e",
    "scrolled": true
   },
   "outputs": [],
   "source": [
    "check_df[check_df['hate_probab']>0.5]"
   ]
  },
  {
   "cell_type": "code",
   "execution_count": null,
   "metadata": {
    "colab": {},
    "colab_type": "code",
    "id": "PrPtw_ruWuwq"
   },
   "outputs": [],
   "source": []
  },
  {
   "cell_type": "markdown",
   "metadata": {
    "colab_type": "text",
    "id": "xKHbBniDliM7"
   },
   "source": [
    "#### Out of Time #2 -  Racist Tweets\n",
    "P.S. Not all of them are racist actually, we need to check it manually"
   ]
  },
  {
   "cell_type": "code",
   "execution_count": null,
   "metadata": {
    "colab": {
     "base_uri": "https://localhost:8080/",
     "height": 326
    },
    "colab_type": "code",
    "executionInfo": {
     "elapsed": 1025,
     "status": "ok",
     "timestamp": 1572009610009,
     "user": {
      "displayName": "Pawar Pranav Dayanand mm17b003",
      "photoUrl": "",
      "userId": "03168935693589294616"
     },
     "user_tz": -330
    },
    "id": "f9QzswNUllX_",
    "outputId": "cc4a4035-d8ee-4dc0-d7e9-d66e58886aff"
   },
   "outputs": [],
   "source": [
    "real_world_test_original_racist = pd.read_csv('/content/drive/My Drive/Hate_Speech_Detection_git/real_world_test/racist_scarped_extended.csv', names=['timestamp','text'])\n",
    "\n",
    "check_df_2 = real_world_test_original_racist.iloc[200:400]\n",
    "check_df_2['processed_tweet'] = real_world_test_racist.iloc[200:400]['tweet']\n",
    "check_df_2['preds'] = xgb_w2v.predict(out_of_time_test_racist)\n",
    "check_df_2['hate_probab'] = xgb_w2v.predict_proba(out_of_time_test_racist)[::,-1]\n",
    "\n",
    "# false_index = check_df[check_df['class']==xgb_w2v.predict(X_test_word_average)]['ID'].unique()"
   ]
  },
  {
   "cell_type": "code",
   "execution_count": null,
   "metadata": {
    "colab": {
     "base_uri": "https://localhost:8080/",
     "height": 784
    },
    "colab_type": "code",
    "executionInfo": {
     "elapsed": 620,
     "status": "ok",
     "timestamp": 1572009610012,
     "user": {
      "displayName": "Pawar Pranav Dayanand mm17b003",
      "photoUrl": "",
      "userId": "03168935693589294616"
     },
     "user_tz": -330
    },
    "id": "J7ZFUYtymCns",
    "outputId": "99846a16-3e97-4b3e-d91a-74ac89c13d93",
    "scrolled": true
   },
   "outputs": [],
   "source": [
    "check_df_2[check_df_2['hate_probab']>0.4]"
   ]
  },
  {
   "cell_type": "code",
   "execution_count": null,
   "metadata": {
    "colab": {},
    "colab_type": "code",
    "id": "852kxfsdrNgN"
   },
   "outputs": [],
   "source": []
  },
  {
   "cell_type": "markdown",
   "metadata": {
    "colab_type": "text",
    "id": "8yhJ2-4s5BD4"
   },
   "source": [
    "#### Out of time #3 - POK"
   ]
  },
  {
   "cell_type": "code",
   "execution_count": null,
   "metadata": {
    "colab": {
     "base_uri": "https://localhost:8080/",
     "height": 326
    },
    "colab_type": "code",
    "executionInfo": {
     "elapsed": 861,
     "status": "ok",
     "timestamp": 1572009613161,
     "user": {
      "displayName": "Pawar Pranav Dayanand mm17b003",
      "photoUrl": "",
      "userId": "03168935693589294616"
     },
     "user_tz": -330
    },
    "id": "DtYXPP8K5D2K",
    "outputId": "bcafb515-f2fc-4b2a-ec91-758f3d5328c8",
    "scrolled": true
   },
   "outputs": [],
   "source": [
    "pok_original = pd.read_csv('/content/drive/My Drive/Hate_Speech_Detection_git/real_world_test/pok.csv', names=['timestamp','text'])\n",
    "pok_original = pok_original.drop_duplicates(subset='text')\n",
    "\n",
    "check_df_3 = pok_original.iloc[200:400]\n",
    "check_df_3['processed_tweet'] = pok.iloc[200:400]['tweet']\n",
    "check_df_3['preds'] = xgb_w2v.predict(pok_out_of_time)\n",
    "check_df_3['hate_probab'] = xgb_w2v.predict_proba(pok_out_of_time)[::,-1]\n",
    "\n",
    "# false_index = check_df[check_df['class']==xgb_w2v.predict(X_test_word_average)]['ID'].unique()"
   ]
  },
  {
   "cell_type": "code",
   "execution_count": null,
   "metadata": {
    "colab": {
     "base_uri": "https://localhost:8080/",
     "height": 1000
    },
    "colab_type": "code",
    "executionInfo": {
     "elapsed": 730,
     "status": "ok",
     "timestamp": 1572009614203,
     "user": {
      "displayName": "Pawar Pranav Dayanand mm17b003",
      "photoUrl": "",
      "userId": "03168935693589294616"
     },
     "user_tz": -330
    },
    "id": "r4axTDZ25VC0",
    "outputId": "31122004-a43b-4155-9446-133b2e2f73a6",
    "scrolled": true
   },
   "outputs": [],
   "source": [
    "check_df_3[check_df_3['hate_probab']>0.4]"
   ]
  },
  {
   "cell_type": "code",
   "execution_count": null,
   "metadata": {
    "colab": {},
    "colab_type": "code",
    "id": "Qkeh55hb5wAD"
   },
   "outputs": [],
   "source": []
  },
  {
   "cell_type": "markdown",
   "metadata": {
    "colab_type": "text",
    "id": "LRLyyuvPho6j"
   },
   "source": [
    "### Jigsaw"
   ]
  },
  {
   "cell_type": "code",
   "execution_count": null,
   "metadata": {
    "colab": {},
    "colab_type": "code",
    "id": "6jaeQQndhqXC"
   },
   "outputs": [],
   "source": [
    "\n",
    "check_df_3 = jigsaw.copy()\n",
    "check_df_3['processed_tweet'] = jigsaw['tweet']\n",
    "check_df_3['preds'] = xgb_w2v.predict(jigsaw_testing)\n",
    "check_df_3['hate_probab'] = xgb_w2v.predict_proba(jigsaw_testing)[::,-1]\n",
    "\n",
    "# false_index = check_df[check_df['class']==xgb_w2v.predict(X_test_word_average)]['ID'].unique()"
   ]
  },
  {
   "cell_type": "code",
   "execution_count": null,
   "metadata": {
    "colab": {},
    "colab_type": "code",
    "id": "3_guksRTmV5p"
   },
   "outputs": [],
   "source": [
    "check_df_3['label'] = check_df_3.loc[:,'toxic':'identity_hate'].sum(axis=1)"
   ]
  },
  {
   "cell_type": "code",
   "execution_count": null,
   "metadata": {
    "colab": {},
    "colab_type": "code",
    "id": "9HGoutTCnEps"
   },
   "outputs": [],
   "source": [
    "index = check_df_3[check_df_3['label']>0].index\n",
    "check_df_3.loc[index,'label']=1"
   ]
  },
  {
   "cell_type": "code",
   "execution_count": null,
   "metadata": {
    "colab": {
     "base_uri": "https://localhost:8080/",
     "height": 34
    },
    "colab_type": "code",
    "executionInfo": {
     "elapsed": 1151,
     "status": "ok",
     "timestamp": 1573311641139,
     "user": {
      "displayName": "Pawar Pranav Dayanand mm17b003",
      "photoUrl": "",
      "userId": "03168935693589294616"
     },
     "user_tz": -330
    },
    "id": "VRybWbx9mlvN",
    "outputId": "4732a578-cfc5-4fcf-c23c-69b50e939c7d"
   },
   "outputs": [],
   "source": [
    "f1_score((check_df_3['hate_probab']>0.4).astype(int),check_df_3['label'])"
   ]
  },
  {
   "cell_type": "code",
   "execution_count": null,
   "metadata": {
    "colab": {
     "base_uri": "https://localhost:8080/",
     "height": 51
    },
    "colab_type": "code",
    "executionInfo": {
     "elapsed": 1188,
     "status": "ok",
     "timestamp": 1573311648597,
     "user": {
      "displayName": "Pawar Pranav Dayanand mm17b003",
      "photoUrl": "",
      "userId": "03168935693589294616"
     },
     "user_tz": -330
    },
    "id": "ZoMCCnwtmw03",
    "outputId": "a8b75e12-8504-4241-9b15-c08109dc6edf"
   },
   "outputs": [],
   "source": [
    "confusion_matrix((check_df_3['hate_probab']>0.4).astype(int),check_df_3['label'])"
   ]
  },
  {
   "cell_type": "code",
   "execution_count": null,
   "metadata": {
    "colab": {
     "base_uri": "https://localhost:8080/",
     "height": 34
    },
    "colab_type": "code",
    "executionInfo": {
     "elapsed": 1172,
     "status": "ok",
     "timestamp": 1573311075210,
     "user": {
      "displayName": "Pawar Pranav Dayanand mm17b003",
      "photoUrl": "",
      "userId": "03168935693589294616"
     },
     "user_tz": -330
    },
    "id": "N4ctJfB2pOvE",
    "outputId": "859fd384-c53f-4b91-d919-1aeb3c464dfc"
   },
   "outputs": [],
   "source": [
    "accuracy_score((check_df_3['hate_probab']>0.7).astype(int),check_df_3['label'])"
   ]
  },
  {
   "cell_type": "code",
   "execution_count": null,
   "metadata": {
    "colab": {
     "base_uri": "https://localhost:8080/",
     "height": 68
    },
    "colab_type": "code",
    "executionInfo": {
     "elapsed": 1633,
     "status": "ok",
     "timestamp": 1573311741517,
     "user": {
      "displayName": "Pawar Pranav Dayanand mm17b003",
      "photoUrl": "",
      "userId": "03168935693589294616"
     },
     "user_tz": -330
    },
    "id": "dGnGr53zpYZi",
    "outputId": "5d2e716a-ec81-49ab-9c0c-d1d674010ec7"
   },
   "outputs": [],
   "source": [
    "check_df_3['label'].value_counts()"
   ]
  },
  {
   "cell_type": "code",
   "execution_count": null,
   "metadata": {
    "colab": {
     "base_uri": "https://localhost:8080/",
     "height": 750
    },
    "colab_type": "code",
    "executionInfo": {
     "elapsed": 1187,
     "status": "ok",
     "timestamp": 1573311179755,
     "user": {
      "displayName": "Pawar Pranav Dayanand mm17b003",
      "photoUrl": "",
      "userId": "03168935693589294616"
     },
     "user_tz": -330
    },
    "id": "wYv4-kC1n724",
    "outputId": "aa7b8581-fa33-422c-a3b2-72b09ba41828",
    "scrolled": true
   },
   "outputs": [],
   "source": [
    "check_df_3[check_df_3['preds']!=check_df_3['label']]#['tweet']"
   ]
  },
  {
   "cell_type": "code",
   "execution_count": null,
   "metadata": {
    "colab": {},
    "colab_type": "code",
    "id": "-JirUt3Zobfa"
   },
   "outputs": [],
   "source": []
  }
 ],
 "metadata": {
  "accelerator": "GPU",
  "colab": {
   "collapsed_sections": [],
   "name": "real_world_testing.ipynb",
   "provenance": []
  },
  "kernelspec": {
   "display_name": "Python 3",
   "language": "python",
   "name": "python3"
  },
  "language_info": {
   "codemirror_mode": {
    "name": "ipython",
    "version": 3
   },
   "file_extension": ".py",
   "mimetype": "text/x-python",
   "name": "python",
   "nbconvert_exporter": "python",
   "pygments_lexer": "ipython3",
   "version": "3.7.3"
  },
  "toc": {
   "base_numbering": 1,
   "nav_menu": {},
   "number_sections": true,
   "sideBar": true,
   "skip_h1_title": false,
   "title_cell": "Table of Contents",
   "title_sidebar": "Contents",
   "toc_cell": false,
   "toc_position": {},
   "toc_section_display": true,
   "toc_window_display": false
  }
 },
 "nbformat": 4,
 "nbformat_minor": 1
}
