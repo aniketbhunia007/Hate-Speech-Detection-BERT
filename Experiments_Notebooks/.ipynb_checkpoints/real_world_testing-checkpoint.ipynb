{
 "cells": [
  {
   "cell_type": "markdown",
   "metadata": {
    "colab_type": "text",
    "id": "F52nsROaIfea"
   },
   "source": [
    "There is a change in preprocessing in this notebook, we removed all the numbers from tweets, which helped in training more robust word2vec embeddings"
   ]
  },
  {
   "cell_type": "markdown",
   "metadata": {
    "colab_type": "text",
    "id": "KAfnkMx1_M5B"
   },
   "source": [
    "Analysis on scraped dataset"
   ]
  },
  {
   "cell_type": "markdown",
   "metadata": {
    "colab_type": "text",
    "id": "3kUTiT2E_M5H"
   },
   "source": [
    "### Import"
   ]
  },
  {
   "cell_type": "code",
   "execution_count": 0,
   "metadata": {
    "colab": {},
    "colab_type": "code",
    "id": "cU9l4_D1_M5J"
   },
   "outputs": [],
   "source": [
    "import pandas as pd\n",
    "import numpy as np"
   ]
  },
  {
   "cell_type": "code",
   "execution_count": 0,
   "metadata": {
    "colab": {},
    "colab_type": "code",
    "id": "zCUG0trn_M5R"
   },
   "outputs": [],
   "source": [
    "import pickle\n",
    "import sys\n",
    "import nltk\n",
    "from nltk.stem.porter import *\n",
    "\n",
    "from sklearn.feature_extraction.text import TfidfVectorizer\n",
    "import matplotlib.pyplot as plt\n",
    "import seaborn\n",
    "%matplotlib inline"
   ]
  },
  {
   "cell_type": "code",
   "execution_count": 3,
   "metadata": {
    "colab": {
     "base_uri": "https://localhost:8080/",
     "height": 123
    },
    "colab_type": "code",
    "executionInfo": {
     "elapsed": 34699,
     "status": "ok",
     "timestamp": 1573308578960,
     "user": {
      "displayName": "Pawar Pranav Dayanand mm17b003",
      "photoUrl": "",
      "userId": "03168935693589294616"
     },
     "user_tz": -330
    },
    "id": "KoieloYD56U0",
    "outputId": "fbf52a4b-bf57-4e42-a965-b04044428734"
   },
   "outputs": [
    {
     "name": "stdout",
     "output_type": "stream",
     "text": [
      "Go to this URL in a browser: https://accounts.google.com/o/oauth2/auth?client_id=947318989803-6bn6qk8qdgf4n4g3pfee6491hc0brc4i.apps.googleusercontent.com&redirect_uri=urn%3Aietf%3Awg%3Aoauth%3A2.0%3Aoob&scope=email%20https%3A%2F%2Fwww.googleapis.com%2Fauth%2Fdocs.test%20https%3A%2F%2Fwww.googleapis.com%2Fauth%2Fdrive%20https%3A%2F%2Fwww.googleapis.com%2Fauth%2Fdrive.photos.readonly%20https%3A%2F%2Fwww.googleapis.com%2Fauth%2Fpeopleapi.readonly&response_type=code\n",
      "\n",
      "Enter your authorization code:\n",
      "··········\n",
      "Mounted at /content/drive\n"
     ]
    }
   ],
   "source": [
    "from google.colab import drive\n",
    "drive.mount('/content/drive')"
   ]
  },
  {
   "cell_type": "code",
   "execution_count": 23,
   "metadata": {
    "colab": {
     "base_uri": "https://localhost:8080/",
     "height": 71
    },
    "colab_type": "code",
    "executionInfo": {
     "elapsed": 3671,
     "status": "ok",
     "timestamp": 1573308738367,
     "user": {
      "displayName": "Pawar Pranav Dayanand mm17b003",
      "photoUrl": "",
      "userId": "03168935693589294616"
     },
     "user_tz": -330
    },
    "id": "Xtb_csJD_M5X",
    "outputId": "1e7196c4-2944-47e3-f10a-3eee63a193d8",
    "scrolled": true
   },
   "outputs": [
    {
     "name": "stderr",
     "output_type": "stream",
     "text": [
      "/usr/local/lib/python3.6/dist-packages/ipykernel_launcher.py:10: ParserWarning: Falling back to the 'python' engine because the 'c' engine does not support regex separators (separators > 1 char and different from '\\s+' are interpreted as regex); you can avoid this warning by specifying engine='python'.\n",
      "  # Remove the CWD from sys.path while we load stuff.\n"
     ]
    }
   ],
   "source": [
    "cf_data_1 = pd.read_csv('/content/drive/My Drive/Hate_Speech_Detection_git/data_1/hatespeech_NAACL_SRW.csv',encoding = \"ISO-8859-1\")\n",
    "cf_data_2 = pd.read_csv('/content/drive/My Drive/Hate_Speech_Detection_git/data_1/hatespeech_NLP+CSS.csv')\n",
    "\n",
    "cf_data_3 = pd.read_csv('/content/drive/My Drive/Hate_Speech_Detection_git/data_2/labeled_data.csv',encoding = \"ISO-8859-1\")\n",
    "## this is the scraped data\n",
    "\n",
    "cf_data_3.rename({'Unnamed: 0':'ID','tweet':'Tweets'},axis=1,inplace=True)\n",
    "\n",
    "labels_1 = pd.read_csv('/content/drive/My Drive/Hate_Speech_Detection_git/data_1/NAACL_SRW_2016.csv',header=None,names=['ID','class'])\n",
    "labels_2 = pd.read_csv('/content/drive/My Drive/Hate_Speech_Detection_git/data_1/NLP+CSS_2016.csv',sep='\\s')\n",
    "\n",
    "labels_2.rename({'TweetID':'ID','Expert':'class'},axis=1,inplace=True)\n",
    "\n",
    "cf_data_1.rename({'Unnamed: 0':'index_col'},axis=1,inplace=True)\n",
    "cf_data_2.rename({'Unnamed: 0':'index_col'},axis=1,inplace=True)"
   ]
  },
  {
   "cell_type": "code",
   "execution_count": 0,
   "metadata": {
    "colab": {},
    "colab_type": "code",
    "id": "igdS-cAYI6Rz"
   },
   "outputs": [],
   "source": [
    "real_world_test = pd.read_csv('/content/drive/My Drive/Hate_Speech_Detection_git/real_world_test/realDonaldTrump_tweets_extended.csv')"
   ]
  },
  {
   "cell_type": "code",
   "execution_count": 0,
   "metadata": {
    "colab": {},
    "colab_type": "code",
    "id": "p4cmCFOIJNUA"
   },
   "outputs": [],
   "source": [
    "real_world_test_racist = pd.read_csv('/content/drive/My Drive/Hate_Speech_Detection_git/real_world_test/racist_scarped_extended.csv', names=['timestamp','text'])"
   ]
  },
  {
   "cell_type": "code",
   "execution_count": 0,
   "metadata": {
    "colab": {},
    "colab_type": "code",
    "id": "YEZ2LOH0yKK-"
   },
   "outputs": [],
   "source": [
    "pok = pd.read_csv('/content/drive/My Drive/Hate_Speech_Detection_git/real_world_test/pok.csv', names=['timestamp','text'])"
   ]
  },
  {
   "cell_type": "code",
   "execution_count": 0,
   "metadata": {
    "colab": {},
    "colab_type": "code",
    "id": "8lVK-FyD04vx"
   },
   "outputs": [],
   "source": [
    "pok = pok.drop_duplicates(subset='text')"
   ]
  },
  {
   "cell_type": "code",
   "execution_count": 0,
   "metadata": {
    "colab": {},
    "colab_type": "code",
    "id": "EfNhe0Ysf_ux"
   },
   "outputs": [],
   "source": [
    "jigsaw = pd.read_csv('/content/drive/My Drive/Hate_Speech_Detection_git/jigsaw-toxic-comment-classification-challenge/train.csv')\n",
    "jigsaw.rename(columns = {'comment_text':'text'},inplace=True)"
   ]
  },
  {
   "cell_type": "markdown",
   "metadata": {
    "colab_type": "text",
    "id": "4omcVwyX_M56"
   },
   "source": [
    "### Function for merging"
   ]
  },
  {
   "cell_type": "code",
   "execution_count": 0,
   "metadata": {
    "colab": {},
    "colab_type": "code",
    "id": "BUC130MI_M58"
   },
   "outputs": [],
   "source": [
    "def label_merging(data, labels):\n",
    "    labels['ID'] = labels['ID'].astype(int)\n",
    "    print(labels['ID'].nunique())\n",
    "    print('Null IDs in data 1 = ' ,data['ID'].isna().sum())\n",
    "    \n",
    "    data['ID'].fillna(0,inplace=True)\n",
    "    data['ID'] = data['ID'].astype(int)\n",
    "    \n",
    "    print('data shape ='  ,data.shape)\n",
    "    print('IDs common in data and labels =',sum(data['ID'].isin(labels['ID'])))\n",
    "    \n",
    "    train = data.merge(labels, on='ID',how='inner')#['class'].isna().sum()\n",
    "    return train"
   ]
  },
  {
   "cell_type": "code",
   "execution_count": 31,
   "metadata": {
    "colab": {
     "base_uri": "https://localhost:8080/",
     "height": 154
    },
    "colab_type": "code",
    "executionInfo": {
     "elapsed": 1172,
     "status": "ok",
     "timestamp": 1573308789056,
     "user": {
      "displayName": "Pawar Pranav Dayanand mm17b003",
      "photoUrl": "",
      "userId": "03168935693589294616"
     },
     "user_tz": -330
    },
    "id": "Mj1bg2HO_M6D",
    "outputId": "d843bfc6-6ee4-4498-b079-2bf59438a283",
    "scrolled": true
   },
   "outputs": [
    {
     "name": "stdout",
     "output_type": "stream",
     "text": [
      "16849\n",
      "Null IDs in data 1 =  2\n",
      "data shape = (16037, 11)\n",
      "IDs common in data and labels = 11238\n",
      "6909\n",
      "Null IDs in data 1 =  0\n",
      "data shape = (6271, 11)\n",
      "IDs common in data and labels = 6271\n"
     ]
    }
   ],
   "source": [
    "train_1 = label_merging(cf_data_1,labels_1)\n",
    "\n",
    "train_2 = label_merging(cf_data_2, labels_2)\n",
    "\n",
    "train_3 = cf_data_3.copy()"
   ]
  },
  {
   "cell_type": "code",
   "execution_count": 0,
   "metadata": {
    "colab": {},
    "colab_type": "code",
    "id": "8CDfNYIT_M6X"
   },
   "outputs": [],
   "source": [
    "t1 = train_1[['ID','Tweets','class']]\n",
    "t2 = train_2[['ID','Tweets','class']]\n",
    "t3 = train_3[['ID','Tweets','class']]\n",
    "merged = pd.concat([t1,t2,t3],axis=0).reset_index(drop=True)"
   ]
  },
  {
   "cell_type": "markdown",
   "metadata": {
    "colab_type": "text",
    "id": "od7YmYLQ_M7k"
   },
   "source": [
    "### Basic Preprocessing"
   ]
  },
  {
   "cell_type": "code",
   "execution_count": 0,
   "metadata": {
    "colab": {},
    "colab_type": "code",
    "id": "pVMMYTwGxuNy"
   },
   "outputs": [],
   "source": [
    "train = merged.copy()\n",
    "\n",
    "train.rename(columns={'Tweets':'tweet'},inplace=True)\n",
    "train['tweet'] = train['tweet'].astype(str)"
   ]
  },
  {
   "cell_type": "code",
   "execution_count": 0,
   "metadata": {
    "colab": {},
    "colab_type": "code",
    "id": "LWS-hlTRNOYO"
   },
   "outputs": [],
   "source": [
    "# train = train.drop_duplicates(subset='ID')\n",
    "# train.to_csv('train.csv',index=False, header=True)"
   ]
  },
  {
   "cell_type": "code",
   "execution_count": 0,
   "metadata": {
    "colab": {},
    "colab_type": "code",
    "id": "V-yWj17JJUbk"
   },
   "outputs": [],
   "source": [
    "def clean_remove_b(data):  \n",
    "  data.rename(columns={'text':'tweet'},inplace=True)\n",
    "  data['tweet'] = data['tweet'].astype(str)\n",
    "\n",
    "  data['tweet'] = data['tweet'].apply(lambda x:x[2:] if x[0:2]==\"b'\" or 'b\"' else x)"
   ]
  },
  {
   "cell_type": "code",
   "execution_count": 0,
   "metadata": {
    "colab": {},
    "colab_type": "code",
    "id": "BZkbPgeYMoES"
   },
   "outputs": [],
   "source": [
    "clean_remove_b(real_world_test)\n",
    "clean_remove_b(real_world_test_racist)\n",
    "clean_remove_b(pok)\n",
    "clean_remove_b(jigsaw)"
   ]
  },
  {
   "cell_type": "code",
   "execution_count": 0,
   "metadata": {
    "colab": {},
    "colab_type": "code",
    "id": "Lj6dx1NSPnZX"
   },
   "outputs": [],
   "source": []
  },
  {
   "cell_type": "markdown",
   "metadata": {
    "colab_type": "text",
    "id": "OsHyjVfK_M7u"
   },
   "source": [
    "Every word followed by @ is some twitter ID of an user, which shouldn't be considered in our analysis, so lets do the stemming, where we remove @ alonwith the word followed by it"
   ]
  },
  {
   "cell_type": "code",
   "execution_count": 0,
   "metadata": {
    "colab": {},
    "colab_type": "code",
    "id": "lOeA8PLt_M7z",
    "scrolled": true
   },
   "outputs": [],
   "source": [
    "def preprocess(data):\n",
    "  data['tweet'] = data['tweet'].apply(lambda x:' '.join(i for i in [a for a in x.split() if a.find('@')==-1]))\n",
    "  data['tweet'] = data['tweet'].apply(lambda x:' '.join(i for i in [a for a in x.split() if a.find('http')==-1]))\n",
    "  \n",
    "  ## we are removing hashtags now, but while doing transfer learning, to learn the embeddings we didnt remove these, \n",
    "  ## just to include such words in our vocabulary\n",
    "  \n",
    "  data['tweet'] = data['tweet'].apply(lambda x:' '.join(i for i in [a for a in x.split() if a.find('#')==-1]))\n",
    "  data['tweet'] = data['tweet'].apply(lambda x:''.join([i for i in x if not i.isdigit()]))\n",
    "  data['tweet'] = data['tweet'].apply(lambda x: \" \".join(x.lower() for x in x.split()))\n",
    "  data['tweet'] = data['tweet'].str.replace('[^\\w\\s]','')\n",
    "\n",
    "  import nltk\n",
    "  nltk.download('stopwords')\n",
    "\n",
    "  from nltk.corpus import stopwords\n",
    "  stop = stopwords.words('english')\n",
    "  data['tweet'] = data['tweet'].apply(lambda x: \" \".join(x for x in x.split() if x not in stop))\n",
    "\n",
    "  remove_word = ['rt','mkr','im']\n",
    "  data['tweet'] = data['tweet'].apply(lambda x: \" \".join(x for x in x.split() if x not in remove_word))"
   ]
  },
  {
   "cell_type": "code",
   "execution_count": 38,
   "metadata": {
    "colab": {
     "base_uri": "https://localhost:8080/",
     "height": 188
    },
    "colab_type": "code",
    "executionInfo": {
     "elapsed": 32504,
     "status": "ok",
     "timestamp": 1573308841162,
     "user": {
      "displayName": "Pawar Pranav Dayanand mm17b003",
      "photoUrl": "",
      "userId": "03168935693589294616"
     },
     "user_tz": -330
    },
    "id": "8iNTWypqJ1TD",
    "outputId": "61a67be1-a88a-407f-fd33-ec6d14ad0d76"
   },
   "outputs": [
    {
     "name": "stdout",
     "output_type": "stream",
     "text": [
      "[nltk_data] Downloading package stopwords to /root/nltk_data...\n",
      "[nltk_data]   Package stopwords is already up-to-date!\n",
      "[nltk_data] Downloading package stopwords to /root/nltk_data...\n",
      "[nltk_data]   Package stopwords is already up-to-date!\n",
      "[nltk_data] Downloading package stopwords to /root/nltk_data...\n",
      "[nltk_data]   Package stopwords is already up-to-date!\n",
      "[nltk_data] Downloading package stopwords to /root/nltk_data...\n",
      "[nltk_data]   Package stopwords is already up-to-date!\n",
      "[nltk_data] Downloading package stopwords to /root/nltk_data...\n",
      "[nltk_data]   Package stopwords is already up-to-date!\n"
     ]
    }
   ],
   "source": [
    "preprocess(train)\n",
    "preprocess(real_world_test)\n",
    "preprocess(real_world_test_racist)\n",
    "preprocess(pok)\n",
    "preprocess(jigsaw)"
   ]
  },
  {
   "cell_type": "markdown",
   "metadata": {
    "colab_type": "text",
    "id": "fAUvqGB6_M9A"
   },
   "source": [
    "Doesnt really make sense to remove rare words, i.e. the words with count 1. Because we might lose hateful words this way"
   ]
  },
  {
   "cell_type": "code",
   "execution_count": 0,
   "metadata": {
    "colab": {},
    "colab_type": "code",
    "id": "w1QGCz-0_M9F"
   },
   "outputs": [],
   "source": [
    "def preprocess_2(data):\n",
    "  from textblob import TextBlob\n",
    "  nltk.download('punkt')\n",
    "\n",
    "  from textblob import Word\n",
    "  nltk.download('wordnet')\n",
    "  data['tweet'] = data['tweet'].apply(lambda x: \" \".join([Word(word).lemmatize() for word in x.split()]))\n",
    "  data['tweet'].head()"
   ]
  },
  {
   "cell_type": "code",
   "execution_count": 41,
   "metadata": {
    "colab": {
     "base_uri": "https://localhost:8080/",
     "height": 86
    },
    "colab_type": "code",
    "executionInfo": {
     "elapsed": 28018,
     "status": "ok",
     "timestamp": 1573308873370,
     "user": {
      "displayName": "Pawar Pranav Dayanand mm17b003",
      "photoUrl": "",
      "userId": "03168935693589294616"
     },
     "user_tz": -330
    },
    "id": "vssdl-dyKErr",
    "outputId": "5dabcec2-c2e3-4f59-abd2-3984ae636bf7"
   },
   "outputs": [
    {
     "name": "stdout",
     "output_type": "stream",
     "text": [
      "[nltk_data] Downloading package punkt to /root/nltk_data...\n",
      "[nltk_data]   Package punkt is already up-to-date!\n",
      "[nltk_data] Downloading package wordnet to /root/nltk_data...\n",
      "[nltk_data]   Package wordnet is already up-to-date!\n"
     ]
    }
   ],
   "source": [
    "preprocess_2(train)\n",
    "preprocess_2(real_world_test)\n",
    "preprocess_2(real_world_test_racist)\n",
    "preprocess_2(pok)\n",
    "preprocess_2(jigsaw)"
   ]
  },
  {
   "cell_type": "code",
   "execution_count": 0,
   "metadata": {
    "colab": {},
    "colab_type": "code",
    "id": "-4ddIBbyOCvh"
   },
   "outputs": [],
   "source": [
    "# real_world_test = real_world_test[real_world_test['tweet'].apply(lambda x:len(x)>1)]"
   ]
  },
  {
   "cell_type": "markdown",
   "metadata": {
    "colab_type": "text",
    "id": "n4Rng-D6_M9a"
   },
   "source": [
    "### Target creation"
   ]
  },
  {
   "cell_type": "code",
   "execution_count": 43,
   "metadata": {
    "colab": {
     "base_uri": "https://localhost:8080/",
     "height": 51
    },
    "colab_type": "code",
    "executionInfo": {
     "elapsed": 1258,
     "status": "ok",
     "timestamp": 1573308874641,
     "user": {
      "displayName": "Pawar Pranav Dayanand mm17b003",
      "photoUrl": "",
      "userId": "03168935693589294616"
     },
     "user_tz": -330
    },
    "id": "v1h4taDp_M9f",
    "outputId": "07871889-c326-4165-b73e-8bcacfc86907",
    "scrolled": true
   },
   "outputs": [
    {
     "data": {
      "text/plain": [
       "array(['racism', 'none', 'sexism', 'neither', 'both', 2, 1, 0],\n",
       "      dtype=object)"
      ]
     },
     "execution_count": 43,
     "metadata": {
      "tags": []
     },
     "output_type": "execute_result"
    }
   ],
   "source": [
    "train['class'].unique()#.isna().sum()"
   ]
  },
  {
   "cell_type": "code",
   "execution_count": 44,
   "metadata": {
    "colab": {
     "base_uri": "https://localhost:8080/",
     "height": 68
    },
    "colab_type": "code",
    "executionInfo": {
     "elapsed": 1249,
     "status": "ok",
     "timestamp": 1573308874644,
     "user": {
      "displayName": "Pawar Pranav Dayanand mm17b003",
      "photoUrl": "",
      "userId": "03168935693589294616"
     },
     "user_tz": -330
    },
    "id": "FJuHE_9K_M9p",
    "outputId": "a4f7d995-513c-4b08-ab38-9567cde79948"
   },
   "outputs": [
    {
     "data": {
      "text/plain": [
       "hate    24942\n",
       "null    17422\n",
       "Name: class, dtype: int64"
      ]
     },
     "execution_count": 44,
     "metadata": {
      "tags": []
     },
     "output_type": "execute_result"
    }
   ],
   "source": [
    "train['class'].replace(['racism', 'sexism',0, 1, 'both', 'none', 'neither',2],['hate','hate','hate','hate','hate','null','null','null'],inplace=True)\n",
    "train['class'].value_counts()"
   ]
  },
  {
   "cell_type": "code",
   "execution_count": 0,
   "metadata": {
    "colab": {},
    "colab_type": "code",
    "id": "aE1ArY61XLzf"
   },
   "outputs": [],
   "source": [
    "train['class'].replace(['null','hate'],[0,1],inplace=True)"
   ]
  },
  {
   "cell_type": "markdown",
   "metadata": {
    "colab_type": "text",
    "id": "LJZfrwwBayjo"
   },
   "source": [
    "dropping the duplicates"
   ]
  },
  {
   "cell_type": "code",
   "execution_count": 0,
   "metadata": {
    "colab": {},
    "colab_type": "code",
    "id": "FvB8Hfzdaxk4"
   },
   "outputs": [],
   "source": [
    "# hate_text = train[train['class']==1]['tweet']\n",
    "# null_text = train[train['class']==0]['tweet']"
   ]
  },
  {
   "cell_type": "code",
   "execution_count": 0,
   "metadata": {
    "colab": {},
    "colab_type": "code",
    "id": "RgdEHU1vbKPU"
   },
   "outputs": [],
   "source": [
    "# hate_text.to_csv(r'hate_speech.txt', header=None, index=None, sep=' ')"
   ]
  },
  {
   "cell_type": "code",
   "execution_count": 0,
   "metadata": {
    "colab": {},
    "colab_type": "code",
    "id": "7ufDPugVbKLH"
   },
   "outputs": [],
   "source": [
    "# null_text.to_csv(r'null_speech.txt', header=None, index=None, sep=' ')"
   ]
  },
  {
   "cell_type": "code",
   "execution_count": 49,
   "metadata": {
    "colab": {
     "base_uri": "https://localhost:8080/",
     "height": 34
    },
    "colab_type": "code",
    "executionInfo": {
     "elapsed": 1452,
     "status": "ok",
     "timestamp": 1573308882401,
     "user": {
      "displayName": "Pawar Pranav Dayanand mm17b003",
      "photoUrl": "",
      "userId": "03168935693589294616"
     },
     "user_tz": -330
    },
    "id": "MJDw5gDDv_aq",
    "outputId": "19c09902-6577-4991-fd1c-e6580f57bc84"
   },
   "outputs": [
    {
     "data": {
      "text/plain": [
       "2760"
      ]
     },
     "execution_count": 49,
     "metadata": {
      "tags": []
     },
     "output_type": "execute_result"
    }
   ],
   "source": [
    "sum(train['ID'].value_counts()>1)"
   ]
  },
  {
   "cell_type": "code",
   "execution_count": 50,
   "metadata": {
    "colab": {
     "base_uri": "https://localhost:8080/",
     "height": 34
    },
    "colab_type": "code",
    "executionInfo": {
     "elapsed": 1251,
     "status": "ok",
     "timestamp": 1573308885554,
     "user": {
      "displayName": "Pawar Pranav Dayanand mm17b003",
      "photoUrl": "",
      "userId": "03168935693589294616"
     },
     "user_tz": -330
    },
    "id": "VTiYUKgowFQ7",
    "outputId": "a36997b0-5b17-40bb-c91b-fab6f14cf1d2"
   },
   "outputs": [
    {
     "data": {
      "text/plain": [
       "(42364, 3)"
      ]
     },
     "execution_count": 50,
     "metadata": {
      "tags": []
     },
     "output_type": "execute_result"
    }
   ],
   "source": [
    "train.shape"
   ]
  },
  {
   "cell_type": "code",
   "execution_count": 0,
   "metadata": {
    "colab": {},
    "colab_type": "code",
    "id": "sKum_pWvwJGv"
   },
   "outputs": [],
   "source": [
    "train = train.drop_duplicates(subset='ID')\n",
    "\n",
    "real_world_test = real_world_test.drop_duplicates(subset='id')"
   ]
  },
  {
   "cell_type": "markdown",
   "metadata": {
    "colab_type": "text",
    "id": "5GXIRkpoYhDQ"
   },
   "source": [
    "### Basic Model on whole dataset"
   ]
  },
  {
   "cell_type": "code",
   "execution_count": 0,
   "metadata": {
    "colab": {},
    "colab_type": "code",
    "id": "gmAlQ-wlWHWB"
   },
   "outputs": [],
   "source": [
    "from sklearn.model_selection import train_test_split\n",
    "x_train,x_valid,y_t,y_v = train_test_split(train['tweet'],train['class'],test_size=0.2,random_state=234)"
   ]
  },
  {
   "cell_type": "code",
   "execution_count": 0,
   "metadata": {
    "colab": {},
    "colab_type": "code",
    "id": "91U5c_i-W8-e"
   },
   "outputs": [],
   "source": [
    "from sklearn.feature_extraction.text import TfidfVectorizer\n",
    "tfidf = TfidfVectorizer(max_features=100, lowercase=True, analyzer='word',\n",
    " stop_words= 'english',ngram_range=(1,1))\n",
    "\n",
    "tfidf.fit(train['tweet'])\n",
    "\n",
    "x_t = tfidf.transform(x_train)\n",
    "x_v = tfidf.transform(x_valid)\n"
   ]
  },
  {
   "cell_type": "code",
   "execution_count": 0,
   "metadata": {
    "colab": {},
    "colab_type": "code",
    "id": "Uc5H47YRXc75"
   },
   "outputs": [],
   "source": [
    "def model_training(clf, x_t, y_t, x_v=None , y_v=None ,task='binary:logistic'):\n",
    "    clf.fit(x_t,y_t)\n",
    "    print('training accuracy', clf.score(x_t,y_t))\n",
    "    \n",
    "    if task=='binary:logistic':\n",
    "      print('validation accuracy', clf.score(x_v,y_v))\n",
    "      print('validation f1_score',f1_score(clf.predict(x_v),y_v))\n",
    "      print('validation roc_auc score',roc_auc_score(y_v,clf.predict_proba(x_v)[::,-1]))\n",
    "      print('confusion matrix \\n',confusion_matrix(y_v, clf.predict(x_v)))\n",
    "    \n",
    "    if task=='reg:linear':\n",
    "        if x_v!=None:\n",
    "            print('validation r2_score', clf.score(x_v,y_v))\n",
    "            print('validation MSE',mean_squared_error(clf.predict(x_v),y_v))\n",
    "\n",
    "            \n",
    "    return clf"
   ]
  },
  {
   "cell_type": "code",
   "execution_count": 55,
   "metadata": {
    "colab": {
     "base_uri": "https://localhost:8080/",
     "height": 34
    },
    "colab_type": "code",
    "executionInfo": {
     "elapsed": 1167,
     "status": "ok",
     "timestamp": 1573308901810,
     "user": {
      "displayName": "Pawar Pranav Dayanand mm17b003",
      "photoUrl": "",
      "userId": "03168935693589294616"
     },
     "user_tz": -330
    },
    "id": "yAE1F4ptz9u6",
    "outputId": "97b0617b-9522-4f4f-81f9-7c8e0eb79dc2"
   },
   "outputs": [
    {
     "data": {
      "text/plain": [
       "'ima catfish bitch fake arm'"
      ]
     },
     "execution_count": 55,
     "metadata": {
      "tags": []
     },
     "output_type": "execute_result"
    }
   ],
   "source": [
    "x_train.iloc[0]"
   ]
  },
  {
   "cell_type": "code",
   "execution_count": 56,
   "metadata": {
    "colab": {
     "base_uri": "https://localhost:8080/",
     "height": 34
    },
    "colab_type": "code",
    "executionInfo": {
     "elapsed": 2111,
     "status": "ok",
     "timestamp": 1573308902955,
     "user": {
      "displayName": "Pawar Pranav Dayanand mm17b003",
      "photoUrl": "",
      "userId": "03168935693589294616"
     },
     "user_tz": -330
    },
    "id": "v3-AhJnmkAkk",
    "outputId": "c5331da8-665b-4806-8e6b-a37c048b89ee"
   },
   "outputs": [
    {
     "data": {
      "text/plain": [
       "1.6760372565622355"
      ]
     },
     "execution_count": 56,
     "metadata": {
      "tags": []
     },
     "output_type": "execute_result"
    }
   ],
   "source": [
    "# y_t.value_counts()\n",
    "\n",
    "19794/11810"
   ]
  },
  {
   "cell_type": "code",
   "execution_count": 57,
   "metadata": {
    "colab": {
     "base_uri": "https://localhost:8080/",
     "height": 257
    },
    "colab_type": "code",
    "executionInfo": {
     "elapsed": 9037,
     "status": "ok",
     "timestamp": 1573308910078,
     "user": {
      "displayName": "Pawar Pranav Dayanand mm17b003",
      "photoUrl": "",
      "userId": "03168935693589294616"
     },
     "user_tz": -330
    },
    "id": "VBOaguLBW-p5",
    "outputId": "0a345b5c-d16a-48dd-b1c3-3bbc595d96d6"
   },
   "outputs": [
    {
     "name": "stdout",
     "output_type": "stream",
     "text": [
      "training accuracy 0.8697316795342361\n",
      "validation accuracy 0.8521893191597064\n",
      "validation f1_score 0.8771819137749738\n",
      "validation roc_auc score 0.915704695718503\n",
      "confusion matrix \n",
      " [[2563  334]\n",
      " [ 834 4171]]\n"
     ]
    },
    {
     "data": {
      "text/plain": [
       "XGBClassifier(base_score=0.5, booster='gbtree', colsample_bylevel=1,\n",
       "              colsample_bynode=1, colsample_bytree=1, gamma=0,\n",
       "              learning_rate=0.1, max_delta_step=0, max_depth=5,\n",
       "              min_child_weight=1, missing=None, n_estimators=500, n_jobs=1,\n",
       "              nthread=None, objective='binary:logistic', random_state=0,\n",
       "              reg_alpha=0, reg_lambda=1, scale_pos_weight=1.4266790777602751,\n",
       "              seed=None, silent=None, subsample=1, verbosity=1)"
      ]
     },
     "execution_count": 57,
     "metadata": {
      "tags": []
     },
     "output_type": "execute_result"
    }
   ],
   "source": [
    "from sklearn.linear_model import LogisticRegression\n",
    "from sklearn.ensemble import RandomForestClassifier\n",
    "from sklearn.ensemble import GradientBoostingClassifier\n",
    "from sklearn.metrics import f1_score, classification_report, roc_auc_score, confusion_matrix, accuracy_score\n",
    "from xgboost import XGBClassifier\n",
    "\n",
    "# lgr =  LogisticRegression(n_jobs=1, C=1e5)\n",
    "xgb = XGBClassifier(n_estimators=500, max_depth=5,learning_rate=0.1,scale_pos_weight=1.4266790777602751)\n",
    "# xgb = XGBClassifier(n_estimators=500, max_depth=5,learning_rate=0.1,scale_pos_weight=1.6760372565622355)\n",
    "model_training(xgb,x_t,y_t,x_v,y_v)\n"
   ]
  },
  {
   "cell_type": "code",
   "execution_count": 0,
   "metadata": {
    "colab": {},
    "colab_type": "code",
    "id": "Z7Xk8Deuv2u_"
   },
   "outputs": [],
   "source": [
    "# training accuracy 0.8697316795342361\n",
    "# validation accuracy 0.8521893191597064\n",
    "# validation f1_score 0.8771819137749738\n",
    "# validation roc_auc score 0.915704695718503\n",
    "# confusion matrix \n",
    "#  [[2563  334]\n",
    "#  [ 834 4171]]"
   ]
  },
  {
   "cell_type": "code",
   "execution_count": 0,
   "metadata": {
    "colab": {},
    "colab_type": "code",
    "id": "fFr8F0hVeIbN"
   },
   "outputs": [],
   "source": [
    "# training accuracy 0.8751740286039742\n",
    "# validation accuracy 0.8567451278157429\n",
    "# validation f1_score 0.8815403934700711\n",
    "# validation roc_auc score 0.9185450724629186\n",
    "# [[2558  339]\n",
    "#  [ 793 4212]]"
   ]
  },
  {
   "cell_type": "code",
   "execution_count": 0,
   "metadata": {
    "colab": {},
    "colab_type": "code",
    "id": "pymORbZVjNx3"
   },
   "outputs": [],
   "source": [
    "# import joblib\n",
    "# #save model\n",
    "# joblib.dump(xgb, 'xgb_model_tfidf.pkl') "
   ]
  },
  {
   "cell_type": "markdown",
   "metadata": {
    "colab_type": "text",
    "id": "oGVi5Hkc_pnv"
   },
   "source": [
    "### Training on new word2vec model"
   ]
  },
  {
   "cell_type": "code",
   "execution_count": 1,
   "metadata": {
    "colab": {
     "base_uri": "https://localhost:8080/",
     "height": 431
    },
    "colab_type": "code",
    "executionInfo": {
     "elapsed": 1798,
     "status": "error",
     "timestamp": 1573337573522,
     "user": {
      "displayName": "Pawar Pranav Dayanand mm17b003",
      "photoUrl": "",
      "userId": "03168935693589294616"
     },
     "user_tz": -330
    },
    "id": "-joK9G7y_tqR",
    "outputId": "46a40fa4-e38c-499a-df42-185186886daf",
    "scrolled": true
   },
   "outputs": [
    {
     "name": "stderr",
     "output_type": "stream",
     "text": [
      "/usr/local/lib/python3.6/dist-packages/smart_open/smart_open_lib.py:398: UserWarning: This function is deprecated, use smart_open.open instead. See the migration notes for details: https://github.com/RaRe-Technologies/smart_open/blob/master/README.rst#migrating-to-the-new-open-function\n",
      "  'See the migration notes for details: %s' % _MIGRATION_NOTES_URL\n"
     ]
    },
    {
     "ename": "FileNotFoundError",
     "evalue": "ignored",
     "output_type": "error",
     "traceback": [
      "\u001b[0;31m---------------------------------------------------------------------------\u001b[0m",
      "\u001b[0;31mFileNotFoundError\u001b[0m                         Traceback (most recent call last)",
      "\u001b[0;32m<ipython-input-1-1bbabf55d970>\u001b[0m in \u001b[0;36m<module>\u001b[0;34m()\u001b[0m\n\u001b[1;32m      3\u001b[0m \u001b[0;32mfrom\u001b[0m \u001b[0mgensim\u001b[0m\u001b[0;34m.\u001b[0m\u001b[0mmodels\u001b[0m \u001b[0;32mimport\u001b[0m \u001b[0mWord2Vec\u001b[0m\u001b[0;34m\u001b[0m\u001b[0;34m\u001b[0m\u001b[0m\n\u001b[1;32m      4\u001b[0m \u001b[0;34m\u001b[0m\u001b[0m\n\u001b[0;32m----> 5\u001b[0;31m \u001b[0mwv\u001b[0m \u001b[0;34m=\u001b[0m \u001b[0mgensim\u001b[0m\u001b[0;34m.\u001b[0m\u001b[0mmodels\u001b[0m\u001b[0;34m.\u001b[0m\u001b[0mKeyedVectors\u001b[0m\u001b[0;34m.\u001b[0m\u001b[0mload_word2vec_format\u001b[0m\u001b[0;34m(\u001b[0m\u001b[0;34m\"/content/drive/My Drive/Hate_Speech_Detection_git/model_transfer_learning.txt\"\u001b[0m\u001b[0;34m,\u001b[0m \u001b[0mbinary\u001b[0m\u001b[0;34m=\u001b[0m\u001b[0;32mFalse\u001b[0m\u001b[0;34m)\u001b[0m\u001b[0;34m\u001b[0m\u001b[0;34m\u001b[0m\u001b[0m\n\u001b[0m\u001b[1;32m      6\u001b[0m \u001b[0;31m# wv = gensim.models.KeyedVectors.load_word2vec_format(\"/content/drive/My Drive/Hate_Speech_Detection_git/model_transfer_learning_including_stopwords.txt\", binary=False)\u001b[0m\u001b[0;34m\u001b[0m\u001b[0;34m\u001b[0m\u001b[0;34m\u001b[0m\u001b[0m\n\u001b[1;32m      7\u001b[0m \u001b[0mwv\u001b[0m\u001b[0;34m.\u001b[0m\u001b[0minit_sims\u001b[0m\u001b[0;34m(\u001b[0m\u001b[0mreplace\u001b[0m\u001b[0;34m=\u001b[0m\u001b[0;32mTrue\u001b[0m\u001b[0;34m)\u001b[0m\u001b[0;34m\u001b[0m\u001b[0;34m\u001b[0m\u001b[0m\n",
      "\u001b[0;32m/usr/local/lib/python3.6/dist-packages/gensim/models/keyedvectors.py\u001b[0m in \u001b[0;36mload_word2vec_format\u001b[0;34m(cls, fname, fvocab, binary, encoding, unicode_errors, limit, datatype)\u001b[0m\n\u001b[1;32m   1436\u001b[0m         return _load_word2vec_format(\n\u001b[1;32m   1437\u001b[0m             \u001b[0mcls\u001b[0m\u001b[0;34m,\u001b[0m \u001b[0mfname\u001b[0m\u001b[0;34m,\u001b[0m \u001b[0mfvocab\u001b[0m\u001b[0;34m=\u001b[0m\u001b[0mfvocab\u001b[0m\u001b[0;34m,\u001b[0m \u001b[0mbinary\u001b[0m\u001b[0;34m=\u001b[0m\u001b[0mbinary\u001b[0m\u001b[0;34m,\u001b[0m \u001b[0mencoding\u001b[0m\u001b[0;34m=\u001b[0m\u001b[0mencoding\u001b[0m\u001b[0;34m,\u001b[0m \u001b[0municode_errors\u001b[0m\u001b[0;34m=\u001b[0m\u001b[0municode_errors\u001b[0m\u001b[0;34m,\u001b[0m\u001b[0;34m\u001b[0m\u001b[0;34m\u001b[0m\u001b[0m\n\u001b[0;32m-> 1438\u001b[0;31m             limit=limit, datatype=datatype)\n\u001b[0m\u001b[1;32m   1439\u001b[0m \u001b[0;34m\u001b[0m\u001b[0m\n\u001b[1;32m   1440\u001b[0m     \u001b[0;32mdef\u001b[0m \u001b[0mget_keras_embedding\u001b[0m\u001b[0;34m(\u001b[0m\u001b[0mself\u001b[0m\u001b[0;34m,\u001b[0m \u001b[0mtrain_embeddings\u001b[0m\u001b[0;34m=\u001b[0m\u001b[0;32mFalse\u001b[0m\u001b[0;34m)\u001b[0m\u001b[0;34m:\u001b[0m\u001b[0;34m\u001b[0m\u001b[0;34m\u001b[0m\u001b[0m\n",
      "\u001b[0;32m/usr/local/lib/python3.6/dist-packages/gensim/models/utils_any2vec.py\u001b[0m in \u001b[0;36m_load_word2vec_format\u001b[0;34m(cls, fname, fvocab, binary, encoding, unicode_errors, limit, datatype)\u001b[0m\n\u001b[1;32m    169\u001b[0m \u001b[0;34m\u001b[0m\u001b[0m\n\u001b[1;32m    170\u001b[0m     \u001b[0mlogger\u001b[0m\u001b[0;34m.\u001b[0m\u001b[0minfo\u001b[0m\u001b[0;34m(\u001b[0m\u001b[0;34m\"loading projection weights from %s\"\u001b[0m\u001b[0;34m,\u001b[0m \u001b[0mfname\u001b[0m\u001b[0;34m)\u001b[0m\u001b[0;34m\u001b[0m\u001b[0;34m\u001b[0m\u001b[0m\n\u001b[0;32m--> 171\u001b[0;31m     \u001b[0;32mwith\u001b[0m \u001b[0mutils\u001b[0m\u001b[0;34m.\u001b[0m\u001b[0msmart_open\u001b[0m\u001b[0;34m(\u001b[0m\u001b[0mfname\u001b[0m\u001b[0;34m)\u001b[0m \u001b[0;32mas\u001b[0m \u001b[0mfin\u001b[0m\u001b[0;34m:\u001b[0m\u001b[0;34m\u001b[0m\u001b[0;34m\u001b[0m\u001b[0m\n\u001b[0m\u001b[1;32m    172\u001b[0m         \u001b[0mheader\u001b[0m \u001b[0;34m=\u001b[0m \u001b[0mutils\u001b[0m\u001b[0;34m.\u001b[0m\u001b[0mto_unicode\u001b[0m\u001b[0;34m(\u001b[0m\u001b[0mfin\u001b[0m\u001b[0;34m.\u001b[0m\u001b[0mreadline\u001b[0m\u001b[0;34m(\u001b[0m\u001b[0;34m)\u001b[0m\u001b[0;34m,\u001b[0m \u001b[0mencoding\u001b[0m\u001b[0;34m=\u001b[0m\u001b[0mencoding\u001b[0m\u001b[0;34m)\u001b[0m\u001b[0;34m\u001b[0m\u001b[0;34m\u001b[0m\u001b[0m\n\u001b[1;32m    173\u001b[0m         \u001b[0mvocab_size\u001b[0m\u001b[0;34m,\u001b[0m \u001b[0mvector_size\u001b[0m \u001b[0;34m=\u001b[0m \u001b[0;34m(\u001b[0m\u001b[0mint\u001b[0m\u001b[0;34m(\u001b[0m\u001b[0mx\u001b[0m\u001b[0;34m)\u001b[0m \u001b[0;32mfor\u001b[0m \u001b[0mx\u001b[0m \u001b[0;32min\u001b[0m \u001b[0mheader\u001b[0m\u001b[0;34m.\u001b[0m\u001b[0msplit\u001b[0m\u001b[0;34m(\u001b[0m\u001b[0;34m)\u001b[0m\u001b[0;34m)\u001b[0m  \u001b[0;31m# throws for invalid file format\u001b[0m\u001b[0;34m\u001b[0m\u001b[0;34m\u001b[0m\u001b[0m\n",
      "\u001b[0;32m/usr/local/lib/python3.6/dist-packages/smart_open/smart_open_lib.py\u001b[0m in \u001b[0;36msmart_open\u001b[0;34m(uri, mode, **kw)\u001b[0m\n\u001b[1;32m    451\u001b[0m             \u001b[0mtransport_params\u001b[0m\u001b[0;34m[\u001b[0m\u001b[0mkey\u001b[0m\u001b[0;34m]\u001b[0m \u001b[0;34m=\u001b[0m \u001b[0mvalue\u001b[0m\u001b[0;34m\u001b[0m\u001b[0;34m\u001b[0m\u001b[0m\n\u001b[1;32m    452\u001b[0m \u001b[0;34m\u001b[0m\u001b[0m\n\u001b[0;32m--> 453\u001b[0;31m     \u001b[0;32mreturn\u001b[0m \u001b[0mopen\u001b[0m\u001b[0;34m(\u001b[0m\u001b[0muri\u001b[0m\u001b[0;34m,\u001b[0m \u001b[0mmode\u001b[0m\u001b[0;34m,\u001b[0m \u001b[0mignore_ext\u001b[0m\u001b[0;34m=\u001b[0m\u001b[0mignore_extension\u001b[0m\u001b[0;34m,\u001b[0m \u001b[0mtransport_params\u001b[0m\u001b[0;34m=\u001b[0m\u001b[0mtransport_params\u001b[0m\u001b[0;34m,\u001b[0m \u001b[0;34m**\u001b[0m\u001b[0mscrubbed_kwargs\u001b[0m\u001b[0;34m)\u001b[0m\u001b[0;34m\u001b[0m\u001b[0;34m\u001b[0m\u001b[0m\n\u001b[0m\u001b[1;32m    454\u001b[0m \u001b[0;34m\u001b[0m\u001b[0m\n\u001b[1;32m    455\u001b[0m \u001b[0;34m\u001b[0m\u001b[0m\n",
      "\u001b[0;32m/usr/local/lib/python3.6/dist-packages/smart_open/smart_open_lib.py\u001b[0m in \u001b[0;36mopen\u001b[0;34m(uri, mode, buffering, encoding, errors, newline, closefd, opener, ignore_ext, transport_params)\u001b[0m\n\u001b[1;32m    305\u001b[0m         \u001b[0mbuffering\u001b[0m\u001b[0;34m=\u001b[0m\u001b[0mbuffering\u001b[0m\u001b[0;34m,\u001b[0m\u001b[0;34m\u001b[0m\u001b[0;34m\u001b[0m\u001b[0m\n\u001b[1;32m    306\u001b[0m         \u001b[0mencoding\u001b[0m\u001b[0;34m=\u001b[0m\u001b[0mencoding\u001b[0m\u001b[0;34m,\u001b[0m\u001b[0;34m\u001b[0m\u001b[0;34m\u001b[0m\u001b[0m\n\u001b[0;32m--> 307\u001b[0;31m         \u001b[0merrors\u001b[0m\u001b[0;34m=\u001b[0m\u001b[0merrors\u001b[0m\u001b[0;34m,\u001b[0m\u001b[0;34m\u001b[0m\u001b[0;34m\u001b[0m\u001b[0m\n\u001b[0m\u001b[1;32m    308\u001b[0m     )\n\u001b[1;32m    309\u001b[0m     \u001b[0;32mif\u001b[0m \u001b[0mfobj\u001b[0m \u001b[0;32mis\u001b[0m \u001b[0;32mnot\u001b[0m \u001b[0;32mNone\u001b[0m\u001b[0;34m:\u001b[0m\u001b[0;34m\u001b[0m\u001b[0;34m\u001b[0m\u001b[0m\n",
      "\u001b[0;32m/usr/local/lib/python3.6/dist-packages/smart_open/smart_open_lib.py\u001b[0m in \u001b[0;36m_shortcut_open\u001b[0;34m(uri, mode, ignore_ext, buffering, encoding, errors)\u001b[0m\n\u001b[1;32m    510\u001b[0m     \u001b[0;31m#\u001b[0m\u001b[0;34m\u001b[0m\u001b[0;34m\u001b[0m\u001b[0;34m\u001b[0m\u001b[0m\n\u001b[1;32m    511\u001b[0m     \u001b[0;32mif\u001b[0m \u001b[0msix\u001b[0m\u001b[0;34m.\u001b[0m\u001b[0mPY3\u001b[0m\u001b[0;34m:\u001b[0m\u001b[0;34m\u001b[0m\u001b[0;34m\u001b[0m\u001b[0m\n\u001b[0;32m--> 512\u001b[0;31m         \u001b[0;32mreturn\u001b[0m \u001b[0m_builtin_open\u001b[0m\u001b[0;34m(\u001b[0m\u001b[0mparsed_uri\u001b[0m\u001b[0;34m.\u001b[0m\u001b[0muri_path\u001b[0m\u001b[0;34m,\u001b[0m \u001b[0mmode\u001b[0m\u001b[0;34m,\u001b[0m \u001b[0mbuffering\u001b[0m\u001b[0;34m=\u001b[0m\u001b[0mbuffering\u001b[0m\u001b[0;34m,\u001b[0m \u001b[0;34m**\u001b[0m\u001b[0mopen_kwargs\u001b[0m\u001b[0;34m)\u001b[0m\u001b[0;34m\u001b[0m\u001b[0;34m\u001b[0m\u001b[0m\n\u001b[0m\u001b[1;32m    513\u001b[0m     \u001b[0;32melif\u001b[0m \u001b[0;32mnot\u001b[0m \u001b[0mopen_kwargs\u001b[0m\u001b[0;34m:\u001b[0m\u001b[0;34m\u001b[0m\u001b[0;34m\u001b[0m\u001b[0m\n\u001b[1;32m    514\u001b[0m         \u001b[0;32mreturn\u001b[0m \u001b[0m_builtin_open\u001b[0m\u001b[0;34m(\u001b[0m\u001b[0mparsed_uri\u001b[0m\u001b[0;34m.\u001b[0m\u001b[0muri_path\u001b[0m\u001b[0;34m,\u001b[0m \u001b[0mmode\u001b[0m\u001b[0;34m,\u001b[0m \u001b[0mbuffering\u001b[0m\u001b[0;34m=\u001b[0m\u001b[0mbuffering\u001b[0m\u001b[0;34m)\u001b[0m\u001b[0;34m\u001b[0m\u001b[0;34m\u001b[0m\u001b[0m\n",
      "\u001b[0;31mFileNotFoundError\u001b[0m: [Errno 2] No such file or directory: '/content/drive/My Drive/Hate_Speech_Detection_git/model_transfer_learning.txt'"
     ]
    }
   ],
   "source": [
    "import gensim\n",
    "import logging\n",
    "from gensim.models import Word2Vec\n",
    "\n",
    "wv = gensim.models.KeyedVectors.load_word2vec_format(\"/content/drive/My Drive/Hate_Speech_Detection_git/model_transfer_learning.txt\", binary=False)\n",
    "# wv = gensim.models.KeyedVectors.load_word2vec_format(\"/content/drive/My Drive/Hate_Speech_Detection_git/model_transfer_learning_including_stopwords.txt\", binary=False)\n",
    "wv.init_sims(replace=True)\n"
   ]
  },
  {
   "cell_type": "code",
   "execution_count": 0,
   "metadata": {
    "colab": {},
    "colab_type": "code",
    "id": "9l1uIbEc_yWl"
   },
   "outputs": [],
   "source": [
    "def word_averaging(wv, words):\n",
    "    all_words, mean = set(), []\n",
    "    \n",
    "    for word in words:\n",
    "        if isinstance(word, np.ndarray):\n",
    "            mean.append(word)\n",
    "        elif word in wv.vocab:\n",
    "            mean.append(wv.syn0norm[wv.vocab[word].index])\n",
    "            all_words.add(wv.vocab[word].index)\n",
    "\n",
    "    if not mean:\n",
    "        logging.warning(\"cannot compute similarity with no input %s\", words)\n",
    "        # FIXME: remove these examples in pre-processing\n",
    "        return np.zeros(wv.vector_size,)\n",
    "\n",
    "    mean = gensim.matutils.unitvec(np.array(mean).mean(axis=0)).astype(np.float32)\n",
    "    return mean\n",
    "\n",
    "  \n",
    "def  word_averaging_list(wv, text_list):\n",
    "    return np.vstack([word_averaging(wv, post) for post in text_list ])"
   ]
  },
  {
   "cell_type": "code",
   "execution_count": 60,
   "metadata": {
    "colab": {
     "base_uri": "https://localhost:8080/",
     "height": 1000
    },
    "colab_type": "code",
    "executionInfo": {
     "elapsed": 17014,
     "status": "ok",
     "timestamp": 1573308940234,
     "user": {
      "displayName": "Pawar Pranav Dayanand mm17b003",
      "photoUrl": "",
      "userId": "03168935693589294616"
     },
     "user_tz": -330
    },
    "id": "i7ohGolk_24-",
    "outputId": "3a833caf-ad3a-4639-af14-e7cc8afac17b"
   },
   "outputs": [
    {
     "name": "stderr",
     "output_type": "stream",
     "text": [
      "/usr/local/lib/python3.6/dist-packages/ipykernel_launcher.py:8: DeprecationWarning: Call to deprecated `syn0norm` (Attribute will be removed in 4.0.0, use self.wv.vectors_norm instead).\n",
      "  \n",
      "/usr/local/lib/python3.6/dist-packages/gensim/matutils.py:737: FutureWarning: Conversion of the second argument of issubdtype from `int` to `np.signedinteger` is deprecated. In future, it will be treated as `np.int64 == np.dtype(int).type`.\n",
      "  if np.issubdtype(vec.dtype, np.int):\n",
      "WARNING:root:cannot compute similarity with no input []\n",
      "WARNING:root:cannot compute similarity with no input []\n",
      "WARNING:root:cannot compute similarity with no input []\n",
      "WARNING:root:cannot compute similarity with no input []\n",
      "WARNING:root:cannot compute similarity with no input []\n",
      "WARNING:root:cannot compute similarity with no input []\n",
      "WARNING:root:cannot compute similarity with no input []\n",
      "WARNING:root:cannot compute similarity with no input []\n",
      "WARNING:root:cannot compute similarity with no input []\n",
      "WARNING:root:cannot compute similarity with no input []\n",
      "WARNING:root:cannot compute similarity with no input []\n",
      "WARNING:root:cannot compute similarity with no input []\n",
      "WARNING:root:cannot compute similarity with no input []\n",
      "WARNING:root:cannot compute similarity with no input []\n",
      "WARNING:root:cannot compute similarity with no input []\n",
      "WARNING:root:cannot compute similarity with no input []\n",
      "WARNING:root:cannot compute similarity with no input []\n",
      "WARNING:root:cannot compute similarity with no input []\n",
      "WARNING:root:cannot compute similarity with no input []\n",
      "WARNING:root:cannot compute similarity with no input []\n",
      "WARNING:root:cannot compute similarity with no input []\n",
      "WARNING:root:cannot compute similarity with no input []\n",
      "WARNING:root:cannot compute similarity with no input []\n",
      "WARNING:root:cannot compute similarity with no input []\n",
      "WARNING:root:cannot compute similarity with no input []\n",
      "WARNING:root:cannot compute similarity with no input []\n",
      "WARNING:root:cannot compute similarity with no input []\n",
      "WARNING:root:cannot compute similarity with no input []\n",
      "WARNING:root:cannot compute similarity with no input []\n",
      "WARNING:root:cannot compute similarity with no input []\n",
      "WARNING:root:cannot compute similarity with no input []\n",
      "WARNING:root:cannot compute similarity with no input []\n",
      "WARNING:root:cannot compute similarity with no input []\n",
      "WARNING:root:cannot compute similarity with no input []\n",
      "WARNING:root:cannot compute similarity with no input []\n",
      "WARNING:root:cannot compute similarity with no input []\n",
      "WARNING:root:cannot compute similarity with no input []\n",
      "WARNING:root:cannot compute similarity with no input []\n",
      "WARNING:root:cannot compute similarity with no input []\n",
      "WARNING:root:cannot compute similarity with no input []\n",
      "WARNING:root:cannot compute similarity with no input []\n",
      "WARNING:root:cannot compute similarity with no input []\n",
      "WARNING:root:cannot compute similarity with no input []\n",
      "WARNING:root:cannot compute similarity with no input []\n",
      "WARNING:root:cannot compute similarity with no input []\n",
      "WARNING:root:cannot compute similarity with no input []\n",
      "WARNING:root:cannot compute similarity with no input []\n",
      "WARNING:root:cannot compute similarity with no input []\n",
      "WARNING:root:cannot compute similarity with no input []\n",
      "WARNING:root:cannot compute similarity with no input []\n",
      "WARNING:root:cannot compute similarity with no input []\n",
      "WARNING:root:cannot compute similarity with no input []\n",
      "WARNING:root:cannot compute similarity with no input []\n",
      "WARNING:root:cannot compute similarity with no input []\n",
      "WARNING:root:cannot compute similarity with no input []\n",
      "WARNING:root:cannot compute similarity with no input []\n",
      "WARNING:root:cannot compute similarity with no input []\n",
      "WARNING:root:cannot compute similarity with no input []\n",
      "WARNING:root:cannot compute similarity with no input []\n",
      "WARNING:root:cannot compute similarity with no input []\n",
      "WARNING:root:cannot compute similarity with no input []\n",
      "WARNING:root:cannot compute similarity with no input []\n",
      "WARNING:root:cannot compute similarity with no input []\n",
      "WARNING:root:cannot compute similarity with no input []\n",
      "WARNING:root:cannot compute similarity with no input []\n",
      "WARNING:root:cannot compute similarity with no input []\n",
      "WARNING:root:cannot compute similarity with no input []\n",
      "WARNING:root:cannot compute similarity with no input []\n",
      "WARNING:root:cannot compute similarity with no input []\n",
      "WARNING:root:cannot compute similarity with no input []\n",
      "WARNING:root:cannot compute similarity with no input []\n",
      "WARNING:root:cannot compute similarity with no input []\n",
      "WARNING:root:cannot compute similarity with no input []\n",
      "WARNING:root:cannot compute similarity with no input []\n",
      "WARNING:root:cannot compute similarity with no input []\n",
      "WARNING:root:cannot compute similarity with no input []\n",
      "WARNING:root:cannot compute similarity with no input []\n",
      "WARNING:root:cannot compute similarity with no input []\n",
      "WARNING:root:cannot compute similarity with no input []\n",
      "WARNING:root:cannot compute similarity with no input []\n",
      "WARNING:root:cannot compute similarity with no input []\n",
      "WARNING:root:cannot compute similarity with no input []\n",
      "WARNING:root:cannot compute similarity with no input []\n",
      "WARNING:root:cannot compute similarity with no input []\n",
      "WARNING:root:cannot compute similarity with no input []\n",
      "WARNING:root:cannot compute similarity with no input []\n",
      "WARNING:root:cannot compute similarity with no input []\n",
      "WARNING:root:cannot compute similarity with no input []\n",
      "WARNING:root:cannot compute similarity with no input []\n",
      "WARNING:root:cannot compute similarity with no input []\n",
      "WARNING:root:cannot compute similarity with no input []\n",
      "WARNING:root:cannot compute similarity with no input []\n",
      "WARNING:root:cannot compute similarity with no input []\n",
      "WARNING:root:cannot compute similarity with no input []\n",
      "WARNING:root:cannot compute similarity with no input []\n",
      "WARNING:root:cannot compute similarity with no input []\n",
      "WARNING:root:cannot compute similarity with no input []\n",
      "WARNING:root:cannot compute similarity with no input []\n",
      "WARNING:root:cannot compute similarity with no input []\n",
      "WARNING:root:cannot compute similarity with no input []\n",
      "WARNING:root:cannot compute similarity with no input []\n",
      "WARNING:root:cannot compute similarity with no input []\n",
      "WARNING:root:cannot compute similarity with no input []\n",
      "WARNING:root:cannot compute similarity with no input []\n",
      "WARNING:root:cannot compute similarity with no input []\n",
      "WARNING:root:cannot compute similarity with no input []\n",
      "WARNING:root:cannot compute similarity with no input []\n",
      "WARNING:root:cannot compute similarity with no input []\n",
      "WARNING:root:cannot compute similarity with no input []\n",
      "WARNING:root:cannot compute similarity with no input []\n",
      "WARNING:root:cannot compute similarity with no input []\n",
      "WARNING:root:cannot compute similarity with no input []\n",
      "WARNING:root:cannot compute similarity with no input []\n",
      "WARNING:root:cannot compute similarity with no input []\n",
      "WARNING:root:cannot compute similarity with no input []\n",
      "WARNING:root:cannot compute similarity with no input []\n",
      "WARNING:root:cannot compute similarity with no input []\n",
      "WARNING:root:cannot compute similarity with no input []\n",
      "WARNING:root:cannot compute similarity with no input []\n",
      "WARNING:root:cannot compute similarity with no input []\n",
      "WARNING:root:cannot compute similarity with no input []\n",
      "WARNING:root:cannot compute similarity with no input []\n",
      "WARNING:root:cannot compute similarity with no input []\n",
      "WARNING:root:cannot compute similarity with no input []\n",
      "WARNING:root:cannot compute similarity with no input []\n",
      "WARNING:root:cannot compute similarity with no input []\n",
      "WARNING:root:cannot compute similarity with no input []\n",
      "WARNING:root:cannot compute similarity with no input []\n",
      "WARNING:root:cannot compute similarity with no input []\n",
      "WARNING:root:cannot compute similarity with no input []\n",
      "WARNING:root:cannot compute similarity with no input []\n",
      "WARNING:root:cannot compute similarity with no input []\n",
      "WARNING:root:cannot compute similarity with no input []\n",
      "WARNING:root:cannot compute similarity with no input []\n",
      "WARNING:root:cannot compute similarity with no input []\n",
      "WARNING:root:cannot compute similarity with no input []\n",
      "WARNING:root:cannot compute similarity with no input []\n",
      "WARNING:root:cannot compute similarity with no input []\n",
      "WARNING:root:cannot compute similarity with no input []\n",
      "WARNING:root:cannot compute similarity with no input []\n",
      "WARNING:root:cannot compute similarity with no input []\n",
      "WARNING:root:cannot compute similarity with no input []\n",
      "WARNING:root:cannot compute similarity with no input []\n",
      "WARNING:root:cannot compute similarity with no input []\n",
      "WARNING:root:cannot compute similarity with no input []\n",
      "WARNING:root:cannot compute similarity with no input []\n",
      "WARNING:root:cannot compute similarity with no input []\n",
      "WARNING:root:cannot compute similarity with no input []\n",
      "WARNING:root:cannot compute similarity with no input []\n",
      "WARNING:root:cannot compute similarity with no input []\n",
      "WARNING:root:cannot compute similarity with no input []\n",
      "WARNING:root:cannot compute similarity with no input []\n",
      "WARNING:root:cannot compute similarity with no input []\n",
      "WARNING:root:cannot compute similarity with no input []\n",
      "WARNING:root:cannot compute similarity with no input []\n",
      "WARNING:root:cannot compute similarity with no input []\n",
      "WARNING:root:cannot compute similarity with no input []\n",
      "WARNING:root:cannot compute similarity with no input []\n",
      "WARNING:root:cannot compute similarity with no input []\n",
      "WARNING:root:cannot compute similarity with no input []\n",
      "WARNING:root:cannot compute similarity with no input []\n",
      "WARNING:root:cannot compute similarity with no input []\n",
      "WARNING:root:cannot compute similarity with no input []\n",
      "WARNING:root:cannot compute similarity with no input []\n",
      "WARNING:root:cannot compute similarity with no input []\n",
      "WARNING:root:cannot compute similarity with no input []\n",
      "WARNING:root:cannot compute similarity with no input []\n",
      "WARNING:root:cannot compute similarity with no input []\n",
      "WARNING:root:cannot compute similarity with no input []\n",
      "WARNING:root:cannot compute similarity with no input []\n",
      "WARNING:root:cannot compute similarity with no input []\n",
      "WARNING:root:cannot compute similarity with no input []\n",
      "WARNING:root:cannot compute similarity with no input []\n",
      "WARNING:root:cannot compute similarity with no input []\n",
      "WARNING:root:cannot compute similarity with no input []\n",
      "WARNING:root:cannot compute similarity with no input []\n",
      "WARNING:root:cannot compute similarity with no input []\n",
      "WARNING:root:cannot compute similarity with no input []\n",
      "WARNING:root:cannot compute similarity with no input []\n",
      "WARNING:root:cannot compute similarity with no input []\n",
      "WARNING:root:cannot compute similarity with no input []\n",
      "WARNING:root:cannot compute similarity with no input []\n",
      "WARNING:root:cannot compute similarity with no input []\n",
      "WARNING:root:cannot compute similarity with no input []\n",
      "WARNING:root:cannot compute similarity with no input []\n",
      "WARNING:root:cannot compute similarity with no input []\n",
      "WARNING:root:cannot compute similarity with no input []\n",
      "WARNING:root:cannot compute similarity with no input []\n",
      "WARNING:root:cannot compute similarity with no input []\n",
      "WARNING:root:cannot compute similarity with no input []\n",
      "WARNING:root:cannot compute similarity with no input []\n",
      "WARNING:root:cannot compute similarity with no input []\n",
      "WARNING:root:cannot compute similarity with no input []\n",
      "WARNING:root:cannot compute similarity with no input []\n",
      "WARNING:root:cannot compute similarity with no input []\n",
      "WARNING:root:cannot compute similarity with no input []\n",
      "WARNING:root:cannot compute similarity with no input []\n",
      "WARNING:root:cannot compute similarity with no input []\n",
      "WARNING:root:cannot compute similarity with no input []\n",
      "WARNING:root:cannot compute similarity with no input []\n",
      "WARNING:root:cannot compute similarity with no input []\n",
      "WARNING:root:cannot compute similarity with no input []\n",
      "WARNING:root:cannot compute similarity with no input []\n",
      "WARNING:root:cannot compute similarity with no input []\n",
      "WARNING:root:cannot compute similarity with no input []\n",
      "WARNING:root:cannot compute similarity with no input []\n",
      "WARNING:root:cannot compute similarity with no input []\n",
      "WARNING:root:cannot compute similarity with no input []\n",
      "WARNING:root:cannot compute similarity with no input []\n",
      "WARNING:root:cannot compute similarity with no input []\n",
      "WARNING:root:cannot compute similarity with no input []\n",
      "WARNING:root:cannot compute similarity with no input []\n",
      "WARNING:root:cannot compute similarity with no input []\n",
      "WARNING:root:cannot compute similarity with no input []\n",
      "WARNING:root:cannot compute similarity with no input []\n",
      "WARNING:root:cannot compute similarity with no input []\n",
      "WARNING:root:cannot compute similarity with no input []\n",
      "WARNING:root:cannot compute similarity with no input []\n",
      "WARNING:root:cannot compute similarity with no input []\n",
      "WARNING:root:cannot compute similarity with no input []\n",
      "WARNING:root:cannot compute similarity with no input []\n",
      "WARNING:root:cannot compute similarity with no input []\n",
      "WARNING:root:cannot compute similarity with no input []\n",
      "WARNING:root:cannot compute similarity with no input []\n",
      "WARNING:root:cannot compute similarity with no input []\n",
      "WARNING:root:cannot compute similarity with no input []\n",
      "WARNING:root:cannot compute similarity with no input []\n",
      "WARNING:root:cannot compute similarity with no input []\n",
      "WARNING:root:cannot compute similarity with no input []\n",
      "WARNING:root:cannot compute similarity with no input []\n",
      "WARNING:root:cannot compute similarity with no input []\n",
      "WARNING:root:cannot compute similarity with no input []\n",
      "WARNING:root:cannot compute similarity with no input []\n",
      "WARNING:root:cannot compute similarity with no input []\n",
      "WARNING:root:cannot compute similarity with no input []\n",
      "WARNING:root:cannot compute similarity with no input []\n",
      "WARNING:root:cannot compute similarity with no input []\n",
      "WARNING:root:cannot compute similarity with no input []\n",
      "WARNING:root:cannot compute similarity with no input []\n",
      "WARNING:root:cannot compute similarity with no input []\n",
      "WARNING:root:cannot compute similarity with no input []\n",
      "WARNING:root:cannot compute similarity with no input []\n",
      "WARNING:root:cannot compute similarity with no input []\n",
      "WARNING:root:cannot compute similarity with no input []\n",
      "WARNING:root:cannot compute similarity with no input []\n",
      "WARNING:root:cannot compute similarity with no input []\n",
      "WARNING:root:cannot compute similarity with no input []\n",
      "WARNING:root:cannot compute similarity with no input []\n",
      "WARNING:root:cannot compute similarity with no input []\n",
      "WARNING:root:cannot compute similarity with no input []\n",
      "WARNING:root:cannot compute similarity with no input []\n",
      "WARNING:root:cannot compute similarity with no input []\n",
      "WARNING:root:cannot compute similarity with no input []\n",
      "WARNING:root:cannot compute similarity with no input []\n",
      "WARNING:root:cannot compute similarity with no input []\n",
      "WARNING:root:cannot compute similarity with no input []\n",
      "WARNING:root:cannot compute similarity with no input []\n",
      "WARNING:root:cannot compute similarity with no input []\n",
      "WARNING:root:cannot compute similarity with no input []\n",
      "WARNING:root:cannot compute similarity with no input []\n",
      "WARNING:root:cannot compute similarity with no input []\n",
      "WARNING:root:cannot compute similarity with no input []\n",
      "WARNING:root:cannot compute similarity with no input []\n",
      "WARNING:root:cannot compute similarity with no input []\n",
      "WARNING:root:cannot compute similarity with no input []\n",
      "WARNING:root:cannot compute similarity with no input []\n",
      "WARNING:root:cannot compute similarity with no input []\n",
      "WARNING:root:cannot compute similarity with no input []\n",
      "WARNING:root:cannot compute similarity with no input []\n",
      "WARNING:root:cannot compute similarity with no input []\n",
      "WARNING:root:cannot compute similarity with no input []\n",
      "WARNING:root:cannot compute similarity with no input []\n",
      "WARNING:root:cannot compute similarity with no input []\n",
      "WARNING:root:cannot compute similarity with no input []\n",
      "WARNING:root:cannot compute similarity with no input []\n",
      "WARNING:root:cannot compute similarity with no input []\n",
      "WARNING:root:cannot compute similarity with no input []\n",
      "WARNING:root:cannot compute similarity with no input []\n",
      "WARNING:root:cannot compute similarity with no input []\n",
      "WARNING:root:cannot compute similarity with no input []\n",
      "WARNING:root:cannot compute similarity with no input []\n",
      "WARNING:root:cannot compute similarity with no input []\n",
      "WARNING:root:cannot compute similarity with no input []\n",
      "WARNING:root:cannot compute similarity with no input []\n",
      "WARNING:root:cannot compute similarity with no input []\n",
      "WARNING:root:cannot compute similarity with no input []\n",
      "WARNING:root:cannot compute similarity with no input []\n",
      "WARNING:root:cannot compute similarity with no input []\n",
      "WARNING:root:cannot compute similarity with no input []\n",
      "WARNING:root:cannot compute similarity with no input []\n",
      "WARNING:root:cannot compute similarity with no input []\n",
      "WARNING:root:cannot compute similarity with no input []\n",
      "WARNING:root:cannot compute similarity with no input []\n",
      "WARNING:root:cannot compute similarity with no input []\n",
      "WARNING:root:cannot compute similarity with no input []\n",
      "WARNING:root:cannot compute similarity with no input []\n",
      "WARNING:root:cannot compute similarity with no input []\n",
      "WARNING:root:cannot compute similarity with no input []\n",
      "WARNING:root:cannot compute similarity with no input []\n",
      "WARNING:root:cannot compute similarity with no input []\n",
      "WARNING:root:cannot compute similarity with no input []\n",
      "WARNING:root:cannot compute similarity with no input []\n",
      "WARNING:root:cannot compute similarity with no input []\n",
      "WARNING:root:cannot compute similarity with no input []\n",
      "WARNING:root:cannot compute similarity with no input []\n",
      "WARNING:root:cannot compute similarity with no input []\n",
      "WARNING:root:cannot compute similarity with no input []\n",
      "WARNING:root:cannot compute similarity with no input []\n",
      "WARNING:root:cannot compute similarity with no input []\n",
      "WARNING:root:cannot compute similarity with no input []\n",
      "WARNING:root:cannot compute similarity with no input []\n",
      "WARNING:root:cannot compute similarity with no input []\n",
      "WARNING:root:cannot compute similarity with no input []\n",
      "WARNING:root:cannot compute similarity with no input []\n",
      "WARNING:root:cannot compute similarity with no input []\n",
      "WARNING:root:cannot compute similarity with no input []\n",
      "WARNING:root:cannot compute similarity with no input []\n",
      "WARNING:root:cannot compute similarity with no input []\n",
      "WARNING:root:cannot compute similarity with no input []\n",
      "WARNING:root:cannot compute similarity with no input []\n",
      "WARNING:root:cannot compute similarity with no input []\n",
      "WARNING:root:cannot compute similarity with no input []\n",
      "WARNING:root:cannot compute similarity with no input []\n",
      "WARNING:root:cannot compute similarity with no input []\n",
      "WARNING:root:cannot compute similarity with no input []\n",
      "WARNING:root:cannot compute similarity with no input []\n",
      "WARNING:root:cannot compute similarity with no input []\n",
      "WARNING:root:cannot compute similarity with no input []\n",
      "WARNING:root:cannot compute similarity with no input []\n",
      "WARNING:root:cannot compute similarity with no input []\n",
      "WARNING:root:cannot compute similarity with no input []\n",
      "WARNING:root:cannot compute similarity with no input []\n",
      "WARNING:root:cannot compute similarity with no input []\n",
      "WARNING:root:cannot compute similarity with no input []\n",
      "WARNING:root:cannot compute similarity with no input []\n",
      "WARNING:root:cannot compute similarity with no input []\n",
      "WARNING:root:cannot compute similarity with no input []\n",
      "WARNING:root:cannot compute similarity with no input []\n",
      "WARNING:root:cannot compute similarity with no input []\n",
      "WARNING:root:cannot compute similarity with no input []\n",
      "WARNING:root:cannot compute similarity with no input []\n",
      "WARNING:root:cannot compute similarity with no input []\n",
      "WARNING:root:cannot compute similarity with no input []\n",
      "WARNING:root:cannot compute similarity with no input []\n",
      "WARNING:root:cannot compute similarity with no input []\n",
      "WARNING:root:cannot compute similarity with no input []\n",
      "WARNING:root:cannot compute similarity with no input []\n",
      "WARNING:root:cannot compute similarity with no input []\n",
      "WARNING:root:cannot compute similarity with no input []\n",
      "WARNING:root:cannot compute similarity with no input []\n",
      "WARNING:root:cannot compute similarity with no input []\n",
      "WARNING:root:cannot compute similarity with no input []\n",
      "WARNING:root:cannot compute similarity with no input []\n",
      "WARNING:root:cannot compute similarity with no input []\n",
      "WARNING:root:cannot compute similarity with no input []\n",
      "WARNING:root:cannot compute similarity with no input []\n",
      "WARNING:root:cannot compute similarity with no input []\n",
      "WARNING:root:cannot compute similarity with no input []\n",
      "WARNING:root:cannot compute similarity with no input []\n",
      "WARNING:root:cannot compute similarity with no input []\n",
      "WARNING:root:cannot compute similarity with no input []\n",
      "WARNING:root:cannot compute similarity with no input []\n",
      "WARNING:root:cannot compute similarity with no input []\n",
      "WARNING:root:cannot compute similarity with no input []\n",
      "WARNING:root:cannot compute similarity with no input []\n",
      "WARNING:root:cannot compute similarity with no input []\n",
      "WARNING:root:cannot compute similarity with no input []\n",
      "WARNING:root:cannot compute similarity with no input []\n",
      "WARNING:root:cannot compute similarity with no input []\n",
      "WARNING:root:cannot compute similarity with no input []\n",
      "WARNING:root:cannot compute similarity with no input []\n",
      "WARNING:root:cannot compute similarity with no input []\n",
      "WARNING:root:cannot compute similarity with no input []\n",
      "WARNING:root:cannot compute similarity with no input []\n",
      "WARNING:root:cannot compute similarity with no input []\n",
      "WARNING:root:cannot compute similarity with no input []\n",
      "WARNING:root:cannot compute similarity with no input []\n",
      "WARNING:root:cannot compute similarity with no input []\n",
      "WARNING:root:cannot compute similarity with no input []\n",
      "WARNING:root:cannot compute similarity with no input []\n",
      "WARNING:root:cannot compute similarity with no input []\n",
      "WARNING:root:cannot compute similarity with no input []\n",
      "WARNING:root:cannot compute similarity with no input []\n",
      "WARNING:root:cannot compute similarity with no input []\n",
      "WARNING:root:cannot compute similarity with no input []\n",
      "WARNING:root:cannot compute similarity with no input []\n",
      "WARNING:root:cannot compute similarity with no input []\n",
      "WARNING:root:cannot compute similarity with no input []\n",
      "WARNING:root:cannot compute similarity with no input []\n",
      "WARNING:root:cannot compute similarity with no input []\n",
      "WARNING:root:cannot compute similarity with no input []\n",
      "WARNING:root:cannot compute similarity with no input []\n",
      "WARNING:root:cannot compute similarity with no input []\n",
      "WARNING:root:cannot compute similarity with no input []\n",
      "WARNING:root:cannot compute similarity with no input []\n",
      "WARNING:root:cannot compute similarity with no input []\n",
      "WARNING:root:cannot compute similarity with no input []\n",
      "WARNING:root:cannot compute similarity with no input []\n",
      "WARNING:root:cannot compute similarity with no input []\n",
      "WARNING:root:cannot compute similarity with no input []\n",
      "WARNING:root:cannot compute similarity with no input []\n",
      "WARNING:root:cannot compute similarity with no input []\n",
      "WARNING:root:cannot compute similarity with no input []\n",
      "WARNING:root:cannot compute similarity with no input []\n",
      "WARNING:root:cannot compute similarity with no input []\n",
      "WARNING:root:cannot compute similarity with no input []\n",
      "WARNING:root:cannot compute similarity with no input []\n",
      "WARNING:root:cannot compute similarity with no input []\n",
      "WARNING:root:cannot compute similarity with no input []\n",
      "WARNING:root:cannot compute similarity with no input []\n",
      "WARNING:root:cannot compute similarity with no input []\n",
      "WARNING:root:cannot compute similarity with no input []\n",
      "WARNING:root:cannot compute similarity with no input []\n",
      "WARNING:root:cannot compute similarity with no input []\n",
      "WARNING:root:cannot compute similarity with no input []\n"
     ]
    }
   ],
   "source": [
    "from sklearn.model_selection import train_test_split\n",
    "\n",
    "def w2v_tokenize_text(text):\n",
    "    tokens = []\n",
    "    for sent in nltk.sent_tokenize(text, language='english'):\n",
    "        for word in nltk.word_tokenize(sent, language='english'):\n",
    "            if len(word) < 2:\n",
    "                continue\n",
    "            tokens.append(word)\n",
    "    return tokens\n",
    "    \n",
    "train_w2v, test_w2v = train_test_split(train, test_size=0.2, random_state = 42)\n",
    "# x_t,x_v,y_t,y_v = train_test_split(train['tweet'],train['class'],test_size=0.2,random_state=234)\n",
    "\n",
    "test_tokenized = test_w2v.apply(lambda r: w2v_tokenize_text(r['tweet']), axis=1).values\n",
    "train_tokenized = train_w2v.apply(lambda r: w2v_tokenize_text(r['tweet']), axis=1).values\n",
    "\n",
    "X_train_word_average = word_averaging_list(wv,train_tokenized)\n",
    "X_test_word_average = word_averaging_list(wv,test_tokenized)"
   ]
  },
  {
   "cell_type": "code",
   "execution_count": 80,
   "metadata": {
    "colab": {
     "base_uri": "https://localhost:8080/",
     "height": 1000
    },
    "colab_type": "code",
    "executionInfo": {
     "elapsed": 77192,
     "status": "ok",
     "timestamp": 1573310238622,
     "user": {
      "displayName": "Pawar Pranav Dayanand mm17b003",
      "photoUrl": "",
      "userId": "03168935693589294616"
     },
     "user_tz": -330
    },
    "id": "DMXpkH0oa4nd",
    "outputId": "4334c397-4251-4521-f7f0-0e685252c5a0"
   },
   "outputs": [
    {
     "name": "stderr",
     "output_type": "stream",
     "text": [
      "/usr/local/lib/python3.6/dist-packages/ipykernel_launcher.py:8: DeprecationWarning: Call to deprecated `syn0norm` (Attribute will be removed in 4.0.0, use self.wv.vectors_norm instead).\n",
      "  \n",
      "/usr/local/lib/python3.6/dist-packages/gensim/matutils.py:737: FutureWarning: Conversion of the second argument of issubdtype from `int` to `np.signedinteger` is deprecated. In future, it will be treated as `np.int64 == np.dtype(int).type`.\n",
      "  if np.issubdtype(vec.dtype, np.int):\n",
      "WARNING:root:cannot compute similarity with no input []\n",
      "WARNING:root:cannot compute similarity with no input []\n",
      "WARNING:root:cannot compute similarity with no input []\n",
      "WARNING:root:cannot compute similarity with no input []\n",
      "WARNING:root:cannot compute similarity with no input []\n",
      "WARNING:root:cannot compute similarity with no input []\n",
      "WARNING:root:cannot compute similarity with no input []\n",
      "WARNING:root:cannot compute similarity with no input []\n",
      "WARNING:root:cannot compute similarity with no input ['xfxfxcxbxfxfxxexexxaexefxbxfyes']\n",
      "WARNING:root:cannot compute similarity with no input ['istas', 'sabina', 'bavaria']\n",
      "WARNING:root:cannot compute similarity with no input ['fileseankilpatrickjpg', 'fileconnorbarwincincypng']\n",
      "WARNING:root:cannot compute similarity with no input ['aug', 'utc']\n",
      "WARNING:root:cannot compute similarity with no input ['btard']\n",
      "WARNING:root:cannot compute similarity with no input ['phearson']\n",
      "WARNING:root:cannot compute similarity with no input ['wwwcomgemtk', 'wwwmyforumconr']\n",
      "WARNING:root:cannot compute similarity with no input ['bla', 'blasuck', 'irishguy']\n",
      "WARNING:root:cannot compute similarity with no input ['lk', 'goebbels']\n",
      "WARNING:root:cannot compute similarity with no input ['ly', 'utc']\n",
      "WARNING:root:cannot compute similarity with no input ['lktalk']\n",
      "WARNING:root:cannot compute similarity with no input ['user_talkking', 'lopezlopezcontribs']\n",
      "WARNING:root:cannot compute similarity with no input []\n",
      "WARNING:root:cannot compute similarity with no input ['classstub', 'playeryes', 'needsinfoboxyes']\n",
      "WARNING:root:cannot compute similarity with no input ['yssaa', 'oconnor', 'reatrded']\n",
      "WARNING:root:cannot compute similarity with no input ['istas', 'wenceslaus', 'luxembourg']\n",
      "WARNING:root:cannot compute similarity with no input ['ptember']\n",
      "WARNING:root:cannot compute similarity with no input ['antivandalism', 'barnstarfuku']\n",
      "WARNING:root:cannot compute similarity with no input ['vandal']\n",
      "WARNING:root:cannot compute similarity with no input ['szabolcs', 'kókay']\n",
      "WARNING:root:cannot compute similarity with no input []\n",
      "WARNING:root:cannot compute similarity with no input ['kipediamiscellany', 'deletioneaster', 'bradford']\n",
      "WARNING:root:cannot compute similarity with no input ['llo', 'hannahbutterface']\n",
      "WARNING:root:cannot compute similarity with no input ['inserted']\n",
      "WARNING:root:cannot compute similarity with no input ['ology']\n",
      "WARNING:root:cannot compute similarity with no input ['ggard', 'discography', 'simplified']\n",
      "WARNING:root:cannot compute similarity with no input ['ramdasia']\n",
      "WARNING:root:cannot compute similarity with no input ['mplatennwarn']\n",
      "WARNING:root:cannot compute similarity with no input ['pyright']\n",
      "WARNING:root:cannot compute similarity with no input []\n",
      "WARNING:root:cannot compute similarity with no input []\n",
      "WARNING:root:cannot compute similarity with no input []\n",
      "WARNING:root:cannot compute similarity with no input ['vandalized', 'againh']\n",
      "WARNING:root:cannot compute similarity with no input ['talkcontributions']\n",
      "WARNING:root:cannot compute similarity with no input ['jun', 'utc']\n",
      "WARNING:root:cannot compute similarity with no input ['suitable', 'subarticle']\n",
      "WARNING:root:cannot compute similarity with no input ['ptember', 'utcsection']\n",
      "WARNING:root:cannot compute similarity with no input ['ege', 'homs', 'tabtab']\n",
      "WARNING:root:cannot compute similarity with no input ['tías', 'olivares', 'santiago', 'olilnikvictoria', 'bernal']\n",
      "WARNING:root:cannot compute similarity with no input []\n",
      "WARNING:root:cannot compute similarity with no input ['jun', 'utc']\n",
      "WARNING:root:cannot compute similarity with no input ['cember', 'benjiboi']\n",
      "WARNING:root:cannot compute similarity with no input ['acceptunblock']\n",
      "WARNING:root:cannot compute similarity with no input ['anks']\n",
      "WARNING:root:cannot compute similarity with no input ['speciesbe', 'hidn', 'pl']\n",
      "WARNING:root:cannot compute similarity with no input ['talkniihau']\n",
      "WARNING:root:cannot compute similarity with no input ['mahal', 'salam']\n",
      "WARNING:root:cannot compute similarity with no input ['asktalkarmenian', 'genocideargumentsmasktalkarmenian', 'genocidefadix', 'analysismasktalkarmenian', 'genocideproposed', 'refactor']\n",
      "WARNING:root:cannot compute similarity with no input ['ure']\n",
      "WARNING:root:cannot compute similarity with no input []\n",
      "WARNING:root:cannot compute similarity with no input ['dannyg']\n",
      "WARNING:root:cannot compute similarity with no input ['unblocki', 'apologized']\n",
      "WARNING:root:cannot compute similarity with no input ['bucketheadland']\n",
      "WARNING:root:cannot compute similarity with no input ['manipulator']\n",
      "WARNING:root:cannot compute similarity with no input ['neutralhomer', 'harrasment']\n",
      "WARNING:root:cannot compute similarity with no input ['poseleave']\n",
      "WARNING:root:cannot compute similarity with no input ['idence', 'ddstretch', 'accusing']\n",
      "WARNING:root:cannot compute similarity with no input ['ank', 'mendaliv']\n",
      "WARNING:root:cannot compute similarity with no input ['amples', 'buboos', 'ooff', 'pumpf']\n",
      "WARNING:root:cannot compute similarity with no input ['ank', 'mabuhay', 'loretta']\n",
      "WARNING:root:cannot compute similarity with no input ['ftpftpmetfsuedupubweathertropicalguamstuffwtpnpgtw']\n",
      "WARNING:root:cannot compute similarity with no input ['jun', 'utc']\n",
      "WARNING:root:cannot compute similarity with no input ['istas', 'aucher', 'baronet']\n",
      "WARNING:root:cannot compute similarity with no input ['ank', 'encouragement']\n",
      "WARNING:root:cannot compute similarity with no input ['jun', 'utc']\n",
      "WARNING:root:cannot compute similarity with no input ['anks']\n",
      "WARNING:root:cannot compute similarity with no input ['larified', 'zspun']\n",
      "WARNING:root:cannot compute similarity with no input ['barrett', 'rosenthal']\n",
      "WARNING:root:cannot compute similarity with no input ['suckkkkkkkkkkkkkkk']\n",
      "WARNING:root:cannot compute similarity with no input ['newyorkbrad']\n",
      "WARNING:root:cannot compute similarity with no input ['anks', 'agreeing']\n",
      "WARNING:root:cannot compute similarity with no input ['mplatedata']\n",
      "WARNING:root:cannot compute similarity with no input ['revert']\n",
      "WARNING:root:cannot compute similarity with no input ['ich', 'steppedcockpits']\n",
      "WARNING:root:cannot compute similarity with no input ['ergdjkllfdsasdfjklkjfdsatalk']\n",
      "WARNING:root:cannot compute similarity with no input ['kipediacommunity', 'portal']\n",
      "WARNING:root:cannot compute similarity with no input []\n",
      "WARNING:root:cannot compute similarity with no input ['ursorhelpαω']\n",
      "WARNING:root:cannot compute similarity with no input ['reliability']\n",
      "WARNING:root:cannot compute similarity with no input ['vandalism']\n",
      "WARNING:root:cannot compute similarity with no input []\n",
      "WARNING:root:cannot compute similarity with no input ['bytepackets']\n",
      "WARNING:root:cannot compute similarity with no input ['reverted']\n",
      "WARNING:root:cannot compute similarity with no input ['mozart', 'reincarnation', 'woooooooooooo']\n",
      "WARNING:root:cannot compute similarity with no input ['ardy', 'ardy', 'redirect']\n",
      "WARNING:root:cannot compute similarity with no input ['ticle', 'povron']\n",
      "WARNING:root:cannot compute similarity with no input ['lgarians', 'mediterranean']\n",
      "WARNING:root:cannot compute similarity with no input ['considerably', 'highrish', 'articletemplate']\n",
      "WARNING:root:cannot compute similarity with no input ['wwebenefitsvagov']\n",
      "WARNING:root:cannot compute similarity with no input ['llo', 'theirrulez']\n",
      "WARNING:root:cannot compute similarity with no input ['lasslist', 'importancelow']\n",
      "WARNING:root:cannot compute similarity with no input ['commonsmediawikigadgetgoogleimagesjs']\n",
      "WARNING:root:cannot compute similarity with no input ['bn']\n",
      "WARNING:root:cannot compute similarity with no input ['ptember']\n",
      "WARNING:root:cannot compute similarity with no input ['dieeeeeeeeeeeeeeeeeeeee']\n",
      "WARNING:root:cannot compute similarity with no input ['dlohcierekim']\n",
      "WARNING:root:cannot compute similarity with no input ['barnstar']\n",
      "WARNING:root:cannot compute similarity with no input ['agreebeasttobeast', 'beasttobeastbeasttobeast']\n",
      "WARNING:root:cannot compute similarity with no input ['wwwcornsilkscom', 'sockpuppets']\n",
      "WARNING:root:cannot compute similarity with no input ['urrentstatusga', 'topicmusic', 'dyk', 'nomination']\n",
      "WARNING:root:cannot compute similarity with no input ['talkcontributions']\n",
      "WARNING:root:cannot compute similarity with no input ['racquel', 'mcconney', 'katrín', 'ármannsdóttir', 'rebeca', 'guerrero', 'andreína', 'katarina', 'roldán']\n",
      "WARNING:root:cannot compute similarity with no input ['atever']\n",
      "WARNING:root:cannot compute similarity with no input ['lution']\n",
      "WARNING:root:cannot compute similarity with no input ['tween']\n",
      "WARNING:root:cannot compute similarity with no input ['eclinefucking', 'bellend']\n",
      "WARNING:root:cannot compute similarity with no input ['rvus', 'cornix', 'vivien', 'leigh']\n",
      "WARNING:root:cannot compute similarity with no input ['jul', 'utc']\n",
      "WARNING:root:cannot compute similarity with no input ['nuary']\n",
      "WARNING:root:cannot compute similarity with no input ['comparison_of_layout_engines_html', 'gecko']\n",
      "WARNING:root:cannot compute similarity with no input ['jun', 'utc']\n",
      "WARNING:root:cannot compute similarity with no input ['merge']\n",
      "WARNING:root:cannot compute similarity with no input ['kipediaarticles', 'deletionwrestlemania', 'xxviii']\n",
      "WARNING:root:cannot compute similarity with no input ['ldeap', 'apldeap']\n",
      "WARNING:root:cannot compute similarity with no input ['ouldnt']\n",
      "WARNING:root:cannot compute similarity with no input ['lassstub', 'importancelow', 'seasonyes', 'taiwanyes']\n",
      "WARNING:root:cannot compute similarity with no input []\n",
      "WARNING:root:cannot compute similarity with no input ['stylebackgroundblue', 'fullop']\n",
      "WARNING:root:cannot compute similarity with no input ['bcom', 'wparbtm']\n",
      "WARNING:root:cannot compute similarity with no input ['funnyyyy', 'yyyyyyyyyyyyyyyyyyyyyyyyyyyyyyyyyyyyyyyyyyyyyyyyyyyy']\n",
      "WARNING:root:cannot compute similarity with no input ['llregionshtml']\n",
      "WARNING:root:cannot compute similarity with no input ['onoff', 'onoff']\n",
      "WARNING:root:cannot compute similarity with no input ['anged', 'fidonetca', 'fidotelorg']\n",
      "WARNING:root:cannot compute similarity with no input ['knackered']\n",
      "WARNING:root:cannot compute similarity with no input ['verted', 'againsee', 'verifiability']\n",
      "WARNING:root:cannot compute similarity with no input ['ich', 'blunderson']\n",
      "WARNING:root:cannot compute similarity with no input ['rged', 'redirected']\n",
      "WARNING:root:cannot compute similarity with no input []\n",
      "WARNING:root:cannot compute similarity with no input ['anks']\n",
      "WARNING:root:cannot compute similarity with no input ['eclineindeed']\n",
      "WARNING:root:cannot compute similarity with no input ['talkemail']\n",
      "WARNING:root:cannot compute similarity with no input ['ir', 'abpw', 'ºn', 'ºe']\n",
      "WARNING:root:cannot compute similarity with no input []\n",
      "WARNING:root:cannot compute similarity with no input ['onunciation']\n",
      "WARNING:root:cannot compute similarity with no input ['vandalism', 'vandalism']\n",
      "WARNING:root:cannot compute similarity with no input ['saduj', 'aldahij']\n",
      "WARNING:root:cannot compute similarity with no input ['aug', 'utc']\n",
      "WARNING:root:cannot compute similarity with no input ['pleasureyou']\n",
      "WARNING:root:cannot compute similarity with no input ['jul', 'utc']\n",
      "WARNING:root:cannot compute similarity with no input ['qaedia']\n",
      "WARNING:root:cannot compute similarity with no input ['cottonheadednittymuggins']\n",
      "WARNING:root:cannot compute similarity with no input ['orox', 'glatorian', 'vorox', 'glatorian']\n",
      "WARNING:root:cannot compute similarity with no input ['classstart', 'importancelow']\n",
      "WARNING:root:cannot compute similarity with no input ['aningless', 'saddening', 'barnstars']\n",
      "WARNING:root:cannot compute similarity with no input ['germanbot', 'autounsigned']\n",
      "WARNING:root:cannot compute similarity with no input ['anx', 'lnk', 'unicodeutf']\n",
      "WARNING:root:cannot compute similarity with no input ['tdth']\n",
      "WARNING:root:cannot compute similarity with no input ['coopermaybe', 'fyrom', 'ferg']\n",
      "WARNING:root:cannot compute similarity with no input []\n",
      "WARNING:root:cannot compute similarity with no input ['eclinedont', 'bellend']\n",
      "WARNING:root:cannot compute similarity with no input ['lasspolishyesrussianyeswwiyesb']\n",
      "WARNING:root:cannot compute similarity with no input ['ferret', 'meanie', 'ferret']\n",
      "WARNING:root:cannot compute similarity with no input ['ank', 'junegloom']\n",
      "WARNING:root:cannot compute similarity with no input []\n",
      "WARNING:root:cannot compute similarity with no input ['motherlode']\n",
      "WARNING:root:cannot compute similarity with no input ['neoballmon']\n",
      "WARNING:root:cannot compute similarity with no input ['spelt', 'amaretto']\n",
      "WARNING:root:cannot compute similarity with no input ['ub', 'listasengelbert', 'marck']\n",
      "WARNING:root:cannot compute similarity with no input ['watchlist']\n",
      "WARNING:root:cannot compute similarity with no input ['wallander']\n",
      "WARNING:root:cannot compute similarity with no input ['rge', 'merge', 'lindon']\n",
      "WARNING:root:cannot compute similarity with no input ['lwer', 'lytton', 'rosina', 'bulwer', 'lytton', 'rosina', 'bulwer', 'lytton', 'rosina']\n",
      "WARNING:root:cannot compute similarity with no input ['eling', 'morderous']\n",
      "WARNING:root:cannot compute similarity with no input ['ipper', 'chipper', 'chipper', 'chipper', 'chipper', 'chipper', 'chipper', 'chipper']\n",
      "WARNING:root:cannot compute similarity with no input ['pepole', 'yoyoyooyoyooyoy']\n",
      "WARNING:root:cannot compute similarity with no input ['ddle', 'steamer', 'specialist']\n",
      "WARNING:root:cannot compute similarity with no input ['istas', 'bartoli', 'adolfo']\n",
      "WARNING:root:cannot compute similarity with no input ['tthetenyearoldsoffhereplease']\n",
      "WARNING:root:cannot compute similarity with no input ['jul', 'utc']\n",
      "WARNING:root:cannot compute similarity with no input ['swered', 'talkpseudoinverse']\n",
      "WARNING:root:cannot compute similarity with no input ['ght']\n",
      "WARNING:root:cannot compute similarity with no input ['xed', 'wpfour', 'wpchicago', 'wpwaward']\n",
      "WARNING:root:cannot compute similarity with no input ['gansta', 'gansta']\n",
      "WARNING:root:cannot compute similarity with no input ['vandalising', 'vandalising']\n",
      "WARNING:root:cannot compute similarity with no input []\n",
      "WARNING:root:cannot compute similarity with no input ['eunuch']\n",
      "WARNING:root:cannot compute similarity with no input ['bclassno', 'bclassno', 'bclassyes', 'bclassyes', 'bclassyes']\n",
      "WARNING:root:cannot compute similarity with no input ['elisted', 'homunculus']\n",
      "WARNING:root:cannot compute similarity with no input ['ited', 'statesclassstubimportancelow', 'wikiproject']\n",
      "WARNING:root:cannot compute similarity with no input ['dgiekiller', 'panzy']\n",
      "WARNING:root:cannot compute similarity with no input []\n",
      "WARNING:root:cannot compute similarity with no input ['wattention', 'peerreview', 'oldpeerreview', 'imageneeded', 'needsinfobox']\n",
      "WARNING:root:cannot compute similarity with no input ['rewroted', 'icelandic']\n",
      "WARNING:root:cannot compute similarity with no input ['wikipediarequests', 'mediation']\n",
      "WARNING:root:cannot compute similarity with no input ['olduser', 'olddate']\n",
      "WARNING:root:cannot compute similarity with no input ['encyclopaedia']\n",
      "WARNING:root:cannot compute similarity with no input ['patronizing']\n",
      "WARNING:root:cannot compute similarity with no input ['jun', 'utc']\n",
      "WARNING:root:cannot compute similarity with no input ['hmarley', 'wright', 'fddddddddddddddddddddddddd']\n",
      "WARNING:root:cannot compute similarity with no input ['yoy', 'yoy', 'woy', 'yoyyoy', 'yoy', 'woy', 'yoy', 'yoy', 'yoy', 'yoy', 'yoyyoy', 'yoy']\n",
      "WARNING:root:cannot compute similarity with no input ['xed', 'tcwpchicagowpfour']\n",
      "WARNING:root:cannot compute similarity with no input ['deletion', 'arictle']\n",
      "WARNING:root:cannot compute similarity with no input ['ngratulations', 'schrandit']\n",
      "WARNING:root:cannot compute similarity with no input ['ceoil']\n",
      "WARNING:root:cannot compute similarity with no input ['upi', 'hihihi']\n",
      "WARNING:root:cannot compute similarity with no input []\n",
      "WARNING:root:cannot compute similarity with no input []\n",
      "WARNING:root:cannot compute similarity with no input ['ateboard', 'skateboard', 'knobend']\n",
      "WARNING:root:cannot compute similarity with no input ['hrassment', 'jewhater', 'whaledad']\n",
      "WARNING:root:cannot compute similarity with no input ['talkme']\n",
      "WARNING:root:cannot compute similarity with no input ['talkcontributions']\n",
      "WARNING:root:cannot compute similarity with no input ['vely']\n",
      "WARNING:root:cannot compute similarity with no input ['aotd', 'featurebox', 'inmediayes']\n",
      "WARNING:root:cannot compute similarity with no input ['mment', 'wpsingular']\n",
      "WARNING:root:cannot compute similarity with no input ['еrеs', 'mοrе', 'mасhinе', 'thаn', 'mаn', 'οbiwаn', 'kеnοbi', 'rеfеrring', 'tο', 'nаwlinwiki']\n",
      "WARNING:root:cannot compute similarity with no input ['peasement', 'eurabia', 'pauper']\n",
      "WARNING:root:cannot compute similarity with no input ['rv', 'reverted', 'povedits', 'wpor', 'unexplained', 'deletion']\n",
      "WARNING:root:cannot compute similarity with no input ['nsider', 'undone']\n",
      "WARNING:root:cannot compute similarity with no input []\n",
      "WARNING:root:cannot compute similarity with no input ['personhood']\n",
      "WARNING:root:cannot compute similarity with no input ['homepage', 'tc']\n",
      "WARNING:root:cannot compute similarity with no input ['userevlekis', 'евлекис']\n",
      "WARNING:root:cannot compute similarity with no input ['preschooler']\n",
      "WARNING:root:cannot compute similarity with no input []\n",
      "WARNING:root:cannot compute similarity with no input ['asons', 'greeting']\n",
      "WARNING:root:cannot compute similarity with no input ['anks', 'indeedlarf']\n",
      "WARNING:root:cannot compute similarity with no input ['substtbuser', 'talkishdarian', 'darian']\n",
      "WARNING:root:cannot compute similarity with no input ['ageeveryday', 'lifeaugust']\n",
      "WARNING:root:cannot compute similarity with no input ['jun', 'utc']\n",
      "WARNING:root:cannot compute similarity with no input ['hinobi', 'contribs']\n",
      "WARNING:root:cannot compute similarity with no input ['anks', 'noting']\n",
      "WARNING:root:cannot compute similarity with no input ['zhao', 'jul', 'utc']\n",
      "WARNING:root:cannot compute similarity with no input ['fffffff', 'uuuuuu', 'uuuuu', 'ccccccccccccc', 'kkkkk', 'uuuuuuuuu', 'fffffffff', 'uuuuuu', 'uuuuu', 'ccccccccccccc', 'fffff', 'uuuuuu', 'uuuuu', 'cccc', 'fffffffff', 'uuuuuu', 'uuuuu', 'cccc', 'fffffffff', 'uuuuuu', 'uuuuu', 'cccc', 'fffff', 'uuuuuu', 'uuuuu', 'cccc', 'fffff', 'uuuuuuuuuuuuuuuu', 'cccccccccccc', 'fffff', 'uuuuuuuuuuuuuuuu', 'cccccccccccc']\n",
      "WARNING:root:cannot compute similarity with no input ['jettamann']\n",
      "WARNING:root:cannot compute similarity with no input ['scription', 'merzul']\n",
      "WARNING:root:cannot compute similarity with no input []\n",
      "WARNING:root:cannot compute similarity with no input ['tc']\n",
      "WARNING:root:cannot compute similarity with no input ['falafel']\n",
      "WARNING:root:cannot compute similarity with no input ['cember', 'utc']\n",
      "WARNING:root:cannot compute similarity with no input ['classb', 'importancetop']\n",
      "WARNING:root:cannot compute similarity with no input ['istas', 'erasmo', 'narni']\n",
      "WARNING:root:cannot compute similarity with no input ['ciano', 'pavarotti', 'operatic', 'tenor']\n",
      "WARNING:root:cannot compute similarity with no input []\n",
      "WARNING:root:cannot compute similarity with no input ['actly', 'questioming']\n",
      "WARNING:root:cannot compute similarity with no input []\n",
      "WARNING:root:cannot compute similarity with no input ['mments', 'woohookitty']\n",
      "WARNING:root:cannot compute similarity with no input ['odst']\n",
      "WARNING:root:cannot compute similarity with no input ['merci', 'sincerement', 'tallyho']\n",
      "WARNING:root:cannot compute similarity with no input ['acceptgranting', 'ipbe']\n",
      "WARNING:root:cannot compute similarity with no input ['llo', 'dagrad', 'vinkel', 'degrad', 'endegree', 'disambiguation', 'esgrado', 'frdegré', 'homonymie', 'hufok', 'itgrado', 'ja度', 'simpledegree']\n",
      "WARNING:root:cannot compute similarity with no input ['wikiproject', 'newsletter']\n",
      "WARNING:root:cannot compute similarity with no input ['odwin', 'wonderfull', 'strider']\n",
      "WARNING:root:cannot compute similarity with no input ['llocks']\n",
      "WARNING:root:cannot compute similarity with no input ['ptember']\n",
      "WARNING:root:cannot compute similarity with no input ['rdyks']\n",
      "WARNING:root:cannot compute similarity with no input ['ly', 'utcfranksanello']\n",
      "WARNING:root:cannot compute similarity with no input ['ybody', 'harrassing']\n",
      "WARNING:root:cannot compute similarity with no input ['ologise', 'johnboywalton']\n",
      "WARNING:root:cannot compute similarity with no input ['verted', 'revert', 'vandalism']\n",
      "WARNING:root:cannot compute similarity with no input ['ngo', 'motherfuckerer']\n",
      "WARNING:root:cannot compute similarity with no input ['eyre', 'cthulhoid', 'squiddy']\n",
      "WARNING:root:cannot compute similarity with no input ['hwangol', 'taltae']\n",
      "WARNING:root:cannot compute similarity with no input ['eedy', 'deletion', 'nomination']\n",
      "WARNING:root:cannot compute similarity with no input ['lassstart', 'listasmatsuda', 'chiaki']\n",
      "WARNING:root:cannot compute similarity with no input ['revert', 'userdocu']\n",
      "WARNING:root:cannot compute similarity with no input ['pied', 'mediawiki', 'talkundosummary']\n",
      "WARNING:root:cannot compute similarity with no input ['concacaf', 'alpaugh']\n",
      "WARNING:root:cannot compute similarity with no input []\n",
      "WARNING:root:cannot compute similarity with no input ['iiight']\n",
      "WARNING:root:cannot compute similarity with no input []\n",
      "WARNING:root:cannot compute similarity with no input ['tegorycandidates', 'speedy', 'deletion']\n",
      "WARNING:root:cannot compute similarity with no input ['proserbian', 'delegation']\n",
      "WARNING:root:cannot compute similarity with no input ['scuss', 'wikipediaarticles', 'deletionyvonne', 'koay']\n",
      "WARNING:root:cannot compute similarity with no input []\n",
      "WARNING:root:cannot compute similarity with no input ['lasslist', 'importancelow']\n",
      "WARNING:root:cannot compute similarity with no input ['reyd', 'rtd']\n",
      "WARNING:root:cannot compute similarity with no input ['agreewith']\n",
      "WARNING:root:cannot compute similarity with no input ['recources', 'usefulodog']\n",
      "WARNING:root:cannot compute similarity with no input ['ckbag', 'herad', 'gaylord']\n",
      "WARNING:root:cannot compute similarity with no input []\n",
      "WARNING:root:cannot compute similarity with no input ['clude', 'wikinews']\n",
      "WARNING:root:cannot compute similarity with no input ['ser', 'grawp']\n",
      "WARNING:root:cannot compute similarity with no input ['olaires', 'appraisal']\n",
      "WARNING:root:cannot compute similarity with no input ['ferences', 'accessdates']\n",
      "WARNING:root:cannot compute similarity with no input ['eedy', 'deletion']\n",
      "WARNING:root:cannot compute similarity with no input ['waaaaaaaaaaaaah']\n",
      "WARNING:root:cannot compute similarity with no input ['epeefleche', 'gloating']\n",
      "WARNING:root:cannot compute similarity with no input ['merged']\n",
      "WARNING:root:cannot compute similarity with no input ['openstreetmap', 'mashup']\n",
      "WARNING:root:cannot compute similarity with no input ['lkback']\n",
      "WARNING:root:cannot compute similarity with no input []\n",
      "WARNING:root:cannot compute similarity with no input ['mplaintsmistakes']\n",
      "WARNING:root:cannot compute similarity with no input ['specify']\n",
      "WARNING:root:cannot compute similarity with no input ['reception']\n",
      "WARNING:root:cannot compute similarity with no input ['stasbrooks', 'middlesex', 'cricketer', 'sportsworkgroupy']\n",
      "WARNING:root:cannot compute similarity with no input ['lassstub', 'importancelow', 'seasonyes', 'englandyes', 'sheffutdyes']\n",
      "WARNING:root:cannot compute similarity with no input ['ckoffjewish', 'ancestryfuckoffjewish', 'ancestryfuckoffjewish', 'ancestryfuckoffjewish', 'ancestryfuckoffjewish', 'ancestryfuckoffjewish', 'ancestryfuckoffjewish', 'ancestryfuckoffjewish', 'ancestryfuckoffjewish', 'ancestryfuckoffjewish', 'ancestryfuckoffjewish', 'ancestryfuckoffjewish', 'ancestryfuckoffjewish', 'ancestryfuckoffjewish', 'ancestryfuckoffjewish', 'ancestryfuckoffjewish', 'ancestryfuckoffjewish', 'ancestryfuckoffjewish', 'ancestryfuckoffjewish', 'ancestryfuckoffjewish', 'ancestryfuckoffjewish', 'ancestryfuckoffjewish', 'ancestryfuckoffjewish', 'ancestryfuckoffjewish', 'ancestryfuckoffjewish', 'ancestryfuckoffjewish', 'ancestryfuckoffjewish', 'ancestryfuckoffjewish', 'ancestryfuckoffjewish', 'ancestryfuckoffjewish', 'ancestryfuckoffjewish', 'ancestryfuckoffjewish', 'ancestryfuckoffjewish', 'ancestryfuckoffjewish', 'ancestryfuckoffjewish', 'ancestryfuckoffjewish', 'ancestryfuckoffjewish', 'ancestryfuckoffjewish', 'ancestryfuckoffjewish', 'ancestryfuckoffjewish', 'ancestryfuckoffjewish', 'ancestryfuckoffjewish', 'ancestryfuckoffjewish', 'ancestryfuckoffjewish', 'ancestryfuckoffjewish', 'ancestryfuckoffjewish', 'ancestryfuckoffjewish', 'ancestryfuckoffjewish', 'ancestryfuckoffjewish', 'ancestryfuckoffjewish', 'ancestryfuckoffjewish', 'ancestryfuckoffjewish', 'ancestryfuckoffjewish', 'ancestryfuckoffjewish', 'ancestryfuckoffjewish', 'ancestryfuckoffjewish', 'ancestryfuckoffjewish', 'ancestryfuckoffjewish', 'ancestryfuckoffjewish', 'ancestryfuckoffjewish', 'ancestryfuckoffjewish', 'ancestryfuckoffjewish', 'ancestryfuckoffjewish', 'ancestryfuckoffjewish', 'ancestryfuckoffjewish', 'ancestryfuckoffjewish', 'ancestryfuckoffjewish', 'ancestryfuckoffjewish', 'ancestryfuckoffjewish', 'ancestryfuckoffjewish', 'ancestryfuckoffjewish', 'ancestryfuckoffjewish', 'ancestryfuckoffjewish', 'ancestryfuckoffjewish', 'ancestryfuckoffjewish', 'ancestryfuckoffjewish', 'ancestryfuckoffjewish', 'ancestryfuckoffjewish', 'ancestryfuckoffjewish', 'ancestryfuckoffjewish', 'ancestryfuckoffjewish', 'ancestryfuckoffjewish', 'ancestryfuckoffjewish', 'ancestryfuckoffjewish', 'ancestryfuckoffjewish', 'ancestryfuckoffjewish', 'ancestryfuckoffjewish', 'ancestryfuckoffjewish', 'ancestryfuckoffjewish', 'ancestryfuckoffjewish', 'ancestryfuckoffjewish', 'ancestryfuckoffjewish', 'ancestryfuckoffjewish', 'ancestryfuckoffjewish', 'ancestryfuckoffjewish', 'ancestryfuckoffjewish', 'ancestryfuckoffjewish', 'ancestryfuckoffjewish', 'ancestryfuckoffjewish', 'ancestryfuckoffjewish', 'ancestryfuckoffjewish', 'ancestryfuckoffjewish', 'ancestryfuckoffjewish', 'ancestryfuckoffjewish', 'ancestryfuckoffjewish', 'ancestryfuckoffjewish', 'ancestryfuckoffjewish', 'ancestryfuckoffjewish', 'ancestryfuckoffjewish', 'ancestryfuckoffjewish', 'ancestryfuckoffjewish', 'ancestryfuckoffjewish', 'ancestryfuckoffjewish', 'ancestryfuckoffjewish', 'ancestryfuckoffjewish', 'ancestryfuckoffjewish', 'ancestryfuckoffjewish', 'ancestryfuckoffjewish', 'ancestryfuckoffjewish', 'ancestryfuckoffjewish', 'ancestryfuckoffjewish', 'ancestryfuckoffjewish', 'ancestryfuckoffjewish', 'ancestryfuckoffjewish', 'ancestryfuckoffjewish', 'ancestryfuckoffjewish', 'ancestryfuckoffjewish', 'ancestryfuckoffjewish', 'ancestryfuckoffjewish', 'ancestryfuckoffjewish', 'ancestryfuckoffjewish', 'ancestryfuckoffjewish', 'ancestryfuckoffjewish', 'ancestryfuckoffjewish', 'ancestryfuckoffjewish', 'ancestryfuckoffjewish', 'ancestryfuckoffjewish', 'ancestryfuckoffjewish', 'ancestryfuckoffjewish', 'ancestryfuckoffjewish', 'ancestryfuckoffjewish', 'ancestryfuckoffjewish', 'ancestryfuckoffjewish', 'ancestryfuckoffjewish', 'ancestryfuckoffjewish', 'ancestryfuckoffjewish', 'ancestryfuckoffjewish', 'ancestryfuckoffjewish', 'ancestryfuckoffjewish', 'ancestryfuckoffjewish', 'ancestryfuckoffjewish', 'ancestryfuckoffjewish', 'ancestryfuckoffjewish', 'ancestryfuckoffjewish', 'ancestryfuckoffjewish', 'ancestryfuckoffjewish', 'ancestryfuckoffjewish', 'ancestryfuckoffjewish', 'ancestryfuckoffjewish', 'ancestryfuckoffjewish', 'ancestryfuckoffjewish', 'ancestryfuckoffjewish', 'ancestryfuckoffjewish', 'ancestryfuckoffjewish', 'ancestryfuckoffjewish', 'ancestryfuckoffjewish', 'ancestryfuckoffjewish', 'ancestryfuckoffjewish', 'ancestryfuckoffjewish', 'ancestryfuckoffjewish', 'ancestryfuckoffjewish', 'ancestryfuckoffjewish', 'ancestryfuckoffjewish', 'ancestryfuckoffjewish', 'ancestryfuckoffjewish', 'ancestryfuckoffjewish', 'ancestryfuckoffjewish', 'ancestryfuckoffjewish', 'ancestryfuckoffjewish', 'ancestryfuckoffjewish', 'ancestryfuckoffjewish', 'ancestryfuckoffjewish', 'ancestryfuckoffjewish', 'ancestryfuckoffjewish', 'ancestryfuckoffjewish', 'ancestryfuckoffjewish', 'ancestryfuckoffjewish', 'ancestryfuckoffjewish', 'ancestryfuckoffjewish', 'ancestryfuckoffjewish', 'ancestryfuckoffjewish', 'ancestryfuckoffjewish', 'ancestryfuckoffjewish', 'ancestryfuckoffjewish', 'ancestryfuckoffjewish', 'ancestryfuckoffjewish', 'ancestryfuckoffjewish', 'ancestryfuckoffjewish', 'ancestryfuckoffjewish', 'ancestryfuckoffjewish', 'ancestryfuckoffjewish', 'ancestryfuckoffjewish', 'ancestryfuckoffjewish', 'ancestryfuckoffjewish', 'ancestryfuckoffjewish', 'ancestryfuckoffjewish', 'ancestryfuckoffjewish', 'ancestryfuckoffjewish', 'ancestryfuckoff']\n",
      "WARNING:root:cannot compute similarity with no input ['snowhottie']\n",
      "WARNING:root:cannot compute similarity with no input ['talkback', 'łeave', 'мessage']\n",
      "WARNING:root:cannot compute similarity with no input ['chard', 'suhre', 'localhe', 'transplant', 'indianapolisthank']\n",
      "WARNING:root:cannot compute similarity with no input ['eck']\n",
      "WARNING:root:cannot compute similarity with no input ['noel', 'parrish']\n",
      "WARNING:root:cannot compute similarity with no input ['userpage', 'faggoty', 'dickbutt', 'dickbutt', 'dickbutt', 'dickbutt', 'dickbutt', 'dickbutt', 'dickbutt', 'dickbutt', 'dickbutt', 'dickbutt', 'dickbutt', 'dickbutt', 'dickbutt', 'dickbutt', 'dickbutt', 'dickbutt', 'dickbutt', 'dickbutt', 'dickbutt', 'dickbutt', 'dickbutt', 'dickbutt', 'dickbutt', 'dickbutt', 'dickbutt', 'dickbutt', 'dickbutt', 'dickbutt', 'dickbutt', 'dickbutt', 'dickbutt', 'dickbutt']\n",
      "WARNING:root:cannot compute similarity with no input ['ticles', 'merged']\n",
      "WARNING:root:cannot compute similarity with no input ['jun', 'utc']\n",
      "WARNING:root:cannot compute similarity with no input ['aug', 'utc']\n",
      "WARNING:root:cannot compute similarity with no input ['jun', 'utc']\n",
      "WARNING:root:cannot compute similarity with no input ['riik', 'prick_']\n",
      "WARNING:root:cannot compute similarity with no input ['ttie', 'grantsuttie']\n",
      "WARNING:root:cannot compute similarity with no input ['ndit', 'montesquio']\n",
      "WARNING:root:cannot compute similarity with no input ['raviah', 'girlllllllllllllllllllllllllll']\n",
      "WARNING:root:cannot compute similarity with no input ['anks', 'reverting', 'vandalsim', 'userpage']\n",
      "WARNING:root:cannot compute similarity with no input ['ervaynevayne']\n",
      "WARNING:root:cannot compute similarity with no input ['ovon', 'vandal', 'vandal', 'shovon']\n",
      "WARNING:root:cannot compute similarity with no input ['bie', 'mcdonough']\n",
      "WARNING:root:cannot compute similarity with no input ['kaitlyn', 'purvis']\n",
      "WARNING:root:cannot compute similarity with no input []\n",
      "WARNING:root:cannot compute similarity with no input ['hazelton']\n",
      "WARNING:root:cannot compute similarity with no input ['xept']\n",
      "WARNING:root:cannot compute similarity with no input ['wpphilippines', 'classstart', 'importancelow']\n",
      "WARNING:root:cannot compute similarity with no input ['visual', 'textual']\n",
      "WARNING:root:cannot compute similarity with no input ['radheshyam', 'pattnaik']\n",
      "WARNING:root:cannot compute similarity with no input ['tpwwweverytopicintheuniverseexceptchickenscom']\n",
      "WARNING:root:cannot compute similarity with no input ['savis', 'sabbath']\n",
      "WARNING:root:cannot compute similarity with no input ['wles', 'talkcontribs']\n",
      "WARNING:root:cannot compute similarity with no input ['ght']\n",
      "WARNING:root:cannot compute similarity with no input ['svmc']\n",
      "WARNING:root:cannot compute similarity with no input []\n",
      "WARNING:root:cannot compute similarity with no input ['leparenfaire', 'joustjpeg']\n",
      "WARNING:root:cannot compute similarity with no input ['sesment', 'dhangar']\n",
      "WARNING:root:cannot compute similarity with no input ['ail']\n",
      "WARNING:root:cannot compute similarity with no input ['sampolit']\n",
      "WARNING:root:cannot compute similarity with no input ['ank', 'linkdeletion']\n",
      "WARNING:root:cannot compute similarity with no input []\n",
      "WARNING:root:cannot compute similarity with no input ['neup', 'claimjumperpete', 'claimjumperjack', 'claimjumperbob']\n",
      "WARNING:root:cannot compute similarity with no input []\n",
      "WARNING:root:cannot compute similarity with no input ['bismuth', 'nanotube', 'graphine']\n",
      "WARNING:root:cannot compute similarity with no input ['templateipa', 'naviagtion']\n",
      "WARNING:root:cannot compute similarity with no input ['ggestions', 'aug', 'utc']\n",
      "WARNING:root:cannot compute similarity with no input ['rry']\n",
      "WARNING:root:cannot compute similarity with no input ['auty', 'browneye', 'beholder']\n",
      "WARNING:root:cannot compute similarity with no input ['nix', 'altough', 'registered']\n",
      "WARNING:root:cannot compute similarity with no input ['uisianaclasscimportancehigh', 'wikiproject', 'fishery']\n",
      "WARNING:root:cannot compute similarity with no input ['fcking', 'godcome']\n",
      "WARNING:root:cannot compute similarity with no input []\n",
      "WARNING:root:cannot compute similarity with no input ['rry', 'vandalism']\n",
      "WARNING:root:cannot compute similarity with no input ['rnold', 'schwarzenegger', 'notwithstanding']\n",
      "WARNING:root:cannot compute similarity with no input ['assimalater']\n",
      "WARNING:root:cannot compute similarity with no input ['ecking', 'whilehow']\n",
      "WARNING:root:cannot compute similarity with no input ['kimath']\n",
      "WARNING:root:cannot compute similarity with no input ['armani', 'armanum']\n",
      "WARNING:root:cannot compute similarity with no input ['tpenwikipediaorgwikitowns_in_the_former_rsk']\n",
      "WARNING:root:cannot compute similarity with no input ['ubimportance', 'lowneedsinfobox']\n",
      "WARNING:root:cannot compute similarity with no input ['convit', 'winsenience']\n",
      "WARNING:root:cannot compute similarity with no input ['stylebackgroundredout']\n",
      "WARNING:root:cannot compute similarity with no input ['anks', 'reverting', 'vandalism', 'talkpage']\n",
      "WARNING:root:cannot compute similarity with no input ['eced', 'talkpage']\n",
      "WARNING:root:cannot compute similarity with no input ['registered', 'wpid']\n",
      "WARNING:root:cannot compute similarity with no input ['crescat']\n",
      "WARNING:root:cannot compute similarity with no input ['classstart', 'importancehigh']\n",
      "WARNING:root:cannot compute similarity with no input ['lete', 'pagedelete', 'pagedelete', 'pagedelete', 'pagedelete', 'pagedelete', 'pagedelete', 'pagedelete', 'pagedelete', 'pagedelete', 'pagedelete', 'pagedelete', 'pagedelete', 'pagedelete', 'pagedelete', 'pagedelete', 'pagedelete', 'pagedelete', 'pagedelete', 'pagedelete', 'pagedelete', 'pagedelete', 'pagedelete', 'pagedelete', 'pagedelete', 'pagedelete', 'pagedelete', 'pagedelete', 'pagedelete', 'pagedelete', 'pagedelete', 'pagedelete', 'pagedelete', 'pagedelete', 'pagedelete', 'pagedelete', 'pagedelete', 'pagedelete', 'pagedelete', 'pagedelete', 'pagedelete', 'pagedelete', 'pagedelete', 'pagedelete', 'pagedelete', 'pagedelete', 'pagedelete', 'pagedelete', 'pagedelete', 'pagedelete', 'pagedelete', 'pagedelete', 'pagedelete', 'pagedelete', 'pagedelete', 'pagedelete', 'pagedelete', 'pagedelete', 'pagedelete', 'pagedelete', 'pagedelete', 'pagedelete', 'pagedelete', 'pagedelete', 'pagedelete', 'pagedelete', 'pagedelete', 'pagedelete', 'pagedelete', 'pagedelete', 'pagedelete', 'pagedelete', 'pagedelete', 'pagedelete', 'pagedelete', 'pagedelete', 'pagedelete', 'pagedelete', 'pagedelete', 'pagedelete', 'pagedelete', 'pagedelete', 'pagedelete', 'pagedelete', 'pagedelete', 'pagedelete', 'pagedelete', 'pagedelete', 'pagedelete', 'pagedelete', 'pagedelete', 'pagedelete', 'pagedelete', 'pagedelete', 'pagedelete', 'pagedelete', 'pagedelete', 'pagedelete', 'pagedelete', 'pagedelete', 'pagedelete', 'pagedelete', 'pagedelete', 'pagedelete', 'pagedelete', 'pagedelete', 'pagedelete', 'pagedelete', 'pagedelete', 'pagedelete', 'pagedelete', 'pagedelete', 'pagedelete', 'pagedelete', 'pagedelete', 'pagedelete', 'pagedelete', 'pagedelete', 'pagedelete', 'pagedelete', 'pagedelete', 'pagedelete', 'pagedelete', 'pagedelete', 'pagedelete', 'pagedelete', 'pagedelete', 'pagedelete', 'pagedelete', 'pagedelete', 'pagedelete', 'pagedelete', 'pagedelete', 'pagedelete', 'pagedelete', 'pagedelete', 'pagedelete', 'pagedelete', 'pagedelete', 'pagedelete', 'pagedelete', 'pagedelete', 'pagedelete', 'pagedelete', 'pagedelete', 'pagedelete', 'pagedelete', 'pagedelete', 'pagedelete', 'pagedelete', 'pagedelete', 'pagedelete', 'pagedelete', 'pagedelete', 'pagedelete', 'pagedelete', 'pagedelete', 'pagedelete', 'pagedelete', 'pagedelete', 'pagedelete', 'pagedelete', 'pagedelete', 'pagedelete', 'pagedelete', 'pagedelete', 'pagedelete', 'pagedelete', 'pagedelete', 'pagedelete', 'pagedelete', 'pagedelete', 'pagedelete', 'pagedelete', 'pagedelete', 'pagedelete', 'pagedelete', 'pagedelete', 'pagedelete', 'pagedelete', 'pagedelete', 'pagedelete', 'pagedelete', 'pagedelete', 'pagedelete', 'pagedelete', 'pagedelete', 'pagedelete', 'pagedelete', 'pagedelete', 'pagedelete', 'pagedelete', 'pagedelete', 'pagedelete', 'pagedelete', 'pagedelete', 'pagedelete', 'pagedelete', 'pagedelete', 'pagedelete', 'pagedelete', 'pagedelete', 'pagedelete', 'pagedelete', 'pagedelete', 'pagedelete', 'pagedelete', 'pagedelete', 'pagedelete', 'pagedelete', 'pagedelete', 'pagedelete', 'pagedelete', 'pagedelete', 'pagedelete', 'pagedelete', 'pagedelete', 'pagedelete', 'pagedelete', 'pagedelete', 'pagedelete', 'pagedelete', 'pagedelete', 'pagedelete', 'pagedelete', 'pagedelete', 'pagedelete', 'pagedelete', 'pagedelete', 'pagedelete', 'pagedelete', 'pagedelete', 'pagedelete', 'pagedelete', 'pagedelete', 'pagedelete', 'pagedelete', 'pagedelete', 'pagedelete', 'pagedelete', 'pagedelete', 'pagedelete', 'pagedelete', 'pagedelete', 'pagedelete', 'pagedelete', 'pagedelete', 'pagedelete', 'pagedelete', 'pagedelete', 'pagedelete', 'pagedelete', 'pagedelete', 'pagedelete', 'pagedelete', 'pagedelete', 'pagedelete', 'pagedelete', 'pagedelete', 'pagedelete', 'pagedelete', 'pagedelete', 'pagedelete', 'pagedelete', 'pagedelete', 'pagedelete', 'pagedelete', 'pagedelete', 'pagedelete', 'pagedelete', 'pagedelete', 'pagedelete', 'pagedelete', 'pagedelete', 'pagedelete', 'pagedelete', 'pagedelete', 'pagedelete', 'pagedelete', 'pagedelete', 'pagedelete', 'pagedelete', 'pagedelete', 'pagedelete', 'pagedelete', 'pagedelete', 'pagedelete', 'pagedelete', 'pagedelete', 'pagedelete', 'pagedelete', 'pagedelete', 'pagedelete', 'pagedelete', 'pagedelete', 'pagedelete', 'pagedelete', 'pagedelete', 'pagedelete', 'pagedelete', 'pagedelete', 'pagedelete', 'pagedelete', 'pagedelete', 'pagedelete', 'pagedelete', 'pagedelete', 'pagedelete', 'pagedelete', 'pagedelete', 'pagedelete', 'pagedelete', 'pagedelete']\n",
      "WARNING:root:cannot compute similarity with no input ['pronunciation', 'ʃit']\n",
      "WARNING:root:cannot compute similarity with no input ['evey', 'thingggggggggggg']\n",
      "WARNING:root:cannot compute similarity with no input ['anks']\n",
      "WARNING:root:cannot compute similarity with no input ['cecars', 'laser', 'aerophanes', 'duckblur']\n",
      "WARNING:root:cannot compute similarity with no input ['mber', 'createexpand', 'nomination']\n",
      "WARNING:root:cannot compute similarity with no input ['rhart', 'binksternet']\n",
      "WARNING:root:cannot compute similarity with no input ['neglected', 'brilliance']\n",
      "WARNING:root:cannot compute similarity with no input []\n",
      "WARNING:root:cannot compute similarity with no input ['lk', 'jun', 'utc']\n",
      "WARNING:root:cannot compute similarity with no input ['nuary', 'gimmetrow']\n",
      "WARNING:root:cannot compute similarity with no input ['lkback']\n",
      "WARNING:root:cannot compute similarity with no input []\n",
      "WARNING:root:cannot compute similarity with no input ['concur', 'chadbryant', 'vandal']\n",
      "WARNING:root:cannot compute similarity with no input ['rnell', 'qatar', 'courtyardjpgthumbnailfilecornell', 'qatar', 'courtyard']\n",
      "WARNING:root:cannot compute similarity with no input []\n",
      "WARNING:root:cannot compute similarity with no input ['ffreesworld', 'specialcontributionsjeffreesworld']\n",
      "WARNING:root:cannot compute similarity with no input ['ahouse', 'invitation']\n",
      "WARNING:root:cannot compute similarity with no input ['xtgen', 'disamb']\n",
      "WARNING:root:cannot compute similarity with no input ['istas', 'oboh', 'samuel']\n",
      "WARNING:root:cannot compute similarity with no input ['wikipediasockpuppet', 'investigationsskipsievert']\n",
      "WARNING:root:cannot compute similarity with no input ['lassstart', 'importancelow', 'seasony']\n",
      "WARNING:root:cannot compute similarity with no input ['becki', 'gwenno']\n",
      "WARNING:root:cannot compute similarity with no input ['template', 'talkreflist']\n",
      "WARNING:root:cannot compute similarity with no input ['dit', 'usertimothyhorrigan']\n",
      "WARNING:root:cannot compute similarity with no input []\n",
      "WARNING:root:cannot compute similarity with no input []\n",
      "WARNING:root:cannot compute similarity with no input ['dge', 'iy']\n",
      "WARNING:root:cannot compute similarity with no input ['enable']\n",
      "WARNING:root:cannot compute similarity with no input ['cuntbag', 'cuntbag', 'cuntbag', 'cuntbag', 'cuntbag', 'cuntbag', 'cuntbag', 'cuntbag', 'cuntbag', 'cuntbag', 'cuntbag', 'cuntbag', 'cuntbag', 'cuntbag', 'cuntbag', 'cuntbag', 'cuntbag', 'cuntbag', 'cuntbag', 'cuntbag', 'cuntbag', 'cuntbag', 'cuntbag', 'cuntbag', 'cuntbag', 'cuntbag', 'cuntbag', 'cuntbag', 'cuntbag', 'cuntbag', 'cuntbag', 'cuntbag', 'cuntbag', 'cuntbag', 'cuntbag', 'cuntbag', 'cuntbag', 'cuntbag', 'cuntbag', 'cuntbag', 'cuntbag', 'cuntbag', 'cuntbag', 'cuntbag', 'cuntbag', 'cuntbag', 'cuntbag', 'cuntbag', 'cuntbag', 'cuntbag', 'cuntbag', 'cuntbag', 'cuntbag', 'cuntbag', 'cuntbag', 'cuntbag', 'cuntbag', 'cuntbag', 'cuntbag', 'cuntbag', 'cuntbag', 'cuntbag', 'cuntbag', 'cuntbag', 'cuntbag', 'cuntbag', 'cuntbag', 'cuntbag', 'cuntbag', 'cuntbag', 'cuntbag', 'cuntbag', 'cuntbag', 'cuntbag', 'cuntbag', 'cuntbag', 'cuntbag', 'cuntbag', 'cuntbag', 'cuntbag', 'cuntbag', 'cuntbag', 'cuntbag', 'cuntbag', 'cuntbag', 'cuntbag', 'cuntbag', 'cuntbag', 'cuntbag', 'cuntbag', 'cuntbag', 'cuntbag', 'cuntbag', 'cuntbag', 'cuntbag', 'cuntbag', 'cuntbag', 'cuntbag']\n",
      "WARNING:root:cannot compute similarity with no input ['tpfinanceyahoocomnewsfascinatingnuggetsanotherbewilderinghtml']\n",
      "WARNING:root:cannot compute similarity with no input ['oppy']\n",
      "WARNING:root:cannot compute similarity with no input ['understandable']\n",
      "WARNING:root:cannot compute similarity with no input ['utc']\n",
      "WARNING:root:cannot compute similarity with no input ['otball', 'classstart', 'importancelow', 'seasonyes', 'irishyes']\n",
      "WARNING:root:cannot compute similarity with no input ['bishopstown']\n",
      "WARNING:root:cannot compute similarity with no input ['wikified']\n",
      "WARNING:root:cannot compute similarity with no input ['dishonest']\n",
      "WARNING:root:cannot compute similarity with no input ['generator', 'compiler']\n",
      "WARNING:root:cannot compute similarity with no input ['lassstartimportancetop', 'wikiproject', 'bosnia', 'herzegovina']\n",
      "WARNING:root:cannot compute similarity with no input ['userpage', 'vandalism']\n",
      "WARNING:root:cannot compute similarity with no input []\n",
      "WARNING:root:cannot compute similarity with no input ['lovelove', 'sassociateassociated']\n",
      "WARNING:root:cannot compute similarity with no input ['whatsup', 'abigail']\n",
      "WARNING:root:cannot compute similarity with no input ['cekeep']\n",
      "WARNING:root:cannot compute similarity with no input ['transhumanist']\n",
      "WARNING:root:cannot compute similarity with no input []\n",
      "WARNING:root:cannot compute similarity with no input ['reverted']\n",
      "WARNING:root:cannot compute similarity with no input ['puertorricans']\n",
      "WARNING:root:cannot compute similarity with no input []\n",
      "WARNING:root:cannot compute similarity with no input ['ank']\n",
      "WARNING:root:cannot compute similarity with no input ['parently', 'template', 'phro']\n",
      "WARNING:root:cannot compute similarity with no input ['alk', 'contribs']\n",
      "WARNING:root:cannot compute similarity with no input ['er_talkmike', 'clinearticles', 'contemplationjohn', 'meldrum']\n",
      "WARNING:root:cannot compute similarity with no input ['johntheyounger']\n",
      "WARNING:root:cannot compute similarity with no input ['coelacan']\n",
      "WARNING:root:cannot compute similarity with no input ['gutcruncher', 'usermathewignashgutcruncher']\n",
      "WARNING:root:cannot compute similarity with no input ['jun', 'utc']\n",
      "WARNING:root:cannot compute similarity with no input ['nk', 'interesant', 'amintiri', 'din', 'iad']\n",
      "WARNING:root:cannot compute similarity with no input ['anks', 'peridon']\n",
      "WARNING:root:cannot compute similarity with no input ['wikipediablocked']\n",
      "WARNING:root:cannot compute similarity with no input []\n",
      "WARNING:root:cannot compute similarity with no input ['ank']\n",
      "WARNING:root:cannot compute similarity with no input ['lasscimportancelow', 'yesmusicy']\n",
      "WARNING:root:cannot compute similarity with no input []\n",
      "WARNING:root:cannot compute similarity with no input ['jun', 'utc']\n",
      "WARNING:root:cannot compute similarity with no input ['garibaldi', 'baconfat']\n",
      "WARNING:root:cannot compute similarity with no input ['tegoryabout']\n",
      "WARNING:root:cannot compute similarity with no input ['jun', 'utc']\n",
      "WARNING:root:cannot compute similarity with no input ['rgei', 'mikhas', 'mikhailov', 'redirect']\n",
      "WARNING:root:cannot compute similarity with no input ['templatespam']\n",
      "WARNING:root:cannot compute similarity with no input ['ouldnt', 'undone']\n",
      "WARNING:root:cannot compute similarity with no input ['ing']\n",
      "WARNING:root:cannot compute similarity with no input ['wikipediaarticles', 'deletion', 'ghallooghaaraa']\n",
      "WARNING:root:cannot compute similarity with no input ['ontinued']\n",
      "WARNING:root:cannot compute similarity with no input ['friendsuserlordsamshimens']\n",
      "WARNING:root:cannot compute similarity with no input ['ank', 'talkstalk']\n",
      "WARNING:root:cannot compute similarity with no input ['registred', 'isp']\n",
      "WARNING:root:cannot compute similarity with no input []\n",
      "WARNING:root:cannot compute similarity with no input ['rdon']\n",
      "WARNING:root:cannot compute similarity with no input ['ldopodo', 'xasha', 'moldopupo']\n",
      "WARNING:root:cannot compute similarity with no input ['videoclip', 'salsabalroomdance', 'countrytba', 'semifinal']\n",
      "WARNING:root:cannot compute similarity with no input []\n",
      "WARNING:root:cannot compute similarity with no input ['artuh', 'tsktsk']\n",
      "WARNING:root:cannot compute similarity with no input []\n",
      "WARNING:root:cannot compute similarity with no input ['lovley', 'gorillazfan']\n",
      "WARNING:root:cannot compute similarity with no input ['ither']\n",
      "WARNING:root:cannot compute similarity with no input ['ndesukas', 'cyberstalking', 'cyberstalking']\n",
      "WARNING:root:cannot compute similarity with no input ['doaryan', 'caucasian', 'proto', 'nordic']\n",
      "WARNING:root:cannot compute similarity with no input ['ercfif']\n",
      "WARNING:root:cannot compute similarity with no input ['cember', 'utc']\n",
      "WARNING:root:cannot compute similarity with no input ['mies', 'fagat', 'suks', 'cok']\n",
      "WARNING:root:cannot compute similarity with no input ['alk', 'jun', 'utc']\n",
      "WARNING:root:cannot compute similarity with no input ['ucck', 'cocksu_cking', 'motherfu_ccker']\n",
      "WARNING:root:cannot compute similarity with no input ['bulgars', 'bulgarian']\n",
      "WARNING:root:cannot compute similarity with no input ['enlisted']\n",
      "WARNING:root:cannot compute similarity with no input ['hley', 'tisdale', 'hippoh']\n",
      "WARNING:root:cannot compute similarity with no input ['llo', 'nob', 'nob', 'nob', 'nob', 'nob', 'nob', 'nob']\n",
      "WARNING:root:cannot compute similarity with no input ['tch']\n",
      "WARNING:root:cannot compute similarity with no input ['cyes', 'dcimportancemid', 'usgovyes', 'usgovimportancemid', 'uspresidentsyes', 'uspresidentsimportancemid']\n",
      "WARNING:root:cannot compute similarity with no input ['vandal']\n",
      "WARNING:root:cannot compute similarity with no input ['hoteti']\n",
      "WARNING:root:cannot compute similarity with no input ['ersitush']\n",
      "WARNING:root:cannot compute similarity with no input ['kiproject', 'karachi']\n",
      "WARNING:root:cannot compute similarity with no input ['ank', 'johnhistory']\n",
      "WARNING:root:cannot compute similarity with no input ['lief', 'radiokirk', 'onlyone', 'belives']\n",
      "WARNING:root:cannot compute similarity with no input ['lasscimportancelow', 'seasonyes', 'englandyes']\n",
      "WARNING:root:cannot compute similarity with no input ['ld', 'textbold', 'textbiaa', 'biaa']\n",
      "WARNING:root:cannot compute similarity with no input ['detlef']\n",
      "WARNING:root:cannot compute similarity with no input ['creag', 'dorain', 'craigendoran']\n",
      "WARNING:root:cannot compute similarity with no input ['narrator']\n",
      "WARNING:root:cannot compute similarity with no input ['cialism', 'predates', 'libertarianism']\n",
      "WARNING:root:cannot compute similarity with no input ['wpvprf', 'βcommand']\n",
      "WARNING:root:cannot compute similarity with no input ['vandalise']\n",
      "WARNING:root:cannot compute similarity with no input ['jul', 'utc']\n",
      "WARNING:root:cannot compute similarity with no input ['reverted', 'vandalism']\n",
      "WARNING:root:cannot compute similarity with no input ['unblockyo']\n",
      "WARNING:root:cannot compute similarity with no input []\n",
      "WARNING:root:cannot compute similarity with no input ['tpwikipediawehaveaproblemcomevidenceofcyberbullyingwpeditorsandadmins']\n",
      "WARNING:root:cannot compute similarity with no input ['blaxthos']\n",
      "WARNING:root:cannot compute similarity with no input ['eeeeesssssss', 'whoooooooo', 'ddd']\n",
      "WARNING:root:cannot compute similarity with no input ['bruary']\n",
      "WARNING:root:cannot compute similarity with no input ['jun', 'utc']\n",
      "WARNING:root:cannot compute similarity with no input ['jun', 'utc']\n",
      "WARNING:root:cannot compute similarity with no input ['anks', 'comprenhension']\n",
      "WARNING:root:cannot compute similarity with no input ['pwned']\n",
      "WARNING:root:cannot compute similarity with no input ['itthanks', 'badmust', 'oversight']\n",
      "WARNING:root:cannot compute similarity with no input ['refering']\n",
      "WARNING:root:cannot compute similarity with no input []\n",
      "WARNING:root:cannot compute similarity with no input ['mplateuwvandalism']\n",
      "WARNING:root:cannot compute similarity with no input []\n",
      "WARNING:root:cannot compute similarity with no input ['bovvered']\n",
      "WARNING:root:cannot compute similarity with no input ['canwest', 'shareholder']\n",
      "WARNING:root:cannot compute similarity with no input ['leased', 'theatrically']\n",
      "WARNING:root:cannot compute similarity with no input ['nkrot']\n",
      "WARNING:root:cannot compute similarity with no input []\n",
      "WARNING:root:cannot compute similarity with no input ['asted', 'sandbox']\n",
      "WARNING:root:cannot compute similarity with no input []\n",
      "WARNING:root:cannot compute similarity with no input ['tpgoproxingbiz']\n",
      "WARNING:root:cannot compute similarity with no input ['vaginabot']\n",
      "WARNING:root:cannot compute similarity with no input ['disputing']\n",
      "WARNING:root:cannot compute similarity with no input ['mplateunsigned']\n",
      "WARNING:root:cannot compute similarity with no input ['eople', 'englandpeople', 'armeniapeople']\n",
      "WARNING:root:cannot compute similarity with no input []\n",
      "WARNING:root:cannot compute similarity with no input ['eblebrox', 'fcking', 'prosttute', 'beeblebrox', 'brainless', 'fcking', 'prosttute']\n",
      "WARNING:root:cannot compute similarity with no input ['apologized']\n",
      "WARNING:root:cannot compute similarity with no input ['hn', 'kennedy', 'assassination']\n",
      "WARNING:root:cannot compute similarity with no input ['anks', 'cactuswriter', 'talkstalk']\n",
      "WARNING:root:cannot compute similarity with no input ['vandalistic', 'singleminded']\n",
      "WARNING:root:cannot compute similarity with no input ['rashi']\n",
      "WARNING:root:cannot compute similarity with no input ['seto', 'basket', 'costruzione']\n",
      "WARNING:root:cannot compute similarity with no input ['tler', 'duechebag']\n",
      "WARNING:root:cannot compute similarity with no input ['kipediarequests', 'adminshipareeb_cool']\n",
      "WARNING:root:cannot compute similarity with no input ['llo', 'tryptofish', 'soapcooker']\n",
      "WARNING:root:cannot compute similarity with no input ['randson', 'tenzin', 'yeshe', 'dorje', 'rinpoche']\n",
      "WARNING:root:cannot compute similarity with no input ['hinted']\n",
      "WARNING:root:cannot compute similarity with no input []\n",
      "WARNING:root:cannot compute similarity with no input []\n",
      "WARNING:root:cannot compute similarity with no input ['kiproject', 'biographylivingyesclassclistasginneken', 'jaap', 'vansaworkgroupyes']\n",
      "WARNING:root:cannot compute similarity with no input ['constance', 'cumbey']\n",
      "WARNING:root:cannot compute similarity with no input ['unblockdestroy']\n",
      "WARNING:root:cannot compute similarity with no input ['ure', 'epeefleche', 'continual', 'deletion']\n",
      "WARNING:root:cannot compute similarity with no input []\n",
      "WARNING:root:cannot compute similarity with no input ['erdajes', 'szeptember']\n",
      "WARNING:root:cannot compute similarity with no input ['nonrotating', 'skyhook']\n",
      "WARNING:root:cannot compute similarity with no input ['tober', 'míkka']\n",
      "WARNING:root:cannot compute similarity with no input ['howwhy', 'relevance']\n",
      "WARNING:root:cannot compute similarity with no input ['amended']\n",
      "WARNING:root:cannot compute similarity with no input ['problemo', 'becritical__talk']\n",
      "WARNING:root:cannot compute similarity with no input ['jimim', 'lout']\n",
      "WARNING:root:cannot compute similarity with no input ['utc']\n",
      "WARNING:root:cannot compute similarity with no input ['templatemoogfest', 'templatemoogfest', 'templatemormoopidae']\n",
      "WARNING:root:cannot compute similarity with no input ['sessivecompulsive_disorder']\n",
      "WARNING:root:cannot compute similarity with no input ['istas', 'stordalen', 'herman']\n",
      "WARNING:root:cannot compute similarity with no input []\n",
      "WARNING:root:cannot compute similarity with no input ['nedone', 'indexed']\n",
      "WARNING:root:cannot compute similarity with no input ['urrent', 'stateofplay', 'telepathy']\n",
      "WARNING:root:cannot compute similarity with no input []\n",
      "WARNING:root:cannot compute similarity with no input ['bwilkins']\n",
      "WARNING:root:cannot compute similarity with no input ['suitic', 'posture']\n",
      "WARNING:root:cannot compute similarity with no input ['tpenwikipediaorgwikiwikipediaelyes']\n",
      "WARNING:root:cannot compute similarity with no input []\n",
      "WARNING:root:cannot compute similarity with no input ['lkcentral', 'jakarta', 'talkcentral', 'jakarta']\n",
      "WARNING:root:cannot compute similarity with no input ['bn', 'patagonia', 'chilena']\n",
      "WARNING:root:cannot compute similarity with no input ['cfailedel', 'greco', 'withdrawn']\n",
      "WARNING:root:cannot compute similarity with no input ['alk', 'contribs']\n",
      "WARNING:root:cannot compute similarity with no input ['rminology', 'construed']\n",
      "WARNING:root:cannot compute similarity with no input ['tto']\n",
      "WARNING:root:cannot compute similarity with no input ['lz']\n",
      "WARNING:root:cannot compute similarity with no input ['illelfrei']\n",
      "WARNING:root:cannot compute similarity with no input ['tpwwwnewswirecafrstorydomainepinnacleicecidernowavailableinneweuropeanandasianmarkets']\n",
      "WARNING:root:cannot compute similarity with no input ['unbloc']\n",
      "WARNING:root:cannot compute similarity with no input ['expanded']\n",
      "WARNING:root:cannot compute similarity with no input []\n",
      "WARNING:root:cannot compute similarity with no input ['cember', 'editwarring']\n",
      "WARNING:root:cannot compute similarity with no input []\n",
      "WARNING:root:cannot compute similarity with no input ['llshit', 'wikia', 'fanchildren']\n",
      "WARNING:root:cannot compute similarity with no input ['ank']\n",
      "WARNING:root:cannot compute similarity with no input ['eedsinfoboxyes']\n",
      "WARNING:root:cannot compute similarity with no input ['xed']\n",
      "WARNING:root:cannot compute similarity with no input ['legory', 'cupid', 'hydrolics', 'satrophic']\n",
      "WARNING:root:cannot compute similarity with no input ['atever', 'pïece']\n",
      "WARNING:root:cannot compute similarity with no input ['appoloboy', 'fagmobile']\n",
      "WARNING:root:cannot compute similarity with no input ['runcp', 'gy']\n",
      "WARNING:root:cannot compute similarity with no input ['derstandng']\n",
      "WARNING:root:cannot compute similarity with no input ['ngolian', 'nepalese', 'norwegian']\n",
      "WARNING:root:cannot compute similarity with no input ['bastardsllpaybad']\n",
      "WARNING:root:cannot compute similarity with no input ['gaaaaaaaaayyyyy']\n",
      "WARNING:root:cannot compute similarity with no input ['lk', 'contribs']\n",
      "WARNING:root:cannot compute similarity with no input ['manifestly', 'assumptive']\n",
      "WARNING:root:cannot compute similarity with no input ['finnish', 'vandal']\n",
      "WARNING:root:cannot compute similarity with no input []\n",
      "WARNING:root:cannot compute similarity with no input ['nblockunblock']\n",
      "WARNING:root:cannot compute similarity with no input ['jun', 'utc']\n",
      "WARNING:root:cannot compute similarity with no input ['ebsite', 'wwwfaisalabadgovpk']\n",
      "WARNING:root:cannot compute similarity with no input ['unblockwhat']\n",
      "WARNING:root:cannot compute similarity with no input ['vandalism']\n",
      "WARNING:root:cannot compute similarity with no input ['hominem', 'mayhap']\n",
      "WARNING:root:cannot compute similarity with no input []\n",
      "WARNING:root:cannot compute similarity with no input ['deman', 'esther', 'boise']\n",
      "WARNING:root:cannot compute similarity with no input ['wikipediaarticles', 'deletionalberto', 'celli']\n",
      "WARNING:root:cannot compute similarity with no input ['ccans', 'prejudiced', 'wiccan']\n",
      "WARNING:root:cannot compute similarity with no input ['alkcontribs']\n",
      "WARNING:root:cannot compute similarity with no input ['pronblem']\n",
      "WARNING:root:cannot compute similarity with no input ['rry', 'koeckritz']\n",
      "WARNING:root:cannot compute similarity with no input ['istas', 'carpio', 'esteban']\n",
      "WARNING:root:cannot compute similarity with no input ['wpprimarytopic']\n",
      "WARNING:root:cannot compute similarity with no input ['deactivate', 'wikied', 'incompatible']\n",
      "WARNING:root:cannot compute similarity with no input []\n",
      "WARNING:root:cannot compute similarity with no input []\n",
      "WARNING:root:cannot compute similarity with no input ['etymology']\n",
      "WARNING:root:cannot compute similarity with no input ['opical', 'cyclone', 'wikiproject', 'newsletter']\n",
      "WARNING:root:cannot compute similarity with no input ['tireddatejune', 'reasondue', 'offwiki', 'wpharassment', 'wpouting']\n",
      "WARNING:root:cannot compute similarity with no input ['mplateuwdelete']\n",
      "WARNING:root:cannot compute similarity with no input []\n",
      "WARNING:root:cannot compute similarity with no input ['annette', 'belliveau']\n",
      "WARNING:root:cannot compute similarity with no input ['talkback', 'talkcont']\n",
      "WARNING:root:cannot compute similarity with no input ['ongacom']\n",
      "WARNING:root:cannot compute similarity with no input []\n",
      "WARNING:root:cannot compute similarity with no input ['ank']\n",
      "WARNING:root:cannot compute similarity with no input []\n",
      "WARNING:root:cannot compute similarity with no input ['perfecto', 'talkme']\n",
      "WARNING:root:cannot compute similarity with no input ['ttsecks', 'buttsecks', 'buttsecks', 'buttsecks', 'buttsecks', 'buttsecks', 'buttsecks', 'buttsecks', 'buttsecks', 'buttsecks', 'buttsecks', 'buttsecks', 'buttsecks', 'buttsecks', 'buttsecks', 'buttsecks', 'buttsecks', 'buttsecks', 'buttsecks', 'buttsecks', 'buttsecks', 'buttsecks', 'buttsecks', 'buttsecks', 'buttsecks', 'buttsecks', 'buttsecks', 'buttsecks', 'buttsecks', 'buttsecks', 'buttsecks', 'buttsecks', 'buttsecks', 'buttsecks', 'buttsecks', 'buttsecks', 'buttsecks', 'buttsecks', 'buttsecks', 'buttsecks', 'buttsecks', 'buttsecks', 'buttsecks', 'buttsecks', 'buttsecks', 'buttsecks', 'buttsecks', 'buttsecks', 'buttsecks', 'buttsecks', 'buttsecks', 'buttsecks', 'buttsecks', 'buttsecks', 'buttsecks', 'buttsecks', 'buttsecks', 'buttsecks', 'buttsecks', 'buttsecks', 'buttsecks', 'buttsecks', 'buttsecks', 'buttsecks', 'buttsecks', 'buttsecks', 'buttsecks', 'buttsecks', 'buttsecks', 'buttsecks', 'buttsecks', 'buttsecks', 'buttsecks', 'buttsecks', 'buttsecks', 'buttsecks', 'buttsecks', 'buttsecks', 'buttsecks', 'buttsecks', 'buttsecks', 'buttsecks', 'buttsecks', 'buttsecks', 'buttsecks', 'buttsecks', 'buttsecks', 'buttsecks', 'buttsecks', 'buttsecks', 'buttsecks', 'buttsecks', 'buttsecks', 'buttsecks', 'buttsecks', 'buttsecks', 'buttsecks', 'buttsecks', 'buttsecks', 'buttsecks', 'buttsecks', 'buttsecks', 'buttsecks', 'buttsecks', 'buttsecks', 'buttsecks', 'buttsecks', 'buttsecks', 'buttsecks', 'buttsecks', 'buttsecks', 'buttsecks', 'buttsecks', 'buttsecks', 'buttsecks', 'buttsecks', 'buttsecks', 'buttsecks', 'buttsecks', 'buttsecks', 'buttsecks', 'buttsecks', 'buttsecks', 'buttsecks', 'buttsecks', 'buttsecks', 'buttsecks', 'buttsecks', 'buttsecks', 'buttsecks', 'buttsecks', 'buttsecks', 'buttsecks', 'buttsecks', 'buttsecks', 'buttsecks', 'buttsecks', 'buttsecks', 'buttsecks', 'buttsecks', 'buttsecks', 'buttsecks', 'buttsecks', 'buttsecks', 'buttsecks', 'buttsecks', 'buttsecks', 'buttsecks', 'buttsecks', 'buttsecks', 'buttsecks', 'buttsecks', 'buttsecks', 'buttsecks', 'buttsecks', 'buttsecks', 'buttsecks', 'buttsecks', 'buttsecks', 'buttsecks', 'buttsecks', 'buttsecks', 'buttsecks', 'buttsecks', 'buttsecks', 'buttsecks', 'buttsecks', 'buttsecks', 'buttsecks', 'buttsecks', 'buttsecks', 'buttsecks', 'buttsecks', 'buttsecks', 'buttsecks', 'buttsecks', 'buttsecks', 'buttsecks', 'buttsecks', 'buttsecks', 'buttsecks', 'buttsecks', 'buttsecks', 'buttsecks', 'buttsecks', 'buttsecks', 'buttsecks', 'buttsecks', 'buttsecks', 'buttsecks', 'buttsecks', 'buttsecks', 'buttsecks', 'buttsecks', 'buttsecks', 'buttsecks', 'buttsecks', 'buttsecks', 'buttsecks', 'buttsecks', 'buttsecks', 'buttsecks', 'buttsecks', 'buttsecks', 'buttsecks', 'buttsecks', 'buttsecks', 'buttsecks', 'buttsecks', 'buttsecks', 'buttsecks', 'buttsecks', 'buttsecks', 'buttsecks', 'buttsecks', 'buttsecks', 'buttsecks', 'buttsecks', 'buttsecks', 'buttsecks', 'buttsecks', 'buttsecks', 'buttsecks', 'buttsecks', 'buttsecks', 'buttsecks', 'buttsecks', 'buttsecks', 'buttsecks', 'buttsecks', 'buttsecks', 'buttsecks', 'buttsecks', 'buttsecks', 'buttsecks', 'buttsecks', 'buttsecks', 'buttsecks', 'buttsecks', 'buttsecks', 'buttsecks', 'buttsecks', 'buttsecks', 'buttsecks', 'buttsecks', 'buttsecks', 'buttsecks', 'buttsecks', 'buttsecks', 'buttsecks', 'buttsecks', 'buttsecks', 'buttsecks', 'buttsecks', 'buttsecks', 'buttsecks', 'buttsecks', 'buttsecks', 'buttsecks', 'buttsecks', 'buttsecks', 'buttsecks', 'buttsecks', 'buttsecks', 'buttsecks', 'buttsecks', 'buttsecks', 'buttsecks', 'buttsecks', 'buttsecks', 'buttsecks', 'buttsecks', 'buttsecks', 'buttsecks', 'buttsecks', 'buttsecks', 'buttsecks', 'buttsecks', 'buttsecks', 'buttsecks', 'buttsecks', 'buttsecks', 'buttsecks', 'buttsecks', 'buttsecks', 'buttsecks', 'buttsecks', 'buttsecks', 'buttsecks', 'buttsecks', 'buttsecks', 'buttsecks', 'buttsecks', 'buttsecks', 'buttsecks', 'buttsecks', 'buttsecks', 'buttsecks', 'buttsecks', 'buttsecks', 'buttsecks', 'buttsecks', 'buttsecks', 'buttsecks', 'buttsecks', 'buttsecks', 'buttsecks', 'buttsecks', 'buttsecks', 'buttsecks', 'buttsecks', 'buttsecks', 'buttsecks', 'buttsecks', 'buttsecks', 'buttsecks', 'buttsecks', 'buttsecks', 'buttsecks', 'buttsecks', 'buttsecks', 'buttsecks', 'buttsecks', 'buttsecks', 'buttsecks', 'buttsecks', 'buttsecks', 'buttsecks', 'buttsecks', 'buttsecks', 'buttsecks', 'buttsecks', 'buttsecks', 'buttsecks', 'buttsecks', 'buttsecks', 'buttsecks', 'buttsecks', 'buttsecks', 'buttsecks', 'buttsecks', 'buttsecks', 'buttsecks', 'buttsecks', 'buttsecks', 'buttsecks', 'buttsecks', 'buttsecks', 'buttsecks', 'buttsecks', 'buttsecks', 'buttsecks', 'buttsecks', 'buttsecks', 'buttsecks', 'buttsecks', 'buttsecks', 'buttsecks', 'buttsecks', 'buttsecks', 'buttsecks', 'buttsecks', 'buttsecks', 'buttsecks', 'buttsecks', 'buttsecks', 'buttsecks', 'buttsecks', 'buttsecks', 'buttsecks', 'buttsecks', 'buttsecks', 'buttsecks', 'buttsecks', 'buttsecks', 'buttsecks', 'buttsecks', 'buttsecks', 'buttsecks', 'buttsecks', 'buttsecks', 'buttsecks', 'buttsecks', 'buttsecks', 'buttsecks', 'buttsecks', 'buttsecks', 'buttsecks', 'buttsecks', 'buttsecks', 'buttsecks', 'buttsecks', 'buttsecks', 'buttsecks', 'buttsecks', 'buttsecks', 'buttsecks', 'buttsecks', 'buttsecks', 'buttsecks', 'buttsecks', 'buttsecks', 'buttsecks', 'buttsecks', 'buttsecks', 'buttsecks', 'buttsecks', 'buttsecks', 'buttsecks', 'buttsecks', 'buttsecks', 'buttsecks', 'buttsecks', 'buttsecks', 'buttsecks', 'buttsecks', 'buttsecks', 'buttsecks', 'buttsecks', 'buttsecks', 'buttsecks', 'buttsecks', 'buttsecks', 'buttsecks', 'buttsecks', 'buttsecks', 'buttsecks', 'buttsecks', 'buttsecks', 'buttsecks', 'buttsecks', 'buttsecks', 'buttsecks', 'buttsecks', 'buttsecks', 'buttsecks', 'buttsecks', 'buttsecks', 'buttsecks', 'buttsecks', 'buttsecks', 'buttsecks', 'buttsecks', 'buttsecks', 'buttsecks', 'buttsecks', 'buttsecks', 'buttsecks', 'buttsecks', 'buttsecks', 'buttsecks', 'buttsecks', 'buttsecks', 'buttsecks', 'buttsecks', 'buttsecks', 'buttsecks', 'buttsecks', 'buttsecks', 'buttsecks', 'buttsecks', 'buttsecks', 'buttsecks', 'buttsecks', 'buttsecks', 'buttsecks', 'buttsecks', 'buttsecks', 'buttsecks', 'buttsecks', 'buttsecks', 'buttsecks', 'buttsecks', 'buttsecks', 'buttsecks', 'buttsecks', 'buttsecks', 'buttsecks', 'buttsecks', 'buttsecks', 'buttsecks', 'buttsecks', 'buttsecks', 'buttsecks', 'buttsecks', 'buttsecks', 'buttsecks', 'buttsecks', 'buttsecks', 'buttsecks', 'buttsecks', 'buttsecks', 'buttsecks', 'buttsecks', 'buttsecks', 'buttsecks', 'buttsecks']\n",
      "WARNING:root:cannot compute similarity with no input ['winkwank', 'stinkstank']\n",
      "WARNING:root:cannot compute similarity with no input ['rning', 'shiroi', 'hane']\n",
      "WARNING:root:cannot compute similarity with no input ['bstuseranna', 'frodesiakcuwsoablock']\n",
      "WARNING:root:cannot compute similarity with no input ['inking']\n",
      "WARNING:root:cannot compute similarity with no input []\n",
      "WARNING:root:cannot compute similarity with no input ['goce', 'userjack', 'greenmaven', 'datejuly', 'smallno']\n",
      "WARNING:root:cannot compute similarity with no input ['tpwwwmediamonitorsnetednahtml']\n",
      "WARNING:root:cannot compute similarity with no input ['ley']\n",
      "WARNING:root:cannot compute similarity with no input ['baklava', 'thankyou']\n",
      "WARNING:root:cannot compute similarity with no input ['talkback']\n",
      "WARNING:root:cannot compute similarity with no input []\n",
      "WARNING:root:cannot compute similarity with no input []\n",
      "WARNING:root:cannot compute similarity with no input ['imagetyrone', 'biggumsjpgrightthumbchappelle']\n",
      "WARNING:root:cannot compute similarity with no input ['creen', 'actorjohn', 'schneider']\n",
      "WARNING:root:cannot compute similarity with no input ['scue', 'wikipediaarticles', 'deletionarmageddon', 'theology']\n",
      "WARNING:root:cannot compute similarity with no input ['stalked']\n",
      "WARNING:root:cannot compute similarity with no input ['spade', 'spade']\n",
      "WARNING:root:cannot compute similarity with no input ['incredulous']\n",
      "WARNING:root:cannot compute similarity with no input ['iend']\n",
      "WARNING:root:cannot compute similarity with no input []\n",
      "WARNING:root:cannot compute similarity with no input ['abinetlevel_childtemplate']\n",
      "WARNING:root:cannot compute similarity with no input ['litsyin', 'alexandrov', 'moiseyev', 'stenchikovs']\n",
      "WARNING:root:cannot compute similarity with no input ['suuukkks', 'deeeekk']\n",
      "WARNING:root:cannot compute similarity with no input ['strikesstrike']\n",
      "WARNING:root:cannot compute similarity with no input ['ste', 'caste']\n",
      "WARNING:root:cannot compute similarity with no input ['afdw']\n",
      "WARNING:root:cannot compute similarity with no input ['assimalated']\n",
      "WARNING:root:cannot compute similarity with no input []\n",
      "WARNING:root:cannot compute similarity with no input ['mplate', 'achehnese']\n",
      "WARNING:root:cannot compute similarity with no input ['afdmergefromkaren', 'hillkaren', 'hillaugust']\n",
      "WARNING:root:cannot compute similarity with no input ['doubtful']\n",
      "WARNING:root:cannot compute similarity with no input ['striking', 'portrait']\n",
      "WARNING:root:cannot compute similarity with no input ['erwipeouting']\n",
      "WARNING:root:cannot compute similarity with no input ['rner', 'austria']\n",
      "WARNING:root:cannot compute similarity with no input ['mplateuwdelete']\n",
      "WARNING:root:cannot compute similarity with no input ['ril', 'utc', 'βcommand']\n",
      "WARNING:root:cannot compute similarity with no input ['apter', 'footnote', 'wcr', 'rpj']\n",
      "WARNING:root:cannot compute similarity with no input ['pyright', 'speedy', 'deletion']\n",
      "WARNING:root:cannot compute similarity with no input []\n",
      "WARNING:root:cannot compute similarity with no input ['disambiguation', 'farmbrough']\n",
      "WARNING:root:cannot compute similarity with no input ['arwars']\n",
      "WARNING:root:cannot compute similarity with no input ['suckkk', 'daa', 'deeeeeee']\n",
      "WARNING:root:cannot compute similarity with no input ['anton', 'lavey']\n",
      "WARNING:root:cannot compute similarity with no input ['anually', 'ping']\n",
      "WARNING:root:cannot compute similarity with no input ['robably']\n",
      "WARNING:root:cannot compute similarity with no input ['jeske', 'couriano', 'suckgrawp']\n",
      "WARNING:root:cannot compute similarity with no input []\n",
      "WARNING:root:cannot compute similarity with no input ['lklos', 'angeles', 'lakersarchive']\n",
      "WARNING:root:cannot compute similarity with no input ['sandbnvm']\n",
      "WARNING:root:cannot compute similarity with no input ['talkpage', 'talkpage']\n",
      "WARNING:root:cannot compute similarity with no input ['anks', 'huskie']\n",
      "WARNING:root:cannot compute similarity with no input ['stered', 'bastered', 'bastered', 'bastered', 'bastered', 'bastered', 'bastered', 'bastered', 'bastered', 'bastered', 'bastered', 'bastered', 'bastered', 'bastered']\n",
      "WARNING:root:cannot compute similarity with no input ['jectives', 'npia']\n",
      "WARNING:root:cannot compute similarity with no input ['llend', 'bellend']\n",
      "WARNING:root:cannot compute similarity with no input ['blockautowhy', 'autoblocked']\n",
      "WARNING:root:cannot compute similarity with no input ['declinesee', 'foxj']\n",
      "WARNING:root:cannot compute similarity with no input ['nkrot']\n",
      "WARNING:root:cannot compute similarity with no input ['sniaks', 'bosniaks']\n",
      "WARNING:root:cannot compute similarity with no input ['lkback']\n",
      "WARNING:root:cannot compute similarity with no input ['nkrot']\n",
      "WARNING:root:cannot compute similarity with no input ['ue']\n",
      "WARNING:root:cannot compute similarity with no input ['concur', 'bilcat']\n",
      "WARNING:root:cannot compute similarity with no input ['artimportance', 'lowattention', 'peerreview', 'oldpeerreview', 'imageneeded', 'needsinfobox']\n",
      "WARNING:root:cannot compute similarity with no input ['kipediarequests', 'commenttony', 'sidaway']\n",
      "WARNING:root:cannot compute similarity with no input ['jun', 'utc']\n",
      "WARNING:root:cannot compute similarity with no input ['nicolae', 'steinhardt', 'bonny']\n",
      "WARNING:root:cannot compute similarity with no input ['dhin', 'cochin']\n",
      "WARNING:root:cannot compute similarity with no input ['ank', 'jamesbwatson']\n",
      "WARNING:root:cannot compute similarity with no input ['anks', 'copyediting']\n",
      "WARNING:root:cannot compute similarity with no input ['terwikis']\n",
      "WARNING:root:cannot compute similarity with no input ['educationyes', 'educationimportancelow']\n",
      "WARNING:root:cannot compute similarity with no input ['jun', 'utc']\n",
      "WARNING:root:cannot compute similarity with no input ['probaly', 'gurgurshite']\n",
      "WARNING:root:cannot compute similarity with no input ['austrian', 'dialect', 'asutrian', 'literature']\n",
      "WARNING:root:cannot compute similarity with no input ['talkme']\n",
      "WARNING:root:cannot compute similarity with no input ['ank']\n",
      "WARNING:root:cannot compute similarity with no input ['jlo']\n",
      "WARNING:root:cannot compute similarity with no input ['pport', 'nominator']\n",
      "WARNING:root:cannot compute similarity with no input ['ldsprojectclassbimportancelow']\n",
      "WARNING:root:cannot compute similarity with no input ['rge', 'seaman', 'bethel']\n",
      "WARNING:root:cannot compute similarity with no input ['stered', 'basteredbastered', 'basteredbastered', 'basteredbastered', 'basteredbastered', 'basteredbastered', 'basteredbastered', 'basteredbastered', 'basteredbastered', 'basteredbastered', 'basteredbastered', 'basteredbastered', 'basteredbastered', 'basteredbastered', 'basteredbastered', 'basteredbastered', 'basteredbastered', 'basteredbastered', 'basteredbastered', 'basteredbastered', 'basteredbastered', 'basteredbastered', 'basteredbastered', 'basteredbastered', 'basteredbastered', 'basteredbastered', 'basteredbastered', 'basteredbastered', 'basteredbastered', 'basteredbastered', 'basteredbastered', 'basteredbastered', 'basteredbastered', 'basteredbastered', 'basteredbastered', 'basteredbastered', 'basteredbastered', 'basteredbastered', 'basteredbastered', 'basteredbastered', 'basteredbastered', 'basteredbastered', 'basteredbastered', 'basteredbastered', 'basteredbastered', 'basteredbastered', 'basteredbastered', 'basteredbastered', 'basteredbastered', 'basteredbastered', 'basteredbastered', 'basteredbastered', 'basteredbastered', 'basteredbastered', 'basteredbastered', 'basteredbastered', 'basteredbastered', 'basteredbastered', 'basteredbastered', 'basteredbastered', 'basteredbastered', 'basteredbastered', 'basteredbastered', 'basteredbastered', 'basteredbastered', 'basteredbastered', 'basteredbastered', 'basteredbastered', 'basteredbastered', 'basteredbastered', 'basteredbastered', 'basteredbastered', 'basteredbastered', 'basteredbastered', 'basteredbastered', 'basteredbastered', 'basteredbastered', 'basteredbastered', 'basteredbastered', 'basteredbastered', 'basteredbastered', 'basteredbastered', 'basteredbastered', 'basteredbastered', 'basteredbastered', 'basteredbastered', 'basteredbastered', 'basteredbastered', 'basteredbastered', 'basteredbastered', 'basteredbastered', 'basteredbastered', 'basteredbastered', 'basteredbastered', 'basteredbastered', 'basteredbastered', 'basteredbastered', 'basteredbastered', 'basteredbastered', 'basteredbastered', 'basteredbastered', 'basteredbastered', 'basteredbastered', 'basteredbastered', 'basteredbastered', 'basteredbastered', 'basteredbastered', 'basteredbastered', 'basteredbastered', 'basteredbastered', 'basteredbastered', 'basteredbastered', 'basteredbastered', 'basteredbastered', 'basteredbastered', 'basteredbastered', 'basteredbastered', 'basteredbastered', 'basteredbastered', 'basteredbastered', 'basteredbastered', 'basteredbastered', 'basteredbastered', 'basteredbastered', 'basteredbastered', 'basteredbastered', 'basteredbastered', 'basteredbastered', 'basteredbastered', 'basteredbastered', 'basteredbastered', 'basteredbastered', 'basteredbastered', 'basteredbastered', 'basteredbastered', 'basteredbastered', 'basteredbastered', 'basteredbastered', 'basteredbastered', 'basteredbastered', 'basteredbastered', 'basteredbastered', 'basteredbastered', 'basteredbastered', 'basteredbastered', 'basteredbastered', 'basteredbastered', 'basteredbastered', 'basteredbastered', 'basteredbastered', 'basteredbastered', 'basteredbastered', 'basteredbastered', 'basteredbastered', 'basteredbastered', 'basteredbastered', 'basteredbastered', 'basteredbastered', 'basteredbastered', 'basteredbastered', 'basteredbastered', 'basteredbastered', 'basteredbastered', 'basteredbastered', 'basteredbastered', 'basteredbastered', 'basteredbastered', 'basteredbastered', 'basteredbastered', 'basteredbastered', 'basteredbastered', 'basteredbastered', 'basteredbastered', 'basteredbastered', 'basteredbastered', 'basteredbastered', 'basteredbastered', 'basteredbastered', 'basteredbastered', 'basteredbastered', 'basteredbastered', 'basteredbastered', 'basteredbastered', 'basteredbastered', 'basteredbastered', 'basteredbastered', 'basteredbastered', 'basteredbastered', 'basteredbastered', 'basteredbastered', 'basteredbastered', 'basteredbastered', 'basteredbastered', 'basteredbastered', 'basteredbastered', 'basteredbastered', 'basteredbastered', 'basteredbastered', 'basteredbastered', 'basteredbastered', 'basteredbastered', 'basteredbastered', 'basteredbastered', 'basteredbastered', 'basteredbastered', 'basteredbastered', 'basteredbastered', 'basteredbastered', 'basteredbastered', 'basteredbastered', 'basteredbastered', 'basteredbastered', 'basteredbastered', 'basteredbastered', 'basteredbastered', 'basteredbastered', 'basteredbastered', 'basteredbastered']\n",
      "WARNING:root:cannot compute similarity with no input ['asons', 'greeting']\n",
      "WARNING:root:cannot compute similarity with no input ['ptember', 'utc']\n",
      "WARNING:root:cannot compute similarity with no input ['oman', 'fontvariant', 'smallcapsmsc']\n",
      "WARNING:root:cannot compute similarity with no input ['nonagenarian', 'centenarian']\n",
      "WARNING:root:cannot compute similarity with no input ['cuntbag', 'cuntbag', 'cuntbag', 'cuntbag', 'cuntbag', 'cuntbag', 'cuntbag', 'cuntbag', 'cuntbag', 'cuntbag', 'cuntbag', 'cuntbag', 'cuntbag', 'cuntbag', 'cuntbag', 'cuntbag', 'cuntbag', 'cuntbag', 'cuntbag', 'cuntbag', 'cuntbag', 'cuntbag', 'cuntbag', 'cuntbag', 'cuntbag', 'cuntbag', 'cuntbag', 'cuntbag', 'cuntbag', 'cuntbag', 'cuntbag', 'cuntbag', 'cuntbag', 'cuntbag', 'cuntbag', 'cuntbag', 'cuntbag', 'cuntbag', 'cuntbag', 'cuntbag', 'cuntbag', 'cuntbag', 'cuntbag', 'cuntbag', 'cuntbag', 'cuntbag', 'cuntbag', 'cuntbag', 'cuntbag', 'cuntbag', 'cuntbag', 'cuntbag', 'cuntbag', 'cuntbag', 'cuntbag', 'cuntbag', 'cuntbag', 'cuntbag', 'cuntbag', 'cuntbag', 'cuntbag', 'cuntbag', 'cuntbag', 'cuntbag', 'cuntbag', 'cuntbag', 'cuntbag', 'cuntbag', 'cuntbag', 'cuntbag', 'cuntbag', 'cuntbag', 'cuntbag', 'cuntbag', 'cuntbag', 'cuntbag', 'cuntbag', 'cuntbag', 'cuntbag', 'cuntbag', 'cuntbag', 'cuntbag', 'cuntbag', 'cuntbag', 'cuntbag', 'cuntbag', 'cuntbag', 'cuntbag', 'cuntbag', 'cuntbag', 'cuntbag', 'cuntbag', 'cuntbag', 'cuntbag', 'cuntbag', 'cuntbag', 'cuntbag', 'cuntbag', 'cuntbag', 'cuntbag', 'cuntbag', 'cuntbag', 'cuntbag', 'cuntbag', 'cuntbag', 'cuntbag', 'cuntbag', 'cuntbag', 'cuntbag', 'cuntbag', 'cuntbag', 'cuntbag', 'cuntbag', 'cuntbag', 'cuntbag', 'cuntbag', 'cuntbag', 'cuntbag', 'cuntbag', 'cuntbag', 'cuntbag', 'cuntbag', 'cuntbag', 'cuntbag', 'cuntbag', 'cuntbag']\n",
      "WARNING:root:cannot compute similarity with no input ['gangin']\n",
      "WARNING:root:cannot compute similarity with no input []\n",
      "WARNING:root:cannot compute similarity with no input ['godspeed']\n",
      "WARNING:root:cannot compute similarity with no input ['lloreillycom', 'footnote']\n",
      "WARNING:root:cannot compute similarity with no input []\n",
      "WARNING:root:cannot compute similarity with no input []\n",
      "WARNING:root:cannot compute similarity with no input ['streptococcus', 'mutans']\n",
      "WARNING:root:cannot compute similarity with no input []\n",
      "WARNING:root:cannot compute similarity with no input ['ite', 'talkemail']\n",
      "WARNING:root:cannot compute similarity with no input ['malacia', 'lfdder']\n",
      "WARNING:root:cannot compute similarity with no input ['rrected', 'barnstar']\n",
      "WARNING:root:cannot compute similarity with no input ['fukking', 'retardo', 'racisto', 'kanuck']\n",
      "WARNING:root:cannot compute similarity with no input ['tpwwwhaaretzcomnewsdiplomacydefensecaloriesperpersonhowisraelmadesuregazadidntstarvepremium']\n",
      "WARNING:root:cannot compute similarity with no input ['pport', 'uncontested']\n",
      "WARNING:root:cannot compute similarity with no input ['ndurria']\n",
      "WARNING:root:cannot compute similarity with no input ['pyright', 'mxmxli', 'ass_jh', 'gy']\n",
      "WARNING:root:cannot compute similarity with no input ['omething', 'wellsourced']\n",
      "WARNING:root:cannot compute similarity with no input ['thout', 'resupplied', 'panzerschiffes']\n",
      "WARNING:root:cannot compute similarity with no input ['cation', 'azerbaijan']\n",
      "WARNING:root:cannot compute similarity with no input ['ected', 'electoral', 'jhk']\n",
      "WARNING:root:cannot compute similarity with no input []\n",
      "WARNING:root:cannot compute similarity with no input ['scussion', 'socialcasting']\n",
      "WARNING:root:cannot compute similarity with no input ['nguska_event_in_fiction_nd_nominationdiffoldid']\n",
      "WARNING:root:cannot compute similarity with no input ['ttention', 'peerreview', 'oldpeerreview', 'imageneeded', 'needsinfobox']\n",
      "WARNING:root:cannot compute similarity with no input ['ldid', 'wikipediawikipedia', 'signpostnewsroomwikiproject', 'deskinterviews']\n",
      "WARNING:root:cannot compute similarity with no input ['caulk']\n",
      "WARNING:root:cannot compute similarity with no input ['cth', 'bicth', 'bicth', 'bicth', 'bicth', 'bicth', 'bicth', 'bicth', 'bicth', 'bicth', 'bicth', 'bicth', 'bicth', 'bicth', 'bicth']\n",
      "WARNING:root:cannot compute similarity with no input ['jun', 'utc']\n",
      "WARNING:root:cannot compute similarity with no input ['eazy', 'imagelepfrontjpg']\n",
      "WARNING:root:cannot compute similarity with no input ['minutethreaten', 'onewordpostguy']\n",
      "WARNING:root:cannot compute similarity with no input ['urrentstatusga', 'topicsports', 'recreation', 'wikiproject', 'pittsburghclassga']\n",
      "WARNING:root:cannot compute similarity with no input ['jul', 'utc']\n",
      "WARNING:root:cannot compute similarity with no input ['lkbattle', 'mullaitivu']\n",
      "WARNING:root:cannot compute similarity with no input ['stroidea', 'synonyme', 'pape', 'superfamily', 'sarcophagidea', 'rohdendorf']\n",
      "WARNING:root:cannot compute similarity with no input ['jun', 'utc']\n",
      "WARNING:root:cannot compute similarity with no input []\n",
      "WARNING:root:cannot compute similarity with no input ['kipediadeceased', 'wikipedians']\n",
      "WARNING:root:cannot compute similarity with no input ['estroy']\n",
      "WARNING:root:cannot compute similarity with no input ['imagefilebutton', 'nowiki', 'symbolpng']\n",
      "WARNING:root:cannot compute similarity with no input ['malaka', 'malaka']\n",
      "WARNING:root:cannot compute similarity with no input ['anythingcaya']\n",
      "WARNING:root:cannot compute similarity with no input ['candidacy']\n",
      "WARNING:root:cannot compute similarity with no input ['talkback', 'montecarlo']\n",
      "WARNING:root:cannot compute similarity with no input ['itwoops']\n",
      "WARNING:root:cannot compute similarity with no input ['kipyou', 'homonetgayedia']\n",
      "WARNING:root:cannot compute similarity with no input []\n",
      "WARNING:root:cannot compute similarity with no input ['isted', 'quackwatch']\n",
      "WARNING:root:cannot compute similarity with no input ['anks', 'farmbrough']\n",
      "WARNING:root:cannot compute similarity with no input ['harrassing']\n",
      "WARNING:root:cannot compute similarity with no input []\n",
      "WARNING:root:cannot compute similarity with no input ['mangina', 'mangina', 'mangina', 'mangina', 'mangina', 'mangina', 'mangina', 'mangina', 'mangina', 'mangina', 'mangina', 'mangina', 'mangina', 'mangina', 'mangina', 'mangina', 'mangina', 'mangina', 'mangina', 'mangina', 'mangina', 'mangina', 'mangina', 'mangina', 'mangina', 'mangina', 'mangina', 'mangina', 'mangina', 'mangina', 'mangina', 'mangina', 'mangina', 'mangina', 'mangina', 'mangina', 'mangina', 'mangina', 'mangina', 'mangina', 'mangina', 'mangina', 'mangina', 'mangina', 'mangina', 'mangina', 'mangina', 'mangina', 'mangina', 'mangina', 'mangina', 'mangina', 'mangina', 'mangina', 'mangina', 'mangina', 'mangina', 'mangina', 'mangina', 'mangina', 'mangina', 'mangina', 'mangina', 'mangina', 'mangina', 'mangina', 'mangina', 'mangina', 'mangina', 'mangina', 'mangina', 'mangina', 'mangina', 'mangina', 'mangina', 'mangina', 'mangina', 'mangina', 'mangina', 'mangina', 'mangina', 'mangina', 'mangina', 'mangina', 'mangina', 'mangina', 'mangina', 'mangina', 'mangina', 'mangina', 'mangina', 'mangina', 'mangina', 'mangina', 'mangina', 'mangina', 'mangina', 'mangina', 'mangina', 'mangina', 'mangina', 'mangina']\n",
      "WARNING:root:cannot compute similarity with no input ['etending', 'antifascist']\n",
      "WARNING:root:cannot compute similarity with no input ['ologise', 'uncivil']\n",
      "WARNING:root:cannot compute similarity with no input ['anks', 'rschen', 'wikieditor']\n",
      "WARNING:root:cannot compute similarity with no input ['tpwwwworldpyramidscomatrusamonkmoundhtml']\n",
      "WARNING:root:cannot compute similarity with no input []\n",
      "WARNING:root:cannot compute similarity with no input ['viemaker', 'est']\n",
      "WARNING:root:cannot compute similarity with no input ['baklava']\n",
      "WARNING:root:cannot compute similarity with no input ['vandal', 'pavel', 'vozenilek']\n",
      "WARNING:root:cannot compute similarity with no input ['siris', 'threepiece', 'vertebra']\n",
      "WARNING:root:cannot compute similarity with no input []\n",
      "WARNING:root:cannot compute similarity with no input ['eposted']\n",
      "WARNING:root:cannot compute similarity with no input ['asel', 'wordphrase']\n",
      "WARNING:root:cannot compute similarity with no input ['dlck']\n",
      "WARNING:root:cannot compute similarity with no input ['refering']\n",
      "WARNING:root:cannot compute similarity with no input ['juliancolton']\n",
      "WARNING:root:cannot compute similarity with no input ['dyk']\n",
      "WARNING:root:cannot compute similarity with no input ['avmacedonians']\n",
      "WARNING:root:cannot compute similarity with no input ['anks', 'wpfour', 'wpchicago', 'wpwaward']\n",
      "WARNING:root:cannot compute similarity with no input ['dissuss', 'wpfooty']\n",
      "WARNING:root:cannot compute similarity with no input ['remorse', 'mokele']\n",
      "WARNING:root:cannot compute similarity with no input ['jul', 'utc']\n",
      "WARNING:root:cannot compute similarity with no input ['agiarized']\n",
      "WARNING:root:cannot compute similarity with no input []\n",
      "WARNING:root:cannot compute similarity with no input ['rgely', 'copyvio', 'talkemail']\n",
      "WARNING:root:cannot compute similarity with no input ['wil', 'kil']\n",
      "WARNING:root:cannot compute similarity with no input ['macintosh']\n",
      "WARNING:root:cannot compute similarity with no input ['llo']\n",
      "WARNING:root:cannot compute similarity with no input ['quack', 'quack', 'javért']\n",
      "WARNING:root:cannot compute similarity with no input ['talkback', 'naspve']\n",
      "WARNING:root:cannot compute similarity with no input []\n",
      "WARNING:root:cannot compute similarity with no input ['plained', 'talkreptilian', 'humanoid']\n",
      "WARNING:root:cannot compute similarity with no input ['mplateuwspam']\n",
      "WARNING:root:cannot compute similarity with no input ['ich']\n",
      "WARNING:root:cannot compute similarity with no input ['tpenwikipediaorgwindexphptitlecrash_bandicoot_seriesdiffprevoldid']\n",
      "WARNING:root:cannot compute similarity with no input ['userash']\n",
      "WARNING:root:cannot compute similarity with no input ['sagbliss', 'bigamist']\n",
      "WARNING:root:cannot compute similarity with no input ['finition', 'egad']\n",
      "WARNING:root:cannot compute similarity with no input ['clpfd', 'jun', 'utc']\n",
      "WARNING:root:cannot compute similarity with no input ['moongileri']\n",
      "WARNING:root:cannot compute similarity with no input ['cationstartnovember', 'endnovember']\n",
      "WARNING:root:cannot compute similarity with no input ['tcwpchicagowplotm']\n",
      "WARNING:root:cannot compute similarity with no input ['lch', 'wikipage', 'vandal']\n",
      "WARNING:root:cannot compute similarity with no input ['checkuser', 'wpuserpage']\n",
      "WARNING:root:cannot compute similarity with no input ['descendant']\n",
      "WARNING:root:cannot compute similarity with no input ['bruary', 'aeiou']\n",
      "WARNING:root:cannot compute similarity with no input ['ismisan', 'maxpresent']\n",
      "WARNING:root:cannot compute similarity with no input ['hounding', 'dominick']\n",
      "WARNING:root:cannot compute similarity with no input ['thylmercury', 'elementalmetallic', 'mercury', 'lrnscience']\n",
      "WARNING:root:cannot compute similarity with no input ['eproduction', 'ctsv']\n",
      "WARNING:root:cannot compute similarity with no input ['user_talkking', 'lopezlopez', 'contribs']\n",
      "WARNING:root:cannot compute similarity with no input ['kiproject', 'romania']\n",
      "WARNING:root:cannot compute similarity with no input ['ving', 'recache']\n",
      "WARNING:root:cannot compute similarity with no input ['ank', 'mabuhay', 'loretta']\n",
      "WARNING:root:cannot compute similarity with no input ['gust', 'utc', 'tidied']\n",
      "WARNING:root:cannot compute similarity with no input ['sponded']\n",
      "WARNING:root:cannot compute similarity with no input ['aryanem', 'vaejo']\n",
      "WARNING:root:cannot compute similarity with no input ['classmid', 'importancemid']\n",
      "WARNING:root:cannot compute similarity with no input ['ooting', 'meagan', 'hockaday']\n",
      "WARNING:root:cannot compute similarity with no input ['rch', 'utc']\n",
      "WARNING:root:cannot compute similarity with no input ['swenson']\n",
      "WARNING:root:cannot compute similarity with no input ['graphe', 'paranomon']\n",
      "WARNING:root:cannot compute similarity with no input []\n",
      "WARNING:root:cannot compute similarity with no input ['wpcommonname']\n",
      "WARNING:root:cannot compute similarity with no input ['supermature', 'wikipaedophile']\n",
      "WARNING:root:cannot compute similarity with no input ['reverted', 'editwar']\n",
      "WARNING:root:cannot compute similarity with no input ['rew']\n",
      "WARNING:root:cannot compute similarity with no input ['manuel', 'asiegbu']\n",
      "WARNING:root:cannot compute similarity with no input []\n",
      "WARNING:root:cannot compute similarity with no input ['talkback', 'wrestlemania', 'xxviii', 'undertaker']\n",
      "WARNING:root:cannot compute similarity with no input ['ticky', 'parkinparkin']\n",
      "WARNING:root:cannot compute similarity with no input ['userbejnarfaizal', 'ismail']\n",
      "WARNING:root:cannot compute similarity with no input ['wikipediahi', 'wikipediahi', 'wikipediahi', 'wikipediahi', 'wikipediahi', 'wikipediahi', 'wikipediahi', 'wikipediahi', 'wikipediahi', 'wikipediahi', 'wikipediahi', 'wikipediahi', 'wikipediahi', 'wikipediahi', 'wikipediahi', 'wikipediahi', 'wikipediahi', 'wikipediahi', 'wikipediahi', 'wikipediahi', 'wikipediahi', 'wikipediahi', 'wikipediahi', 'wikipediahi', 'wikipediahi', 'wikipediahi', 'wikipediahi', 'wikipediahi', 'wikipediahi', 'wikipediahi', 'wikipediahi', 'wikipediahi', 'wikipediahi', 'wikipediahi', 'wikipediahi', 'wikipediahi', 'wikipediahi', 'wikipediahi', 'wikipediahi', 'wikipediahi', 'wikipediahi', 'wikipediahi', 'wikipediahi', 'wikipediahi', 'wikipediahi', 'wikipediahi', 'wikipediahi', 'wikipediahi', 'wikipediahi', 'wikipediahi', 'wikipediahi', 'wikipediahi', 'wikipediahi', 'wikipediahi', 'wikipediahi', 'wikipediahi', 'wikipediahi', 'wikipediahi', 'wikipediahi', 'wikipediahi', 'wikipediahi', 'wikipediahi', 'wikipediahi', 'wikipediahi', 'wikipediahi', 'wikipediahi', 'wikipediahi', 'wikipediahi', 'wikipediahi', 'wikipediahi', 'wikipediahi', 'wikipediahi', 'wikipediahi', 'wikipediahi', 'wikipediahi', 'wikipediahi', 'wikipediahi', 'wikipediahi', 'wikipediahi', 'wikipediahi', 'wikipediahi', 'wikipediahi', 'wikipediahi', 'wikipediahi', 'wikipediahi', 'wikipediahi', 'wikipediahi', 'wikipediahi', 'wikipediahi', 'wikipediahi', 'wikipediahi', 'wikipediahi', 'wikipediahi', 'wikipediahi', 'wikipediahi', 'wikipediahi', 'wikipediahi', 'wikipediahi', 'wikipediahi', 'wikipediahi', 'wikipediahi', 'wikipediahi', 'wikipediahi', 'wikipediahi', 'wikipediahi', 'wikipediahi', 'wikipediahi', 'wikipediahi', 'wikipediahi', 'wikipediahi', 'wikipediahi', 'wikipediahi', 'wikipediahi', 'wikipediahi', 'wikipediahi', 'wikipediahi', 'wikipediahi', 'wikipediahi', 'wikipediahi', 'wikipediahi', 'wikipediahi', 'wikipediahi', 'wikipediahi', 'wikipediahi', 'wikipediahi', 'wikipediahi', 'wikipediahi', 'wikipediahi', 'wikipediahi', 'wikipediahi', 'wikipediahi', 'wikipediahi', 'wikipediahi', 'wikipediahi', 'wikipediahi', 'wikipediahi', 'wikipediahi', 'wikipediahi', 'wikipediahi', 'wikipediahi', 'wikipediahi', 'wikipediahi', 'wikipediahi', 'wikipediahi', 'wikipediahi', 'wikipediahi', 'wikipediahi', 'wikipediahi', 'wikipediahi', 'wikipediahi', 'wikipediahi', 'wikipediahi', 'wikipediahi', 'wikipediahi', 'wikipediahi', 'wikipediahi', 'wikipediahi', 'wikipediahi', 'wikipediahi', 'wikipediahi', 'wikipediahi', 'wikipediahi', 'wikipediahi', 'wikipediahi', 'wikipediahi', 'wikipediahi', 'wikipediahi', 'wikipediahi', 'wikipediahi', 'wikipediahi', 'wikipediahi', 'wikipediahi', 'wikipediahi', 'wikipediahi', 'wikipediahi', 'wikipediahi', 'wikipediahi', 'wikipediahi', 'wikipediahi', 'wikipediahi', 'wikipediahi', 'wikipediahi', 'wikipediahi', 'wikipediahi', 'wikipediahi', 'wikipediahi', 'wikipediahi', 'wikipediahi', 'wikipediahi', 'wikipediahi', 'wikipediahi', 'wikipediahi', 'wikipediahi', 'wikipediahi', 'wikipediahi', 'wikipediahi', 'wikipediahi', 'wikipediahi', 'wikipediahi', 'wikipediahi', 'wikipediahi', 'wikipediahi', 'wikipediahi', 'wikipediahi', 'wikipediahi', 'wikipediahi', 'wikipediahi', 'wikipediahi', 'wikipediahi', 'wikipediahi', 'wikipediahi', 'wikipediahi', 'wikipediahi', 'wikipediahi', 'wikipediahi', 'wikipediahi', 'wikipediahi', 'wikipediahi', 'wikipediahi', 'wikipediahi', 'wikipediahi', 'wikipediahi', 'wikipediahi', 'wikipediahi', 'wikipediahi', 'wikipediahi', 'wikipediahi', 'wikipediahi', 'wikipediahi', 'wikipediahi', 'wikipediahi', 'wikipediahi', 'wikipediahi', 'wikipediahi', 'wikipediahi', 'wikipediahi', 'wikipediahi', 'wikipediahi', 'wikipediahi', 'wikipediahi', 'wikipediahi', 'wikipediahi', 'wikipediahi', 'wikipediahi', 'wikipediahi', 'wikipediahi', 'wikipediahi', 'wikipediahi', 'wikipediahi', 'wikipediahi', 'wikipediahi', 'wikipediahi', 'wikipediahi', 'wikipediahi', 'wikipediahi', 'wikipediahi', 'wikipediahi', 'wikipediahi', 'wikipediahi', 'wikipediahi', 'wikipediahi', 'wikipediahi', 'wikipediahi', 'wikipediahi', 'wikipediahi', 'wikipediahi', 'wikipediahi', 'wikipediahi', 'wikipediahi', 'wikipediahi', 'wikipediahi', 'wikipediahi', 'wikipediahi', 'wikipediahi', 'wikipediahi', 'wikipediahi', 'wikipediahi', 'wikipediahi', 'wikipediahi', 'wikipediahi', 'wikipediahi', 'wikipediahi', 'wikipediahi', 'wikipediahi', 'wikipediahi', 'wikipediahi', 'wikipediahi', 'wikipediahi', 'wikipediahi', 'wikipediahi', 'wikipediahi', 'wikipediahi', 'wikipediahi', 'wikipediahi', 'wikipediahi', 'wikipediahi', 'wikipediahi', 'wikipediahi', 'wikipediahi', 'wikipediahi', 'wikipediahi', 'wikipediahi', 'wikipediahi', 'wikipediahi', 'wikipediahi', 'wikipediahi', 'wikipediahi', 'wikipediahi', 'wikipediahi', 'wikipediahi', 'wikipediahi', 'wikipediahi', 'wikipediahi', 'wikipediahi', 'wikipediahi', 'wikipediahi', 'wikipediahi', 'wikipediahi', 'wikipediahi', 'wikipediahi', 'wikipediahi', 'wikipediahi', 'wikipediahi', 'wikipediahi', 'wikipediahi', 'wikipediahi', 'wikipediahi', 'wikipediahi', 'wikipediahi', 'wikipediahi', 'wikipediahi', 'wikipediahi', 'wikipediahi', 'wikipediahi', 'wikipediahi', 'wikipediahi', 'wikipediahi', 'wikipediahi', 'wikipediahi', 'wikipediahi', 'wikipediahi', 'wikipediahi', 'wikipediahi', 'wikipediahi', 'wikipediahi', 'wikipediahi', 'wikipediahi', 'wikipediahi', 'wikipediahi', 'wikipediahi', 'wikipediahi', 'wikipediahi', 'wikipediahi', 'wikipediahi', 'wikipediahi', 'wikipediahi', 'wikipediahi']\n",
      "WARNING:root:cannot compute similarity with no input ['ath', 'musulmans']\n",
      "WARNING:root:cannot compute similarity with no input ['canvassing']\n",
      "WARNING:root:cannot compute similarity with no input ['alk', 'contribs']\n"
     ]
    }
   ],
   "source": [
    "### out of time #1\n",
    "\n",
    "real_world_test_sample = real_world_test.iloc[400:500]\n",
    "real_world_tokenized = real_world_test_sample.apply(lambda r: w2v_tokenize_text(r['tweet']), axis=1).values\n",
    "\n",
    "out_of_time_test = word_averaging_list(wv,real_world_tokenized)\n",
    "\n",
    "### out of time #2\n",
    "\n",
    "real_world_test_sample_racist = real_world_test_racist.iloc[200:400]\n",
    "real_world_tokenized_racist = real_world_test_sample_racist.apply(lambda r: w2v_tokenize_text(r['tweet']), axis=1).values\n",
    "\n",
    "out_of_time_test_racist = word_averaging_list(wv,real_world_tokenized_racist)\n",
    "\n",
    "\n",
    "### out of time #3\n",
    "\n",
    "pok_sample = pok.iloc[200:400]\n",
    "pok_tokenized = pok_sample.apply(lambda r: w2v_tokenize_text(r['tweet']), axis=1).values\n",
    "\n",
    "pok_out_of_time = word_averaging_list(wv,pok_tokenized)\n",
    "\n",
    "### out of time #4\n",
    "\n",
    "jigsaw_testing = jigsaw.copy()\n",
    "jigsaw_testing = jigsaw_testing.apply(lambda r: w2v_tokenize_text(r['tweet']), axis=1).values\n",
    "\n",
    "jigsaw_testing = word_averaging_list(wv,jigsaw_testing)\n"
   ]
  },
  {
   "cell_type": "markdown",
   "metadata": {
    "colab_type": "text",
    "id": "mubQdIfKj_TR"
   },
   "source": [
    "### Model Training"
   ]
  },
  {
   "cell_type": "code",
   "execution_count": 0,
   "metadata": {
    "colab": {},
    "colab_type": "code",
    "id": "4Z3j686dADhf"
   },
   "outputs": [],
   "source": [
    "from sklearn.linear_model import LogisticRegression\n",
    "from xgboost import XGBClassifier\n",
    "from sklearn.ensemble import GradientBoostingClassifier\n",
    "from sklearn.metrics import f1_score, classification_report, roc_auc_score, confusion_matrix, accuracy_score"
   ]
  },
  {
   "cell_type": "code",
   "execution_count": 0,
   "metadata": {
    "colab": {},
    "colab_type": "code",
    "id": "V4FDiF73K7Sc"
   },
   "outputs": [],
   "source": [
    "def model_training(clf, x_t, y_t, x_v=None , y_v=None ,task='binary:logistic'):\n",
    "    clf.fit(x_t,y_t)\n",
    "    print('training accuracy', clf.score(x_t,y_t))\n",
    "    \n",
    "    if task=='binary:logistic':\n",
    "      print('validation accuracy', clf.score(x_v,y_v))\n",
    "      print('validation f1_score',f1_score(clf.predict(x_v),y_v))\n",
    "      print('validation roc_auc score',roc_auc_score(y_v,clf.predict_proba(x_v)[::,-1]))\n",
    "      print('confusion matrix \\n',confusion_matrix(y_v, clf.predict(x_v)))\n",
    "    \n",
    "    if task=='reg:linear':\n",
    "      print('validation r2_score', clf.score(x_v,y_v))\n",
    "      print('validation MSE',mean_squared_error(clf.predict(x_v),y_v))\n",
    "\n",
    "            \n",
    "    return clf"
   ]
  },
  {
   "cell_type": "code",
   "execution_count": 64,
   "metadata": {
    "colab": {
     "base_uri": "https://localhost:8080/",
     "height": 171
    },
    "colab_type": "code",
    "executionInfo": {
     "elapsed": 454416,
     "status": "ok",
     "timestamp": 1573309513155,
     "user": {
      "displayName": "Pawar Pranav Dayanand mm17b003",
      "photoUrl": "",
      "userId": "03168935693589294616"
     },
     "user_tz": -330
    },
    "id": "II5GAU_0mS2L",
    "outputId": "da77d732-a577-45b9-8f5d-48905ffc5c2c"
   },
   "outputs": [
    {
     "name": "stdout",
     "output_type": "stream",
     "text": [
      "training accuracy 0.9908239463359069\n",
      "validation accuracy 0.8666160465704885\n",
      "validation f1_score 0.89375\n",
      "validation roc_auc score 0.940891392008257\n",
      "confusion matrix \n",
      " [[2415  517]\n",
      " [ 537 4433]]\n",
      "CPU times: user 7min 32s, sys: 388 ms, total: 7min 33s\n",
      "Wall time: 7min 33s\n"
     ]
    }
   ],
   "source": [
    "%%time\n",
    "xgb_w2v = XGBClassifier(n_estimators=500, max_depth=5, learning_rate=0.1, scale_pos_weight=1.4266790777602751)\n",
    "model_training(xgb_w2v,X_train_word_average,train_w2v['class'],X_test_word_average,test_w2v['class'])"
   ]
  },
  {
   "cell_type": "code",
   "execution_count": 65,
   "metadata": {
    "colab": {
     "base_uri": "https://localhost:8080/",
     "height": 51
    },
    "colab_type": "code",
    "executionInfo": {
     "elapsed": 1563,
     "status": "ok",
     "timestamp": 1573309675661,
     "user": {
      "displayName": "Pawar Pranav Dayanand mm17b003",
      "photoUrl": "",
      "userId": "03168935693589294616"
     },
     "user_tz": -330
    },
    "id": "qf6sQNqhp5Ne",
    "outputId": "1246be71-bdce-4683-be3c-11e5b457b746"
   },
   "outputs": [
    {
     "name": "stdout",
     "output_type": "stream",
     "text": [
      "validation accuracy 0.8666160465704885\n",
      "validation f1_score 0.89375\n"
     ]
    }
   ],
   "source": [
    "print('validation accuracy', xgb_w2v.score(X_test_word_average,test_w2v['class']))\n",
    "print('validation f1_score',f1_score(xgb_w2v.predict(X_test_word_average),test_w2v['class']))"
   ]
  },
  {
   "cell_type": "code",
   "execution_count": 0,
   "metadata": {
    "colab": {},
    "colab_type": "code",
    "id": "kFZJsh8sWCMA"
   },
   "outputs": [],
   "source": [
    "# import joblib\n",
    "# #save model\n",
    "# joblib.dump(xgb_w2v, 'xgb_final_model.pkl') \n",
    "\n",
    "# # #load saved model\n",
    "# # xgb = joblib.load(filename)"
   ]
  },
  {
   "cell_type": "code",
   "execution_count": 66,
   "metadata": {
    "colab": {
     "base_uri": "https://localhost:8080/",
     "height": 51
    },
    "colab_type": "code",
    "executionInfo": {
     "elapsed": 1427,
     "status": "ok",
     "timestamp": 1573309719180,
     "user": {
      "displayName": "Pawar Pranav Dayanand mm17b003",
      "photoUrl": "",
      "userId": "03168935693589294616"
     },
     "user_tz": -330
    },
    "id": "f44kd9Fwq2wp",
    "outputId": "2a3ec62d-9be4-4627-a733-1559ced6b7d9"
   },
   "outputs": [
    {
     "data": {
      "text/plain": [
       "array([[2415,  517],\n",
       "       [ 537, 4433]])"
      ]
     },
     "execution_count": 66,
     "metadata": {
      "tags": []
     },
     "output_type": "execute_result"
    }
   ],
   "source": [
    "confusion_matrix(test_w2v['class'],xgb_w2v.predict(X_test_word_average))"
   ]
  },
  {
   "cell_type": "code",
   "execution_count": 67,
   "metadata": {
    "colab": {
     "base_uri": "https://localhost:8080/",
     "height": 51
    },
    "colab_type": "code",
    "executionInfo": {
     "elapsed": 1150,
     "status": "ok",
     "timestamp": 1573309722320,
     "user": {
      "displayName": "Pawar Pranav Dayanand mm17b003",
      "photoUrl": "",
      "userId": "03168935693589294616"
     },
     "user_tz": -330
    },
    "id": "2vEq8rRoTGpe",
    "outputId": "de3ab2b6-ff54-4133-85de-e8991ccc32a8"
   },
   "outputs": [
    {
     "data": {
      "text/plain": [
       "array([[2055,  877],\n",
       "       [ 318, 4652]])"
      ]
     },
     "execution_count": 67,
     "metadata": {
      "tags": []
     },
     "output_type": "execute_result"
    }
   ],
   "source": [
    "tuned_pred = (xgb_w2v.predict_proba(X_test_word_average)[::,-1]>0.3).astype(int)\n",
    "confusion_matrix(test_w2v['class'],tuned_pred)"
   ]
  },
  {
   "cell_type": "code",
   "execution_count": 68,
   "metadata": {
    "colab": {
     "base_uri": "https://localhost:8080/",
     "height": 34
    },
    "colab_type": "code",
    "executionInfo": {
     "elapsed": 1200,
     "status": "ok",
     "timestamp": 1573309725522,
     "user": {
      "displayName": "Pawar Pranav Dayanand mm17b003",
      "photoUrl": "",
      "userId": "03168935693589294616"
     },
     "user_tz": -330
    },
    "id": "0f9dOMaSu6jb",
    "outputId": "6a08de7e-f6ec-4ad3-cfb3-c676d9ed5465"
   },
   "outputs": [
    {
     "data": {
      "text/plain": [
       "0.8861796361558243"
      ]
     },
     "execution_count": 68,
     "metadata": {
      "tags": []
     },
     "output_type": "execute_result"
    }
   ],
   "source": [
    "f1_score(test_w2v['class'],tuned_pred)"
   ]
  },
  {
   "cell_type": "code",
   "execution_count": 0,
   "metadata": {
    "colab": {
     "base_uri": "https://localhost:8080/",
     "height": 68
    },
    "colab_type": "code",
    "executionInfo": {
     "elapsed": 542,
     "status": "ok",
     "timestamp": 1572009585263,
     "user": {
      "displayName": "Pawar Pranav Dayanand mm17b003",
      "photoUrl": "",
      "userId": "03168935693589294616"
     },
     "user_tz": -330
    },
    "id": "Nt5dADpYz8i7",
    "outputId": "f48e0f4f-d72f-4217-d2a8-aa321be80cfc"
   },
   "outputs": [
    {
     "data": {
      "text/plain": [
       "1    4970\n",
       "0    2932\n",
       "Name: class, dtype: int64"
      ]
     },
     "execution_count": 48,
     "metadata": {
      "tags": []
     },
     "output_type": "execute_result"
    }
   ],
   "source": [
    "test_w2v['class'].value_counts()"
   ]
  },
  {
   "cell_type": "code",
   "execution_count": 0,
   "metadata": {
    "colab": {},
    "colab_type": "code",
    "id": "MvvK98lYTel4"
   },
   "outputs": [],
   "source": [
    "pd.set_option('display.max_colwidth', -1)"
   ]
  },
  {
   "cell_type": "code",
   "execution_count": 0,
   "metadata": {
    "colab": {
     "base_uri": "https://localhost:8080/",
     "height": 137
    },
    "colab_type": "code",
    "executionInfo": {
     "elapsed": 1610,
     "status": "ok",
     "timestamp": 1572021869969,
     "user": {
      "displayName": "Pawar Pranav Dayanand mm17b003",
      "photoUrl": "",
      "userId": "03168935693589294616"
     },
     "user_tz": -330
    },
    "id": "VfbWHrpDajdS",
    "outputId": "51c8d8cd-143d-4a4a-e212-d66fb5594137"
   },
   "outputs": [
    {
     "data": {
      "text/plain": [
       "TfidfVectorizer(analyzer='word', binary=False, decode_error='strict',\n",
       "                dtype=<class 'numpy.float64'>, encoding='utf-8',\n",
       "                input='content', lowercase=True, max_df=1.0, max_features=100,\n",
       "                min_df=1, ngram_range=(1, 1), norm='l2', preprocessor=None,\n",
       "                smooth_idf=True, stop_words='english', strip_accents=None,\n",
       "                sublinear_tf=False, token_pattern='(?u)\\\\b\\\\w\\\\w+\\\\b',\n",
       "                tokenizer=None, use_idf=True, vocabulary=None)"
      ]
     },
     "execution_count": 73,
     "metadata": {
      "tags": []
     },
     "output_type": "execute_result"
    }
   ],
   "source": [
    "tfidf"
   ]
  },
  {
   "cell_type": "markdown",
   "metadata": {
    "colab_type": "text",
    "id": "DGseglRclnmY"
   },
   "source": [
    "#### Out of time #1 -  Trump Tweets"
   ]
  },
  {
   "cell_type": "code",
   "execution_count": 0,
   "metadata": {
    "colab": {
     "base_uri": "https://localhost:8080/",
     "height": 326
    },
    "colab_type": "code",
    "executionInfo": {
     "elapsed": 557,
     "status": "ok",
     "timestamp": 1572009588185,
     "user": {
      "displayName": "Pawar Pranav Dayanand mm17b003",
      "photoUrl": "",
      "userId": "03168935693589294616"
     },
     "user_tz": -330
    },
    "id": "tC6m8EkzRzTO",
    "outputId": "9f630087-ccb4-4a8d-e4d2-21bb11a9e8ef"
   },
   "outputs": [
    {
     "name": "stderr",
     "output_type": "stream",
     "text": [
      "/usr/local/lib/python3.6/dist-packages/ipykernel_launcher.py:4: SettingWithCopyWarning: \n",
      "A value is trying to be set on a copy of a slice from a DataFrame.\n",
      "Try using .loc[row_indexer,col_indexer] = value instead\n",
      "\n",
      "See the caveats in the documentation: http://pandas.pydata.org/pandas-docs/stable/user_guide/indexing.html#returning-a-view-versus-a-copy\n",
      "  after removing the cwd from sys.path.\n",
      "/usr/local/lib/python3.6/dist-packages/ipykernel_launcher.py:5: SettingWithCopyWarning: \n",
      "A value is trying to be set on a copy of a slice from a DataFrame.\n",
      "Try using .loc[row_indexer,col_indexer] = value instead\n",
      "\n",
      "See the caveats in the documentation: http://pandas.pydata.org/pandas-docs/stable/user_guide/indexing.html#returning-a-view-versus-a-copy\n",
      "  \"\"\"\n",
      "/usr/local/lib/python3.6/dist-packages/ipykernel_launcher.py:6: SettingWithCopyWarning: \n",
      "A value is trying to be set on a copy of a slice from a DataFrame.\n",
      "Try using .loc[row_indexer,col_indexer] = value instead\n",
      "\n",
      "See the caveats in the documentation: http://pandas.pydata.org/pandas-docs/stable/user_guide/indexing.html#returning-a-view-versus-a-copy\n",
      "  \n"
     ]
    }
   ],
   "source": [
    "real_world_test_original = pd.read_csv('/content/drive/My Drive/Hate_Speech_Detection_git/real_world_test/realDonaldTrump_tweets_extended.csv')\n",
    "\n",
    "check_df = real_world_test_original.iloc[400:500]\n",
    "check_df['processed_tweet'] = real_world_test.iloc[400:500]['tweet']\n",
    "check_df['preds'] = xgb_w2v.predict(out_of_time_test)\n",
    "check_df['hate_probab'] = xgb_w2v.predict_proba(out_of_time_test)[::,-1]\n",
    "\n",
    "# false_index = check_df[check_df['class']==xgb_w2v.predict(X_test_word_average)]['ID'].unique()"
   ]
  },
  {
   "cell_type": "code",
   "execution_count": 0,
   "metadata": {
    "colab": {
     "base_uri": "https://localhost:8080/",
     "height": 853
    },
    "colab_type": "code",
    "executionInfo": {
     "elapsed": 856,
     "status": "ok",
     "timestamp": 1572009593942,
     "user": {
      "displayName": "Pawar Pranav Dayanand mm17b003",
      "photoUrl": "",
      "userId": "03168935693589294616"
     },
     "user_tz": -330
    },
    "id": "qxWcwMjCWtvi",
    "outputId": "9ba237ef-5d4d-449b-d8e3-78a73e5edc3e",
    "scrolled": true
   },
   "outputs": [
    {
     "data": {
      "text/html": [
       "<div>\n",
       "<style scoped>\n",
       "    .dataframe tbody tr th:only-of-type {\n",
       "        vertical-align: middle;\n",
       "    }\n",
       "\n",
       "    .dataframe tbody tr th {\n",
       "        vertical-align: top;\n",
       "    }\n",
       "\n",
       "    .dataframe thead th {\n",
       "        text-align: right;\n",
       "    }\n",
       "</style>\n",
       "<table border=\"1\" class=\"dataframe\">\n",
       "  <thead>\n",
       "    <tr style=\"text-align: right;\">\n",
       "      <th></th>\n",
       "      <th>id</th>\n",
       "      <th>created_at</th>\n",
       "      <th>text</th>\n",
       "      <th>processed_tweet</th>\n",
       "      <th>preds</th>\n",
       "      <th>hate_probab</th>\n",
       "    </tr>\n",
       "  </thead>\n",
       "  <tbody>\n",
       "    <tr>\n",
       "      <th>421</th>\n",
       "      <td>1182290380542185472</td>\n",
       "      <td>2019-10-10 13:42:47</td>\n",
       "      <td>b'Why isn\\xe2\\x80\\x99t the IG investigating his so-called Whistleblower? All bad info!'</td>\n",
       "      <td>isnxexxt ig investigating socalled whistleblower bad info</td>\n",
       "      <td>1</td>\n",
       "      <td>0.536151</td>\n",
       "    </tr>\n",
       "    <tr>\n",
       "      <th>444</th>\n",
       "      <td>1181940394604535809</td>\n",
       "      <td>2019-10-09 14:32:04</td>\n",
       "      <td>b'....DACA stand, with all of its negative legal implications, the Republicans and Democrats will have a DEAL to let them stay in our Country, in very short order. It would actually benefit DACA, and be done the right way!'</td>\n",
       "      <td>daca stand negative legal implication republican democrat deal let stay country short order would actually benefit daca done right way</td>\n",
       "      <td>1</td>\n",
       "      <td>0.565205</td>\n",
       "    </tr>\n",
       "    <tr>\n",
       "      <th>445</th>\n",
       "      <td>1181940389990805504</td>\n",
       "      <td>2019-10-09 14:32:03</td>\n",
       "      <td>b'President Obama said that he did not have the right to sign DACA, that it will never hold up in court. He signed it anyway! If the Supreme Court upholds DACA, it gives the President extraordinary powers, far greater than ever thought. If they do what is right and do not let......'</td>\n",
       "      <td>president obama said right sign daca never hold court signed anyway supreme court upholds daca give president extraordinary power far greater ever thought right let</td>\n",
       "      <td>1</td>\n",
       "      <td>0.564453</td>\n",
       "    </tr>\n",
       "    <tr>\n",
       "      <th>447</th>\n",
       "      <td>1181935014709202947</td>\n",
       "      <td>2019-10-09 14:10:41</td>\n",
       "      <td>b'Crooked Hillary should try it again! https://t.co/UjfIpZp1FA'</td>\n",
       "      <td>crooked hillary try</td>\n",
       "      <td>1</td>\n",
       "      <td>0.802087</td>\n",
       "    </tr>\n",
       "    <tr>\n",
       "      <th>450</th>\n",
       "      <td>1181933850991235073</td>\n",
       "      <td>2019-10-09 14:06:04</td>\n",
       "      <td>b'Why doesn\\xe2\\x80\\x99t the ICIG do something about this Scam? He should have never let it start, a Dem Hoax! https://t.co/UCbObppWbA'</td>\n",
       "      <td>doesnxexxt icig something scam never let start dem hoax</td>\n",
       "      <td>1</td>\n",
       "      <td>0.761173</td>\n",
       "    </tr>\n",
       "    <tr>\n",
       "      <th>453</th>\n",
       "      <td>1181932207767789571</td>\n",
       "      <td>2019-10-09 13:59:32</td>\n",
       "      <td>b'So true Don, and this was a big lie. Look what happened to Friends of Trump, for less. Can\\xe2\\x80\\x99t let this pass! https://t.co/u2To514DNq'</td>\n",
       "      <td>true big lie look happened friend trump le canxexxt let pas</td>\n",
       "      <td>1</td>\n",
       "      <td>0.648571</td>\n",
       "    </tr>\n",
       "    <tr>\n",
       "      <th>459</th>\n",
       "      <td>1181929745518403585</td>\n",
       "      <td>2019-10-09 13:49:45</td>\n",
       "      <td>b'Great support from GOP in fighting the Radical Left, Do Nothing Democrats! https://t.co/qjskHYkQpD'</td>\n",
       "      <td>great support gop fighting radical left nothing democrat</td>\n",
       "      <td>1</td>\n",
       "      <td>0.668431</td>\n",
       "    </tr>\n",
       "    <tr>\n",
       "      <th>469</th>\n",
       "      <td>1181891356274413570</td>\n",
       "      <td>2019-10-09 11:17:12</td>\n",
       "      <td>b'So make all Member Countries pay, not just the United States! https://t.co/IVbE4MqBVl'</td>\n",
       "      <td>make member country pay united state</td>\n",
       "      <td>1</td>\n",
       "      <td>0.520830</td>\n",
       "    </tr>\n",
       "    <tr>\n",
       "      <th>474</th>\n",
       "      <td>1181883934776401920</td>\n",
       "      <td>2019-10-09 10:47:43</td>\n",
       "      <td>b'A Total Scam by the Do Nothing Democrats. For the good of the Country, this Wirch Hunt should end now! https://t.co/G2nPapozye'</td>\n",
       "      <td>total scam nothing democrat good country wirch hunt end</td>\n",
       "      <td>1</td>\n",
       "      <td>0.514024</td>\n",
       "    </tr>\n",
       "    <tr>\n",
       "      <th>482</th>\n",
       "      <td>1181750932444520448</td>\n",
       "      <td>2019-10-09 01:59:12</td>\n",
       "      <td>b'RT @senatemajldr: The USMCA would create 176,000 jobs for American workers and generate $68 billion in wealth for America. House Democrats\\xe2\\x80\\xa6'</td>\n",
       "      <td>usmca would create job american worker generate billion wealth america house democratsxexxa</td>\n",
       "      <td>1</td>\n",
       "      <td>0.552511</td>\n",
       "    </tr>\n",
       "    <tr>\n",
       "      <th>497</th>\n",
       "      <td>1181576256904744964</td>\n",
       "      <td>2019-10-08 14:25:06</td>\n",
       "      <td>b'Thank you to Lt. Bob Kroll of the great Minneapolis Police Department for your kind words on @foxandfriends. The Police are fighting the Radical Left Mayor, and his ridiculous Uniform Ban. Actually, I LOVE the Cops for Trump shirts. Want to bring some home. I am with you 100%!!!!'</td>\n",
       "      <td>thank lt bob kroll great minneapolis police department kind word police fighting radical left mayor ridiculous uniform ban actually love cop trump shirt want bring home</td>\n",
       "      <td>1</td>\n",
       "      <td>0.524843</td>\n",
       "    </tr>\n",
       "    <tr>\n",
       "      <th>498</th>\n",
       "      <td>1181571571787403265</td>\n",
       "      <td>2019-10-08 14:06:29</td>\n",
       "      <td>b'I think that Crooked Hillary Clinton should enter the race to try and steal it away from Uber Left Elizabeth Warren. Only one condition. The Crooked one must explain all of her high crimes and misdemeanors including how &amp;amp; why she deleted 33,000 Emails AFTER getting \\xe2\\x80\\x9cC\\xe2\\x80\\x9d Subpoena!'</td>\n",
       "      <td>think crooked hillary clinton enter race try steal away uber left elizabeth warren one condition crooked one must explain high crime misdemeanor including amp deleted email getting xexxccxexxd subpoena</td>\n",
       "      <td>1</td>\n",
       "      <td>0.553023</td>\n",
       "    </tr>\n",
       "  </tbody>\n",
       "</table>\n",
       "</div>"
      ],
      "text/plain": [
       "                      id           created_at  ... preds hate_probab\n",
       "421  1182290380542185472  2019-10-10 13:42:47  ...  1     0.536151  \n",
       "444  1181940394604535809  2019-10-09 14:32:04  ...  1     0.565205  \n",
       "445  1181940389990805504  2019-10-09 14:32:03  ...  1     0.564453  \n",
       "447  1181935014709202947  2019-10-09 14:10:41  ...  1     0.802087  \n",
       "450  1181933850991235073  2019-10-09 14:06:04  ...  1     0.761173  \n",
       "453  1181932207767789571  2019-10-09 13:59:32  ...  1     0.648571  \n",
       "459  1181929745518403585  2019-10-09 13:49:45  ...  1     0.668431  \n",
       "469  1181891356274413570  2019-10-09 11:17:12  ...  1     0.520830  \n",
       "474  1181883934776401920  2019-10-09 10:47:43  ...  1     0.514024  \n",
       "482  1181750932444520448  2019-10-09 01:59:12  ...  1     0.552511  \n",
       "497  1181576256904744964  2019-10-08 14:25:06  ...  1     0.524843  \n",
       "498  1181571571787403265  2019-10-08 14:06:29  ...  1     0.553023  \n",
       "\n",
       "[12 rows x 6 columns]"
      ]
     },
     "execution_count": 51,
     "metadata": {
      "tags": []
     },
     "output_type": "execute_result"
    }
   ],
   "source": [
    "check_df[check_df['hate_probab']>0.5]"
   ]
  },
  {
   "cell_type": "code",
   "execution_count": 0,
   "metadata": {
    "colab": {},
    "colab_type": "code",
    "id": "PrPtw_ruWuwq"
   },
   "outputs": [],
   "source": []
  },
  {
   "cell_type": "markdown",
   "metadata": {
    "colab_type": "text",
    "id": "xKHbBniDliM7"
   },
   "source": [
    "#### Out of Time #2 -  Racist Tweets\n",
    "P.S. Not all of them are racist actually, we need to check it manually"
   ]
  },
  {
   "cell_type": "code",
   "execution_count": 0,
   "metadata": {
    "colab": {
     "base_uri": "https://localhost:8080/",
     "height": 326
    },
    "colab_type": "code",
    "executionInfo": {
     "elapsed": 1025,
     "status": "ok",
     "timestamp": 1572009610009,
     "user": {
      "displayName": "Pawar Pranav Dayanand mm17b003",
      "photoUrl": "",
      "userId": "03168935693589294616"
     },
     "user_tz": -330
    },
    "id": "f9QzswNUllX_",
    "outputId": "cc4a4035-d8ee-4dc0-d7e9-d66e58886aff"
   },
   "outputs": [
    {
     "name": "stderr",
     "output_type": "stream",
     "text": [
      "/usr/local/lib/python3.6/dist-packages/ipykernel_launcher.py:4: SettingWithCopyWarning: \n",
      "A value is trying to be set on a copy of a slice from a DataFrame.\n",
      "Try using .loc[row_indexer,col_indexer] = value instead\n",
      "\n",
      "See the caveats in the documentation: http://pandas.pydata.org/pandas-docs/stable/user_guide/indexing.html#returning-a-view-versus-a-copy\n",
      "  after removing the cwd from sys.path.\n",
      "/usr/local/lib/python3.6/dist-packages/ipykernel_launcher.py:5: SettingWithCopyWarning: \n",
      "A value is trying to be set on a copy of a slice from a DataFrame.\n",
      "Try using .loc[row_indexer,col_indexer] = value instead\n",
      "\n",
      "See the caveats in the documentation: http://pandas.pydata.org/pandas-docs/stable/user_guide/indexing.html#returning-a-view-versus-a-copy\n",
      "  \"\"\"\n",
      "/usr/local/lib/python3.6/dist-packages/ipykernel_launcher.py:6: SettingWithCopyWarning: \n",
      "A value is trying to be set on a copy of a slice from a DataFrame.\n",
      "Try using .loc[row_indexer,col_indexer] = value instead\n",
      "\n",
      "See the caveats in the documentation: http://pandas.pydata.org/pandas-docs/stable/user_guide/indexing.html#returning-a-view-versus-a-copy\n",
      "  \n"
     ]
    }
   ],
   "source": [
    "real_world_test_original_racist = pd.read_csv('/content/drive/My Drive/Hate_Speech_Detection_git/real_world_test/racist_scarped_extended.csv', names=['timestamp','text'])\n",
    "\n",
    "check_df_2 = real_world_test_original_racist.iloc[200:400]\n",
    "check_df_2['processed_tweet'] = real_world_test_racist.iloc[200:400]['tweet']\n",
    "check_df_2['preds'] = xgb_w2v.predict(out_of_time_test_racist)\n",
    "check_df_2['hate_probab'] = xgb_w2v.predict_proba(out_of_time_test_racist)[::,-1]\n",
    "\n",
    "# false_index = check_df[check_df['class']==xgb_w2v.predict(X_test_word_average)]['ID'].unique()"
   ]
  },
  {
   "cell_type": "code",
   "execution_count": 0,
   "metadata": {
    "colab": {
     "base_uri": "https://localhost:8080/",
     "height": 784
    },
    "colab_type": "code",
    "executionInfo": {
     "elapsed": 620,
     "status": "ok",
     "timestamp": 1572009610012,
     "user": {
      "displayName": "Pawar Pranav Dayanand mm17b003",
      "photoUrl": "",
      "userId": "03168935693589294616"
     },
     "user_tz": -330
    },
    "id": "J7ZFUYtymCns",
    "outputId": "99846a16-3e97-4b3e-d91a-74ac89c13d93",
    "scrolled": true
   },
   "outputs": [
    {
     "data": {
      "text/html": [
       "<div>\n",
       "<style scoped>\n",
       "    .dataframe tbody tr th:only-of-type {\n",
       "        vertical-align: middle;\n",
       "    }\n",
       "\n",
       "    .dataframe tbody tr th {\n",
       "        vertical-align: top;\n",
       "    }\n",
       "\n",
       "    .dataframe thead th {\n",
       "        text-align: right;\n",
       "    }\n",
       "</style>\n",
       "<table border=\"1\" class=\"dataframe\">\n",
       "  <thead>\n",
       "    <tr style=\"text-align: right;\">\n",
       "      <th></th>\n",
       "      <th>timestamp</th>\n",
       "      <th>text</th>\n",
       "      <th>processed_tweet</th>\n",
       "      <th>preds</th>\n",
       "      <th>hate_probab</th>\n",
       "    </tr>\n",
       "  </thead>\n",
       "  <tbody>\n",
       "    <tr>\n",
       "      <th>207</th>\n",
       "      <td>2019-10-24 09:27:26</td>\n",
       "      <td>b'\\xe2\\x81\\xa6@TheJire\\xe2\\x81\\xa9 and \\xe2\\x81\\xa6@neccowafers\\xe2\\x81\\xa9 harass gay black men with homophobic and racist slurs #gaymers #blacklgbt #black #racist  https://t.co/8oItTxtyFH'</td>\n",
       "      <td>harass gay black men homophobic racist slur</td>\n",
       "      <td>1</td>\n",
       "      <td>0.926347</td>\n",
       "    </tr>\n",
       "    <tr>\n",
       "      <th>209</th>\n",
       "      <td>2019-10-24 09:25:12</td>\n",
       "      <td>b'@MiriamElman @DeborahProudJew @SkepticReview89 @transform6789 @DavidHirsh @bariweiss @fathomjournal AntiZionism = antiSemitism\\n\\nThe resistance to a Jewish State is as old as the idea itself, and it\\xe2\\x80\\x99s not based on \\xe2\\x80\\x98Israel\\xe2\\x80\\x99s behaviour\\xe2\\x80\\x99, as some on the Left like to portray it. (See above) The resistance to Israel is #racist.'</td>\n",
       "      <td>antizionism antisemitismnnthe resistance jewish state old idea itxexxs based xexxisraelxexxs behaviourxexx left like portray see resistance israel</td>\n",
       "      <td>0</td>\n",
       "      <td>0.474567</td>\n",
       "    </tr>\n",
       "    <tr>\n",
       "      <th>210</th>\n",
       "      <td>2019-10-24 09:21:40</td>\n",
       "      <td>b'I really doubt in this whole world that white person of anywhere can ever get over that stupid fact of thinking they know a Shit and are shit ... when truly they are this worlds biggest Fools Nd Bullshit ... #WhitePrivilege #WhiteSupremacist #Cracker #racist https://t.co/U2SK4X3Bnx'</td>\n",
       "      <td>really doubt whole world white person anywhere ever get stupid fact thinking know shit shit truly world biggest fool nd bullshit</td>\n",
       "      <td>0</td>\n",
       "      <td>0.480192</td>\n",
       "    </tr>\n",
       "    <tr>\n",
       "      <th>216</th>\n",
       "      <td>2019-10-24 08:46:55</td>\n",
       "      <td>b'RT @ClimateCritic18: #auspol\\n\\nYou are labeled #racist, privileged, white supremacist, #bigoted, #ableist, #ignorant and a nazi just for the\\xe2\\x80\\xa6'</td>\n",
       "      <td>labeled privileged white supremacist nazi thexexxa</td>\n",
       "      <td>1</td>\n",
       "      <td>0.688225</td>\n",
       "    </tr>\n",
       "    <tr>\n",
       "      <th>217</th>\n",
       "      <td>2019-10-24 08:43:43</td>\n",
       "      <td>b'RT @ClimateCritic18: #auspol\\n\\nYou are labeled #racist, privileged, white supremacist, #bigoted, #ableist, #ignorant and a nazi just for the\\xe2\\x80\\xa6'</td>\n",
       "      <td>labeled privileged white supremacist nazi thexexxa</td>\n",
       "      <td>1</td>\n",
       "      <td>0.688225</td>\n",
       "    </tr>\n",
       "    <tr>\n",
       "      <th>...</th>\n",
       "      <td>...</td>\n",
       "      <td>...</td>\n",
       "      <td>...</td>\n",
       "      <td>...</td>\n",
       "      <td>...</td>\n",
       "    </tr>\n",
       "    <tr>\n",
       "      <th>358</th>\n",
       "      <td>2019-10-24 02:35:19</td>\n",
       "      <td>b'@cgrapski @AfricaMustWake @Nastyness61 #racist prosecutors employed by a predominantly white judiciary with #ImpeachedCops and equally racist and unqualified judges like #JudgeDonHLester @flcourts who subvert equal rights and protection under color of law #MandatedPOLY'</td>\n",
       "      <td>prosecutor employed predominantly white judiciary equally racist unqualified judge like subvert equal right protection color law</td>\n",
       "      <td>1</td>\n",
       "      <td>0.732867</td>\n",
       "    </tr>\n",
       "    <tr>\n",
       "      <th>370</th>\n",
       "      <td>2019-10-24 02:02:40</td>\n",
       "      <td>b\"Question.... Isn't not letting someone say nigger based on their skin color kinda racist in itself. It's a paradox. #racist #nword\"</td>\n",
       "      <td>question isnt letting someone say nigger based skin color kinda racist paradox</td>\n",
       "      <td>1</td>\n",
       "      <td>0.601461</td>\n",
       "    </tr>\n",
       "    <tr>\n",
       "      <th>371</th>\n",
       "      <td>2019-10-24 02:02:30</td>\n",
       "      <td>b'@CornelWest @RefuseFascism YOU are the #Fascist and 100% ignorant\\n\\nIt was the founders of the #KKK (#democrats) doing the lynching \\n\\nAlso, #lynching\\'s happened to white men by the 1000s, you dont own the term \"lynching\"\\n\\nDemocrats are the #racist\\n\\nExhibit A: #BLACKFACE https://t.co/NR0awdyGr7'</td>\n",
       "      <td>ignorantnnit founder lynching nnalso happened white men dont term lynchingnndemocrats</td>\n",
       "      <td>1</td>\n",
       "      <td>0.761431</td>\n",
       "    </tr>\n",
       "    <tr>\n",
       "      <th>379</th>\n",
       "      <td>2019-10-24 01:57:39</td>\n",
       "      <td>b'@Ilhan Thank you for showing your true colors. You try to divide and destroy our country, make racist comments, put us down, insult us, lie about us, lie about our President.  #WalkAway #racist #Hypocrite #DemocratsAreCorrupt #IStandWithPresidentTrump'</td>\n",
       "      <td>thank showing true color try divide destroy country make racist comment put u insult u lie u lie president</td>\n",
       "      <td>1</td>\n",
       "      <td>0.795588</td>\n",
       "    </tr>\n",
       "    <tr>\n",
       "      <th>399</th>\n",
       "      <td>2019-10-24 01:06:09</td>\n",
       "      <td>b'RT @TheRedRight_You: Why is it that only #Democrats can hear @realDonaldTrump\\xe2\\x80\\x99s alleged #racist dog whistles? Only dogs can hear #dogwhistl\\xe2\\x80\\xa6'</td>\n",
       "      <td>hear alleged dog whistle dog hear</td>\n",
       "      <td>1</td>\n",
       "      <td>0.536776</td>\n",
       "    </tr>\n",
       "  </tbody>\n",
       "</table>\n",
       "<p>69 rows × 5 columns</p>\n",
       "</div>"
      ],
      "text/plain": [
       "               timestamp  ... hate_probab\n",
       "207  2019-10-24 09:27:26  ...  0.926347  \n",
       "209  2019-10-24 09:25:12  ...  0.474567  \n",
       "210  2019-10-24 09:21:40  ...  0.480192  \n",
       "216  2019-10-24 08:46:55  ...  0.688225  \n",
       "217  2019-10-24 08:43:43  ...  0.688225  \n",
       "..                   ...  ...       ...  \n",
       "358  2019-10-24 02:35:19  ...  0.732867  \n",
       "370  2019-10-24 02:02:40  ...  0.601461  \n",
       "371  2019-10-24 02:02:30  ...  0.761431  \n",
       "379  2019-10-24 01:57:39  ...  0.795588  \n",
       "399  2019-10-24 01:06:09  ...  0.536776  \n",
       "\n",
       "[69 rows x 5 columns]"
      ]
     },
     "execution_count": 53,
     "metadata": {
      "tags": []
     },
     "output_type": "execute_result"
    }
   ],
   "source": [
    "check_df_2[check_df_2['hate_probab']>0.4]"
   ]
  },
  {
   "cell_type": "code",
   "execution_count": 0,
   "metadata": {
    "colab": {},
    "colab_type": "code",
    "id": "852kxfsdrNgN"
   },
   "outputs": [],
   "source": []
  },
  {
   "cell_type": "markdown",
   "metadata": {
    "colab_type": "text",
    "id": "8yhJ2-4s5BD4"
   },
   "source": [
    "#### Out of time #3 - POK"
   ]
  },
  {
   "cell_type": "code",
   "execution_count": 0,
   "metadata": {
    "colab": {
     "base_uri": "https://localhost:8080/",
     "height": 326
    },
    "colab_type": "code",
    "executionInfo": {
     "elapsed": 861,
     "status": "ok",
     "timestamp": 1572009613161,
     "user": {
      "displayName": "Pawar Pranav Dayanand mm17b003",
      "photoUrl": "",
      "userId": "03168935693589294616"
     },
     "user_tz": -330
    },
    "id": "DtYXPP8K5D2K",
    "outputId": "bcafb515-f2fc-4b2a-ec91-758f3d5328c8",
    "scrolled": true
   },
   "outputs": [
    {
     "name": "stderr",
     "output_type": "stream",
     "text": [
      "/usr/local/lib/python3.6/dist-packages/ipykernel_launcher.py:5: SettingWithCopyWarning: \n",
      "A value is trying to be set on a copy of a slice from a DataFrame.\n",
      "Try using .loc[row_indexer,col_indexer] = value instead\n",
      "\n",
      "See the caveats in the documentation: http://pandas.pydata.org/pandas-docs/stable/user_guide/indexing.html#returning-a-view-versus-a-copy\n",
      "  \"\"\"\n",
      "/usr/local/lib/python3.6/dist-packages/ipykernel_launcher.py:6: SettingWithCopyWarning: \n",
      "A value is trying to be set on a copy of a slice from a DataFrame.\n",
      "Try using .loc[row_indexer,col_indexer] = value instead\n",
      "\n",
      "See the caveats in the documentation: http://pandas.pydata.org/pandas-docs/stable/user_guide/indexing.html#returning-a-view-versus-a-copy\n",
      "  \n",
      "/usr/local/lib/python3.6/dist-packages/ipykernel_launcher.py:7: SettingWithCopyWarning: \n",
      "A value is trying to be set on a copy of a slice from a DataFrame.\n",
      "Try using .loc[row_indexer,col_indexer] = value instead\n",
      "\n",
      "See the caveats in the documentation: http://pandas.pydata.org/pandas-docs/stable/user_guide/indexing.html#returning-a-view-versus-a-copy\n",
      "  import sys\n"
     ]
    }
   ],
   "source": [
    "pok_original = pd.read_csv('/content/drive/My Drive/Hate_Speech_Detection_git/real_world_test/pok.csv', names=['timestamp','text'])\n",
    "pok_original = pok_original.drop_duplicates(subset='text')\n",
    "\n",
    "check_df_3 = pok_original.iloc[200:400]\n",
    "check_df_3['processed_tweet'] = pok.iloc[200:400]['tweet']\n",
    "check_df_3['preds'] = xgb_w2v.predict(pok_out_of_time)\n",
    "check_df_3['hate_probab'] = xgb_w2v.predict_proba(pok_out_of_time)[::,-1]\n",
    "\n",
    "# false_index = check_df[check_df['class']==xgb_w2v.predict(X_test_word_average)]['ID'].unique()"
   ]
  },
  {
   "cell_type": "code",
   "execution_count": 0,
   "metadata": {
    "colab": {
     "base_uri": "https://localhost:8080/",
     "height": 1000
    },
    "colab_type": "code",
    "executionInfo": {
     "elapsed": 730,
     "status": "ok",
     "timestamp": 1572009614203,
     "user": {
      "displayName": "Pawar Pranav Dayanand mm17b003",
      "photoUrl": "",
      "userId": "03168935693589294616"
     },
     "user_tz": -330
    },
    "id": "r4axTDZ25VC0",
    "outputId": "31122004-a43b-4155-9446-133b2e2f73a6",
    "scrolled": true
   },
   "outputs": [
    {
     "data": {
      "text/html": [
       "<div>\n",
       "<style scoped>\n",
       "    .dataframe tbody tr th:only-of-type {\n",
       "        vertical-align: middle;\n",
       "    }\n",
       "\n",
       "    .dataframe tbody tr th {\n",
       "        vertical-align: top;\n",
       "    }\n",
       "\n",
       "    .dataframe thead th {\n",
       "        text-align: right;\n",
       "    }\n",
       "</style>\n",
       "<table border=\"1\" class=\"dataframe\">\n",
       "  <thead>\n",
       "    <tr style=\"text-align: right;\">\n",
       "      <th></th>\n",
       "      <th>timestamp</th>\n",
       "      <th>text</th>\n",
       "      <th>processed_tweet</th>\n",
       "      <th>preds</th>\n",
       "      <th>hate_probab</th>\n",
       "    </tr>\n",
       "  </thead>\n",
       "  <tbody>\n",
       "    <tr>\n",
       "      <th>405</th>\n",
       "      <td>2019-10-23 15:58:58</td>\n",
       "      <td>b'@rehankayanii Whole world knows #Who_is_Modi And What he can do. Now Kashmir is gone from your hands Now its time to take our #Pok Back.'</td>\n",
       "      <td>whole world know kashmir gone hand time take back</td>\n",
       "      <td>0</td>\n",
       "      <td>0.471642</td>\n",
       "    </tr>\n",
       "    <tr>\n",
       "      <th>472</th>\n",
       "      <td>2019-10-23 14:20:20</td>\n",
       "      <td>b'RT @Je_suis_perdu_7: @Rabipirzada There is nothing like IOK but yes #POK exists where coward #PakistanArmy kidnap, kill and rape people.\\n\\n#\\xe2\\x80\\xa6'</td>\n",
       "      <td>nothing like iok yes exists coward kidnap kill rape</td>\n",
       "      <td>1</td>\n",
       "      <td>0.819460</td>\n",
       "    </tr>\n",
       "    <tr>\n",
       "      <th>490</th>\n",
       "      <td>2019-10-23 13:59:36</td>\n",
       "      <td>b'As per the libtards only #Muslims  are humans and only they have #HumanRights all others are kafirs hence rights dont matter.. \\n#PoK \\n#attackonfreedom'</td>\n",
       "      <td>per libtards human others kafir hence right dont matter</td>\n",
       "      <td>0</td>\n",
       "      <td>0.411190</td>\n",
       "    </tr>\n",
       "    <tr>\n",
       "      <th>492</th>\n",
       "      <td>2019-10-23 13:58:30</td>\n",
       "      <td>b'Dear @Ilhan they have been asked to prove their citizenship because they are living illegally in india.... you are too blind to see what is happing in #POK and #Baluchistan \\n\\nDid you ask this question to yourself why all the terrorists attack has been done by Muslims ??? https://t.co/BFKR7G608d'</td>\n",
       "      <td>dear asked prove citizenship living illegally india blind see happing nndid ask question terrorist attack done muslim</td>\n",
       "      <td>1</td>\n",
       "      <td>0.612894</td>\n",
       "    </tr>\n",
       "    <tr>\n",
       "      <th>510</th>\n",
       "      <td>2019-10-23 13:44:26</td>\n",
       "      <td>b'RT @Drg_nn: @DextrousNinja https://t.co/5CV3cfS9Of\\nSomali Muslim Rep #IlhanOmar has lied, cheated &amp;amp; played sympathy card to get her US citi\\xe2\\x80\\xa6'</td>\n",
       "      <td>muslim rep lied cheated amp played sympathy card get u citixexxa</td>\n",
       "      <td>1</td>\n",
       "      <td>0.683725</td>\n",
       "    </tr>\n",
       "    <tr>\n",
       "      <th>552</th>\n",
       "      <td>2019-10-23 13:19:50</td>\n",
       "      <td>b'RT @BasudevOfficial: #ImranKhan declared #Emergence at #POK by scared of there sound gathered for freedom from #Pakistan .\\n\\nBy showing this\\xe2\\x80\\xa6'</td>\n",
       "      <td>declared scared sound gathered freedom nnby showing thisxexxa</td>\n",
       "      <td>0</td>\n",
       "      <td>0.465755</td>\n",
       "    </tr>\n",
       "    <tr>\n",
       "      <th>585</th>\n",
       "      <td>2019-10-23 12:47:25</td>\n",
       "      <td>b'@Imamofpeace @IlhanMN What she have to say on butchering of #Kurds and Muslims in Middle East by Islamic fundamentalists. She ignore ethnic cleansing of #ahmadias, rape &amp;amp; conversion of minority girls by #pakistani Muslims in #blochistan &amp;amp; #POK . She should be ashamed of herself. We don\\xe2\\x80\\x99t give a damn !'</td>\n",
       "      <td>say butchering muslim middle east islamic fundamentalist ignore ethnic cleansing rape amp conversion minority girl muslim amp ashamed donxexxt give damn</td>\n",
       "      <td>1</td>\n",
       "      <td>0.913208</td>\n",
       "    </tr>\n",
       "    <tr>\n",
       "      <th>587</th>\n",
       "      <td>2019-10-23 12:45:39</td>\n",
       "      <td>b'#IndianArmedForces must liberate #PoK tonight and give freedom to kashmiris living there from the atrocities of terrorist #PakistanArmy . 26 October 1947 is blackday for the people living in #PoK. #PoK is under illegal occupation of #PakistanArmy.   #loc'</td>\n",
       "      <td>must liberate tonight give freedom kashmiri living atrocity terrorist october blackday people living illegal occupation</td>\n",
       "      <td>1</td>\n",
       "      <td>0.750307</td>\n",
       "    </tr>\n",
       "    <tr>\n",
       "      <th>621</th>\n",
       "      <td>2019-10-23 12:05:20</td>\n",
       "      <td>b\"@arifaajakia Holy crap.. That's a United Nations car.. It is the @UN delegation.... People of #POK are protesting in front of them asking #pakistan to leave #kashmir. Hahaha \\xf0\\x9f\\xa4\\xa3\\xf0\\x9f\\x98\\x82\\xf0\\x9f\\x99\\x88\\xf0\\x9f\\x99\\x89\\xf0\\x9f\\x99\\x8a #Shameonpakistan #Kashmir #Kashmiris\"</td>\n",
       "      <td>holy crap thats united nation car delegation people protesting front asking leave hahaha xfxfxaxaxfxfxxxfxfxxxfxfxxxfxfxxa</td>\n",
       "      <td>0</td>\n",
       "      <td>0.446734</td>\n",
       "    </tr>\n",
       "    <tr>\n",
       "      <th>636</th>\n",
       "      <td>2019-10-23 11:46:21</td>\n",
       "      <td>b'@Ilhan Have ur say on killing in #PoK by #PakistanArmy since last 2days?\\nY ur quite on that?'</td>\n",
       "      <td>ur say killing since last daysny ur quite</td>\n",
       "      <td>1</td>\n",
       "      <td>0.642303</td>\n",
       "    </tr>\n",
       "    <tr>\n",
       "      <th>672</th>\n",
       "      <td>2019-10-23 11:00:37</td>\n",
       "      <td>b'Today in Muzaffarabad #PoK, #Pakistan police beat peaceful demonstrators nd den shot a #Kashmiri straight in d head killing him. Dis r d real intentions of Pakistan on #Kashmir nd #Kashmiris. Where r @BBCUrdu @AlJazeera @amnesty @UNHumanRights @MehboobaMufti? #KashmirRejectsPak. https://t.co/U01ew7DzyH'</td>\n",
       "      <td>today muzaffarabad police beat peaceful demonstrator nd den shot straight head killing dis r real intention pakistan nd r</td>\n",
       "      <td>1</td>\n",
       "      <td>0.618535</td>\n",
       "    </tr>\n",
       "    <tr>\n",
       "      <th>719</th>\n",
       "      <td>2019-10-23 10:15:30</td>\n",
       "      <td>b\"@AdityaRajKaul People in #PoK illegally annexed don't hv d freedom even 2 protest peacefully, because dey r oppressed nd nt happy wid #Pakistan #KashmirRejectsPak. @dograjournalist @gauravcsawant @JQ_plaintalk @rahulpandita @ahmedalifayyaz.\"</td>\n",
       "      <td>people illegally annexed dont hv freedom even protest peacefully dey r oppressed nd nt happy wid</td>\n",
       "      <td>0</td>\n",
       "      <td>0.492809</td>\n",
       "    </tr>\n",
       "    <tr>\n",
       "      <th>821</th>\n",
       "      <td>2019-10-23 09:03:46</td>\n",
       "      <td>b'Pakistani lies are nailed again.\\nPakistan is Brutal, Fascist, Terrorist state. \\n@ImranKhanPTI @OfficialDGISPR shame on you. \\n#PoK https://t.co/1EttKGO7vk'</td>\n",
       "      <td>pakistani lie nailed againnpakistan brutal fascist terrorist state shame</td>\n",
       "      <td>0</td>\n",
       "      <td>0.476017</td>\n",
       "    </tr>\n",
       "    <tr>\n",
       "      <th>826</th>\n",
       "      <td>2019-10-23 08:54:37</td>\n",
       "      <td>b'Terrorist #Pakistan has no right to be in #PoK as it is illegally occupying as per the instrument of accession signed on 26 October 1947. people of #PoK want to be liberated from terrorist pakistan and want to be part of #India. #PakistanArmy killing innocent people in #PoK  #loc'</td>\n",
       "      <td>terrorist right illegally occupying per instrument accession signed october people want liberated terrorist pakistan want part killing innocent people</td>\n",
       "      <td>1</td>\n",
       "      <td>0.669600</td>\n",
       "    </tr>\n",
       "    <tr>\n",
       "      <th>835</th>\n",
       "      <td>2019-10-23 08:46:47</td>\n",
       "      <td>b'Indian govt should free Indians living in the occupation of Pakistan in Kashmir for more than 70 years. @PMOIndia @adgpi should do something for our Indians brothers and sisters living in occupation of Pakistan.\\n#Pakistan sucks, #PoK #Kashmir #KashmirAtForeignHouse'</td>\n",
       "      <td>indian govt free indian living occupation pakistan kashmir year something indian brother sister living occupation suck</td>\n",
       "      <td>0</td>\n",
       "      <td>0.434147</td>\n",
       "    </tr>\n",
       "    <tr>\n",
       "      <th>860</th>\n",
       "      <td>2019-10-23 08:20:47</td>\n",
       "      <td>b'RT @jb_serious: People of all religions and nationality concerned for intensified human rights violations in #Pakistan occupied #Kashmir (#\\xe2\\x80\\xa6'</td>\n",
       "      <td>people religion nationality concerned intensified human right violation occupied</td>\n",
       "      <td>0</td>\n",
       "      <td>0.469463</td>\n",
       "    </tr>\n",
       "    <tr>\n",
       "      <th>879</th>\n",
       "      <td>2019-10-23 08:04:36</td>\n",
       "      <td>b'#Terroristan President says #Terroristan will use #IslamicTerrorism till it gets #Kashmir. \\n\\n#India will eliminate #Terroristan and end #IslamicTerrorism to free #PoK for lasting peace in south Asia. https://t.co/9FyKC8MoUc'</td>\n",
       "      <td>president say use till get eliminate end free lasting peace south asia</td>\n",
       "      <td>1</td>\n",
       "      <td>0.716648</td>\n",
       "    </tr>\n",
       "    <tr>\n",
       "      <th>903</th>\n",
       "      <td>2019-10-23 07:44:22</td>\n",
       "      <td>b'@KTHopkins The people of #India are happy (#Kashmir included). In fact it is time for #PoK now to get back to home. @IlhanMN should have in fact talked about these #Indian Muslims who are getting killed by #Pakiatani army. Why is she not exposing the plan? #Hindus\\n\\nhttps://t.co/LPsCpchLNO'</td>\n",
       "      <td>people happy included fact time get back home fact talked muslim getting killed army exposing plan</td>\n",
       "      <td>0</td>\n",
       "      <td>0.402857</td>\n",
       "    </tr>\n",
       "    <tr>\n",
       "      <th>931</th>\n",
       "      <td>2019-10-23 07:07:39</td>\n",
       "      <td>b'@Rabipirzada There is nothing like IOK but yes #POK exists where coward #PakistanArmy kidnap, kill and rape people.\\n\\n#TerroristNationPakistan'</td>\n",
       "      <td>nothing like iok yes exists coward kidnap kill rape</td>\n",
       "      <td>1</td>\n",
       "      <td>0.819460</td>\n",
       "    </tr>\n",
       "  </tbody>\n",
       "</table>\n",
       "</div>"
      ],
      "text/plain": [
       "               timestamp  ... hate_probab\n",
       "405  2019-10-23 15:58:58  ...  0.471642  \n",
       "472  2019-10-23 14:20:20  ...  0.819460  \n",
       "490  2019-10-23 13:59:36  ...  0.411190  \n",
       "492  2019-10-23 13:58:30  ...  0.612894  \n",
       "510  2019-10-23 13:44:26  ...  0.683725  \n",
       "552  2019-10-23 13:19:50  ...  0.465755  \n",
       "585  2019-10-23 12:47:25  ...  0.913208  \n",
       "587  2019-10-23 12:45:39  ...  0.750307  \n",
       "621  2019-10-23 12:05:20  ...  0.446734  \n",
       "636  2019-10-23 11:46:21  ...  0.642303  \n",
       "672  2019-10-23 11:00:37  ...  0.618535  \n",
       "719  2019-10-23 10:15:30  ...  0.492809  \n",
       "821  2019-10-23 09:03:46  ...  0.476017  \n",
       "826  2019-10-23 08:54:37  ...  0.669600  \n",
       "835  2019-10-23 08:46:47  ...  0.434147  \n",
       "860  2019-10-23 08:20:47  ...  0.469463  \n",
       "879  2019-10-23 08:04:36  ...  0.716648  \n",
       "903  2019-10-23 07:44:22  ...  0.402857  \n",
       "931  2019-10-23 07:07:39  ...  0.819460  \n",
       "\n",
       "[19 rows x 5 columns]"
      ]
     },
     "execution_count": 55,
     "metadata": {
      "tags": []
     },
     "output_type": "execute_result"
    }
   ],
   "source": [
    "check_df_3[check_df_3['hate_probab']>0.4]"
   ]
  },
  {
   "cell_type": "code",
   "execution_count": 0,
   "metadata": {
    "colab": {},
    "colab_type": "code",
    "id": "Qkeh55hb5wAD"
   },
   "outputs": [],
   "source": []
  },
  {
   "cell_type": "markdown",
   "metadata": {
    "colab_type": "text",
    "id": "LRLyyuvPho6j"
   },
   "source": [
    "### Jigsaw"
   ]
  },
  {
   "cell_type": "code",
   "execution_count": 0,
   "metadata": {
    "colab": {},
    "colab_type": "code",
    "id": "6jaeQQndhqXC"
   },
   "outputs": [],
   "source": [
    "\n",
    "check_df_3 = jigsaw.copy()\n",
    "check_df_3['processed_tweet'] = jigsaw['tweet']\n",
    "check_df_3['preds'] = xgb_w2v.predict(jigsaw_testing)\n",
    "check_df_3['hate_probab'] = xgb_w2v.predict_proba(jigsaw_testing)[::,-1]\n",
    "\n",
    "# false_index = check_df[check_df['class']==xgb_w2v.predict(X_test_word_average)]['ID'].unique()"
   ]
  },
  {
   "cell_type": "code",
   "execution_count": 0,
   "metadata": {
    "colab": {},
    "colab_type": "code",
    "id": "3_guksRTmV5p"
   },
   "outputs": [],
   "source": [
    "check_df_3['label'] = check_df_3.loc[:,'toxic':'identity_hate'].sum(axis=1)"
   ]
  },
  {
   "cell_type": "code",
   "execution_count": 0,
   "metadata": {
    "colab": {},
    "colab_type": "code",
    "id": "9HGoutTCnEps"
   },
   "outputs": [],
   "source": [
    "index = check_df_3[check_df_3['label']>0].index\n",
    "check_df_3.loc[index,'label']=1"
   ]
  },
  {
   "cell_type": "code",
   "execution_count": 130,
   "metadata": {
    "colab": {
     "base_uri": "https://localhost:8080/",
     "height": 34
    },
    "colab_type": "code",
    "executionInfo": {
     "elapsed": 1151,
     "status": "ok",
     "timestamp": 1573311641139,
     "user": {
      "displayName": "Pawar Pranav Dayanand mm17b003",
      "photoUrl": "",
      "userId": "03168935693589294616"
     },
     "user_tz": -330
    },
    "id": "VRybWbx9mlvN",
    "outputId": "4732a578-cfc5-4fcf-c23c-69b50e939c7d"
   },
   "outputs": [
    {
     "data": {
      "text/plain": [
       "0.516754502155962"
      ]
     },
     "execution_count": 130,
     "metadata": {
      "tags": []
     },
     "output_type": "execute_result"
    }
   ],
   "source": [
    "f1_score((check_df_3['hate_probab']>0.4).astype(int),check_df_3['label'])"
   ]
  },
  {
   "cell_type": "code",
   "execution_count": 131,
   "metadata": {
    "colab": {
     "base_uri": "https://localhost:8080/",
     "height": 51
    },
    "colab_type": "code",
    "executionInfo": {
     "elapsed": 1188,
     "status": "ok",
     "timestamp": 1573311648597,
     "user": {
      "displayName": "Pawar Pranav Dayanand mm17b003",
      "photoUrl": "",
      "userId": "03168935693589294616"
     },
     "user_tz": -330
    },
    "id": "ZoMCCnwtmw03",
    "outputId": "a8b75e12-8504-4241-9b15-c08109dc6edf"
   },
   "outputs": [
    {
     "data": {
      "text/plain": [
       "array([[133256,   7057],\n",
       "       [ 10090,   9168]])"
      ]
     },
     "execution_count": 131,
     "metadata": {
      "tags": []
     },
     "output_type": "execute_result"
    }
   ],
   "source": [
    "confusion_matrix((check_df_3['hate_probab']>0.4).astype(int),check_df_3['label'])"
   ]
  },
  {
   "cell_type": "code",
   "execution_count": 119,
   "metadata": {
    "colab": {
     "base_uri": "https://localhost:8080/",
     "height": 34
    },
    "colab_type": "code",
    "executionInfo": {
     "elapsed": 1172,
     "status": "ok",
     "timestamp": 1573311075210,
     "user": {
      "displayName": "Pawar Pranav Dayanand mm17b003",
      "photoUrl": "",
      "userId": "03168935693589294616"
     },
     "user_tz": -330
    },
    "id": "N4ctJfB2pOvE",
    "outputId": "859fd384-c53f-4b91-d919-1aeb3c464dfc"
   },
   "outputs": [
    {
     "data": {
      "text/plain": [
       "0.9215834957479743"
      ]
     },
     "execution_count": 119,
     "metadata": {
      "tags": []
     },
     "output_type": "execute_result"
    }
   ],
   "source": [
    "accuracy_score((check_df_3['hate_probab']>0.7).astype(int),check_df_3['label'])"
   ]
  },
  {
   "cell_type": "code",
   "execution_count": 132,
   "metadata": {
    "colab": {
     "base_uri": "https://localhost:8080/",
     "height": 68
    },
    "colab_type": "code",
    "executionInfo": {
     "elapsed": 1633,
     "status": "ok",
     "timestamp": 1573311741517,
     "user": {
      "displayName": "Pawar Pranav Dayanand mm17b003",
      "photoUrl": "",
      "userId": "03168935693589294616"
     },
     "user_tz": -330
    },
    "id": "dGnGr53zpYZi",
    "outputId": "5d2e716a-ec81-49ab-9c0c-d1d674010ec7"
   },
   "outputs": [
    {
     "data": {
      "text/plain": [
       "0    143346\n",
       "1     16225\n",
       "Name: label, dtype: int64"
      ]
     },
     "execution_count": 132,
     "metadata": {
      "tags": []
     },
     "output_type": "execute_result"
    }
   ],
   "source": [
    "check_df_3['label'].value_counts()"
   ]
  },
  {
   "cell_type": "code",
   "execution_count": 128,
   "metadata": {
    "colab": {
     "base_uri": "https://localhost:8080/",
     "height": 750
    },
    "colab_type": "code",
    "executionInfo": {
     "elapsed": 1187,
     "status": "ok",
     "timestamp": 1573311179755,
     "user": {
      "displayName": "Pawar Pranav Dayanand mm17b003",
      "photoUrl": "",
      "userId": "03168935693589294616"
     },
     "user_tz": -330
    },
    "id": "wYv4-kC1n724",
    "outputId": "aa7b8581-fa33-422c-a3b2-72b09ba41828",
    "scrolled": true
   },
   "outputs": [
    {
     "data": {
      "text/html": [
       "<div>\n",
       "<style scoped>\n",
       "    .dataframe tbody tr th:only-of-type {\n",
       "        vertical-align: middle;\n",
       "    }\n",
       "\n",
       "    .dataframe tbody tr th {\n",
       "        vertical-align: top;\n",
       "    }\n",
       "\n",
       "    .dataframe thead th {\n",
       "        text-align: right;\n",
       "    }\n",
       "</style>\n",
       "<table border=\"1\" class=\"dataframe\">\n",
       "  <thead>\n",
       "    <tr style=\"text-align: right;\">\n",
       "      <th></th>\n",
       "      <th>id</th>\n",
       "      <th>tweet</th>\n",
       "      <th>toxic</th>\n",
       "      <th>severe_toxic</th>\n",
       "      <th>obscene</th>\n",
       "      <th>threat</th>\n",
       "      <th>insult</th>\n",
       "      <th>identity_hate</th>\n",
       "      <th>processed_tweet</th>\n",
       "      <th>preds</th>\n",
       "      <th>hate_probab</th>\n",
       "      <th>label</th>\n",
       "    </tr>\n",
       "  </thead>\n",
       "  <tbody>\n",
       "    <tr>\n",
       "      <th>6</th>\n",
       "      <td>0002bcb3da6cb337</td>\n",
       "      <td>cksucker piss around work</td>\n",
       "      <td>1</td>\n",
       "      <td>1</td>\n",
       "      <td>1</td>\n",
       "      <td>0</td>\n",
       "      <td>1</td>\n",
       "      <td>0</td>\n",
       "      <td>cksucker piss around work</td>\n",
       "      <td>0</td>\n",
       "      <td>0.408649</td>\n",
       "      <td>1</td>\n",
       "    </tr>\n",
       "    <tr>\n",
       "      <th>11</th>\n",
       "      <td>00054a5e18b50dd4</td>\n",
       "      <td>q man let discus itmaybe phone</td>\n",
       "      <td>0</td>\n",
       "      <td>0</td>\n",
       "      <td>0</td>\n",
       "      <td>0</td>\n",
       "      <td>0</td>\n",
       "      <td>0</td>\n",
       "      <td>q man let discus itmaybe phone</td>\n",
       "      <td>1</td>\n",
       "      <td>0.561003</td>\n",
       "      <td>0</td>\n",
       "    </tr>\n",
       "    <tr>\n",
       "      <th>12</th>\n",
       "      <td>0005c987bdfc9d4b</td>\n",
       "      <td>talk exclusive group wp talibanswho good destr...</td>\n",
       "      <td>1</td>\n",
       "      <td>0</td>\n",
       "      <td>0</td>\n",
       "      <td>0</td>\n",
       "      <td>0</td>\n",
       "      <td>0</td>\n",
       "      <td>talk exclusive group wp talibanswho good destr...</td>\n",
       "      <td>0</td>\n",
       "      <td>0.438952</td>\n",
       "      <td>1</td>\n",
       "    </tr>\n",
       "    <tr>\n",
       "      <th>15</th>\n",
       "      <td>00078f8ce7eb276d</td>\n",
       "      <td>juelz santanas age juelz santana year old came...</td>\n",
       "      <td>0</td>\n",
       "      <td>0</td>\n",
       "      <td>0</td>\n",
       "      <td>0</td>\n",
       "      <td>0</td>\n",
       "      <td>0</td>\n",
       "      <td>juelz santanas age juelz santana year old came...</td>\n",
       "      <td>1</td>\n",
       "      <td>0.587251</td>\n",
       "      <td>0</td>\n",
       "    </tr>\n",
       "    <tr>\n",
       "      <th>29</th>\n",
       "      <td>0010833a96e1f886</td>\n",
       "      <td>barnstar real life barnstar let u star</td>\n",
       "      <td>0</td>\n",
       "      <td>0</td>\n",
       "      <td>0</td>\n",
       "      <td>0</td>\n",
       "      <td>0</td>\n",
       "      <td>0</td>\n",
       "      <td>barnstar real life barnstar let u star</td>\n",
       "      <td>1</td>\n",
       "      <td>0.636300</td>\n",
       "      <td>0</td>\n",
       "    </tr>\n",
       "    <tr>\n",
       "      <th>...</th>\n",
       "      <td>...</td>\n",
       "      <td>...</td>\n",
       "      <td>...</td>\n",
       "      <td>...</td>\n",
       "      <td>...</td>\n",
       "      <td>...</td>\n",
       "      <td>...</td>\n",
       "      <td>...</td>\n",
       "      <td>...</td>\n",
       "      <td>...</td>\n",
       "      <td>...</td>\n",
       "      <td>...</td>\n",
       "    </tr>\n",
       "    <tr>\n",
       "      <th>159504</th>\n",
       "      <td>ff0c14043acdaf8e</td>\n",
       "      <td>gonna pull anyone disagrees put back talk</td>\n",
       "      <td>0</td>\n",
       "      <td>0</td>\n",
       "      <td>0</td>\n",
       "      <td>0</td>\n",
       "      <td>0</td>\n",
       "      <td>0</td>\n",
       "      <td>gonna pull anyone disagrees put back talk</td>\n",
       "      <td>1</td>\n",
       "      <td>0.735404</td>\n",
       "      <td>0</td>\n",
       "    </tr>\n",
       "    <tr>\n",
       "      <th>159514</th>\n",
       "      <td>ff39a2895fc3b40e</td>\n",
       "      <td>u mischievious pubic hair</td>\n",
       "      <td>1</td>\n",
       "      <td>0</td>\n",
       "      <td>0</td>\n",
       "      <td>0</td>\n",
       "      <td>1</td>\n",
       "      <td>0</td>\n",
       "      <td>u mischievious pubic hair</td>\n",
       "      <td>0</td>\n",
       "      <td>0.057789</td>\n",
       "      <td>1</td>\n",
       "    </tr>\n",
       "    <tr>\n",
       "      <th>159520</th>\n",
       "      <td>ff5b1d7af2c59bd7</td>\n",
       "      <td>put new single right right</td>\n",
       "      <td>0</td>\n",
       "      <td>0</td>\n",
       "      <td>0</td>\n",
       "      <td>0</td>\n",
       "      <td>0</td>\n",
       "      <td>0</td>\n",
       "      <td>put new single right right</td>\n",
       "      <td>1</td>\n",
       "      <td>0.569599</td>\n",
       "      <td>0</td>\n",
       "    </tr>\n",
       "    <tr>\n",
       "      <th>159535</th>\n",
       "      <td>ff7ef80ee62bbcf6</td>\n",
       "      <td>ank squiddy still think get reverted sceptic</td>\n",
       "      <td>0</td>\n",
       "      <td>0</td>\n",
       "      <td>0</td>\n",
       "      <td>0</td>\n",
       "      <td>0</td>\n",
       "      <td>0</td>\n",
       "      <td>ank squiddy still think get reverted sceptic</td>\n",
       "      <td>1</td>\n",
       "      <td>0.624846</td>\n",
       "      <td>0</td>\n",
       "    </tr>\n",
       "    <tr>\n",
       "      <th>159550</th>\n",
       "      <td>ffba5332d6b8fd14</td>\n",
       "      <td>agree another note lil wayne talentless man tu...</td>\n",
       "      <td>0</td>\n",
       "      <td>0</td>\n",
       "      <td>0</td>\n",
       "      <td>0</td>\n",
       "      <td>0</td>\n",
       "      <td>0</td>\n",
       "      <td>agree another note lil wayne talentless man tu...</td>\n",
       "      <td>1</td>\n",
       "      <td>0.967298</td>\n",
       "      <td>0</td>\n",
       "    </tr>\n",
       "  </tbody>\n",
       "</table>\n",
       "<p>14401 rows × 12 columns</p>\n",
       "</div>"
      ],
      "text/plain": [
       "                      id  ... label\n",
       "6       0002bcb3da6cb337  ...     1\n",
       "11      00054a5e18b50dd4  ...     0\n",
       "12      0005c987bdfc9d4b  ...     1\n",
       "15      00078f8ce7eb276d  ...     0\n",
       "29      0010833a96e1f886  ...     0\n",
       "...                  ...  ...   ...\n",
       "159504  ff0c14043acdaf8e  ...     0\n",
       "159514  ff39a2895fc3b40e  ...     1\n",
       "159520  ff5b1d7af2c59bd7  ...     0\n",
       "159535  ff7ef80ee62bbcf6  ...     0\n",
       "159550  ffba5332d6b8fd14  ...     0\n",
       "\n",
       "[14401 rows x 12 columns]"
      ]
     },
     "execution_count": 128,
     "metadata": {
      "tags": []
     },
     "output_type": "execute_result"
    }
   ],
   "source": [
    "check_df_3[check_df_3['preds']!=check_df_3['label']]#['tweet']"
   ]
  },
  {
   "cell_type": "code",
   "execution_count": 0,
   "metadata": {
    "colab": {},
    "colab_type": "code",
    "id": "-JirUt3Zobfa"
   },
   "outputs": [],
   "source": []
  }
 ],
 "metadata": {
  "accelerator": "GPU",
  "colab": {
   "collapsed_sections": [],
   "name": "real_world_testing.ipynb",
   "provenance": []
  },
  "kernelspec": {
   "display_name": "Python 3",
   "language": "python",
   "name": "python3"
  },
  "language_info": {
   "codemirror_mode": {
    "name": "ipython",
    "version": 3
   },
   "file_extension": ".py",
   "mimetype": "text/x-python",
   "name": "python",
   "nbconvert_exporter": "python",
   "pygments_lexer": "ipython3",
   "version": "3.7.3"
  },
  "toc": {
   "base_numbering": 1,
   "nav_menu": {},
   "number_sections": true,
   "sideBar": true,
   "skip_h1_title": false,
   "title_cell": "Table of Contents",
   "title_sidebar": "Contents",
   "toc_cell": false,
   "toc_position": {},
   "toc_section_display": true,
   "toc_window_display": false
  }
 },
 "nbformat": 4,
 "nbformat_minor": 1
}
