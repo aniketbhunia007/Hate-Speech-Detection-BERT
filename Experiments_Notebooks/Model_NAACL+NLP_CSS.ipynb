{
 "cells": [
  {
   "cell_type": "markdown",
   "metadata": {
    "colab_type": "text",
    "id": "KAfnkMx1_M5B"
   },
   "source": [
    "Analysis on scraped dataset"
   ]
  },
  {
   "cell_type": "markdown",
   "metadata": {
    "colab_type": "text",
    "id": "3kUTiT2E_M5H"
   },
   "source": [
    "### Import"
   ]
  },
  {
   "cell_type": "code",
   "execution_count": null,
   "metadata": {
    "colab": {},
    "colab_type": "code",
    "id": "cU9l4_D1_M5J"
   },
   "outputs": [],
   "source": [
    "import pandas as pd\n",
    "import numpy as np"
   ]
  },
  {
   "cell_type": "code",
   "execution_count": null,
   "metadata": {
    "colab": {},
    "colab_type": "code",
    "id": "zCUG0trn_M5R"
   },
   "outputs": [],
   "source": [
    "import pickle\n",
    "import sys\n",
    "import nltk\n",
    "from nltk.stem.porter import *\n",
    "\n",
    "from sklearn.feature_extraction.text import TfidfVectorizer\n",
    "import matplotlib.pyplot as plt\n",
    "import seaborn\n",
    "%matplotlib inline"
   ]
  },
  {
   "cell_type": "code",
   "execution_count": null,
   "metadata": {
    "colab": {
     "base_uri": "https://localhost:8080/",
     "height": 34
    },
    "colab_type": "code",
    "executionInfo": {
     "elapsed": 1517,
     "status": "ok",
     "timestamp": 1570478144163,
     "user": {
      "displayName": "Pawar Pranav Dayanand mm17b003",
      "photoUrl": "",
      "userId": "03168935693589294616"
     },
     "user_tz": -330
    },
    "id": "KoieloYD56U0",
    "outputId": "40ea327a-34e0-4dd7-d5d6-1229ec9864ca"
   },
   "outputs": [],
   "source": [
    "from google.colab import drive\n",
    "drive.mount('/content/drive')"
   ]
  },
  {
   "cell_type": "code",
   "execution_count": null,
   "metadata": {
    "colab": {},
    "colab_type": "code",
    "id": "Xtb_csJD_M5X",
    "scrolled": true
   },
   "outputs": [],
   "source": [
    "cf_data_1 = pd.read_csv('/content/drive/My Drive/Hate_Speech_Detection_git/data_1/hatespeech_NAACL_SRW.csv',encoding = \"ISO-8859-1\")\n",
    "cf_data_2 = pd.read_csv('/content/drive/My Drive/Hate_Speech_Detection_git/data_1/hatespeech_NLP+CSS.csv')\n",
    "\n",
    "## this is the scraped data"
   ]
  },
  {
   "cell_type": "code",
   "execution_count": null,
   "metadata": {
    "colab": {
     "base_uri": "https://localhost:8080/",
     "height": 71
    },
    "colab_type": "code",
    "executionInfo": {
     "elapsed": 4486,
     "status": "ok",
     "timestamp": 1570478148056,
     "user": {
      "displayName": "Pawar Pranav Dayanand mm17b003",
      "photoUrl": "",
      "userId": "03168935693589294616"
     },
     "user_tz": -330
    },
    "id": "5Khco_Ds_M5e",
    "outputId": "ada51c2f-9229-4a43-c1bf-c33ee9459115",
    "scrolled": false
   },
   "outputs": [],
   "source": [
    "labels_1 = pd.read_csv('/content/drive/My Drive/Hate_Speech_Detection_git/data_1/NAACL_SRW_2016.csv',header=None,names=['ID','class'])\n",
    "labels_2 = pd.read_csv('/content/drive/My Drive/Hate_Speech_Detection_git/data_1/NLP+CSS_2016.csv',sep='\\s')"
   ]
  },
  {
   "cell_type": "code",
   "execution_count": null,
   "metadata": {
    "colab": {
     "base_uri": "https://localhost:8080/",
     "height": 71
    },
    "colab_type": "code",
    "executionInfo": {
     "elapsed": 4422,
     "status": "ok",
     "timestamp": 1570478148058,
     "user": {
      "displayName": "Pawar Pranav Dayanand mm17b003",
      "photoUrl": "",
      "userId": "03168935693589294616"
     },
     "user_tz": -330
    },
    "id": "WBX_82Fi_M5m",
    "outputId": "fda22cf8-4d19-44c4-c692-27825fba2182",
    "scrolled": true
   },
   "outputs": [],
   "source": [
    "labels_2.rename_axis({'TweetID':'ID','Expert':'class'},axis=1,inplace=True)"
   ]
  },
  {
   "cell_type": "markdown",
   "metadata": {
    "colab_type": "text",
    "id": "VMthZI-G_M5v"
   },
   "source": [
    "### First lets explore cf_data_1"
   ]
  },
  {
   "cell_type": "code",
   "execution_count": null,
   "metadata": {
    "colab": {
     "base_uri": "https://localhost:8080/",
     "height": 105
    },
    "colab_type": "code",
    "executionInfo": {
     "elapsed": 3390,
     "status": "ok",
     "timestamp": 1570478148059,
     "user": {
      "displayName": "Pawar Pranav Dayanand mm17b003",
      "photoUrl": "",
      "userId": "03168935693589294616"
     },
     "user_tz": -330
    },
    "id": "dR_tY9mh_M5y",
    "outputId": "e0cdfef5-d697-4e05-a1f8-c3f0ee91482b",
    "scrolled": true
   },
   "outputs": [],
   "source": [
    "cf_data_1.rename_axis({'Unnamed: 0':'index_col'},axis=1,inplace=True)\n",
    "cf_data_2.rename_axis({'Unnamed: 0':'index_col'},axis=1,inplace=True)"
   ]
  },
  {
   "cell_type": "markdown",
   "metadata": {
    "colab_type": "text",
    "id": "46Z-fHZs_M54"
   },
   "source": [
    "#### Merging the cf_data_1 with its labelss"
   ]
  },
  {
   "cell_type": "markdown",
   "metadata": {
    "colab_type": "text",
    "id": "4omcVwyX_M56"
   },
   "source": [
    "### Function for merging"
   ]
  },
  {
   "cell_type": "code",
   "execution_count": null,
   "metadata": {
    "colab": {},
    "colab_type": "code",
    "id": "BUC130MI_M58"
   },
   "outputs": [],
   "source": [
    "def label_merging(data, labels):\n",
    "    labels['ID'] = labels['ID'].astype(int)\n",
    "    print(labels['ID'].nunique())\n",
    "    print('Null IDs in data 1 = ' ,data['ID'].isna().sum())\n",
    "    \n",
    "    data['ID'].fillna(0,inplace=True)\n",
    "    data['ID'] = data['ID'].astype(int)\n",
    "    \n",
    "    print('data shape ='  ,data.shape)\n",
    "    print('IDs common in data and labels =',sum(data['ID'].isin(labels['ID'])))\n",
    "    \n",
    "    train = data.merge(labels, on='ID',how='inner')#['class'].isna().sum()\n",
    "    return train"
   ]
  },
  {
   "cell_type": "code",
   "execution_count": null,
   "metadata": {
    "colab": {
     "base_uri": "https://localhost:8080/",
     "height": 85
    },
    "colab_type": "code",
    "executionInfo": {
     "elapsed": 2303,
     "status": "ok",
     "timestamp": 1570478148061,
     "user": {
      "displayName": "Pawar Pranav Dayanand mm17b003",
      "photoUrl": "",
      "userId": "03168935693589294616"
     },
     "user_tz": -330
    },
    "id": "Mj1bg2HO_M6D",
    "outputId": "5f5a873d-b29b-4d09-90ad-8c5b5ce092ab",
    "scrolled": true
   },
   "outputs": [],
   "source": [
    "train_1 = label_merging(cf_data_1,labels_1)"
   ]
  },
  {
   "cell_type": "code",
   "execution_count": null,
   "metadata": {
    "colab": {
     "base_uri": "https://localhost:8080/",
     "height": 85
    },
    "colab_type": "code",
    "executionInfo": {
     "elapsed": 2560,
     "status": "ok",
     "timestamp": 1570478149204,
     "user": {
      "displayName": "Pawar Pranav Dayanand mm17b003",
      "photoUrl": "",
      "userId": "03168935693589294616"
     },
     "user_tz": -330
    },
    "id": "Ayn6ak8D_M6M",
    "outputId": "e8625be5-806f-434f-ce75-c743e4d48248",
    "scrolled": false
   },
   "outputs": [],
   "source": [
    "train_2 = label_merging(cf_data_2, labels_2)"
   ]
  },
  {
   "cell_type": "code",
   "execution_count": null,
   "metadata": {
    "colab": {
     "base_uri": "https://localhost:8080/",
     "height": 85
    },
    "colab_type": "code",
    "executionInfo": {
     "elapsed": 2363,
     "status": "ok",
     "timestamp": 1570478149206,
     "user": {
      "displayName": "Pawar Pranav Dayanand mm17b003",
      "photoUrl": "",
      "userId": "03168935693589294616"
     },
     "user_tz": -330
    },
    "id": "0LECHg4RJvP7",
    "outputId": "5ad75f64-e0e5-48fc-de57-1893aafc43a7"
   },
   "outputs": [],
   "source": [
    "train_1['class'].value_counts()"
   ]
  },
  {
   "cell_type": "code",
   "execution_count": null,
   "metadata": {
    "colab": {
     "base_uri": "https://localhost:8080/",
     "height": 102
    },
    "colab_type": "code",
    "executionInfo": {
     "elapsed": 2286,
     "status": "ok",
     "timestamp": 1570478149208,
     "user": {
      "displayName": "Pawar Pranav Dayanand mm17b003",
      "photoUrl": "",
      "userId": "03168935693589294616"
     },
     "user_tz": -330
    },
    "id": "gV8z_2UjJ67w",
    "outputId": "e16156bb-e324-4e58-8245-8cbfbac6cfa6"
   },
   "outputs": [],
   "source": [
    "train_2['class'].value_counts()"
   ]
  },
  {
   "cell_type": "markdown",
   "metadata": {
    "colab_type": "text",
    "id": "n4e-nBCU_M6U"
   },
   "source": []
  },
  {
   "cell_type": "code",
   "execution_count": null,
   "metadata": {
    "colab": {},
    "colab_type": "code",
    "id": "8CDfNYIT_M6X"
   },
   "outputs": [],
   "source": [
    "t1 = train_1[['ID','Tweets','class']]\n",
    "t2 = train_2[['ID','Tweets','class']]\n",
    "merged = pd.concat([t1,t2],axis=0).reset_index(drop=True)"
   ]
  },
  {
   "cell_type": "markdown",
   "metadata": {
    "colab_type": "text",
    "id": "G52end2X_M6k"
   },
   "source": [
    "### Target Analysis"
   ]
  },
  {
   "cell_type": "code",
   "execution_count": null,
   "metadata": {
    "colab": {
     "base_uri": "https://localhost:8080/",
     "height": 119
    },
    "colab_type": "code",
    "executionInfo": {
     "elapsed": 1576,
     "status": "ok",
     "timestamp": 1570478149722,
     "user": {
      "displayName": "Pawar Pranav Dayanand mm17b003",
      "photoUrl": "",
      "userId": "03168935693589294616"
     },
     "user_tz": -330
    },
    "id": "210wbY9A_M6n",
    "outputId": "6e73834b-9564-4499-c6ac-ae12073234f4",
    "scrolled": false
   },
   "outputs": [],
   "source": [
    "merged['class'].value_counts()"
   ]
  },
  {
   "cell_type": "markdown",
   "metadata": {
    "colab_type": "text",
    "id": "JKKnnlcd_M6t"
   },
   "source": [
    "### Very basic exploration"
   ]
  },
  {
   "cell_type": "code",
   "execution_count": null,
   "metadata": {
    "colab": {},
    "colab_type": "code",
    "id": "LDjMbIgg_M6v"
   },
   "outputs": [],
   "source": [
    "train = merged.copy()"
   ]
  },
  {
   "cell_type": "code",
   "execution_count": null,
   "metadata": {
    "colab": {},
    "colab_type": "code",
    "id": "O4YMwWeg_M61",
    "scrolled": true
   },
   "outputs": [],
   "source": [
    "train.rename(columns={'Tweets':'tweet'},inplace=True)"
   ]
  },
  {
   "cell_type": "code",
   "execution_count": null,
   "metadata": {
    "colab": {},
    "colab_type": "code",
    "id": "GKo9pPlI_M67",
    "scrolled": true
   },
   "outputs": [],
   "source": [
    "train['tweet'] = train['tweet'].astype(str)"
   ]
  },
  {
   "cell_type": "code",
   "execution_count": null,
   "metadata": {
    "colab": {
     "base_uri": "https://localhost:8080/",
     "height": 204
    },
    "colab_type": "code",
    "executionInfo": {
     "elapsed": 571,
     "status": "ok",
     "timestamp": 1570478150490,
     "user": {
      "displayName": "Pawar Pranav Dayanand mm17b003",
      "photoUrl": "",
      "userId": "03168935693589294616"
     },
     "user_tz": -330
    },
    "id": "67zuBPER_M7C",
    "outputId": "b04cfcda-cf99-40ab-f878-1ff1220286ca",
    "scrolled": true
   },
   "outputs": [],
   "source": [
    "## word and char count, avg_word length and all\n",
    "train['word_count'] = train['tweet'].apply(lambda x: len(str(x).split(\" \")))\n",
    "train[['tweet','word_count']].head()"
   ]
  },
  {
   "cell_type": "code",
   "execution_count": null,
   "metadata": {
    "colab": {
     "base_uri": "https://localhost:8080/",
     "height": 204
    },
    "colab_type": "code",
    "executionInfo": {
     "elapsed": 1075,
     "status": "ok",
     "timestamp": 1570478152774,
     "user": {
      "displayName": "Pawar Pranav Dayanand mm17b003",
      "photoUrl": "",
      "userId": "03168935693589294616"
     },
     "user_tz": -330
    },
    "id": "L_PYihOI_M7J",
    "outputId": "fddd3fd4-0b13-42c5-caec-e7a46db19da0"
   },
   "outputs": [],
   "source": [
    "train['char_count'] = train['tweet'].str.len() ## this also includes spaces\n",
    "train[['tweet','char_count']].head()"
   ]
  },
  {
   "cell_type": "code",
   "execution_count": null,
   "metadata": {
    "colab": {
     "base_uri": "https://localhost:8080/",
     "height": 204
    },
    "colab_type": "code",
    "executionInfo": {
     "elapsed": 820,
     "status": "ok",
     "timestamp": 1570478152776,
     "user": {
      "displayName": "Pawar Pranav Dayanand mm17b003",
      "photoUrl": "",
      "userId": "03168935693589294616"
     },
     "user_tz": -330
    },
    "id": "Olo7-pv-_M7P",
    "outputId": "86566a9b-c2cc-4d6a-8c03-56fb8d115a5d",
    "scrolled": true
   },
   "outputs": [],
   "source": [
    "def avg_word(sentence):\n",
    "    words = sentence.split()\n",
    "    return (sum(len(word) for word in words)/len(words))\n",
    "\n",
    "train['avg_word'] = train['tweet'].apply(lambda x: avg_word(x))\n",
    "train[['tweet','avg_word']].head()"
   ]
  },
  {
   "cell_type": "markdown",
   "metadata": {
    "colab_type": "text",
    "id": "XZ_GO0Yy_M7X"
   },
   "source": [
    "#### Hashtags"
   ]
  },
  {
   "cell_type": "code",
   "execution_count": null,
   "metadata": {
    "colab": {
     "base_uri": "https://localhost:8080/",
     "height": 204
    },
    "colab_type": "code",
    "executionInfo": {
     "elapsed": 947,
     "status": "ok",
     "timestamp": 1570478155100,
     "user": {
      "displayName": "Pawar Pranav Dayanand mm17b003",
      "photoUrl": "",
      "userId": "03168935693589294616"
     },
     "user_tz": -330
    },
    "id": "_my80aFW_M7a",
    "outputId": "45c9397e-7384-488b-f417-01a9894fa255"
   },
   "outputs": [],
   "source": [
    "train['hastags'] = train['tweet'].apply(lambda x: len([x for x in x.split() if x.startswith('#')]))\n",
    "train[['tweet','hastags']].head()"
   ]
  },
  {
   "cell_type": "markdown",
   "metadata": {
    "colab_type": "text",
    "id": "od7YmYLQ_M7k"
   },
   "source": [
    "### Basic Preprocessing"
   ]
  },
  {
   "cell_type": "markdown",
   "metadata": {
    "colab_type": "text",
    "id": "OsHyjVfK_M7u"
   },
   "source": [
    "Every word followed by @ is some twitter ID of an user, which shouldn't be considered in our analysis, so lets do the stemming, where we remove @ alonwith the word followed by it"
   ]
  },
  {
   "cell_type": "markdown",
   "metadata": {
    "colab_type": "text",
    "id": "jrpNfjjl_M7w"
   },
   "source": [
    "#### Removing user IDs from text"
   ]
  },
  {
   "cell_type": "code",
   "execution_count": null,
   "metadata": {
    "colab": {},
    "colab_type": "code",
    "id": "lOeA8PLt_M7z",
    "scrolled": true
   },
   "outputs": [],
   "source": [
    "train['tweet'] = train['tweet'].apply(lambda x:' '.join(i for i in [a for a in x.split() if a.find('@')==-1]))"
   ]
  },
  {
   "cell_type": "code",
   "execution_count": null,
   "metadata": {
    "colab": {},
    "colab_type": "code",
    "id": "GiwqEanV_M75"
   },
   "outputs": [],
   "source": [
    "train['tweet'] = train['tweet'].apply(lambda x:' '.join(i for i in [a for a in x.split() if a.find('http')==-1]))\n",
    "## removing http links"
   ]
  },
  {
   "cell_type": "code",
   "execution_count": null,
   "metadata": {
    "colab": {},
    "colab_type": "code",
    "id": "EZMBkm0MKhRz"
   },
   "outputs": [],
   "source": [
    "train['tweet'] = train['tweet'].apply(lambda x:''.join([i for i in x if not i.isdigit()]))\n",
    "## removing number"
   ]
  },
  {
   "cell_type": "markdown",
   "metadata": {
    "colab_type": "text",
    "id": "HQX_EymT_M8A"
   },
   "source": [
    "#### Converting to Lower case"
   ]
  },
  {
   "cell_type": "code",
   "execution_count": null,
   "metadata": {
    "colab": {
     "base_uri": "https://localhost:8080/",
     "height": 119
    },
    "colab_type": "code",
    "executionInfo": {
     "elapsed": 855,
     "status": "ok",
     "timestamp": 1570478177895,
     "user": {
      "displayName": "Pawar Pranav Dayanand mm17b003",
      "photoUrl": "",
      "userId": "03168935693589294616"
     },
     "user_tz": -330
    },
    "id": "avDBRPeu_M8B",
    "outputId": "fc621e59-4933-4525-a23a-15f507ab2dad"
   },
   "outputs": [],
   "source": [
    "train['tweet'] = train['tweet'].apply(lambda x: \" \".join(x.lower() for x in x.split()))\n",
    "train['tweet'].head()"
   ]
  },
  {
   "cell_type": "markdown",
   "metadata": {
    "colab_type": "text",
    "id": "pBlrVfIV_M8I"
   },
   "source": [
    "There is no use of punctuation mostly, so removing it"
   ]
  },
  {
   "cell_type": "code",
   "execution_count": null,
   "metadata": {
    "colab": {
     "base_uri": "https://localhost:8080/",
     "height": 119
    },
    "colab_type": "code",
    "executionInfo": {
     "elapsed": 518,
     "status": "ok",
     "timestamp": 1570478179125,
     "user": {
      "displayName": "Pawar Pranav Dayanand mm17b003",
      "photoUrl": "",
      "userId": "03168935693589294616"
     },
     "user_tz": -330
    },
    "id": "Hq2SsiGw_M8K",
    "outputId": "0ee90350-1a9f-48df-973b-c46f011fafa9",
    "scrolled": false
   },
   "outputs": [],
   "source": [
    "train['tweet'] = train['tweet'].str.replace('[^\\w\\s]','')\n",
    "train['tweet'].head()"
   ]
  },
  {
   "cell_type": "markdown",
   "metadata": {
    "colab_type": "text",
    "id": "z0b_8d0X_M8P"
   },
   "source": [
    "#### Removing stopwords"
   ]
  },
  {
   "cell_type": "code",
   "execution_count": null,
   "metadata": {
    "colab": {
     "base_uri": "https://localhost:8080/",
     "height": 68
    },
    "colab_type": "code",
    "executionInfo": {
     "elapsed": 578,
     "status": "ok",
     "timestamp": 1570478179547,
     "user": {
      "displayName": "Pawar Pranav Dayanand mm17b003",
      "photoUrl": "",
      "userId": "03168935693589294616"
     },
     "user_tz": -330
    },
    "id": "9dA6VxUw_M8Q",
    "outputId": "fe025dba-915e-4937-a3ed-daeea107c034",
    "scrolled": true
   },
   "outputs": [],
   "source": [
    "import nltk\n",
    "nltk.download('stopwords')"
   ]
  },
  {
   "cell_type": "code",
   "execution_count": null,
   "metadata": {
    "colab": {
     "base_uri": "https://localhost:8080/",
     "height": 119
    },
    "colab_type": "code",
    "executionInfo": {
     "elapsed": 1844,
     "status": "ok",
     "timestamp": 1570478181062,
     "user": {
      "displayName": "Pawar Pranav Dayanand mm17b003",
      "photoUrl": "",
      "userId": "03168935693589294616"
     },
     "user_tz": -330
    },
    "id": "aNq4xdkF_M8U",
    "outputId": "6525ffb2-15f7-47e9-b623-f416bbcbc420",
    "scrolled": true
   },
   "outputs": [],
   "source": [
    "from nltk.corpus import stopwords\n",
    "stop = stopwords.words('english')\n",
    "train['tweet'] = train['tweet'].apply(lambda x: \" \".join(x for x in x.split() if x not in stop))\n",
    "train['tweet'].head()"
   ]
  },
  {
   "cell_type": "markdown",
   "metadata": {
    "colab_type": "text",
    "id": "D3FXsdzK_M8d"
   },
   "source": [
    "#### Most common and rare words"
   ]
  },
  {
   "cell_type": "code",
   "execution_count": null,
   "metadata": {
    "colab": {
     "base_uri": "https://localhost:8080/",
     "height": 1000
    },
    "colab_type": "code",
    "executionInfo": {
     "elapsed": 1831,
     "status": "ok",
     "timestamp": 1570478181537,
     "user": {
      "displayName": "Pawar Pranav Dayanand mm17b003",
      "photoUrl": "",
      "userId": "03168935693589294616"
     },
     "user_tz": -330
    },
    "id": "fAMEzEZb_M8f",
    "outputId": "9f7c1a13-2674-4908-b6d4-e3cb088f54bb",
    "scrolled": true
   },
   "outputs": [],
   "source": [
    "freq = pd.Series(' '.join(train['tweet']).split()).value_counts()#[:10]\n",
    "freq"
   ]
  },
  {
   "cell_type": "markdown",
   "metadata": {
    "colab_type": "text",
    "id": "yZjmdIef_M8n"
   },
   "source": [
    "rt is a very frequent word occuring almost in every tweet, and it doesnt hold any meaning so lets just remove it, I guess it there are such more words but those are all seem to be hatespeech. So we will just keep hate speechwords from above list, lets remove the rest"
   ]
  },
  {
   "cell_type": "code",
   "execution_count": null,
   "metadata": {
    "colab": {},
    "colab_type": "code",
    "id": "5035hzBA_M8o"
   },
   "outputs": [],
   "source": [
    "remove_word = ['rt','mkr','im','dont','like','people','get','think','would','cant']"
   ]
  },
  {
   "cell_type": "code",
   "execution_count": null,
   "metadata": {
    "colab": {
     "base_uri": "https://localhost:8080/",
     "height": 119
    },
    "colab_type": "code",
    "executionInfo": {
     "elapsed": 1465,
     "status": "ok",
     "timestamp": 1570478181906,
     "user": {
      "displayName": "Pawar Pranav Dayanand mm17b003",
      "photoUrl": "",
      "userId": "03168935693589294616"
     },
     "user_tz": -330
    },
    "id": "40MWIpbm_M8u",
    "outputId": "5dc490e5-7c4a-42f1-ebf1-56723a8ed65e"
   },
   "outputs": [],
   "source": [
    "train['tweet'] = train['tweet'].apply(lambda x: \" \".join(x for x in x.split() if x not in remove_word))\n",
    "train['tweet'].head()"
   ]
  },
  {
   "cell_type": "code",
   "execution_count": null,
   "metadata": {
    "colab": {
     "base_uri": "https://localhost:8080/",
     "height": 1000
    },
    "colab_type": "code",
    "executionInfo": {
     "elapsed": 1309,
     "status": "ok",
     "timestamp": 1570478181907,
     "user": {
      "displayName": "Pawar Pranav Dayanand mm17b003",
      "photoUrl": "",
      "userId": "03168935693589294616"
     },
     "user_tz": -330
    },
    "id": "Tjk4yORi_M80",
    "outputId": "943d8f6a-9211-48f4-bb8b-749c06e8c206",
    "scrolled": true
   },
   "outputs": [],
   "source": [
    "freq = pd.Series(' '.join(train['tweet']).split()).value_counts()#[-20000:]\n",
    "freq"
   ]
  },
  {
   "cell_type": "code",
   "execution_count": null,
   "metadata": {
    "colab": {
     "base_uri": "https://localhost:8080/",
     "height": 34
    },
    "colab_type": "code",
    "executionInfo": {
     "elapsed": 978,
     "status": "ok",
     "timestamp": 1570478181908,
     "user": {
      "displayName": "Pawar Pranav Dayanand mm17b003",
      "photoUrl": "",
      "userId": "03168935693589294616"
     },
     "user_tz": -330
    },
    "id": "4llwcjXS_M85",
    "outputId": "c8913ab5-0a68-4d76-a146-1e210b84cfe2"
   },
   "outputs": [],
   "source": [
    "freq.shape"
   ]
  },
  {
   "cell_type": "markdown",
   "metadata": {
    "colab_type": "text",
    "id": "fAUvqGB6_M9A"
   },
   "source": [
    "Doesnt really make sense to remove rare words, i.e. the words with count 1. Because we might lose hateful words this way"
   ]
  },
  {
   "cell_type": "code",
   "execution_count": null,
   "metadata": {
    "colab": {
     "base_uri": "https://localhost:8080/",
     "height": 88
    },
    "colab_type": "code",
    "executionInfo": {
     "elapsed": 1052,
     "status": "ok",
     "timestamp": 1570478182317,
     "user": {
      "displayName": "Pawar Pranav Dayanand mm17b003",
      "photoUrl": "",
      "userId": "03168935693589294616"
     },
     "user_tz": -330
    },
    "id": "w1QGCz-0_M9F",
    "outputId": "9e3c67d7-7248-4480-a84a-8634512695ea"
   },
   "outputs": [],
   "source": [
    "from textblob import TextBlob\n",
    "nltk.download('punkt')\n",
    "TextBlob(train['tweet'][1]).words"
   ]
  },
  {
   "cell_type": "markdown",
   "metadata": {
    "colab_type": "text",
    "id": "b3j3AXMN_M9M"
   },
   "source": [
    "#### Lemmetization\n",
    "smart stemming"
   ]
  },
  {
   "cell_type": "code",
   "execution_count": null,
   "metadata": {
    "colab": {
     "base_uri": "https://localhost:8080/",
     "height": 153
    },
    "colab_type": "code",
    "executionInfo": {
     "elapsed": 2162,
     "status": "ok",
     "timestamp": 1570478183795,
     "user": {
      "displayName": "Pawar Pranav Dayanand mm17b003",
      "photoUrl": "",
      "userId": "03168935693589294616"
     },
     "user_tz": -330
    },
    "id": "11ZN_Cir_M9O",
    "outputId": "05c949b8-2da8-46e7-b95a-d1ce6dbe9d80",
    "scrolled": true
   },
   "outputs": [],
   "source": [
    "from textblob import Word\n",
    "nltk.download('wordnet')\n",
    "train['tweet'] = train['tweet'].apply(lambda x: \" \".join([Word(word).lemmatize() for word in x.split()]))\n",
    "train['tweet'].head()"
   ]
  },
  {
   "cell_type": "markdown",
   "metadata": {
    "colab_type": "text",
    "id": "a1R8X5Xd_M9X"
   },
   "source": [
    "##### So now it seems that the data is almost clean! Lets explore advanced preprocessing/ text representation techniques"
   ]
  },
  {
   "cell_type": "markdown",
   "metadata": {
    "colab_type": "text",
    "id": "n4Rng-D6_M9a"
   },
   "source": [
    "### Target creation"
   ]
  },
  {
   "cell_type": "code",
   "execution_count": null,
   "metadata": {
    "colab": {
     "base_uri": "https://localhost:8080/",
     "height": 34
    },
    "colab_type": "code",
    "executionInfo": {
     "elapsed": 1523,
     "status": "ok",
     "timestamp": 1570478183797,
     "user": {
      "displayName": "Pawar Pranav Dayanand mm17b003",
      "photoUrl": "",
      "userId": "03168935693589294616"
     },
     "user_tz": -330
    },
    "id": "v1h4taDp_M9f",
    "outputId": "2cb7c161-a0d5-4763-9947-ad12d13d7761",
    "scrolled": true
   },
   "outputs": [],
   "source": [
    "train['class'].unique()#.isna().sum()"
   ]
  },
  {
   "cell_type": "code",
   "execution_count": null,
   "metadata": {
    "colab": {
     "base_uri": "https://localhost:8080/",
     "height": 68
    },
    "colab_type": "code",
    "executionInfo": {
     "elapsed": 1345,
     "status": "ok",
     "timestamp": 1570478183800,
     "user": {
      "displayName": "Pawar Pranav Dayanand mm17b003",
      "photoUrl": "",
      "userId": "03168935693589294616"
     },
     "user_tz": -330
    },
    "id": "FJuHE_9K_M9p",
    "outputId": "0c32fe5c-e6e9-4799-e502-ec815802b570"
   },
   "outputs": [],
   "source": [
    "train['class'].replace(['neither','none', 'sexism', 'racism', 'both'],[0,0,1,1,1],inplace=True)\n",
    "train['class'].value_counts()"
   ]
  },
  {
   "cell_type": "markdown",
   "metadata": {
    "colab_type": "text",
    "id": "n_cfXe7x_M9w"
   },
   "source": [
    "### N-Grams"
   ]
  },
  {
   "cell_type": "code",
   "execution_count": null,
   "metadata": {
    "colab": {
     "base_uri": "https://localhost:8080/",
     "height": 170
    },
    "colab_type": "code",
    "executionInfo": {
     "elapsed": 1305,
     "status": "ok",
     "timestamp": 1570478184119,
     "user": {
      "displayName": "Pawar Pranav Dayanand mm17b003",
      "photoUrl": "",
      "userId": "03168935693589294616"
     },
     "user_tz": -330
    },
    "id": "NwLNJn0R_M93",
    "outputId": "7831f328-d173-43c8-e51e-7f2cf3f2a3ca",
    "scrolled": false
   },
   "outputs": [],
   "source": [
    "TextBlob(train['tweet'][0]).ngrams(2)"
   ]
  },
  {
   "cell_type": "markdown",
   "metadata": {
    "colab_type": "text",
    "id": "SiFIP0H8_M-D"
   },
   "source": [
    "### TF-IDF"
   ]
  },
  {
   "cell_type": "code",
   "execution_count": null,
   "metadata": {
    "colab": {},
    "colab_type": "code",
    "id": "_t8rOQX8_M-F"
   },
   "outputs": [],
   "source": [
    "\n",
    "\n",
    "from sklearn.model_selection import train_test_split\n",
    "x_t,x_v,y_t,y_v = train_test_split(train['tweet'],train['class'],test_size=0.2,random_state=234)"
   ]
  },
  {
   "cell_type": "code",
   "execution_count": null,
   "metadata": {
    "colab": {},
    "colab_type": "code",
    "id": "k4LmWMtr_M-Y",
    "scrolled": true
   },
   "outputs": [],
   "source": [
    "from sklearn.feature_extraction.text import TfidfVectorizer\n",
    "tfidf = TfidfVectorizer(max_features=100, lowercase=True, analyzer='word',\n",
    " stop_words= 'english',ngram_range=(1,1))\n",
    "\n",
    "tfidf.fit(train['tweet'])\n",
    "\n",
    "x_t = tfidf.transform(x_t)\n",
    "x_v = tfidf.transform(x_v)\n"
   ]
  },
  {
   "cell_type": "markdown",
   "metadata": {
    "colab_type": "text",
    "id": "xqX3UOMeM05k"
   },
   "source": []
  },
  {
   "cell_type": "code",
   "execution_count": null,
   "metadata": {
    "colab": {
     "base_uri": "https://localhost:8080/",
     "height": 34
    },
    "colab_type": "code",
    "executionInfo": {
     "elapsed": 1172,
     "status": "ok",
     "timestamp": 1570478187272,
     "user": {
      "displayName": "Pawar Pranav Dayanand mm17b003",
      "photoUrl": "",
      "userId": "03168935693589294616"
     },
     "user_tz": -330
    },
    "id": "8P2yYq0E_M-x",
    "outputId": "c49ccb7f-ca14-4820-8ba9-31bfa7ce639c",
    "scrolled": true
   },
   "outputs": [],
   "source": [
    "1 - y_v.mean()"
   ]
  },
  {
   "cell_type": "code",
   "execution_count": null,
   "metadata": {
    "colab": {},
    "colab_type": "code",
    "id": "4PNtRBp5_M--",
    "scrolled": true
   },
   "outputs": [],
   "source": [
    "from sklearn.linear_model import LogisticRegression\n",
    "from sklearn.ensemble import RandomForestClassifier\n",
    "from sklearn.ensemble import GradientBoostingClassifier"
   ]
  },
  {
   "cell_type": "code",
   "execution_count": null,
   "metadata": {
    "colab": {},
    "colab_type": "code",
    "id": "VadjSanS_M_H"
   },
   "outputs": [],
   "source": [
    "from sklearn.metrics import f1_score, classification_report, roc_auc_score, confusion_matrix, accuracy_score"
   ]
  },
  {
   "cell_type": "code",
   "execution_count": null,
   "metadata": {
    "colab": {},
    "colab_type": "code",
    "id": "t2blx4QV_M_M"
   },
   "outputs": [],
   "source": [
    "clf = GradientBoostingClassifier(learning_rate=0.1, max_depth=15)"
   ]
  },
  {
   "cell_type": "code",
   "execution_count": null,
   "metadata": {
    "colab": {},
    "colab_type": "code",
    "id": "700Q_049_M_T"
   },
   "outputs": [],
   "source": [
    "def model_training(clf, x_t, y_t, x_v=None , y_v=None ,task='binary:logistic'):\n",
    "    clf.fit(x_t,y_t)\n",
    "    print('training accuracy', clf.score(x_t,y_t))\n",
    "    \n",
    "    if task=='binary:logistic':\n",
    "        if x_v!=None:\n",
    "            print('validation accuracy', clf.score(x_v,y_v))\n",
    "            print('validation f1_score',f1_score(clf.predict(x_v),y_v))\n",
    "            print('validation roc_auc score',roc_auc_score(y_v,clf.predict_proba(x_v)[::,-1]))\n",
    "            print('confusion matrix \\n',confusion_matrix(y_v, clf.predict(x_v)))\n",
    "    \n",
    "    if task=='reg:linear':\n",
    "        if x_v!=None:\n",
    "            print('validation r2_score', clf.score(x_v,y_v))\n",
    "            print('validation MSE',mean_squared_error(clf.predict(x_v),y_v))\n",
    "\n",
    "            \n",
    "    return clf"
   ]
  },
  {
   "cell_type": "code",
   "execution_count": null,
   "metadata": {
    "colab": {
     "base_uri": "https://localhost:8080/",
     "height": 306
    },
    "colab_type": "code",
    "executionInfo": {
     "elapsed": 5466,
     "status": "ok",
     "timestamp": 1570478192453,
     "user": {
      "displayName": "Pawar Pranav Dayanand mm17b003",
      "photoUrl": "",
      "userId": "03168935693589294616"
     },
     "user_tz": -330
    },
    "id": "FHgCSIY8_M_Z",
    "outputId": "a71fb94a-e55d-4aaf-bdae-11a20858c589",
    "scrolled": true
   },
   "outputs": [],
   "source": [
    "model_training(clf,x_t,y_t,x_v,y_v)\n",
    "## Gradient boosting"
   ]
  },
  {
   "cell_type": "code",
   "execution_count": null,
   "metadata": {
    "colab": {
     "base_uri": "https://localhost:8080/",
     "height": 51
    },
    "colab_type": "code",
    "executionInfo": {
     "elapsed": 5335,
     "status": "ok",
     "timestamp": 1570478192454,
     "user": {
      "displayName": "Pawar Pranav Dayanand mm17b003",
      "photoUrl": "",
      "userId": "03168935693589294616"
     },
     "user_tz": -330
    },
    "id": "ZnWZtt2tOoQV",
    "outputId": "cdc97e03-62fe-40f1-b1ae-021e4be56d19"
   },
   "outputs": [],
   "source": [
    "preds = (clf.predict_proba(x_v)[::,-1]>0.3).astype(int)\n",
    "\n",
    "confusion_matrix(y_v,preds)"
   ]
  },
  {
   "cell_type": "code",
   "execution_count": null,
   "metadata": {
    "colab": {
     "base_uri": "https://localhost:8080/",
     "height": 34
    },
    "colab_type": "code",
    "executionInfo": {
     "elapsed": 5244,
     "status": "ok",
     "timestamp": 1570478192456,
     "user": {
      "displayName": "Pawar Pranav Dayanand mm17b003",
      "photoUrl": "",
      "userId": "03168935693589294616"
     },
     "user_tz": -330
    },
    "id": "xFbv30qrO93N",
    "outputId": "995f8ca2-1c27-4fbb-8e6b-e39ffe5bcb99"
   },
   "outputs": [],
   "source": [
    "accuracy_score(y_v,preds)"
   ]
  },
  {
   "cell_type": "code",
   "execution_count": null,
   "metadata": {
    "colab": {
     "base_uri": "https://localhost:8080/",
     "height": 34
    },
    "colab_type": "code",
    "executionInfo": {
     "elapsed": 4814,
     "status": "ok",
     "timestamp": 1570478192458,
     "user": {
      "displayName": "Pawar Pranav Dayanand mm17b003",
      "photoUrl": "",
      "userId": "03168935693589294616"
     },
     "user_tz": -330
    },
    "id": "CqaKQmQlPQ0-",
    "outputId": "b3bf00fc-1369-4d4e-ab79-d0600a5177ec"
   },
   "outputs": [],
   "source": [
    "\n",
    "f1_score(y_v,preds)"
   ]
  },
  {
   "cell_type": "code",
   "execution_count": null,
   "metadata": {
    "colab": {},
    "colab_type": "code",
    "id": "-siuMB4WSMFF"
   },
   "outputs": [],
   "source": []
  },
  {
   "cell_type": "code",
   "execution_count": null,
   "metadata": {
    "colab": {},
    "colab_type": "code",
    "id": "ckP5IOKSOe9g"
   },
   "outputs": [],
   "source": [
    "# training accuracy 0.9344425483503982\n",
    "# validation accuracy 0.8589707136764287\n",
    "# validation f1_score 0.6888331242158092\n",
    "# validation roc_auc score 0.86558289643926\n",
    "# confusion matrix \n",
    "#  [[2472  151]\n",
    "#  [ 345  549]]\n",
    "# GradientBoostingClassifier(criterion='friedman_mse', init=None,\n",
    "#                            learning_rate=0.1, loss='deviance', max_depth=15,\n",
    "#                            max_features=None, max_leaf_nodes=None,\n",
    "#                            min_impurity_decrease=0.0, min_impurity_split=None,\n",
    "#                            min_samples_leaf=1, min_samples_split=2,\n",
    "#                            min_weight_fraction_leaf=0.0, n_estimators=100,\n",
    "#                            n_iter_no_change=None, presort='auto',\n",
    "#                            random_state=None, subsample=1.0, tol=0.0001,\n",
    "#                            validation_fraction=0.1, verbose=0,\n",
    "#                            warm_start=False)"
   ]
  },
  {
   "cell_type": "code",
   "execution_count": null,
   "metadata": {
    "colab": {
     "base_uri": "https://localhost:8080/",
     "height": 275
    },
    "colab_type": "code",
    "executionInfo": {
     "elapsed": 3911,
     "status": "ok",
     "timestamp": 1570478192462,
     "user": {
      "displayName": "Pawar Pranav Dayanand mm17b003",
      "photoUrl": "",
      "userId": "03168935693589294616"
     },
     "user_tz": -330
    },
    "id": "5KHJnoC-Apy2",
    "outputId": "fefc76dd-e3c6-40d9-f900-a15a040bd9b6"
   },
   "outputs": [],
   "source": [
    "lgr =  LogisticRegression(n_jobs=1, C=1e5)\n",
    "model_training(lgr,x_t,y_t,x_v,y_v)"
   ]
  },
  {
   "cell_type": "code",
   "execution_count": null,
   "metadata": {
    "colab": {
     "base_uri": "https://localhost:8080/",
     "height": 170
    },
    "colab_type": "code",
    "executionInfo": {
     "elapsed": 2456,
     "status": "ok",
     "timestamp": 1570478192795,
     "user": {
      "displayName": "Pawar Pranav Dayanand mm17b003",
      "photoUrl": "",
      "userId": "03168935693589294616"
     },
     "user_tz": -330
    },
    "id": "_s910sja_NAk",
    "outputId": "2f324587-f2fb-4c52-c00a-be883431ffa3",
    "scrolled": false
   },
   "outputs": [],
   "source": [
    "print(classification_report(clf.predict(x_v),y_v))"
   ]
  },
  {
   "cell_type": "code",
   "execution_count": null,
   "metadata": {
    "colab": {
     "base_uri": "https://localhost:8080/",
     "height": 34
    },
    "colab_type": "code",
    "executionInfo": {
     "elapsed": 1056,
     "status": "ok",
     "timestamp": 1570478196744,
     "user": {
      "displayName": "Pawar Pranav Dayanand mm17b003",
      "photoUrl": "",
      "userId": "03168935693589294616"
     },
     "user_tz": -330
    },
    "id": "FPZgVFNa_NAq",
    "outputId": "5d4da8e5-e88c-4600-ed32-6443e0de1f50"
   },
   "outputs": [],
   "source": [
    "probabs_df = pd.DataFrame(y_v.reset_index(drop=True))\n",
    "probabs_df['probab'] = lgr.predict_proba(x_v)[::,-1]\n",
    "probabs_df['preds'] = 0\n",
    "\n",
    "probabs_df = probabs_df.sort_values(by = 'probab',ascending=False).reset_index(drop=True)\n",
    "probabs_df.loc[0:int(x_v.todense().shape[0]*y_v.mean()),'preds'] = 1\n",
    "probabs_df.loc[int(x_v.todense().shape[0]*y_v.mean()):,'preds'] = 0\n",
    "np.mean(probabs_df['class']==probabs_df['preds'])"
   ]
  },
  {
   "cell_type": "code",
   "execution_count": null,
   "metadata": {
    "colab": {
     "base_uri": "https://localhost:8080/",
     "height": 51
    },
    "colab_type": "code",
    "executionInfo": {
     "elapsed": 577,
     "status": "ok",
     "timestamp": 1570478198144,
     "user": {
      "displayName": "Pawar Pranav Dayanand mm17b003",
      "photoUrl": "",
      "userId": "03168935693589294616"
     },
     "user_tz": -330
    },
    "id": "ump6fIrySZ_v",
    "outputId": "713b6c6c-bf10-47c4-fadd-2c7ae6f201e6"
   },
   "outputs": [],
   "source": [
    "confusion_matrix(probabs_df['class'],probabs_df['preds'])"
   ]
  },
  {
   "cell_type": "code",
   "execution_count": null,
   "metadata": {
    "colab": {
     "base_uri": "https://localhost:8080/",
     "height": 34
    },
    "colab_type": "code",
    "executionInfo": {
     "elapsed": 1260,
     "status": "ok",
     "timestamp": 1570478201055,
     "user": {
      "displayName": "Pawar Pranav Dayanand mm17b003",
      "photoUrl": "",
      "userId": "03168935693589294616"
     },
     "user_tz": -330
    },
    "id": "76S7PMr8ShJ_",
    "outputId": "14bbf7b6-ddc9-4d21-825a-8c66bbb2d7fc"
   },
   "outputs": [],
   "source": [
    "f1_score(probabs_df['class'],probabs_df['preds'])"
   ]
  },
  {
   "cell_type": "code",
   "execution_count": null,
   "metadata": {
    "colab": {},
    "colab_type": "code",
    "id": "nr71A7JvSqcZ"
   },
   "outputs": [],
   "source": [
    "### Woah thats quite an improvement, lets lock on this strategy"
   ]
  },
  {
   "cell_type": "markdown",
   "metadata": {
    "colab_type": "text",
    "id": "GTKE6QKk_NAx"
   },
   "source": [
    "### Word2Vec"
   ]
  },
  {
   "cell_type": "code",
   "execution_count": null,
   "metadata": {
    "colab": {},
    "colab_type": "code",
    "id": "EJt5wCk4_NA2"
   },
   "outputs": [],
   "source": [
    "import gensim\n",
    "import logging"
   ]
  },
  {
   "cell_type": "code",
   "execution_count": null,
   "metadata": {
    "colab": {
     "base_uri": "https://localhost:8080/",
     "height": 71
    },
    "colab_type": "code",
    "executionInfo": {
     "elapsed": 150049,
     "status": "ok",
     "timestamp": 1570484623925,
     "user": {
      "displayName": "Pawar Pranav Dayanand mm17b003",
      "photoUrl": "",
      "userId": "03168935693589294616"
     },
     "user_tz": -330
    },
    "id": "rR0dZZJH_NA8",
    "outputId": "e7d146e1-5ffd-4a17-cb4f-ab595710c087",
    "scrolled": true
   },
   "outputs": [],
   "source": [
    "from gensim.models import Word2Vec\n",
    "wv = gensim.models.KeyedVectors.load_word2vec_format(\"/content/drive/My Drive/Hate_Speech_Detection_git/GoogleNews-vectors-negative300.bin.gz\", binary=True)\n",
    "# wv = gensim. models.KeyedVectors.load(\"/content/drive/My Drive/Hate_Speech_Detection_git/hate_embeddings#1.kv\")\n",
    "# wv = gensim.models.KeyedVectors.load_word2vec_format(\"/content/drive/My Drive/Hate_Speech_Detection_git/model_latest.txt\", binary=False)\n",
    "\n",
    "# wv = gensim.models.KeyedVectors.load_word2vec_format(\"/content/drive/My Drive/Hate_Speech_Detection_git/model_transfer_learning.txt\", binary=False)\n",
    "\n",
    "wv.init_sims(replace=True)"
   ]
  },
  {
   "cell_type": "code",
   "execution_count": null,
   "metadata": {
    "colab": {},
    "colab_type": "code",
    "id": "6hgurl_K_NBQ"
   },
   "outputs": [],
   "source": [
    "def word_averaging(wv, words):\n",
    "    all_words, mean = set(), []\n",
    "    \n",
    "    for word in words:\n",
    "        if isinstance(word, np.ndarray):\n",
    "            mean.append(word)\n",
    "        elif word in wv.vocab:\n",
    "            mean.append(wv.syn0norm[wv.vocab[word].index])\n",
    "            all_words.add(wv.vocab[word].index)\n",
    "\n",
    "    if not mean:\n",
    "        logging.warning(\"cannot compute similarity with no input %s\", words)\n",
    "        # FIXME: remove these examples in pre-processing\n",
    "        return np.zeros(wv.vector_size,)\n",
    "\n",
    "    mean = gensim.matutils.unitvec(np.array(mean).mean(axis=0)).astype(np.float32)\n",
    "    return mean\n",
    "\n",
    "def  word_averaging_list(wv, text_list):\n",
    "    return np.vstack([word_averaging(wv, post) for post in text_list ])"
   ]
  },
  {
   "cell_type": "code",
   "execution_count": null,
   "metadata": {
    "colab": {
     "base_uri": "https://localhost:8080/",
     "height": 1000
    },
    "colab_type": "code",
    "executionInfo": {
     "elapsed": 7064,
     "status": "ok",
     "timestamp": 1570484374096,
     "user": {
      "displayName": "Pawar Pranav Dayanand mm17b003",
      "photoUrl": "",
      "userId": "03168935693589294616"
     },
     "user_tz": -330
    },
    "id": "uRXXJGL4_yCm",
    "outputId": "8ef87967-aad3-4fe5-b096-64f2b996f0ef"
   },
   "outputs": [],
   "source": [
    "def w2v_tokenize_text(text):\n",
    "    tokens = []\n",
    "    for sent in nltk.sent_tokenize(text, language='english'):\n",
    "        for word in nltk.word_tokenize(sent, language='english'):\n",
    "            if len(word) < 2:\n",
    "                continue\n",
    "            tokens.append(word)\n",
    "    return tokens\n",
    "    \n",
    "train_w2v, test_w2v = train_test_split(train, test_size=0.2, random_state = 42)\n",
    "# x_t,x_v,y_t,y_v = train_test_split(train['tweet'],train['class'],test_size=0.2,random_state=234)\n",
    "\n",
    "test_tokenized = test_w2v.apply(lambda r: w2v_tokenize_text(r['tweet']), axis=1).values\n",
    "train_tokenized = train_w2v.apply(lambda r: w2v_tokenize_text(r['tweet']), axis=1).values\n",
    "\n",
    "X_train_word_average = word_averaging_list(wv,train_tokenized)\n",
    "X_test_word_average = word_averaging_list(wv,test_tokenized)"
   ]
  },
  {
   "cell_type": "code",
   "execution_count": null,
   "metadata": {
    "colab": {},
    "colab_type": "code",
    "id": "lvmyDNhK_1oD"
   },
   "outputs": [],
   "source": [
    "from sklearn.linear_model import LogisticRegression\n",
    "from sklearn.ensemble import GradientBoostingClassifier\n",
    "from sklearn.metrics import f1_score, classification_report, roc_auc_score, confusion_matrix, accuracy_score"
   ]
  },
  {
   "cell_type": "code",
   "execution_count": null,
   "metadata": {
    "colab": {
     "base_uri": "https://localhost:8080/",
     "height": 275
    },
    "colab_type": "code",
    "executionInfo": {
     "elapsed": 3116,
     "status": "ok",
     "timestamp": 1570484414459,
     "user": {
      "displayName": "Pawar Pranav Dayanand mm17b003",
      "photoUrl": "",
      "userId": "03168935693589294616"
     },
     "user_tz": -330
    },
    "id": "bfN32ew6_1uk",
    "outputId": "f68dce3b-7224-4423-bd31-ef68e5b435c9"
   },
   "outputs": [],
   "source": [
    "logreg = LogisticRegression(n_jobs=1, C=1e5)\n",
    "logreg = logreg.fit(X_train_word_average, train_w2v['class'])\n",
    "y_pred = logreg.predict(X_test_word_average)\n",
    "print('accuracy %s' % accuracy_score(y_pred, test_w2v['class']))\n",
    "print(classification_report(test_w2v['class'], y_pred))\n",
    "print(confusion_matrix(test_w2v['class'],y_pred))"
   ]
  },
  {
   "cell_type": "code",
   "execution_count": null,
   "metadata": {
    "colab": {},
    "colab_type": "code",
    "id": "MjdbvESQKnNX"
   },
   "outputs": [],
   "source": [
    "accuracy 0.800966733011089\n",
    "              precision    recall  f1-score   support\n",
    "\n",
    "           0       0.82      0.93      0.88      2652\n",
    "           1       0.66      0.39      0.49       865\n",
    "\n",
    "    accuracy                           0.80      3517\n",
    "   macro avg       0.74      0.66      0.68      3517\n",
    "weighted avg       0.78      0.80      0.78      3517\n",
    "\n",
    "[[2479  173]\n",
    " [ 527  338]]"
   ]
  },
  {
   "cell_type": "code",
   "execution_count": null,
   "metadata": {
    "colab": {
     "base_uri": "https://localhost:8080/",
     "height": 34
    },
    "colab_type": "code",
    "executionInfo": {
     "elapsed": 664,
     "status": "ok",
     "timestamp": 1570484432569,
     "user": {
      "displayName": "Pawar Pranav Dayanand mm17b003",
      "photoUrl": "",
      "userId": "03168935693589294616"
     },
     "user_tz": -330
    },
    "id": "8iVa_3QzhKpq",
    "outputId": "bd4eb957-bf08-4d95-b63a-1b06784b144e"
   },
   "outputs": [],
   "source": [
    "f1_score(test_w2v['class'],y_pred)\n",
    "##  10% increament"
   ]
  },
  {
   "cell_type": "code",
   "execution_count": null,
   "metadata": {
    "colab": {},
    "colab_type": "code",
    "id": "IJjwFQnvhgbP"
   },
   "outputs": [],
   "source": []
  },
  {
   "cell_type": "code",
   "execution_count": null,
   "metadata": {
    "colab": {},
    "colab_type": "code",
    "id": "pjzsSEot_12Y"
   },
   "outputs": [],
   "source": [
    "clf = GradientBoostingClassifier(learning_rate=0.1, max_depth=10)#trees, \n",
    "model_training(clf,X_train_word_average,train_w2v['class'],X_test_word_average,test_w2v['class'])"
   ]
  }
 ],
 "metadata": {
  "accelerator": "GPU",
  "colab": {
   "collapsed_sections": [
    "3kUTiT2E_M5H",
    "VMthZI-G_M5v",
    "4omcVwyX_M56",
    "G52end2X_M6k",
    "JKKnnlcd_M6t",
    "od7YmYLQ_M7k",
    "n4Rng-D6_M9a",
    "n_cfXe7x_M9w",
    "SiFIP0H8_M-D"
   ],
   "name": "Model_NAACL+NLP_CSS.ipynb",
   "provenance": []
  },
  "kernelspec": {
   "display_name": "Python 3",
   "language": "python",
   "name": "python3"
  },
  "language_info": {
   "codemirror_mode": {
    "name": "ipython",
    "version": 3
   },
   "file_extension": ".py",
   "mimetype": "text/x-python",
   "name": "python",
   "nbconvert_exporter": "python",
   "pygments_lexer": "ipython3",
   "version": "3.7.3"
  },
  "toc": {
   "base_numbering": 1,
   "nav_menu": {},
   "number_sections": true,
   "sideBar": true,
   "skip_h1_title": false,
   "title_cell": "Table of Contents",
   "title_sidebar": "Contents",
   "toc_cell": false,
   "toc_position": {},
   "toc_section_display": true,
   "toc_window_display": false
  }
 },
 "nbformat": 4,
 "nbformat_minor": 1
}
